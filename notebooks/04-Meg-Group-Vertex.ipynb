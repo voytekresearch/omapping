{
 "cells": [
  {
   "cell_type": "markdown",
   "metadata": {},
   "source": [
    "## MEG Group Analysis - All Vertex Oscillations\n",
    "\n",
    "Group analysis for MEG data, in this case loaded with all oscillations per vertex, for different analyses. \n",
    "\n",
    "Note: The MEG Group can simultaneously load data in different ways, but risks becoming quite large, especially if data is loaded in multiple formats. To pre-empt that, for oscillation vertex analysis here, we reload data in a new instance. "
   ]
  },
  {
   "cell_type": "code",
   "execution_count": 1,
   "metadata": {},
   "outputs": [],
   "source": [
    "%matplotlib inline\n",
    "%load_ext autoreload"
   ]
  },
  {
   "cell_type": "code",
   "execution_count": 2,
   "metadata": {},
   "outputs": [],
   "source": [
    "from om.meg.single import MegSubj\n",
    "from om.meg.group import MegGroup, freq_corr_group\n",
    "\n",
    "from om.plts.meg import *\n",
    "\n",
    "from om.core.db import OMDB\n",
    "from om.core.osc import Osc\n",
    "from om.core.io import load_obj_pickle, save_obj_pickle"
   ]
  },
  {
   "cell_type": "code",
   "execution_count": 3,
   "metadata": {},
   "outputs": [],
   "source": [
    "# Initalize datbase object\n",
    "db = OMDB()"
   ]
  },
  {
   "cell_type": "code",
   "execution_count": 4,
   "metadata": {},
   "outputs": [],
   "source": [
    "# Initialize MegGroup object\n",
    "osc = Osc(default=True)\n",
    "meg_group = MegGroup(db, osc)"
   ]
  },
  {
   "cell_type": "code",
   "execution_count": 5,
   "metadata": {},
   "outputs": [],
   "source": [
    "# Check what data is available\n",
    "sub_nums, source = db.check_dat_files('fooof', dat_source='HCP', save_type='json')"
   ]
  },
  {
   "cell_type": "code",
   "execution_count": 6,
   "metadata": {},
   "outputs": [],
   "source": [
    "# Add current subjects to meg_group\n",
    "for i, subj in enumerate(sub_nums):\n",
    "    meg_subj = MegSubj(OMDB(), source[i], osc)              # Initialize MegSubj object\n",
    "    meg_subj.import_fooof(subj, get_demo=False)             # Import subject data\n",
    "    meg_group.add_subject(meg_subj,                     # Add subject data to group object\n",
    "                          add_all_oscs=False,               # Don't include all-osc data\n",
    "                          add_vertex_bands=False,           # Don't include osc-band-vertex data\n",
    "                          add_vertex_oscs=True)             # Include oscillations per vertex"
   ]
  },
  {
   "cell_type": "code",
   "execution_count": 7,
   "metadata": {},
   "outputs": [
    {
     "name": "stdout",
     "output_type": "stream",
     "text": [
      "\n",
      "Number of files available: 0\n",
      "\n",
      "Files available: \n",
      "\n",
      "\n"
     ]
    }
   ],
   "source": [
    "# OR: Check which files are available to load from pickle file\n",
    "md_files = db.check_res_files('meg')"
   ]
  },
  {
   "cell_type": "code",
   "execution_count": 8,
   "metadata": {},
   "outputs": [],
   "source": [
    "# Load file from pickled object\n",
    "#meg_group = load_obj_pickle(md_files[1])"
   ]
  },
  {
   "cell_type": "code",
   "execution_count": 9,
   "metadata": {},
   "outputs": [],
   "source": [
    "%autoreload 2\n",
    "from om.meg.group import freq_corr_group\n",
    "from om.plts.meg import *"
   ]
  },
  {
   "cell_type": "code",
   "execution_count": 10,
   "metadata": {},
   "outputs": [],
   "source": [
    "# Do the rolling frequency correlation.\n",
    "f_win = 3\n",
    "f_step = 1\n",
    "corr_vec, p_vec, fs = freq_corr_group(meg_group.centers, f_win, f_step)"
   ]
  },
  {
   "cell_type": "code",
   "execution_count": 11,
   "metadata": {},
   "outputs": [
    {
     "data": {
      "image/png": "[encoded data removed]",
      "text/plain": [
       "<Figure size 576x360 with 1 Axes>"
      ]
     },
     "metadata": {
      "needs_background": "light"
     },
     "output_type": "display_data"
    }
   ],
   "source": [
    "# Plot rolling frequency correlation\n",
    "plot_freq_corr(fs, corr_vec, p_vec, save_out=True)"
   ]
  },
  {
   "cell_type": "code",
   "execution_count": 12,
   "metadata": {},
   "outputs": [],
   "source": [
    "# Save out pickle file of current MegGroup() object\n",
    "#save_obj_pickle(meg_group, 'Group_85_vertex_osc')"
   ]
  }
 ],
 "metadata": {
  "kernelspec": {
   "display_name": "Python 3",
   "language": "python",
   "name": "python3"
  },
  "language_info": {
   "codemirror_mode": {
    "name": "ipython",
    "version": 3
   },
   "file_extension": ".py",
   "mimetype": "text/x-python",
   "name": "python",
   "nbconvert_exporter": "python",
   "pygments_lexer": "ipython3",
   "version": "3.7.3"
  }
 },
 "nbformat": 4,
 "nbformat_minor": 1
}
