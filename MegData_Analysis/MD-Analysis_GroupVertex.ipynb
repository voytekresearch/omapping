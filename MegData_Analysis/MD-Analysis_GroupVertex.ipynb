{
 "cells": [
  {
   "cell_type": "markdown",
   "metadata": {},
   "source": [
    "## Reload MEG Group\n",
    "\n",
    "The MEG Group object risks getting quite large, and can end up with the same data loaded in multiple formats. \n",
    "To pre-empt that, here a new object is loaded with differently organized data for other analyses. "
   ]
  },
  {
   "cell_type": "code",
   "execution_count": 2,
   "metadata": {
    "collapsed": true
   },
   "outputs": [],
   "source": [
    "# Import required libraries/functions\n",
    "from __future__ import print_function, division\n",
    "import sys\n",
    "\n",
    "# Import custom code from module om, including general functions and OO code for handling data\n",
    "sys.path.append('/Users/thomasdonoghue/Documents/GitCode/omegamappin/')\n",
    "from om.gen import *                    # Import general om code\n",
    "from om.cl.md_sing import *             # Import Meg-Data code & classes for Single Subject\n",
    "from om.cl.md_gr import *               # Import Meg-Data code & classes for Group\n",
    "from om.plts.md_plts import *           # Import plots for Meg-Data\n",
    "\n",
    "# Set plots to display inline\n",
    "%matplotlib inline"
   ]
  },
  {
   "cell_type": "code",
   "execution_count": 3,
   "metadata": {
    "collapsed": true
   },
   "outputs": [],
   "source": [
    "# ...\n",
    "db = OMDB()"
   ]
  },
  {
   "cell_type": "code",
   "execution_count": 4,
   "metadata": {
    "collapsed": true
   },
   "outputs": [],
   "source": [
    "# Initialize MegGroup object\n",
    "osc = Osc(default=True)\n",
    "meg_group = GroupMegData(db, osc)"
   ]
  },
  {
   "cell_type": "code",
   "execution_count": 6,
   "metadata": {
    "collapsed": false
   },
   "outputs": [
    {
     "name": "stdout",
     "output_type": "stream",
     "text": [
      "\n",
      "Number of Subjects available: 85\n",
      "\n",
      "Subject numbers with FOOF data available: \n",
      "[111802, 124340, 195121, 215187, 218131, 220216, 245518, 265922, 320548, 339964, 369737, 386068, 390845, 403435, 405716, 431088, 504997, 548027, 559176, 604600, 704718, 704814, 719634, 756575, 978341, 100307, 102816, 105923, 106521, 109123, 111514, 112920, 113922, 116524, 116726, 140117, 146129, 153732, 154532, 156334, 158136, 162026, 162935, 164636, 166438, 172029, 174841, 175237, 175540, 181232, 185442, 187547, 189349, 191033, 191437, 191841, 192641, 195041, 198653, 204521, 205119, 212318, 212823, 214524, 221319, 223929, 233326, 248339, 250427, 255639, 257845, 283543, 293748, 352132, 352738, 353740, 358144, 406836, 433839, 512835, 555348, 559053, 568963, 581450, 599671]\n",
      "\n"
     ]
    }
   ],
   "source": [
    "# Check what data is available\n",
    "sub_nums, source = db.check_dat_files('foof')"
   ]
  },
  {
   "cell_type": "code",
   "execution_count": 8,
   "metadata": {
    "collapsed": false
   },
   "outputs": [],
   "source": [
    "# Add current subjects to meg_group\n",
    "for i, subj in enumerate(sub_nums[0:2]):\n",
    "    meg_subj = MegData(OMDB(source[i]))                # Initialize MegData object\n",
    "    meg_subj.import_foof(subj, get_demo=False)         # Import subject data\n",
    "    meg_group.add_subject(meg_subj,                    # Add subject data to group object\n",
    "                          add_all_oscs=False,               # Don't include all-osc data\n",
    "                          add_vertex_bands=False,           # Don't include osc-band-vertex data\n",
    "                          add_vertex_oscs=True)             # Include oscillations per vertex"
   ]
  },
  {
   "cell_type": "code",
   "execution_count": 9,
   "metadata": {
    "collapsed": false
   },
   "outputs": [
    {
     "name": "stdout",
     "output_type": "stream",
     "text": [
      "\n",
      "Number of files available: 4\n",
      "\n",
      "Files available: \n",
      "Res_Group_67_all_osc_2016-10-02.p\n",
      "Res_Group_67_vertex_osc_2016-10-02.p\n",
      "Res_Group_85_all_oscs_2016-11-02.p\n",
      "Res_Group_85_vertex_osc_2016-11-02.p\n",
      "\n"
     ]
    }
   ],
   "source": [
    "# OR: Check which files are available to load from pickle file\n",
    "md_files = db.check_res_files('md')"
   ]
  },
  {
   "cell_type": "code",
   "execution_count": null,
   "metadata": {
    "collapsed": true
   },
   "outputs": [],
   "source": [
    "# Load file from pickled object\n",
    "meg_group = load_md_pickle(md_files[1])"
   ]
  },
  {
   "cell_type": "code",
   "execution_count": 10,
   "metadata": {
    "collapsed": true
   },
   "outputs": [],
   "source": [
    "# Do the rolling frequency correlation. \n",
    "f_win = 3\n",
    "corr_vec, p_vec = meg_group.freq_corr(f_win)\n",
    "fs = np.transpose(range(3, 40-f_win-1))"
   ]
  },
  {
   "cell_type": "code",
   "execution_count": null,
   "metadata": {
    "collapsed": true
   },
   "outputs": [],
   "source": [
    "# Plot rolling frequency correlation\n",
    "plot_freq_corr(fs, corr_vec, p_vec, save_out=False)"
   ]
  },
  {
   "cell_type": "code",
   "execution_count": null,
   "metadata": {
    "collapsed": true
   },
   "outputs": [],
   "source": [
    "# Save out pickle file of current GroupMegData() object\n",
    "save_md_pickle(meg_group, 'Group_85_vertex_osc')"
   ]
  }
 ],
 "metadata": {
  "kernelspec": {
   "display_name": "Python 2",
   "language": "python",
   "name": "python2"
  },
  "language_info": {
   "codemirror_mode": {
    "name": "ipython",
    "version": 2
   },
   "file_extension": ".py",
   "mimetype": "text/x-python",
   "name": "python",
   "nbconvert_exporter": "python",
   "pygments_lexer": "ipython2",
   "version": "2.7.11"
  }
 },
 "nbformat": 4,
 "nbformat_minor": 0
}
