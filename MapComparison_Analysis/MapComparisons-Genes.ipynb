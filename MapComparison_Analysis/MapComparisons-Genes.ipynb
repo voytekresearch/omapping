{
 "cells": [
  {
   "cell_type": "markdown",
   "metadata": {},
   "source": [
    "## GENE ANALYSIS\n",
    "\n",
    "Genetic expression data is taken from the Allen Brain Human Brain Atlas. \n",
    "\n",
    "First we use their data to estimate gene expression at our cortical locations. We then check which genes correlate with our electrophysiological data."
   ]
  },
  {
   "cell_type": "code",
   "execution_count": 1,
   "metadata": {
    "collapsed": false
   },
   "outputs": [],
   "source": [
    "from __future__ import print_function, division\n",
    "\n",
    "# Import required libraries\n",
    "import sys\n",
    "\n",
    "# Import custom code from module om, and OO code for handling data\n",
    "sys.path.append('/Users/thomasdonoghue/Documents/GitCode/omegamappin/')\n",
    "from om.maps.tg import MapCompTG\n",
    "from om.core.db import OMDB\n",
    "from om.plts.maps import *\n",
    "\n",
    "# Set plots to display inline\n",
    "%matplotlib inline"
   ]
  },
  {
   "cell_type": "code",
   "execution_count": 2,
   "metadata": {
    "collapsed": false
   },
   "outputs": [],
   "source": [
    "# Initialize MapComp object and oscillatory bands list\n",
    "db = OMDB()\n",
    "om_maps = MapCompTG(db)"
   ]
  },
  {
   "cell_type": "code",
   "execution_count": 3,
   "metadata": {
    "collapsed": false
   },
   "outputs": [
    {
     "name": "stdout",
     "output_type": "stream",
     "text": [
      "Oscillation Files:\n",
      " Group_Osc_Scores.npz\n",
      "Group_Osc_Scores_OLD.npz\n",
      "Res_Group_85_Osc_prob.p\n",
      "Res_Group_85_Osc_score.p \n",
      "\n",
      "Slope Files:\n",
      " Group_Slopes.npz \n",
      "\n",
      "Terms Files:\n",
      " 00-ns_terms.csv\n",
      "all_terms_r10_gaussian_estimation.csv\n",
      "all_terms_r5_gaussian_estimation.csv \n",
      "\n",
      "Genes Files:\n",
      " 00-real_gene_names.csv\n",
      "00-real_gene_names_OLD.csv\n",
      "avg_gene_estimations\n",
      "sub1_gene_estimations\n",
      "sub2_gene_estimations\n",
      "sub3_gene_estimations\n",
      "sub4_gene_estimations\n",
      "sub5_gene_estimations\n",
      "sub6_gene_estimations \n",
      "\n"
     ]
    }
   ],
   "source": [
    "# Check files that are available\n",
    "db.check_map_files()"
   ]
  },
  {
   "cell_type": "code",
   "execution_count": 4,
   "metadata": {
    "collapsed": true
   },
   "outputs": [],
   "source": [
    "# Load oscillation maps - here using the oscillation scores\n",
    "om_maps.load_meg_maps('Res_Group_85_Osc_Score')"
   ]
  },
  {
   "cell_type": "code",
   "execution_count": 5,
   "metadata": {
    "collapsed": true
   },
   "outputs": [],
   "source": [
    "# Load slope map\n",
    "om_maps.load_slope_map('Res_Group_85')"
   ]
  },
  {
   "cell_type": "code",
   "execution_count": 6,
   "metadata": {
    "collapsed": false
   },
   "outputs": [
    {
     "name": "stdout",
     "output_type": "stream",
     "text": [
      "Loading file # 1  of  3\n",
      "Loading file # 2  of  3\n",
      "Loading file # 3  of  3\n",
      "All files loaded!\n"
     ]
    }
   ],
   "source": [
    "# Load gene files\n",
    "om_maps.load_gene_maps('avg')"
   ]
  },
  {
   "cell_type": "code",
   "execution_count": 8,
   "metadata": {
    "collapsed": false
   },
   "outputs": [
    {
     "name": "stdout",
     "output_type": "stream",
     "text": [
      "Running in Parallel\n",
      "Cluster opened\n",
      "Calculating corrs between Genes and Theta\n",
      "Running in Parallel\n",
      "Calculating corrs between Genes and Beta\n",
      "Running in Parallel\n",
      "Calculating corrs between Genes and LowGamma\n",
      "Running in Parallel\n",
      "Calculating corrs between Genes and Alpha\n",
      "Running in Parallel\n",
      "Calculating corrs between Genes and Slopes\n",
      "Cluster shut down.\n"
     ]
    }
   ],
   "source": [
    "## Calculate the correlation between oscillation maps and genes\n",
    "\n",
    "# Set which method to use\n",
    "method = 'parallel'\n",
    "\n",
    "# Calculate correlations between oscillations bands and genes\n",
    "for band in om_maps.bands:\n",
    "    om_maps.calc_corrs('Genes', band, method=method, stop_par=False)\n",
    "    \n",
    "# Calculate the correlation between slopes and genes\n",
    "om_maps.calc_corrs('Genes', 'Slopes', method=method, stop_par=True)"
   ]
  },
  {
   "cell_type": "code",
   "execution_count": 9,
   "metadata": {
    "collapsed": false
   },
   "outputs": [
    {
     "name": "stdout",
     "output_type": "stream",
     "text": [
      "\n",
      "\n",
      "Correlations for  Genes  &   Theta : \n",
      "\n",
      "# \t Genes                                                   \t R-Vals \t P-vals \n",
      "\n",
      "1 \t twist family bHLH transcription factor 2                \t 0.47295 \t 0.0000e+00\n",
      "2 \t kallikrein-related peptidase 5                          \t 0.42556 \t 4.1820e-285\n",
      "3 \t spondin 2, extracellular matrix protein                 \t 0.42215 \t 4.1167e-280\n",
      "4 \t receptor (chemosensory) transporter protein 1           \t 0.42135 \t 5.9777e-279\n",
      "5 \t germ cell associated 1                                  \t 0.40952 \t 4.0065e-262\n",
      "6 \t alkaline phosphatase, liver/bone/kidney                 \t 0.40372 \t 4.0100e-254\n",
      "7 \t CD6 molecule                                            \t 0.39759 \t 7.9018e-246\n",
      "8 \t protein phosphatase, EF-hand calcium binding domai      \t 0.39319 \t 5.3649e-240\n",
      "9 \t Rho GTPase activating protein 28                        \t 0.38812 \t 2.2997e-233\n",
      "10 \t proline-rich acidic protein 1                           \t 0.38444 \t 1.2110e-228\n",
      "11 \t NIMA-related kinase 2                                   \t 0.38257 \t 2.9452e-226\n",
      "12 \t calpain 12                                              \t 0.38244 \t 4.3686e-226\n",
      "13 \t mesenteric estrogen-dependent adipogenesis              \t 0.38167 \t 4.1168e-225\n",
      "14 \t KIAA1644                                                \t 0.36605 \t 6.9668e-206\n",
      "15 \t matrix extracellular phosphoglycoprotein                \t 0.36513 \t 8.9302e-205\n",
      "16 \t retinoschisin 1                                         \t 0.36479 \t 2.2440e-204\n",
      "17 \t Rab interacting lysosomal protein-like 2                \t 0.36080 \t 1.1811e-199\n",
      "18 \t tenascin N                                              \t 0.35666 \t 8.0472e-195\n",
      "19 \t glycine receptor, alpha 3                               \t 0.35611 \t 3.4369e-194\n",
      "20 \t BAI1-associated protein 3                               \t 0.35442 \t 3.0862e-192\n",
      "\n",
      "\n",
      "Correlations for  Genes  &   Beta : \n",
      "\n",
      "# \t Genes                                                   \t R-Vals \t P-vals \n",
      "\n",
      "1 \t doublesex and mab-3 related transcription factor 3      \t 0.37784 \t 2.6709e-220\n",
      "2 \t kelch-like family member 8                              \t 0.32841 \t 9.3549e-164\n",
      "3 \t inhibitor of growth family, member 1                    \t 0.32645 \t 1.0380e-161\n",
      "4 \t coiled-coil domain containing 64B                       \t 0.32469 \t 6.6828e-160\n",
      "5 \t solute carrier family 25 (mitochondrial carrier; a      \t 0.32276 \t 6.4166e-158\n",
      "6 \t engulfment and cell motility 3                          \t 0.31945 \t 1.4671e-154\n",
      "7 \t Src homology 2 domain containing transforming prot      \t 0.31926 \t 2.2973e-154\n",
      "8 \t FES proto-oncogene, tyrosine kinase                     \t 0.31854 \t 1.2085e-153\n",
      "9 \t potassium channel, voltage gated Shaw related subf      \t 0.31667 \t 9.0469e-152\n",
      "10 \t neurofilament, heavy polypeptide                        \t 0.31614 \t 3.0111e-151\n",
      "11 \t glycerophosphodiester phosphodiesterase domain con      \t 0.31513 \t 3.0434e-150\n",
      "12 \t DnaJ (Hsp40) homolog, subfamily C, member 21            \t 0.30980 \t 5.1622e-145\n",
      "13 \t mohawk homeobox                                         \t 0.30800 \t 2.8686e-143\n",
      "14 \t cytochrome c oxidase subunit VIIa polypeptide 1 (m      \t 0.30789 \t 3.6638e-143\n",
      "15 \t potassium channel tetramerization domain containin      \t 0.30686 \t 3.5628e-142\n",
      "16 \t ret finger protein-like 3                               \t 0.30652 \t 7.6410e-142\n",
      "17 \t leucine zipper protein 1                                \t 0.30586 \t 3.2937e-141\n",
      "18 \t neurofilament, light polypeptide                        \t 0.30385 \t 2.6694e-139\n",
      "19 \t double homeobox A pseudogene 10                         \t 0.30374 \t 3.3773e-139\n",
      "20 \t epsin 3                                                 \t 0.30189 \t 1.8898e-137\n",
      "\n",
      "\n",
      "Correlations for  Genes  &   LowGamma : \n",
      "\n",
      "# \t Genes                                                   \t R-Vals \t P-vals \n",
      "\n",
      "1 \t kallikrein-related peptidase 8                          \t 0.40303 \t 3.5431e-253\n",
      "2 \t tumor protein p53 inducible protein 11                  \t 0.39449 \t 1.0426e-241\n",
      "3 \t interleukin 1, beta                                     \t 0.38160 \t 5.0060e-225\n",
      "4 \t calcium/calmodulin-dependent protein kinase II del      \t 0.35437 \t 3.4677e-192\n",
      "5 \t A kinase (PRKA) anchor protein 14                       \t 0.33145 \t 6.0348e-167\n",
      "6 \t glycine receptor, alpha 2                               \t 0.33009 \t 1.6302e-165\n",
      "7 \t PYD (pyrin domain) containing 1                         \t 0.32966 \t 4.6779e-165\n",
      "8 \t exonuclease 3'-5' domain containing 1                   \t 0.32759 \t 6.6734e-163\n",
      "9 \t myosin XVI                                              \t 0.31956 \t 1.1354e-154\n",
      "10 \t dorsal inhibitory axon guidance protein                 \t 0.31448 \t 1.3512e-149\n",
      "11 \t transmembrane protein 249                               \t 0.30778 \t 4.6670e-143\n",
      "12 \t IQ motif containing J                                   \t 0.30753 \t 8.0856e-143\n",
      "13 \t titin-cap                                               \t 0.30167 \t 3.0443e-137\n",
      "14 \t radial spoke head 9 homolog (Chlamydomonas)             \t 0.30041 \t 4.6914e-136\n",
      "15 \t calcyphosine-like                                       \t 0.29780 \t 1.2546e-133\n",
      "16 \t phenylethanolamine N-methyltransferase                  \t 0.29529 \t 2.6063e-131\n",
      "17 \t mesoderm posterior bHLH transcription factor 1          \t 0.29386 \t 5.2768e-130\n",
      "18 \t matrix Gla protein                                      \t 0.29344 \t 1.2583e-129\n",
      "19 \t copine VI (neuronal)                                    \t 0.29231 \t 1.3501e-128\n",
      "20 \t lipase, member H                                        \t 0.28703 \t 7.2351e-124\n",
      "\n",
      "\n",
      "Correlations for  Genes  &   Alpha : \n",
      "\n",
      "# \t Genes                                                   \t R-Vals \t P-vals \n",
      "\n",
      "1 \t tudor domain containing 1                               \t 0.45941 \t 0.0000e+00\n",
      "2 \t RAD54 homolog B (S. cerevisiae)                         \t 0.43175 \t 2.6371e-294\n",
      "3 \t MET proto-oncogene, receptor tyrosine kinase            \t 0.42293 \t 3.0380e-281\n",
      "4 \t collagen, type V, alpha 1                               \t 0.42078 \t 4.0935e-278\n",
      "5 \t ST3 beta-galactoside alpha-2,3-sialyltransferase 6      \t 0.41823 \t 1.9154e-274\n",
      "6 \t synapsin III                                            \t 0.41098 \t 3.6881e-264\n",
      "7 \t bone morphogenetic protein 4                            \t 0.40667 \t 3.5402e-258\n",
      "8 \t synaptonemal complex protein 2                          \t 0.40553 \t 1.3502e-256\n",
      "9 \t aldehyde dehydrogenase 1 family, member A3              \t 0.40367 \t 4.7406e-254\n",
      "10 \t glycosylphosphatidylinositol specific phospholipas      \t 0.39724 \t 2.2942e-245\n",
      "11 \t lymphocyte-activation gene 3                            \t 0.39607 \t 8.3605e-244\n",
      "12 \t glycerophosphodiester phosphodiesterase domain con      \t 0.39172 \t 4.7007e-238\n",
      "13 \t ankyrin repeat and SOCS box containing 13               \t 0.38801 \t 3.1912e-233\n",
      "14 \t frequently rearranged in advanced T-cell lymphomas      \t 0.38569 \t 3.0756e-230\n",
      "15 \t mitochondrial calcium uptake family, member 3           \t 0.38161 \t 4.8661e-225\n",
      "16 \t glycerol-3-phosphate acyltransferase 3                  \t 0.38008 \t 4.1571e-223\n",
      "17 \t prostaglandin-endoperoxide synthase 1 (prostagland      \t 0.37823 \t 8.7530e-221\n",
      "18 \t glucocorticoid induced 1                                \t 0.37492 \t 1.1355e-216\n",
      "19 \t BH3 interacting domain death agonist                    \t 0.37297 \t 2.8476e-214\n",
      "20 \t uridine phosphorylase 1                                 \t 0.37174 \t 9.0672e-213\n"
     ]
    }
   ],
   "source": [
    "# Print out highest correlated genes for each oscillation band\n",
    "#for osc in om_maps.bands:\n",
    "for band in om_maps.bands:\n",
    "    om_maps.check_corrs('Genes', band, n_check=20, top=True)"
   ]
  },
  {
   "cell_type": "code",
   "execution_count": 10,
   "metadata": {
    "collapsed": false
   },
   "outputs": [],
   "source": [
    "# Save calculated correlations to file\n",
    "#for band in om_maps.bands:\n",
    "#    om_maps.save_corrs('Genes', band, 'Gr_85', save_as_npz=True, save_as_csv=True)"
   ]
  },
  {
   "cell_type": "code",
   "execution_count": 11,
   "metadata": {
    "collapsed": false
   },
   "outputs": [
    {
     "name": "stdout",
     "output_type": "stream",
     "text": [
      "\n",
      "\n",
      "Correlations for  Genes  &   Slopes : \n",
      "\n",
      "# \t Genes                                                   \t R-Vals \t P-vals \n",
      "\n",
      "1 \t tetratricopeptide repeat domain 21B                     \t 0.57465 \t 0.0000e+00\n",
      "2 \t ST3 beta-galactoside alpha-2,3-sialyltransferase 6      \t 0.54371 \t 0.0000e+00\n",
      "3 \t collagen, type V, alpha 1                               \t 0.52230 \t 0.0000e+00\n",
      "4 \t uridine phosphorylase 1                                 \t 0.52062 \t 0.0000e+00\n",
      "5 \t synaptonemal complex protein 2                          \t 0.51199 \t 0.0000e+00\n",
      "6 \t follistatin-like 1                                      \t 0.50956 \t 0.0000e+00\n",
      "7 \t Ras association (RalGDS/AF-6) domain family member      \t 0.50804 \t 0.0000e+00\n",
      "8 \t Abelson helper integration site 1                       \t 0.50531 \t 0.0000e+00\n",
      "9 \t ankyrin repeat and SOCS box containing 13               \t 0.50482 \t 0.0000e+00\n",
      "10 \t solute carrier family 25 (aspartate/glutamate carr      \t 0.50406 \t 0.0000e+00\n",
      "11 \t bone morphogenetic protein/retinoic acid inducible      \t 0.50048 \t 0.0000e+00\n",
      "12 \t erythrocyte membrane protein band 4.1                   \t 0.49866 \t 0.0000e+00\n",
      "13 \t splA/ryanodine receptor domain and SOCS box contai      \t 0.49767 \t 0.0000e+00\n",
      "14 \t family with sequence similarity 13, member B            \t 0.49552 \t 0.0000e+00\n",
      "15 \t FAST kinase domains 1                                   \t 0.49490 \t 0.0000e+00\n",
      "16 \t SH3 domain containing ring finger 2                     \t 0.49485 \t 0.0000e+00\n",
      "17 \t glycerophosphocholine phosphodiesterase 1               \t 0.49361 \t 0.0000e+00\n",
      "18 \t nuclear receptor subfamily 2, group C, member 1         \t 0.49135 \t 0.0000e+00\n",
      "19 \t imprinted in Prader-Willi syndrome (non-protein co      \t 0.49109 \t 0.0000e+00\n",
      "20 \t RANBP2-like and GRIP domain containing 1                \t 0.49096 \t 0.0000e+00\n"
     ]
    }
   ],
   "source": [
    "# Print out the highest correlated genes for slopes\n",
    "om_maps.check_corrs('Genes', 'Slopes', n_check=20)"
   ]
  },
  {
   "cell_type": "code",
   "execution_count": null,
   "metadata": {
    "collapsed": true
   },
   "outputs": [],
   "source": [
    "# Save calculated correlations to file\n",
    "#om_maps.save_corrs('Genes', 'Slopes', 'Gr_85', save_as_npz=True, save_as_csv=True)"
   ]
  },
  {
   "cell_type": "code",
   "execution_count": null,
   "metadata": {
    "collapsed": true
   },
   "outputs": [],
   "source": []
  },
  {
   "cell_type": "markdown",
   "metadata": {},
   "source": [
    "## Plots of individual correlations"
   ]
  },
  {
   "cell_type": "code",
   "execution_count": null,
   "metadata": {
    "collapsed": true
   },
   "outputs": [],
   "source": [
    "# Set data\n",
    "gene_name = 'potassium channel tetramerization domain containing 9 pseudogene 6'\n",
    "cur_band = 'Beta'"
   ]
  },
  {
   "cell_type": "code",
   "execution_count": null,
   "metadata": {
    "collapsed": false
   },
   "outputs": [],
   "source": [
    "# Pull out data\n",
    "meg_dat = om_maps.meg_maps[cur_band]\n",
    "gene_ind = om_maps.gene_names.index(gene_name)\n",
    "\n",
    "gene_dat = om_maps.gene_maps[gene_ind].as_matrix()\n",
    "r_val = om_maps.corrs['Genes'][cur_band][gene_ind][0]"
   ]
  },
  {
   "cell_type": "code",
   "execution_count": null,
   "metadata": {
    "collapsed": false
   },
   "outputs": [],
   "source": [
    "import random"
   ]
  },
  {
   "cell_type": "code",
   "execution_count": null,
   "metadata": {
    "collapsed": false
   },
   "outputs": [],
   "source": [
    "# Set number of points to plt\n",
    "n_points = 1000\n",
    "\n",
    "# Plot settings\n",
    "alpha_val = 0.18\n",
    "axis_fs = 16\n",
    "lw = 2.5\n",
    "\n",
    "# Get a random sample of points to plot\n",
    "inds = random.sample(range(7500), n_points)\n",
    "\n",
    "# Initialize plot\n",
    "fig, ax = plt.subplots()\n",
    "\n",
    "# Draw scatter plot\n",
    "ax.scatter(gene_dat[inds], meg_dat[inds], color='#173570', marker='o', alpha=alpha_val)\n",
    "\n",
    "# Set axis limits\n",
    "space_meg = 0.05 * (max(meg_dat) - min(meg_dat))\n",
    "space_gene = 0.05 * (max(gene_dat) - min(gene_dat))\n",
    "\n",
    "min_x = min(gene_dat) - space_gene\n",
    "max_x = max(gene_dat) + space_gene\n",
    "min_y = min(meg_dat) - space_meg\n",
    "max_y = max(meg_dat) + space_meg\n",
    "\n",
    "plt.xlim([min_x, max_x])\n",
    "plt.ylim([min_y, max_y])\n",
    "\n",
    "# Add axis labels\n",
    "plt.xlabel('Gene Expression', {'fontsize': axis_fs})\n",
    "plt.ylabel('Oscillation Score', {'fontsize': axis_fs})\n",
    "\n",
    "# Set the top and right side frame & ticks off\n",
    "ax.spines['right'].set_visible(False)\n",
    "ax.spines['top'].set_visible(False)\n",
    "ax.xaxis.set_ticks_position('bottom')\n",
    "ax.yaxis.set_ticks_position('left')\n",
    "\n",
    "# Set linewidth of remaining spines\n",
    "ax.spines['left'].set_linewidth(lw)\n",
    "ax.spines['bottom'].set_linewidth(lw)\n",
    "\n",
    "# Turn off other axis ticks\n",
    "ax.xaxis.set_ticks([])\n",
    "ax.yaxis.set_ticks([])\n",
    "\n",
    "save_out = True\n",
    "\n",
    "#\n",
    "x_range = max_x - min_x\n",
    "ax.text((max_x-0.90*x_range), (3/4*max_y), 'r = ' + '{:4.4f}'.format(r_val), {'fontsize': 18, 'fontweight':'bold'})\n",
    "\n",
    "#\n",
    "if save_out:\n",
    "    save_name = cur_band + '_' + gene_name + '.pdf'\n",
    "    plt.savefig(save_name, format='pdf', bbox_inches='tight', dpi=300)"
   ]
  },
  {
   "cell_type": "markdown",
   "metadata": {},
   "source": [
    "### Calculate Average Gene Results"
   ]
  },
  {
   "cell_type": "code",
   "execution_count": 7,
   "metadata": {
    "collapsed": true
   },
   "outputs": [],
   "source": [
    "from om.mapsps.tg import calc_avg_gene_map"
   ]
  },
  {
   "cell_type": "code",
   "execution_count": null,
   "metadata": {
    "collapsed": false
   },
   "outputs": [],
   "source": [
    "# Calculate average gene expressions across all gene-subjects\n",
    "subj_list = ['sub1', 'sub2', 'sub3', 'sub4', 'sub5', 'sub6']\n",
    "calc_avg_gene_map(subj_list, 'All')"
   ]
  },
  {
   "cell_type": "code",
   "execution_count": null,
   "metadata": {
    "collapsed": true
   },
   "outputs": [],
   "source": []
  }
 ],
 "metadata": {
  "kernelspec": {
   "display_name": "Python 2",
   "language": "python",
   "name": "python2"
  },
  "language_info": {
   "codemirror_mode": {
    "name": "ipython",
    "version": 2
   },
   "file_extension": ".py",
   "mimetype": "text/x-python",
   "name": "python",
   "nbconvert_exporter": "python",
   "pygments_lexer": "ipython2",
   "version": "2.7.11"
  }
 },
 "nbformat": 4,
 "nbformat_minor": 0
}
