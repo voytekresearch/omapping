{
 "cells": [
  {
   "cell_type": "markdown",
   "metadata": {},
   "source": [
    "## GENE ANALYSIS\n",
    "\n",
    "Genetic expression data is taken from the Allen Brain Human Brain Atlas. \n",
    "\n",
    "First we use their data to estimate gene expression at our cortical locations. We then check which genes correlate with our electrophysiological data."
   ]
  },
  {
   "cell_type": "code",
   "execution_count": 5,
   "metadata": {},
   "outputs": [],
   "source": [
    "%matplotlib inline\n",
    "\n",
    "from om.maps.tg import MapCompTG\n",
    "from om.core.db import OMDB\n",
    "from om.core.io import save_obj_pickle, load_obj_pickle\n",
    "from om.plts.maps import plot_gene_corr"
   ]
  },
  {
   "cell_type": "code",
   "execution_count": 6,
   "metadata": {},
   "outputs": [],
   "source": [
    "# Initialize MapComp object and oscillatory bands list\n",
    "db = OMDB()\n",
    "om_maps = MapCompTG(db)"
   ]
  },
  {
   "cell_type": "code",
   "execution_count": 7,
   "metadata": {},
   "outputs": [],
   "source": [
    "db.check_map_files??"
   ]
  },
  {
   "cell_type": "code",
   "execution_count": 8,
   "metadata": {},
   "outputs": [
    {
     "name": "stdout",
     "output_type": "stream",
     "text": [
      "Oscillation Files:\n",
      " 80_new_group_Osc_score.p\n",
      "78_full_group_Osc_score.p \n",
      "\n",
      "Exponent Files:\n",
      "  \n",
      "\n",
      "Terms Files:\n",
      "  \n",
      "\n",
      "Genes Files:\n",
      "  \n",
      "\n"
     ]
    }
   ],
   "source": [
    "# Check files that are available\n",
    "db.check_map_files()"
   ]
  },
  {
   "cell_type": "code",
   "execution_count": 9,
   "metadata": {},
   "outputs": [],
   "source": [
    "# Load oscillation maps - here using the oscillation scores\n",
    "om_maps.load_meg_maps('78_full_group_Osc_score')"
   ]
  },
  {
   "cell_type": "code",
   "execution_count": 10,
   "metadata": {},
   "outputs": [],
   "source": [
    "# Load exponent map\n",
    "#om_maps.load_exponent_map('Res_Group_85')"
   ]
  },
  {
   "cell_type": "code",
   "execution_count": 11,
   "metadata": {},
   "outputs": [
    {
     "ename": "FileNotFoundError",
     "evalue": "[Errno 2] No such file or directory: '/Users/tom/Documents/Research/1-Projects/MEGmapping/2-Data/OMData/Maps/Genes/00-real_gene_names.csv'",
     "output_type": "error",
     "traceback": [
      "\u001b[0;31m---------------------------------------------------------------------------\u001b[0m",
      "\u001b[0;31mFileNotFoundError\u001b[0m                         Traceback (most recent call last)",
      "\u001b[0;32m<ipython-input-11-ed02d33acd89>\u001b[0m in \u001b[0;36m<module>\u001b[0;34m\u001b[0m\n\u001b[1;32m      1\u001b[0m \u001b[0;31m# Load gene files\u001b[0m\u001b[0;34m\u001b[0m\u001b[0;34m\u001b[0m\u001b[0;34m\u001b[0m\u001b[0m\n\u001b[0;32m----> 2\u001b[0;31m \u001b[0mom_maps\u001b[0m\u001b[0;34m.\u001b[0m\u001b[0mload_gene_maps\u001b[0m\u001b[0;34m(\u001b[0m\u001b[0;34m'sub1'\u001b[0m\u001b[0;34m)\u001b[0m\u001b[0;34m\u001b[0m\u001b[0;34m\u001b[0m\u001b[0m\n\u001b[0m",
      "\u001b[0;32m~/Documents/GitCode/omegamappin/om/maps/tg.py\u001b[0m in \u001b[0;36mload_gene_maps\u001b[0;34m(self, subject, names_file)\u001b[0m\n\u001b[1;32m    102\u001b[0m \u001b[0;34m\u001b[0m\u001b[0m\n\u001b[1;32m    103\u001b[0m         \u001b[0;31m# Load gene names\u001b[0m\u001b[0;34m\u001b[0m\u001b[0;34m\u001b[0m\u001b[0;34m\u001b[0m\u001b[0m\n\u001b[0;32m--> 104\u001b[0;31m         \u001b[0mself\u001b[0m\u001b[0;34m.\u001b[0m\u001b[0mgene_names\u001b[0m \u001b[0;34m=\u001b[0m \u001b[0m_get_map_names\u001b[0m\u001b[0;34m(\u001b[0m\u001b[0mnames_file\u001b[0m\u001b[0;34m,\u001b[0m \u001b[0mos\u001b[0m\u001b[0;34m.\u001b[0m\u001b[0mpath\u001b[0m\u001b[0;34m.\u001b[0m\u001b[0mjoin\u001b[0m\u001b[0;34m(\u001b[0m\u001b[0mself\u001b[0m\u001b[0;34m.\u001b[0m\u001b[0mdb\u001b[0m\u001b[0;34m.\u001b[0m\u001b[0mmaps_path\u001b[0m\u001b[0;34m,\u001b[0m \u001b[0;34m'Genes'\u001b[0m\u001b[0;34m)\u001b[0m\u001b[0;34m)\u001b[0m\u001b[0;34m\u001b[0m\u001b[0;34m\u001b[0m\u001b[0m\n\u001b[0m\u001b[1;32m    105\u001b[0m         \u001b[0mself\u001b[0m\u001b[0;34m.\u001b[0m\u001b[0mn_genes\u001b[0m \u001b[0;34m=\u001b[0m \u001b[0mlen\u001b[0m\u001b[0;34m(\u001b[0m\u001b[0mself\u001b[0m\u001b[0;34m.\u001b[0m\u001b[0mgene_names\u001b[0m\u001b[0;34m)\u001b[0m\u001b[0;34m\u001b[0m\u001b[0;34m\u001b[0m\u001b[0m\n\u001b[1;32m    106\u001b[0m \u001b[0;34m\u001b[0m\u001b[0m\n",
      "\u001b[0;32m~/Documents/GitCode/omegamappin/om/maps/tg.py\u001b[0m in \u001b[0;36m_get_map_names\u001b[0;34m(names_file, path)\u001b[0m\n\u001b[1;32m    572\u001b[0m \u001b[0;34m\u001b[0m\u001b[0m\n\u001b[1;32m    573\u001b[0m     \u001b[0;31m# Open csv file\u001b[0m\u001b[0;34m\u001b[0m\u001b[0;34m\u001b[0m\u001b[0;34m\u001b[0m\u001b[0m\n\u001b[0;32m--> 574\u001b[0;31m     \u001b[0;32mwith\u001b[0m \u001b[0mopen\u001b[0m\u001b[0;34m(\u001b[0m\u001b[0mcsv_path\u001b[0m\u001b[0;34m,\u001b[0m \u001b[0;34m'r'\u001b[0m\u001b[0;34m)\u001b[0m \u001b[0;32mas\u001b[0m \u001b[0mf_name\u001b[0m\u001b[0;34m:\u001b[0m\u001b[0;34m\u001b[0m\u001b[0;34m\u001b[0m\u001b[0m\n\u001b[0m\u001b[1;32m    575\u001b[0m         \u001b[0mreader\u001b[0m \u001b[0;34m=\u001b[0m \u001b[0mcsv\u001b[0m\u001b[0;34m.\u001b[0m\u001b[0mreader\u001b[0m\u001b[0;34m(\u001b[0m\u001b[0mf_name\u001b[0m\u001b[0;34m,\u001b[0m \u001b[0mdelimiter\u001b[0m\u001b[0;34m=\u001b[0m\u001b[0;34m','\u001b[0m\u001b[0;34m)\u001b[0m\u001b[0;34m\u001b[0m\u001b[0;34m\u001b[0m\u001b[0m\n\u001b[1;32m    576\u001b[0m \u001b[0;34m\u001b[0m\u001b[0m\n",
      "\u001b[0;31mFileNotFoundError\u001b[0m: [Errno 2] No such file or directory: '/Users/tom/Documents/Research/1-Projects/MEGmapping/2-Data/OMData/Maps/Genes/00-real_gene_names.csv'"
     ]
    }
   ],
   "source": [
    "# Load gene files\n",
    "om_maps.load_gene_maps('sub1')"
   ]
  },
  {
   "cell_type": "code",
   "execution_count": 7,
   "metadata": {},
   "outputs": [
    {
     "name": "stdout",
     "output_type": "stream",
     "text": [
      "\n",
      " Starting Cluster...\n",
      "Cluster Started. \n",
      "\n",
      "Running in Parallel\n",
      "Calculating corrs between Genes and Theta\n",
      "Running in Parallel\n",
      "Calculating corrs between Genes and Beta\n",
      "Running in Parallel\n",
      "Calculating corrs between Genes and LowGamma\n",
      "Running in Parallel\n",
      "Calculating corrs between Genes and Alpha\n",
      "Running in Parallel\n",
      "Calculating corrs between Genes and Slopes\n",
      "\n",
      " Shutting down Cluster...\n",
      "Cluster shut down. \n",
      "\n"
     ]
    }
   ],
   "source": [
    "## Calculate the correlation between oscillation maps and genes\n",
    "\n",
    "# Set which method to use\n",
    "method = 'parallel'\n",
    "\n",
    "# Calculate correlations between oscillations bands and genes\n",
    "for band in om_maps.bands:\n",
    "    om_maps.calc_corrs('Genes', band, method=method, stop_par=False)\n",
    "    \n",
    "# Calculate the correlation between exponents and genes\n",
    "om_maps.calc_corrs('Genes', 'Exponents', method=method, stop_par=True)"
   ]
  },
  {
   "cell_type": "code",
   "execution_count": 8,
   "metadata": {},
   "outputs": [
    {
     "name": "stdout",
     "output_type": "stream",
     "text": [
      "\n",
      "\n",
      "Correlations for  Genes  &   Theta : \n",
      "\n",
      "# \t Genes                                                   \t R-Vals \t P-vals \n",
      "\n",
      "1 \t twist family bHLH transcription factor 2                \t 0.47295 \t 0.0000e+00\n",
      "2 \t kallikrein-related peptidase 5                          \t 0.42556 \t 4.1820e-285\n",
      "3 \t spondin 2, extracellular matrix protein                 \t 0.42215 \t 4.1167e-280\n",
      "4 \t receptor (chemosensory) transporter protein 1           \t 0.42135 \t 5.9777e-279\n",
      "5 \t germ cell associated 1                                  \t 0.40952 \t 4.0065e-262\n",
      "6 \t alkaline phosphatase, liver/bone/kidney                 \t 0.40372 \t 4.0100e-254\n",
      "7 \t CD6 molecule                                            \t 0.39759 \t 7.9018e-246\n",
      "8 \t protein phosphatase, EF-hand calcium binding domai      \t 0.39319 \t 5.3649e-240\n",
      "9 \t Rho GTPase activating protein 28                        \t 0.38812 \t 2.2997e-233\n",
      "10 \t proline-rich acidic protein 1                           \t 0.38444 \t 1.2110e-228\n",
      "11 \t NIMA-related kinase 2                                   \t 0.38257 \t 2.9452e-226\n",
      "12 \t calpain 12                                              \t 0.38244 \t 4.3686e-226\n",
      "13 \t mesenteric estrogen-dependent adipogenesis              \t 0.38167 \t 4.1168e-225\n",
      "14 \t KIAA1644                                                \t 0.36605 \t 6.9668e-206\n",
      "15 \t matrix extracellular phosphoglycoprotein                \t 0.36513 \t 8.9302e-205\n",
      "16 \t retinoschisin 1                                         \t 0.36479 \t 2.2440e-204\n",
      "17 \t Rab interacting lysosomal protein-like 2                \t 0.36080 \t 1.1811e-199\n",
      "18 \t tenascin N                                              \t 0.35666 \t 8.0472e-195\n",
      "19 \t glycine receptor, alpha 3                               \t 0.35611 \t 3.4369e-194\n",
      "20 \t BAI1-associated protein 3                               \t 0.35442 \t 3.0862e-192\n",
      "21 \t crystallin, gamma N                                     \t 0.35427 \t 4.4906e-192\n",
      "22 \t exonuclease 3'-5' domain containing 1                   \t 0.34424 \t 9.1342e-181\n",
      "23 \t betaine--homocysteine S-methyltransferase               \t 0.34352 \t 5.7777e-180\n",
      "24 \t long intergenic non-protein coding RNA 1140             \t 0.34176 \t 5.0064e-178\n",
      "25 \t LY6/PLAUR domain containing 8                           \t 0.34143 \t 1.1415e-177\n",
      "26 \t family with sequence similarity 110, member C           \t 0.34107 \t 2.7983e-177\n",
      "27 \t melanoma associated antigen (mutated) 1-like 1          \t 0.34011 \t 3.1472e-176\n",
      "28 \t FERM and PDZ domain containing 2                        \t 0.33969 \t 8.9910e-176\n",
      "29 \t glutamate receptor, ionotropic, N-methyl-D-asparta      \t 0.33895 \t 5.7294e-175\n",
      "30 \t protein kinase C, delta                                 \t 0.33822 \t 3.5792e-174\n",
      "31 \t coiled-coil domain containing 68                        \t 0.33676 \t 1.3323e-172\n",
      "32 \t OTU deubiquitinase, ubiquitin aldehyde binding 2        \t 0.33618 \t 5.6460e-172\n",
      "33 \t glycophorin E (MNS blood group)                         \t 0.33555 \t 2.6716e-171\n",
      "34 \t kallikrein-related peptidase 7                          \t 0.33465 \t 2.4715e-170\n",
      "35 \t adhesion molecule with Ig-like domain 2                 \t 0.33461 \t 2.6772e-170\n",
      "36 \t Rho GDP dissociation inhibitor (GDI) gamma              \t 0.33029 \t 1.0197e-165\n",
      "37 \t coiled-coil domain containing 109B                      \t 0.32990 \t 2.6340e-165\n",
      "38 \t long intergenic non-protein coding RNA 1183             \t 0.32975 \t 3.7715e-165\n",
      "39 \t potassium channel, voltage gated modifier subfamil      \t 0.32968 \t 4.4294e-165\n",
      "40 \t guanine nucleotide binding protein (G protein), be      \t 0.32915 \t 1.5811e-164\n",
      "41 \t tetraspanin 33                                          \t 0.32901 \t 2.2242e-164\n",
      "42 \t somatostatin receptor 1                                 \t 0.32656 \t 7.9952e-162\n",
      "43 \t SRR1 domain containing                                  \t 0.32590 \t 3.7641e-161\n",
      "44 \t lysozyme-like 4                                         \t 0.32556 \t 8.4595e-161\n",
      "45 \t forkhead box F2                                         \t 0.32524 \t 1.8300e-160\n",
      "46 \t transmembrane protein 65                                \t 0.32518 \t 2.1263e-160\n",
      "47 \t transcription elongation factor A (SII), 3              \t 0.32497 \t 3.4499e-160\n",
      "48 \t small integral membrane protein 24                      \t 0.32447 \t 1.1303e-159\n",
      "49 \t ATP-binding cassette, sub-family G (WHITE), member      \t 0.32416 \t 2.3339e-159\n",
      "50 \t long intergenic non-protein coding RNA 1197             \t 0.32267 \t 7.9688e-158\n",
      "\n",
      "\n",
      "Correlations for  Genes  &   Beta : \n",
      "\n",
      "# \t Genes                                                   \t R-Vals \t P-vals \n",
      "\n",
      "1 \t doublesex and mab-3 related transcription factor 3      \t 0.37784 \t 2.6709e-220\n",
      "2 \t kelch-like family member 8                              \t 0.32841 \t 9.3549e-164\n",
      "3 \t inhibitor of growth family, member 1                    \t 0.32645 \t 1.0380e-161\n",
      "4 \t coiled-coil domain containing 64B                       \t 0.32469 \t 6.6828e-160\n",
      "5 \t solute carrier family 25 (mitochondrial carrier; a      \t 0.32276 \t 6.4166e-158\n",
      "6 \t engulfment and cell motility 3                          \t 0.31945 \t 1.4671e-154\n",
      "7 \t Src homology 2 domain containing transforming prot      \t 0.31926 \t 2.2973e-154\n",
      "8 \t FES proto-oncogene, tyrosine kinase                     \t 0.31854 \t 1.2085e-153\n",
      "9 \t potassium channel, voltage gated Shaw related subf      \t 0.31667 \t 9.0469e-152\n",
      "10 \t neurofilament, heavy polypeptide                        \t 0.31614 \t 3.0111e-151\n",
      "11 \t glycerophosphodiester phosphodiesterase domain con      \t 0.31513 \t 3.0434e-150\n",
      "12 \t DnaJ (Hsp40) homolog, subfamily C, member 21            \t 0.30980 \t 5.1622e-145\n",
      "13 \t mohawk homeobox                                         \t 0.30800 \t 2.8686e-143\n",
      "14 \t cytochrome c oxidase subunit VIIa polypeptide 1 (m      \t 0.30789 \t 3.6638e-143\n",
      "15 \t potassium channel tetramerization domain containin      \t 0.30686 \t 3.5628e-142\n",
      "16 \t ret finger protein-like 3                               \t 0.30652 \t 7.6410e-142\n",
      "17 \t leucine zipper protein 1                                \t 0.30586 \t 3.2937e-141\n",
      "18 \t neurofilament, light polypeptide                        \t 0.30385 \t 2.6694e-139\n",
      "19 \t double homeobox A pseudogene 10                         \t 0.30374 \t 3.3773e-139\n",
      "20 \t epsin 3                                                 \t 0.30189 \t 1.8898e-137\n",
      "21 \t F-box protein 9                                         \t 0.30128 \t 7.1874e-137\n",
      "22 \t SAP30-like                                              \t 0.30056 \t 3.4116e-136\n",
      "23 \t nitric oxide synthase 2, inducible                      \t 0.30054 \t 3.4976e-136\n",
      "24 \t F-box protein 16                                        \t 0.29766 \t 1.6987e-133\n",
      "25 \t ribosomal modification protein rimK-like family me      \t 0.29651 \t 1.9407e-132\n",
      "26 \t RELT-like 2                                             \t 0.29610 \t 4.6953e-132\n",
      "27 \t RAD54 homolog B (S. cerevisiae)                         \t 0.29422 \t 2.4865e-130\n",
      "28 \t potassium channel tetramerization domain containin      \t 0.29386 \t 5.2429e-130\n",
      "29 \t guanine nucleotide binding protein (G protein), be      \t 0.29268 \t 6.2211e-129\n",
      "30 \t paroxysmal nonkinesigenic dyskinesia                    \t 0.29067 \t 4.0547e-127\n",
      "31 \t eukaryotic translation initiation factor 4E family      \t 0.29038 \t 7.3909e-127\n",
      "32 \t cytochrome c oxidase subunit Va                         \t 0.29032 \t 8.4878e-127\n",
      "33 \t ets variant 4                                           \t 0.29010 \t 1.3332e-126\n",
      "34 \t family with sequence similarity 83, member D            \t 0.28968 \t 3.1823e-126\n",
      "35 \t protease, serine, 16 (thymus)                           \t 0.28922 \t 8.2237e-126\n",
      "36 \t pellino E3 ubiquitin protein ligase family member       \t 0.28845 \t 3.9639e-125\n",
      "37 \t chromatin assembly factor 1, subunit A (p150)           \t 0.28839 \t 4.4707e-125\n",
      "38 \t ret finger protein-like 1                               \t 0.28749 \t 2.8662e-124\n",
      "39 \t glycerol-3-phosphate acyltransferase 3                  \t 0.28695 \t 8.5523e-124\n",
      "40 \t Rho GTPase activating protein 9                         \t 0.28651 \t 2.1278e-123\n",
      "41 \t potassium channel, voltage gated Shaw related subf      \t 0.28623 \t 3.7601e-123\n",
      "42 \t N-acetyltransferase 8-like (GCN5-related, putative      \t 0.28574 \t 1.0093e-122\n",
      "43 \t NDUFA4, mitochondrial complex associated                \t 0.28497 \t 4.8632e-122\n",
      "44 \t solute carrier family 25 (mitochondrial carrier; a      \t 0.28442 \t 1.4674e-121\n",
      "45 \t aquaporin 11                                            \t 0.28418 \t 2.3895e-121\n",
      "46 \t SET and MYND domain containing 2                        \t 0.28414 \t 2.5593e-121\n",
      "47 \t plexin domain containing 1                              \t 0.28373 \t 5.8786e-121\n",
      "48 \t mitochondrial translational release factor 1-like       \t 0.28326 \t 1.5175e-120\n",
      "49 \t solute carrier family 17 (vesicular glutamate tran      \t 0.28158 \t 4.4191e-119\n",
      "50 \t ubiquinol-cytochrome c reductase hinge protein          \t 0.28149 \t 5.2478e-119\n",
      "\n",
      "\n",
      "Correlations for  Genes  &   LowGamma : \n",
      "\n",
      "# \t Genes                                                   \t R-Vals \t P-vals \n",
      "\n",
      "1 \t kallikrein-related peptidase 8                          \t 0.40303 \t 3.5431e-253\n",
      "2 \t tumor protein p53 inducible protein 11                  \t 0.39449 \t 1.0426e-241\n",
      "3 \t interleukin 1, beta                                     \t 0.38160 \t 5.0060e-225\n",
      "4 \t calcium/calmodulin-dependent protein kinase II del      \t 0.35437 \t 3.4677e-192\n",
      "5 \t A kinase (PRKA) anchor protein 14                       \t 0.33145 \t 6.0348e-167\n",
      "6 \t glycine receptor, alpha 2                               \t 0.33009 \t 1.6302e-165\n",
      "7 \t PYD (pyrin domain) containing 1                         \t 0.32966 \t 4.6779e-165\n",
      "8 \t exonuclease 3'-5' domain containing 1                   \t 0.32759 \t 6.6734e-163\n",
      "9 \t myosin XVI                                              \t 0.31956 \t 1.1354e-154\n",
      "10 \t dorsal inhibitory axon guidance protein                 \t 0.31448 \t 1.3512e-149\n",
      "11 \t transmembrane protein 249                               \t 0.30778 \t 4.6670e-143\n",
      "12 \t IQ motif containing J                                   \t 0.30753 \t 8.0856e-143\n",
      "13 \t titin-cap                                               \t 0.30167 \t 3.0443e-137\n",
      "14 \t radial spoke head 9 homolog (Chlamydomonas)             \t 0.30041 \t 4.6914e-136\n",
      "15 \t calcyphosine-like                                       \t 0.29780 \t 1.2546e-133\n",
      "16 \t phenylethanolamine N-methyltransferase                  \t 0.29529 \t 2.6063e-131\n",
      "17 \t mesoderm posterior bHLH transcription factor 1          \t 0.29386 \t 5.2768e-130\n",
      "18 \t matrix Gla protein                                      \t 0.29344 \t 1.2583e-129\n",
      "19 \t copine VI (neuronal)                                    \t 0.29231 \t 1.3501e-128\n",
      "20 \t lipase, member H                                        \t 0.28703 \t 7.2351e-124\n",
      "21 \t galanin-like peptide                                    \t 0.28489 \t 5.6782e-122\n",
      "22 \t complement component 1, r subcomponent                  \t 0.28435 \t 1.6911e-121\n",
      "23 \t zinc finger, CCHC domain containing 18                  \t 0.28434 \t 1.7369e-121\n",
      "24 \t dishevelled-binding antagonist of beta-catenin 1        \t 0.28298 \t 2.6818e-120\n",
      "25 \t TAF7-like RNA polymerase II, TATA box binding prot      \t 0.28054 \t 3.4646e-118\n",
      "26 \t nuclear receptor subfamily 2, group F, member 2         \t 0.27979 \t 1.5608e-117\n",
      "27 \t cytochrome P450, family 26, subfamily B, polypepti      \t 0.27877 \t 1.1611e-116\n",
      "28 \t FAD-dependent oxidoreductase domain containing 2        \t 0.27833 \t 2.7753e-116\n",
      "29 \t potassium channel tetramerization domain containin      \t 0.27752 \t 1.3547e-115\n",
      "30 \t bradykinin receptor B2                                  \t 0.27675 \t 6.1663e-115\n",
      "31 \t benzodiazepine receptor (peripheral) associated pr      \t 0.27668 \t 6.9958e-115\n",
      "32 \t EPH receptor A3                                         \t 0.27541 \t 8.3418e-114\n",
      "33 \t sema domain, immunoglobulin domain (Ig), short bas      \t 0.27520 \t 1.2668e-113\n",
      "34 \t nuclear RNA export factor 2                             \t 0.27341 \t 4.0877e-112\n",
      "35 \t solute carrier family 22, member 10                     \t 0.27283 \t 1.2471e-111\n",
      "36 \t glutamate receptor, metabotropic 1                      \t 0.27089 \t 5.0810e-110\n",
      "37 \t erythrocyte membrane protein band 4.1 like 4B           \t 0.26933 \t 9.9053e-109\n",
      "38 \t chromosome 14 open reading frame 132                    \t 0.26927 \t 1.1146e-108\n",
      "39 \t activin A receptor, type IIA                            \t 0.26463 \t 6.7242e-105\n",
      "40 \t protein tyrosine phosphatase, receptor type, R          \t 0.26439 \t 1.0452e-104\n",
      "41 \t MET proto-oncogene, receptor tyrosine kinase            \t 0.26423 \t 1.4049e-104\n",
      "42 \t cytochrome P450, family 2, subfamily C, polypeptid      \t 0.26257 \t 3.0712e-103\n",
      "43 \t one cut homeobox 1                                      \t 0.26215 \t 6.6088e-103\n",
      "44 \t patched domain containing 1                             \t 0.26208 \t 7.4800e-103\n",
      "45 \t numb homolog (Drosophila)-like                          \t 0.26098 \t 5.6192e-102\n",
      "46 \t leucine-rich repeats and calponin homology (CH) do      \t 0.26089 \t 6.6186e-102\n",
      "47 \t calcium channel, voltage-dependent, beta 3 subunit      \t 0.26068 \t 9.7306e-102\n",
      "48 \t adrenomedullin 5 (putative)                             \t 0.26016 \t 2.5014e-101\n",
      "49 \t dual specificity phosphatase 13                         \t 0.25976 \t 5.2314e-101\n",
      "50 \t hippocalcin like 4                                      \t 0.25935 \t 1.0900e-100\n",
      "\n",
      "\n",
      "Correlations for  Genes  &   Alpha : \n",
      "\n",
      "# \t Genes                                                   \t R-Vals \t P-vals \n",
      "\n",
      "1 \t tudor domain containing 1                               \t 0.45941 \t 0.0000e+00\n",
      "2 \t RAD54 homolog B (S. cerevisiae)                         \t 0.43175 \t 2.6371e-294\n",
      "3 \t MET proto-oncogene, receptor tyrosine kinase            \t 0.42293 \t 3.0380e-281\n",
      "4 \t collagen, type V, alpha 1                               \t 0.42078 \t 4.0935e-278\n",
      "5 \t ST3 beta-galactoside alpha-2,3-sialyltransferase 6      \t 0.41823 \t 1.9154e-274\n",
      "6 \t synapsin III                                            \t 0.41098 \t 3.6881e-264\n",
      "7 \t bone morphogenetic protein 4                            \t 0.40667 \t 3.5402e-258\n",
      "8 \t synaptonemal complex protein 2                          \t 0.40553 \t 1.3502e-256\n",
      "9 \t aldehyde dehydrogenase 1 family, member A3              \t 0.40367 \t 4.7406e-254\n",
      "10 \t glycosylphosphatidylinositol specific phospholipas      \t 0.39724 \t 2.2942e-245\n",
      "11 \t lymphocyte-activation gene 3                            \t 0.39607 \t 8.3605e-244\n",
      "12 \t glycerophosphodiester phosphodiesterase domain con      \t 0.39172 \t 4.7007e-238\n",
      "13 \t ankyrin repeat and SOCS box containing 13               \t 0.38801 \t 3.1912e-233\n",
      "14 \t frequently rearranged in advanced T-cell lymphomas      \t 0.38569 \t 3.0756e-230\n",
      "15 \t mitochondrial calcium uptake family, member 3           \t 0.38161 \t 4.8661e-225\n",
      "16 \t glycerol-3-phosphate acyltransferase 3                  \t 0.38008 \t 4.1571e-223\n",
      "17 \t prostaglandin-endoperoxide synthase 1 (prostagland      \t 0.37823 \t 8.7530e-221\n",
      "18 \t glucocorticoid induced 1                                \t 0.37492 \t 1.1355e-216\n",
      "19 \t BH3 interacting domain death agonist                    \t 0.37297 \t 2.8476e-214\n",
      "20 \t uridine phosphorylase 1                                 \t 0.37174 \t 9.0672e-213\n",
      "21 \t glycerophosphocholine phosphodiesterase 1               \t 0.37077 \t 1.4053e-211\n",
      "22 \t transmembrane phosphoinositide 3-phosphatase and t      \t 0.36939 \t 6.6934e-210\n",
      "23 \t StAR-related lipid transfer (START) domain contain      \t 0.36935 \t 7.5133e-210\n",
      "24 \t solute carrier family 25 (aspartate/glutamate carr      \t 0.36827 \t 1.5068e-208\n",
      "25 \t SH3 domain containing ring finger 2                     \t 0.36731 \t 2.1714e-207\n",
      "26 \t SRSF protein kinase 1                                   \t 0.36656 \t 1.7265e-206\n",
      "27 \t family with sequence similarity 71, member E1           \t 0.36266 \t 7.4968e-202\n",
      "28 \t DCN1, defective in cullin neddylation 1, domain co      \t 0.36255 \t 1.0217e-201\n",
      "29 \t Src homology 2 domain containing transforming prot      \t 0.36022 \t 5.7261e-199\n",
      "30 \t solute carrier family 17 (vesicular glutamate tran      \t 0.36006 \t 8.7474e-199\n",
      "31 \t ATPase, Ca++ transporting, plasma membrane 3            \t 0.35907 \t 1.2433e-197\n",
      "32 \t potassium channel, voltage gated Shaw related subf      \t 0.35803 \t 2.0494e-196\n",
      "33 \t phosphoinositide-3-kinase, regulatory subunit 3 (g      \t 0.35767 \t 5.3410e-196\n",
      "34 \t bone morphogenetic protein/retinoic acid inducible      \t 0.35569 \t 1.0477e-193\n",
      "35 \t centromere protein J                                    \t 0.35450 \t 2.4697e-192\n",
      "36 \t islet cell autoantigen 1, 69kDa                         \t 0.35354 \t 3.1576e-191\n",
      "37 \t ATPase, Ca++ transporting, plasma membrane 2            \t 0.35332 \t 5.5517e-191\n",
      "38 \t family with sequence similarity 13, member B            \t 0.35278 \t 2.2936e-190\n",
      "39 \t solute carrier family 16, member 6                      \t 0.35035 \t 1.3174e-187\n",
      "40 \t cytochrome c oxidase subunit VIIa polypeptide 1 (m      \t 0.34803 \t 5.4580e-185\n",
      "41 \t ankyrin 1, erythrocytic                                 \t 0.34746 \t 2.3784e-184\n",
      "42 \t zinc binding alcohol dehydrogenase domain containi      \t 0.34720 \t 4.7105e-184\n",
      "43 \t tetratricopeptide repeat domain 21B                     \t 0.34572 \t 2.1026e-182\n",
      "44 \t regulator of microtubule dynamics 2                     \t 0.34565 \t 2.5215e-182\n",
      "45 \t CDP-diacylglycerol synthase (phosphatidate cytidyl      \t 0.34527 \t 6.7024e-182\n",
      "46 \t SIX homeobox 4                                          \t 0.34508 \t 1.0760e-181\n",
      "47 \t estrogen-related receptor gamma                         \t 0.34478 \t 2.3191e-181\n",
      "48 \t Ras association (RalGDS/AF-6) domain family member      \t 0.34447 \t 5.1433e-181\n",
      "49 \t FAST kinase domains 1                                   \t 0.34417 \t 1.0889e-180\n",
      "50 \t Fanconi anemia, complementation group I                 \t 0.34209 \t 2.1294e-178\n"
     ]
    }
   ],
   "source": [
    "# Print out highest correlated genes for each oscillation band\n",
    "for band in om_maps.bands:\n",
    "    om_maps.check_corrs('Genes', band, n_check=50, top=True)"
   ]
  },
  {
   "cell_type": "code",
   "execution_count": 9,
   "metadata": {},
   "outputs": [
    {
     "name": "stdout",
     "output_type": "stream",
     "text": [
      "\n",
      "\n",
      "Correlations for  Genes  &   Slopes : \n",
      "\n",
      "# \t Genes                                                   \t R-Vals \t P-vals \n",
      "\n",
      "1 \t tetratricopeptide repeat domain 21B                     \t 0.57465 \t 0.0000e+00\n",
      "2 \t ST3 beta-galactoside alpha-2,3-sialyltransferase 6      \t 0.54371 \t 0.0000e+00\n",
      "3 \t collagen, type V, alpha 1                               \t 0.52230 \t 0.0000e+00\n",
      "4 \t uridine phosphorylase 1                                 \t 0.52062 \t 0.0000e+00\n",
      "5 \t synaptonemal complex protein 2                          \t 0.51199 \t 0.0000e+00\n",
      "6 \t follistatin-like 1                                      \t 0.50956 \t 0.0000e+00\n",
      "7 \t Ras association (RalGDS/AF-6) domain family member      \t 0.50804 \t 0.0000e+00\n",
      "8 \t Abelson helper integration site 1                       \t 0.50531 \t 0.0000e+00\n",
      "9 \t ankyrin repeat and SOCS box containing 13               \t 0.50482 \t 0.0000e+00\n",
      "10 \t solute carrier family 25 (aspartate/glutamate carr      \t 0.50406 \t 0.0000e+00\n",
      "11 \t bone morphogenetic protein/retinoic acid inducible      \t 0.50048 \t 0.0000e+00\n",
      "12 \t erythrocyte membrane protein band 4.1                   \t 0.49866 \t 0.0000e+00\n",
      "13 \t splA/ryanodine receptor domain and SOCS box contai      \t 0.49767 \t 0.0000e+00\n",
      "14 \t family with sequence similarity 13, member B            \t 0.49552 \t 0.0000e+00\n",
      "15 \t FAST kinase domains 1                                   \t 0.49490 \t 0.0000e+00\n",
      "16 \t SH3 domain containing ring finger 2                     \t 0.49485 \t 0.0000e+00\n",
      "17 \t glycerophosphocholine phosphodiesterase 1               \t 0.49361 \t 0.0000e+00\n",
      "18 \t nuclear receptor subfamily 2, group C, member 1         \t 0.49135 \t 0.0000e+00\n",
      "19 \t imprinted in Prader-Willi syndrome (non-protein co      \t 0.49109 \t 0.0000e+00\n",
      "20 \t RANBP2-like and GRIP domain containing 1                \t 0.49096 \t 0.0000e+00\n",
      "21 \t centrosomal protein 152kDa                              \t 0.48837 \t 0.0000e+00\n",
      "22 \t retinitis pigmentosa GTPase regulator                   \t 0.48435 \t 0.0000e+00\n",
      "23 \t leucine rich repeat containing 37, member A4, pseu      \t 0.48354 \t 0.0000e+00\n",
      "24 \t ATPase, aminophospholipid transporter, class I, ty      \t 0.48307 \t 0.0000e+00\n",
      "25 \t negative elongation factor complex member A             \t 0.48238 \t 0.0000e+00\n",
      "26 \t glycosylphosphatidylinositol specific phospholipas      \t 0.47814 \t 0.0000e+00\n",
      "27 \t frequently rearranged in advanced T-cell lymphomas      \t 0.47542 \t 0.0000e+00\n",
      "28 \t lymphocyte-activation gene 3                            \t 0.47485 \t 0.0000e+00\n",
      "29 \t regulatory factor X, 5 (influences HLA class II ex      \t 0.46680 \t 0.0000e+00\n",
      "30 \t KIAA1875                                                \t 0.46657 \t 0.0000e+00\n",
      "31 \t RAR-related orphan receptor A                           \t 0.46589 \t 0.0000e+00\n",
      "32 \t forkhead box O3                                         \t 0.46533 \t 0.0000e+00\n",
      "33 \t WD repeat domain 19                                     \t 0.46341 \t 0.0000e+00\n",
      "34 \t estrogen-related receptor gamma                         \t 0.46323 \t 0.0000e+00\n",
      "35 \t MAP kinase interacting serine/threonine kinase 2        \t 0.45930 \t 0.0000e+00\n",
      "36 \t centromere protein J                                    \t 0.45882 \t 0.0000e+00\n",
      "37 \t L-2-hydroxyglutarate dehydrogenase                      \t 0.45805 \t 0.0000e+00\n",
      "38 \t DCN1, defective in cullin neddylation 1, domain co      \t 0.45737 \t 0.0000e+00\n",
      "39 \t oxysterol binding protein-like 6                        \t 0.45682 \t 0.0000e+00\n",
      "40 \t bone morphogenetic protein 4                            \t 0.45569 \t 0.0000e+00\n",
      "41 \t adenylate cyclase 9                                     \t 0.45418 \t 0.0000e+00\n",
      "42 \t transient receptor potential cation channel, subfa      \t 0.45396 \t 0.0000e+00\n",
      "43 \t T-cell lymphoma invasion and metastasis 1               \t 0.45361 \t 0.0000e+00\n",
      "44 \t Jun dimerization protein 2                              \t 0.45196 \t 0.0000e+00\n",
      "45 \t aldehyde dehydrogenase 1 family, member A3              \t 0.45160 \t 0.0000e+00\n",
      "46 \t argonaute RISC catalytic component 1                    \t 0.45118 \t 0.0000e+00\n",
      "47 \t sodium channel and clathrin linker 1                    \t 0.45110 \t 0.0000e+00\n",
      "48 \t rhomboid, veinlet-like 3 (Drosophila)                   \t 0.44998 \t 1.4328e-322\n",
      "49 \t phytanoyl-CoA 2-hydroxylase                             \t 0.44763 \t 8.0206e-319\n",
      "50 \t synapsin III                                            \t 0.44703 \t 7.0798e-318\n"
     ]
    }
   ],
   "source": [
    "# Print out the highest correlated genes for exponents\n",
    "om_maps.check_corrs('Genes', 'Exponents', n_check=50)"
   ]
  },
  {
   "cell_type": "code",
   "execution_count": 10,
   "metadata": {
    "collapsed": true
   },
   "outputs": [],
   "source": [
    "# Save calculated correlations to file\n",
    "for band in om_maps.bands:\n",
    "    om_maps.save_corrs('Genes', band, 'Gr_85', save_as_npz=True, save_as_csv=True)\n",
    "\n",
    "# Save calculated correlations to file\n",
    "om_maps.save_corrs('Genes', 'Exponents', 'Gr_85', save_as_npz=True, save_as_csv=True)"
   ]
  },
  {
   "cell_type": "code",
   "execution_count": 12,
   "metadata": {
    "collapsed": true
   },
   "outputs": [],
   "source": [
    "# Save out as pickled object\n",
    "#save_obj_pickle(om_maps, 'maps', 'Genes')"
   ]
  },
  {
   "cell_type": "markdown",
   "metadata": {},
   "source": [
    "## Plots of individual correlations"
   ]
  },
  {
   "cell_type": "code",
   "execution_count": 9,
   "metadata": {
    "collapsed": true
   },
   "outputs": [],
   "source": [
    "# Set data\n",
    "gene_name = 'potassium channel tetramerization domain containing 9 pseudogene 6'\n",
    "cur_band = 'Beta'"
   ]
  },
  {
   "cell_type": "code",
   "execution_count": 10,
   "metadata": {
    "collapsed": true
   },
   "outputs": [],
   "source": [
    "# Pull out data\n",
    "meg_dat = om_maps.meg_maps[cur_band]\n",
    "\n",
    "gene_ind = om_maps.gene_names.index(gene_name)\n",
    "gene_dat = om_maps.gene_maps[gene_ind].as_matrix()\n",
    "\n",
    "r_val = om_maps.corrs['Genes'][cur_band][gene_ind]"
   ]
  },
  {
   "cell_type": "code",
   "execution_count": 21,
   "metadata": {},
   "outputs": [
    {
     "data": {
      "image/png": "[encoded data removed]",
      "text/plain": [
       "<matplotlib.figure.Figure at 0x11577e210>"
      ]
     },
     "metadata": {},
     "output_type": "display_data"
    }
   ],
   "source": [
    "# Plot correlation plot of particular gene/osc pair\n",
    "plot_gene_corr(gene_dat, meg_dat, r_val)"
   ]
  },
  {
   "cell_type": "markdown",
   "metadata": {},
   "source": [
    "### Calculate Average Gene Results"
   ]
  },
  {
   "cell_type": "code",
   "execution_count": null,
   "metadata": {
    "collapsed": true
   },
   "outputs": [],
   "source": [
    "from om.maps.tg import calc_avg_gene_map"
   ]
  },
  {
   "cell_type": "code",
   "execution_count": null,
   "metadata": {
    "collapsed": true
   },
   "outputs": [],
   "source": [
    "# Calculate average gene expressions across all gene-subjects\n",
    "subj_list = ['sub1', 'sub2', 'sub3', 'sub4', 'sub5', 'sub6']\n",
    "calc_avg_gene_map(subj_list, 'All')"
   ]
  },
  {
   "cell_type": "code",
   "execution_count": null,
   "metadata": {
    "collapsed": true
   },
   "outputs": [],
   "source": []
  }
 ],
 "metadata": {
  "kernelspec": {
   "display_name": "Python 3",
   "language": "python",
   "name": "python3"
  },
  "language_info": {
   "codemirror_mode": {
    "name": "ipython",
    "version": 3
   },
   "file_extension": ".py",
   "mimetype": "text/x-python",
   "name": "python",
   "nbconvert_exporter": "python",
   "pygments_lexer": "ipython3",
   "version": "3.7.3"
  }
 },
 "nbformat": 4,
 "nbformat_minor": 1
}
