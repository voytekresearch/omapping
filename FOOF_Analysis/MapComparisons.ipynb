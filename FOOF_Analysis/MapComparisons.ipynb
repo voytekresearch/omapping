{
 "cells": [
  {
   "cell_type": "markdown",
   "metadata": {},
   "source": [
    "## OMEGA-MAPPIN - Map Comparisons\n",
    "\n",
    "Words, words, words"
   ]
  },
  {
   "cell_type": "code",
   "execution_count": 1,
   "metadata": {
    "collapsed": false
   },
   "outputs": [],
   "source": [
    "# Import omega-mappin module which contains all code for Map Comparisons\n",
    "from om import *\n",
    "\n",
    "# Set plots to display inline\n",
    "%matplotlib inline"
   ]
  },
  {
   "cell_type": "code",
   "execution_count": 2,
   "metadata": {
    "collapsed": false
   },
   "outputs": [],
   "source": [
    "# Initialize MapComp object and oscillatory bands list\n",
    "om_maps = MapComp()\n",
    "osc_bands = ['Theta', 'Alpha', 'Beta', 'LowGamma']"
   ]
  },
  {
   "cell_type": "code",
   "execution_count": 3,
   "metadata": {
    "collapsed": false
   },
   "outputs": [
    {
     "name": "stdout",
     "output_type": "stream",
     "text": [
      "Oscillation Files: \n",
      " Group_Osc_Scores.npz \n",
      "\n",
      "Slope Files: \n",
      " Group_Slopes.npz \n",
      "\n",
      "Terms Files: \n",
      " all_real_genes_donor9861_r10_coords1of3_zscored_gaussian_estimation.csv\n",
      "all_real_genes_donor9861_r10_coords2of3_zscored_gaussian_estimation.csv\n",
      "all_real_genes_donor9861_r10_coords3of3_zscored_gaussian_estimation.csv\n",
      "all_real_genes_donor9861_r5_coords1of3_zscored_gaussian_estimation.csv\n",
      "all_real_genes_donor9861_r5_coords2of3_zscored_gaussian_estimation.csv\n",
      "all_real_genes_donor9861_r5_coords3of3_zscored_gaussian_estimation.csv\n",
      "real_gene_names.csv \n",
      "\n",
      "Genes Files: \n",
      " all_terms_r10_gaussian_estimation.csv\n",
      "all_terms_r5_gaussian_estimation.csv\n",
      "ns_terms.csv \n",
      "\n"
     ]
    }
   ],
   "source": [
    "# Check files that are available\n",
    "om_maps.check_files()"
   ]
  },
  {
   "cell_type": "code",
   "execution_count": 4,
   "metadata": {
    "collapsed": false
   },
   "outputs": [],
   "source": [
    "# Load oscillation maps - here using the oscillation scores\n",
    "om_maps.load_meg_maps(osc_file='Group_Osc_Scores', slope_file='Group_Slopes')"
   ]
  },
  {
   "cell_type": "code",
   "execution_count": 5,
   "metadata": {
    "collapsed": false
   },
   "outputs": [],
   "source": [
    "# Load term maps - here using 10 mm spatial estimation\n",
    "om_maps.load_term_maps('all_terms_r10_gaussian_estimation.csv')"
   ]
  },
  {
   "cell_type": "code",
   "execution_count": 6,
   "metadata": {
    "collapsed": false
   },
   "outputs": [],
   "source": [
    "# Calculate the correlation between oscillation maps and terms\n",
    "for osc in osc_bands:\n",
    "    om_maps.calc_corrs('Terms', osc)"
   ]
  },
  {
   "cell_type": "code",
   "execution_count": null,
   "metadata": {
    "collapsed": false
   },
   "outputs": [],
   "source": [
    "# Print out highest correlated terms for each oscillation band\n",
    "for osc in osc_bands:\n",
    "    om_maps.check_corrs('Terms', osc)"
   ]
  },
  {
   "cell_type": "code",
   "execution_count": null,
   "metadata": {
    "collapsed": false
   },
   "outputs": [],
   "source": [
    "# Plot an example of distribution of R values and P values\n",
    "om_maps.plot_corrs('Terms', 'Theta')"
   ]
  },
  {
   "cell_type": "code",
   "execution_count": null,
   "metadata": {
    "collapsed": true
   },
   "outputs": [],
   "source": [
    "# Save calculated osc correlations to file\n",
    "for osc in osc_bands:\n",
    "    om_maps.save_osc_corrs('Terms', osc, save_as_npz=True, save_as_csv=True)"
   ]
  },
  {
   "cell_type": "code",
   "execution_count": null,
   "metadata": {
    "collapsed": false
   },
   "outputs": [],
   "source": [
    "# Calculate correlations with slopes\n",
    "om_maps.calc_corrs('Terms', 'Slopes')"
   ]
  },
  {
   "cell_type": "code",
   "execution_count": null,
   "metadata": {
    "collapsed": false
   },
   "outputs": [],
   "source": [
    "#\n",
    "om_maps.check_corrs('Terms', 'Slopes')"
   ]
  },
  {
   "cell_type": "code",
   "execution_count": null,
   "metadata": {
    "collapsed": false
   },
   "outputs": [],
   "source": [
    "#\n",
    "om_maps.plot_corrs('Terms', 'Slopes')"
   ]
  },
  {
   "cell_type": "code",
   "execution_count": null,
   "metadata": {
    "collapsed": true
   },
   "outputs": [],
   "source": [
    "# \n",
    "om_maps.save_corrs('Terms', 'Slopes')"
   ]
  },
  {
   "cell_type": "code",
   "execution_count": null,
   "metadata": {
    "collapsed": true
   },
   "outputs": [],
   "source": [
    "# Unload terms - terms & genes are quite large. Unload terms since no longer needed.\n",
    "om_maps.unload_data('Terms')"
   ]
  },
  {
   "cell_type": "code",
   "execution_count": null,
   "metadata": {
    "collapsed": true
   },
   "outputs": [],
   "source": [
    "# Load Gene maps - note that genes are split up into 3 files. These are concatenated for analysis. \n",
    "\n",
    "# List of gene files\n",
    "gene_files = ['all_real_genes_donor9861_r10_coords1of3_zscored_gaussian_estimation.csv',\n",
    "              'all_real_genes_donor9861_r10_coords2of3_zscored_gaussian_estimation.csv',\n",
    "              'all_real_genes_donor9861_r10_coords3of3_zscored_gaussian_estimation.csv']\n",
    "\n",
    "# Load gene files\n",
    "om_maps.load_gene_maps(gene_files)"
   ]
  },
  {
   "cell_type": "code",
   "execution_count": null,
   "metadata": {
    "collapsed": true
   },
   "outputs": [],
   "source": [
    "# Calculate the correlation between oscillation maps and genes\n",
    "for osc in osc_bands:\n",
    "    om_maps.calc_corrs('Genes', osc)"
   ]
  },
  {
   "cell_type": "code",
   "execution_count": null,
   "metadata": {
    "collapsed": false
   },
   "outputs": [],
   "source": [
    "# Print out highest correlated genes for each oscillation band\n",
    "for osc in osc_bands:\n",
    "    om_maps.check_corrs('Genes', osc)"
   ]
  },
  {
   "cell_type": "code",
   "execution_count": null,
   "metadata": {
    "collapsed": false
   },
   "outputs": [],
   "source": [
    "# Save calculated correlations to file\n",
    "for osc in osc_bands:\n",
    "    om_maps.save_corrs('Genes', osc, save_as_npz=True, save_as_csv=True)"
   ]
  },
  {
   "cell_type": "code",
   "execution_count": null,
   "metadata": {
    "collapsed": true
   },
   "outputs": [],
   "source": [
    "# Calculate the correlation between slopes and genes\n",
    "om_maps.calc_corrs('Genes', 'Slopes')"
   ]
  },
  {
   "cell_type": "code",
   "execution_count": null,
   "metadata": {
    "collapsed": false
   },
   "outputs": [],
   "source": [
    "# Print out the highest correlated genes for slopes\n",
    "om_maps.check_corrs('Genes', 'Slopes')"
   ]
  },
  {
   "cell_type": "code",
   "execution_count": null,
   "metadata": {
    "collapsed": true
   },
   "outputs": [],
   "source": [
    "# Save calculated correlations to file\n",
    "om_maps.save_corrs('Genes', 'Slopes', save_as_npz=True, save_as_csv=True)"
   ]
  },
  {
   "cell_type": "code",
   "execution_count": null,
   "metadata": {
    "collapsed": true
   },
   "outputs": [],
   "source": []
  }
 ],
 "metadata": {
  "kernelspec": {
   "display_name": "Python 2",
   "language": "python",
   "name": "python2"
  },
  "language_info": {
   "codemirror_mode": {
    "name": "ipython",
    "version": 2
   },
   "file_extension": ".py",
   "mimetype": "text/x-python",
   "name": "python",
   "nbconvert_exporter": "python",
   "pygments_lexer": "ipython2",
   "version": "2.7.11"
  }
 },
 "nbformat": 4,
 "nbformat_minor": 0
}
