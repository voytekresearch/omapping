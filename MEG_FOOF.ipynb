{
 "cells": [
  {
   "cell_type": "markdown",
   "metadata": {},
   "source": [
    "<h1> FOOFing OMEGA Data </h1>"
   ]
  },
  {
   "cell_type": "markdown",
   "metadata": {},
   "source": [
    "This notebook runs FOOF on MEG-PSD data.\n",
    "- Option to Parallelize with Pool from Multiprocessing\n",
    "- Must Specify frequency range desired for FOOF\n",
    "- Saves FOOF results in pickled object\n",
    "\n",
    "NOTES:\n",
    "- For reasons unknown, parallel implementation with Pool does not currently work. \n",
    "\n",
    "    -It used to, but now hangs when trying to parallelize foof. \n",
    "    \n",
    "- Parallel with ipyparallel is currently working!"
   ]
  },
  {
   "cell_type": "code",
   "execution_count": 6,
   "metadata": {
    "collapsed": false
   },
   "outputs": [],
   "source": [
    "# Import general code from custom module om\n",
    "from __future__ import print_function\n",
    "\n",
    "import sys\n",
    "sys.path.append('/Users/thomasdonoghue/Documents/GitCode/omegamappin/')\n",
    "from om.gen import *\n",
    "\n",
    "# Import required packages\n",
    "import numpy as np\n",
    "\n",
    "\n",
    "## Import packages for testing\n",
    "\n",
    "# Import sys and add FOOF location to path\n",
    "#import sys\n",
    "#sys.path.append('/Users/thomasdonoghue/Documents/GitCode/')\n",
    "\n",
    "# Import FOOF\n",
    "#from foof import syn\n",
    "#from foof.fit import FOOF\n",
    "\n",
    "# Import Parallelization Packages\n",
    "#from multiprocessing import Pool, freeze_support\n",
    "\n",
    "# Import other packages\n",
    "#import seaborn as sns\n",
    "#import matplotlib.pyplot as plt\n",
    "\n",
    "# Set plots inline\n",
    "%matplotlib inline"
   ]
  },
  {
   "cell_type": "code",
   "execution_count": 7,
   "metadata": {
    "collapsed": false
   },
   "outputs": [],
   "source": [
    "# Get database and path details from OMDB class\n",
    "db = OMDB('HCP')"
   ]
  },
  {
   "cell_type": "code",
   "execution_count": 8,
   "metadata": {
    "collapsed": false
   },
   "outputs": [
    {
     "name": "stdout",
     "output_type": "stream",
     "text": [
      "\n",
      "Number of Subjects available: 42\n",
      "\n",
      "Subject numbers with FOOF data available: \n",
      "[100307, 102816, 105923, 106521, 109123, 111514, 112920, 113922, 116524, 116726, 140117, 146129, 153732, 154532, 156334, 158136, 162026, 162935, 164636, 166438, 172029, 174841, 175237, 175540, 181232, 185442, 187547, 189349, 191033, 191437, 191841, 192641, 195041, 198653, 204521, 205119, 212318, 212823, 214524, 221319, 223929, 233326]\n",
      "\n"
     ]
    }
   ],
   "source": [
    "sub_nums = db.check_files('PSD')"
   ]
  },
  {
   "cell_type": "code",
   "execution_count": 9,
   "metadata": {
    "collapsed": false
   },
   "outputs": [
    {
     "name": "stdout",
     "output_type": "stream",
     "text": [
      "0 Subject Files not yet FOOFed: \n",
      "[]\n"
     ]
    }
   ],
   "source": [
    "# Check which PSD files haven't been FOOFed\n",
    "psd_files, _ = db.check_files('PSD', verbose=False)\n",
    "foof_files, _ = db.check_files('foof', verbose=False)\n",
    "\n",
    "not_foofed = []\n",
    "for f in psd_files:\n",
    "    if f not in foof_files:\n",
    "        not_foofed.append(f)\n",
    "\n",
    "print(str(len(not_foofed)), 'Subject Files not yet FOOFed: ')\n",
    "print(not_foofed)"
   ]
  },
  {
   "cell_type": "markdown",
   "metadata": {},
   "source": [
    "## CHECK PSD DATA"
   ]
  },
  {
   "cell_type": "code",
   "execution_count": 16,
   "metadata": {
    "collapsed": false
   },
   "outputs": [],
   "source": [
    "# Load MEG Data\n",
    "subj = 100307\n",
    "psd, freqs = load_meg_psds(meg_path, subj)"
   ]
  },
  {
   "cell_type": "code",
   "execution_count": 17,
   "metadata": {
    "collapsed": false
   },
   "outputs": [
    {
     "name": "stdout",
     "output_type": "stream",
     "text": [
      "Number of PSDs is:  7500\n",
      "Frequency Resolution is:  0.48828125\n"
     ]
    }
   ],
   "source": [
    "# Check data - get number of PSDs and frequency resolution\n",
    "[nPSDs, nFreqs] = np.shape(psd)\n",
    "freq_res = np.mean(np.diff(freqs))\n",
    "print 'Number of PSDs is: ', nPSDs\n",
    "print 'Frequency Resolution is: ', freq_res"
   ]
  },
  {
   "cell_type": "code",
   "execution_count": null,
   "metadata": {
    "collapsed": true
   },
   "outputs": [],
   "source": [
    "# Extract PSD range of interest\n",
    "psd_ext, freqs_ext = extract_psd(psd, freqs, f_low=3, f_high=40)"
   ]
  },
  {
   "cell_type": "code",
   "execution_count": null,
   "metadata": {
    "collapsed": true
   },
   "outputs": [],
   "source": [
    "# Set up PSD as a list of 2-D np arrays\n",
    "psd_list = list(psd_ext)\n",
    "for i in range(0, nPSDs):\n",
    "    psd_list[i] = np.reshape(psd_list[i], [len(freqs_ext), 1])"
   ]
  },
  {
   "cell_type": "code",
   "execution_count": null,
   "metadata": {
    "collapsed": false
   },
   "outputs": [],
   "source": [
    "# Run FOOF\n",
    "#foof_results = meg_foof(psd_ext, freqs_ext, min_p=0.1, freq_res=freq_res, method='linear')\n",
    "\n",
    "# Save out results\n",
    "#save_path = '/Users/thomasdonoghue/Documents/Research/1-Projects/OMEGA/2-Data/MEG/3-FOOF/Colin/pickle'\n",
    "#save_foof_pickle(foof_results, save_path, subj)"
   ]
  },
  {
   "cell_type": "markdown",
   "metadata": {},
   "source": [
    "## Check PSDs"
   ]
  },
  {
   "cell_type": "code",
   "execution_count": null,
   "metadata": {
    "collapsed": false
   },
   "outputs": [],
   "source": [
    "import matplotlib.pyplot as plt\n",
    "\n",
    "plt.plot(freqs_ext[:], psd_ext[2500, :])"
   ]
  },
  {
   "cell_type": "markdown",
   "metadata": {},
   "source": [
    "### Convert pickle files (of saved FOOF results) to csv"
   ]
  },
  {
   "cell_type": "code",
   "execution_count": null,
   "metadata": {
    "collapsed": false
   },
   "outputs": [],
   "source": [
    "## To convert a single file\n",
    "\n",
    "# Set subject number to convert\n",
    "subj = 559176\n",
    "\n",
    "# Get database object - set which database to use\n",
    "db = OMDB('HCP')\n",
    "\n",
    "# Load data from pickle file and resave as csv file\n",
    "dat = load_foof_pickle(db.foof_path, subj)\n",
    "save_foof_csv(dat, db.foof_path, subj)"
   ]
  },
  {
   "cell_type": "code",
   "execution_count": 25,
   "metadata": {
    "collapsed": false
   },
   "outputs": [],
   "source": [
    "## To convert all files\n",
    "# NOTE: This will not check which files are already converted to csv, and will overwrite pre-existing csv files\n",
    "\n",
    "# Get database object - set which database files to check\n",
    "db = OMDB('HCP')\n",
    "\n",
    "# Get list of foofed pickle files\n",
    "foofed_files = db.check_files('foof', save_type='pickle', verbose=False)\n",
    "\n",
    "# Loop through each subj, load foof from pickle, and save out as a csv\n",
    "for subj in sub_nums:\n",
    "    \n",
    "    # Load subj foof data, from pickle file\n",
    "    dat = load_foof_pickle(db.foof_path, subj)\n",
    "    \n",
    "    # Save out as csv file\n",
    "    save_foof_csv(dat, db.foof_path, subj)"
   ]
  },
  {
   "cell_type": "markdown",
   "metadata": {},
   "source": [
    "## USING POOL - (not working)"
   ]
  },
  {
   "cell_type": "code",
   "execution_count": null,
   "metadata": {
    "collapsed": false
   },
   "outputs": [],
   "source": [
    "# Open Pool, run FOOF in parallel, and then close pool.  - OLD\n",
    "# Results stored in list of tuples\"\n",
    "pool = Pool(8)\n",
    "results = pool.map(foof_par, psd_list[0:1])\n",
    "pool.close()\n",
    "pool.join()\n",
    "\n",
    "# Use pickle to save the results\n",
    "foof_data_path = '/Users/thomasdonoghue/Documents/Research/1-Projects/OMEGA/2-Data/MEG/3-FOOF/'\n",
    "foof_save_name = str(subj) + '_Foof_Vertex.p'\n",
    "foof_save_path = os.path.join(foof_data_path, foof_save_name)\n",
    "pickle.dump(results, open(foof_save_path, 'wb'))\n",
    "\n",
    "# Close the pool\n",
    "pool.terminate()"
   ]
  },
  {
   "cell_type": "code",
   "execution_count": null,
   "metadata": {
    "collapsed": false
   },
   "outputs": [],
   "source": [
    "# Parallel not working. Run linearly.  - OLD\n",
    "results = [foof_par(psd) for psd in psd_list]\n",
    "\n",
    "# Use pickle to save the results\n",
    "foof_data_path = '/Users/thomasdonoghue/Documents/Research/1-Projects/OMEGA/2-Data/MEG/3-FOOF/'\n",
    "foof_save_name = str(subj) + '_Foof_Vertex.p'\n",
    "foof_save_path = os.path.join(foof_data_path, foof_save_name)\n",
    "pickle.dump(results, open(foof_save_path, 'wb'))"
   ]
  },
  {
   "cell_type": "code",
   "execution_count": null,
   "metadata": {
    "collapsed": true
   },
   "outputs": [],
   "source": [
    "# EXTRA: CHECK FOOF\n",
    "\n",
    "print(\"model: f {0}, f_sig {1}, chi {2}\".format(\n",
    "        np.round(foof.centers_, decimals=1),\n",
    "        np.round(foof.stdevs_, decimals=1),\n",
    "        np.round(foof.chi_, decimals=1))\n",
    "     )\n",
    "\n",
    "plt.subplot(211)\n",
    "plt.plot(freqs_ext, psd_example[:,0]*10000000000000000000000, label='Data')\n",
    "plt.plot(*syn.mfonef(mk=foof.powers_, \n",
    "                     mf=foof.centers_, \n",
    "                     mf_sig=foof.stdevs_, \n",
    "                     f0=3, \n",
    "                     fmax=50, \n",
    "                     chi=foof.chi_, \n",
    "                     res=freq_res), \n",
    "         label='Model'\n",
    "        )\n",
    "plt.xlabel(\"F (Hz)\")\n",
    "plt.ylabel(\"PSD\")\n",
    "plt.yscale('log')\n",
    "plt.xscale('log')\n",
    "plt.legend()"
   ]
  },
  {
   "cell_type": "markdown",
   "metadata": {},
   "source": [
    "## USING IPYPARALLEL"
   ]
  },
  {
   "cell_type": "code",
   "execution_count": null,
   "metadata": {
    "collapsed": true
   },
   "outputs": [],
   "source": [
    "# Import required things from ipyparallel\n",
    "from ipyparallel import Client\n",
    "from ipyparallel.util import interactive"
   ]
  },
  {
   "cell_type": "code",
   "execution_count": null,
   "metadata": {
    "collapsed": false
   },
   "outputs": [],
   "source": [
    "# Initialize client\n",
    "c = Client()"
   ]
  },
  {
   "cell_type": "code",
   "execution_count": null,
   "metadata": {
    "collapsed": false
   },
   "outputs": [],
   "source": [
    "# Gather \n",
    "view = c[:]"
   ]
  },
  {
   "cell_type": "code",
   "execution_count": null,
   "metadata": {
    "collapsed": false
   },
   "outputs": [],
   "source": [
    "# Import required libraries to each worker\n",
    "with view.sync_imports():\n",
    "    import sys\n",
    "    sys.path.append('/Users/thomasdonoghue/Documents/GitCode/')\n",
    "    from foof.fit import FOOF"
   ]
  },
  {
   "cell_type": "code",
   "execution_count": null,
   "metadata": {
    "collapsed": true
   },
   "outputs": [],
   "source": [
    "# Define function to run foof\n",
    "@interactive\n",
    "def run_foof(psd_in):\n",
    "    \n",
    "    # Initialize foof object\n",
    "    foof = FOOF(min_p=min_p, res=freq_res, fmin=fmin, fmax=fmax)    \n",
    "    \n",
    "    # Model foof\n",
    "    foof.model(freqs_ext, psd_in)\n",
    "\n",
    "    # Store vals in tuple and return\n",
    "    return (foof.chi_, foof.centers_, foof.powers_, foof.stdevs_)"
   ]
  },
  {
   "cell_type": "code",
   "execution_count": null,
   "metadata": {
    "collapsed": true
   },
   "outputs": [],
   "source": [
    "# Send required vars to workers\n",
    "view['min_p'] = 0.1\n",
    "view['freq_res'] = freq_res\n",
    "view['fmin'] = freqs_ext.min()\n",
    "view['fmax'] = freqs_ext.max()\n",
    "view['freqs_ext'] = freqs_ext"
   ]
  },
  {
   "cell_type": "code",
   "execution_count": null,
   "metadata": {
    "collapsed": false
   },
   "outputs": [],
   "source": [
    "%%time\n",
    "# Set up and run foof parallel\n",
    "foof_map = view.map(run_foof, psd_list)\n",
    "foof_results = foof_map.get()\n",
    "\n",
    "# Save out results\n",
    "save_path = '/Users/thomasdonoghue/Documents/Research/1-Projects/OMEGA/2-Data/MEG/3-FOOF/HCP/pickle'\n",
    "save_foof_pickle(foof_results, save_path, subj)"
   ]
  },
  {
   "cell_type": "code",
   "execution_count": null,
   "metadata": {
    "collapsed": true
   },
   "outputs": [],
   "source": []
  },
  {
   "cell_type": "code",
   "execution_count": null,
   "metadata": {
    "collapsed": true
   },
   "outputs": [],
   "source": []
  },
  {
   "cell_type": "code",
   "execution_count": null,
   "metadata": {
    "collapsed": true
   },
   "outputs": [],
   "source": [
    "min_p = 0.1\n",
    "fmin = freqs_ext.min()\n",
    "fmax = freqs_ext.max()"
   ]
  },
  {
   "cell_type": "code",
   "execution_count": null,
   "metadata": {
    "collapsed": false
   },
   "outputs": [],
   "source": [
    "%%time\n",
    "out = list()\n",
    "for psd_in in psd_list[0:40]:\n",
    "    \n",
    "    foof = FOOF(min_p=min_p, res=freq_res, fmin=fmin, fmax=fmax)\n",
    "    foof.model(freqs_ext, psd_in)\n",
    "\n",
    "    # Store vals in tuple and return\n",
    "    out.append((foof.chi_, foof.centers_, foof.powers_, foof.stdevs_))"
   ]
  },
  {
   "cell_type": "code",
   "execution_count": null,
   "metadata": {
    "collapsed": false
   },
   "outputs": [],
   "source": [
    "44.1/23.2"
   ]
  },
  {
   "cell_type": "code",
   "execution_count": null,
   "metadata": {
    "collapsed": false
   },
   "outputs": [],
   "source": [
    "out[-2]"
   ]
  },
  {
   "cell_type": "code",
   "execution_count": null,
   "metadata": {
    "collapsed": false
   },
   "outputs": [],
   "source": [
    "\n",
    "out_q[-]"
   ]
  },
  {
   "cell_type": "code",
   "execution_count": null,
   "metadata": {
    "collapsed": true
   },
   "outputs": [],
   "source": []
  },
  {
   "cell_type": "code",
   "execution_count": null,
   "metadata": {
    "collapsed": true
   },
   "outputs": [],
   "source": []
  }
 ],
 "metadata": {
  "kernelspec": {
   "display_name": "Python 2",
   "language": "python",
   "name": "python2"
  },
  "language_info": {
   "codemirror_mode": {
    "name": "ipython",
    "version": 2
   },
   "file_extension": ".py",
   "mimetype": "text/x-python",
   "name": "python",
   "nbconvert_exporter": "python",
   "pygments_lexer": "ipython2",
   "version": "2.7.11"
  }
 },
 "nbformat": 4,
 "nbformat_minor": 0
}
