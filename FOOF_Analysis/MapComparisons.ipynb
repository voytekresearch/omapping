{
 "cells": [
  {
   "cell_type": "markdown",
   "metadata": {},
   "source": [
    "## OMEGA-MAPPIN - Map Comparisons\n",
    "\n",
    "Words, words, words"
   ]
  },
  {
   "cell_type": "code",
   "execution_count": 1,
   "metadata": {
    "collapsed": false
   },
   "outputs": [],
   "source": [
    "# Import omega-mappin module which contains all code for Map Comparisons\n",
    "from om import *\n",
    "\n",
    "# Set plots to display inline\n",
    "%matplotlib inline"
   ]
  },
  {
   "cell_type": "code",
   "execution_count": 2,
   "metadata": {
    "collapsed": false
   },
   "outputs": [],
   "source": [
    "# Initialize MapComp object and oscillatory bands list\n",
    "om_maps = MapComp()\n",
    "osc_bands = ['Theta', 'Alpha', 'Beta', 'LowGamma']"
   ]
  },
  {
   "cell_type": "code",
   "execution_count": 3,
   "metadata": {
    "collapsed": false
   },
   "outputs": [
    {
     "name": "stdout",
     "output_type": "stream",
     "text": [
      "Oscillation Files: \n",
      " Group_Osc_Scores.npz \n",
      "\n",
      "Slope Files: \n",
      " Group_Slopes.npz \n",
      "\n",
      "Terms Files: \n",
      " all_real_genes_donor9861_r10_coords1of3_zscored_gaussian_estimation.csv\n",
      "all_real_genes_donor9861_r10_coords2of3_zscored_gaussian_estimation.csv\n",
      "all_real_genes_donor9861_r10_coords3of3_zscored_gaussian_estimation.csv\n",
      "all_real_genes_donor9861_r5_coords1of3_zscored_gaussian_estimation.csv\n",
      "all_real_genes_donor9861_r5_coords2of3_zscored_gaussian_estimation.csv\n",
      "all_real_genes_donor9861_r5_coords3of3_zscored_gaussian_estimation.csv\n",
      "real_gene_names.csv \n",
      "\n",
      "Genes Files: \n",
      " all_terms_r10_gaussian_estimation.csv\n",
      "all_terms_r5_gaussian_estimation.csv\n",
      "ns_terms.csv \n",
      "\n"
     ]
    }
   ],
   "source": [
    "# Check files that are available\n",
    "om_maps.check_files()"
   ]
  },
  {
   "cell_type": "code",
   "execution_count": 4,
   "metadata": {
    "collapsed": false
   },
   "outputs": [],
   "source": [
    "# Load oscillation maps - here using the oscillation scores\n",
    "om_maps.load_meg_maps(osc_file='Group_Osc_Scores', slope_file='Group_Slopes')"
   ]
  },
  {
   "cell_type": "code",
   "execution_count": 5,
   "metadata": {
    "collapsed": false
   },
   "outputs": [],
   "source": [
    "# Load term maps - here using 10 mm spatial estimation\n",
    "om_maps.load_term_maps('all_terms_r10_gaussian_estimation.csv')"
   ]
  },
  {
   "cell_type": "code",
   "execution_count": null,
   "metadata": {
    "collapsed": false
   },
   "outputs": [],
   "source": [
    "# Calculate the correlation between oscillation maps and terms\n",
    "om_maps.calc_osc_corrs('Terms')"
   ]
  },
  {
   "cell_type": "code",
   "execution_count": null,
   "metadata": {
    "collapsed": false
   },
   "outputs": [],
   "source": [
    "# Print out highest correlated terms for each oscillation band\n",
    "for osc in osc_bands:\n",
    "    om_maps.check_osc_corrs('Terms', osc)"
   ]
  },
  {
   "cell_type": "code",
   "execution_count": null,
   "metadata": {
    "collapsed": false
   },
   "outputs": [],
   "source": [
    "# Plot an example of distribution of R values and P values\n",
    "om_maps.plot_osc_corrs('Terms', 'Theta')"
   ]
  },
  {
   "cell_type": "code",
   "execution_count": null,
   "metadata": {
    "collapsed": true
   },
   "outputs": [],
   "source": [
    "# Save calculated osc correlations to file\n",
    "for osc in osc_bands:\n",
    "    om_maps.save_osc_corrs('Terms', osc, save_as_npz=True, save_as_csv=True)"
   ]
  },
  {
   "cell_type": "code",
   "execution_count": 6,
   "metadata": {
    "collapsed": false
   },
   "outputs": [],
   "source": [
    "# Calculate correlations with slopes\n",
    "om_maps.calc_slope_corrs('Terms')"
   ]
  },
  {
   "cell_type": "code",
   "execution_count": 7,
   "metadata": {
    "collapsed": false
   },
   "outputs": [
    {
     "name": "stdout",
     "output_type": "stream",
     "text": [
      "\n",
      "\n",
      "Correlations for  Terms  &   Slopes : \n",
      "\n",
      "# \t Terms                          \t R-Vals \t P-vals \n",
      "\n",
      "1 \t visual                         \t 0.47340 \t 0.0000e+00\n",
      "2 \t intraparietal                  \t 0.39613 \t 2.7870e-280\n",
      "3 \t intraparietal sulcus           \t 0.39429 \t 1.8306e-277\n",
      "4 \t occipital                      \t 0.39280 \t 3.2858e-275\n",
      "5 \t vision                         \t 0.36890 \t 1.6914e-240\n",
      "6 \t spatial                        \t 0.35449 \t 5.9454e-221\n",
      "7 \t visuo                          \t 0.35412 \t 1.7926e-220\n",
      "8 \t motion                         \t 0.35051 \t 9.8127e-216\n",
      "9 \t visual cortex                  \t 0.35047 \t 1.1061e-215\n",
      "10 \t occipital cortex               \t 0.34921 \t 4.7661e-214\n",
      "11 \t object                         \t 0.34676 \t 6.9315e-211\n",
      "12 \t precuneus                      \t 0.34115 \t 9.3774e-204\n",
      "13 \t primary visual                 \t 0.33308 \t 9.5350e-194\n",
      "14 \t visual attention               \t 0.33114 \t 2.1845e-191\n",
      "15 \t sulcus ips                     \t 0.32547 \t 1.3820e-184\n",
      "16 \t attention                      \t 0.32193 \t 2.0556e-180\n",
      "17 \t cortex ppc                     \t 0.31706 \t 9.2389e-175\n",
      "18 \t extrastriate                   \t 0.31591 \t 1.9210e-173\n",
      "19 \t field                          \t 0.31200 \t 5.2434e-169\n",
      "20 \t 3d                             \t 0.31148 \t 2.0582e-168\n"
     ]
    }
   ],
   "source": [
    "#\n",
    "om_maps.check_corrs('Terms', 'Slopes')"
   ]
  },
  {
   "cell_type": "code",
   "execution_count": 8,
   "metadata": {
    "collapsed": false
   },
   "outputs": [
    {
     "data": {
      "image/png": "[encoded data removed]",
      "text/plain": [
       "<matplotlib.figure.Figure at 0x105590050>"
      ]
     },
     "metadata": {},
     "output_type": "display_data"
    }
   ],
   "source": [
    "#\n",
    "om_maps.plot_corrs('Terms', 'Slopes')"
   ]
  },
  {
   "cell_type": "code",
   "execution_count": 9,
   "metadata": {
    "collapsed": true
   },
   "outputs": [],
   "source": [
    "# \n",
    "om_maps.save_corrs('Terms', 'Slopes')"
   ]
  },
  {
   "cell_type": "code",
   "execution_count": 10,
   "metadata": {
    "collapsed": true
   },
   "outputs": [],
   "source": [
    "# Unload terms - terms & genes are quite large. Unload terms since no longer needed.\n",
    "om_maps.unload_data('Terms')"
   ]
  },
  {
   "cell_type": "code",
   "execution_count": 11,
   "metadata": {
    "collapsed": true
   },
   "outputs": [],
   "source": [
    "# Load Gene maps - note that genes are split up into 3 files. These are concatenated for analysis. \n",
    "\n",
    "# List of gene files\n",
    "gene_files = ['all_real_genes_donor9861_r10_coords1of3_zscored_gaussian_estimation.csv',\n",
    "              'all_real_genes_donor9861_r10_coords2of3_zscored_gaussian_estimation.csv',\n",
    "              'all_real_genes_donor9861_r10_coords3of3_zscored_gaussian_estimation.csv']\n",
    "\n",
    "# Load gene files\n",
    "om_maps.load_gene_maps(gene_files)"
   ]
  },
  {
   "cell_type": "code",
   "execution_count": null,
   "metadata": {
    "collapsed": true
   },
   "outputs": [],
   "source": [
    "# Calculate the correlation between oscillation maps and genes\n",
    "om_maps.calc_osc_corrs('Genes')"
   ]
  },
  {
   "cell_type": "code",
   "execution_count": null,
   "metadata": {
    "collapsed": false
   },
   "outputs": [],
   "source": [
    "# Print out highest correlated genes for each oscillation band\n",
    "for osc in osc_bands:\n",
    "    om_maps.check_corrs('Genes', osc)"
   ]
  },
  {
   "cell_type": "code",
   "execution_count": null,
   "metadata": {
    "collapsed": false
   },
   "outputs": [],
   "source": [
    "# Save calculated correlations to file\n",
    "for osc in osc_bands:\n",
    "    om_maps.save_corrs('Genes', osc, save_as_npz=True, save_as_csv=True)"
   ]
  },
  {
   "cell_type": "code",
   "execution_count": 12,
   "metadata": {
    "collapsed": true
   },
   "outputs": [],
   "source": [
    "# Calculate the correlation between slopes and genes\n",
    "om_maps.calc_slope_corrs('Genes')"
   ]
  },
  {
   "cell_type": "code",
   "execution_count": 15,
   "metadata": {
    "collapsed": false
   },
   "outputs": [
    {
     "name": "stdout",
     "output_type": "stream",
     "text": [
      "\n",
      "\n",
      "Correlations for  Genes  &   Slopes : \n",
      "\n",
      "# \t Genes                                                   \t R-Vals \t P-vals \n",
      "\n",
      "1 \t integrator complex subunit 4 pseudogene 1               \t 0.46622 \t 2.2682e-231\n",
      "2 \t nuclear receptor subfamily 2, group C, member 1         \t 0.44582 \t 2.1620e-209\n",
      "3 \t imprinted in Prader-Willi syndrome (non-protein co      \t 0.44238 \t 7.8992e-206\n",
      "4 \t nuclear pore complex interacting protein family, m      \t 0.43562 \t 5.9824e-199\n",
      "5 \t DNA (cytosine-5-)-methyltransferase 3 alpha             \t 0.43042 \t 9.1672e-194\n",
      "6 \t SURP and G patch domain containing 2                    \t 0.42900 \t 2.3201e-192\n",
      "7 \t adenylate cyclase 9                                     \t 0.42845 \t 8.0704e-192\n",
      "8 \t UPF3 regulator of nonsense transcripts homolog A (      \t 0.42619 \t 1.2982e-189\n",
      "9 \t WD repeat domain 19                                     \t 0.42574 \t 3.5961e-189\n",
      "10 \t forkhead box O3                                         \t 0.42523 \t 1.1235e-188\n",
      "11 \t solute carrier family 25 (aspartate/glutamate carr      \t 0.42403 \t 1.6250e-187\n",
      "12 \t regulatory factor X, 5 (influences HLA class II ex      \t 0.42359 \t 4.3267e-187\n",
      "13 \t THO complex 1                                           \t 0.42346 \t 5.7527e-187\n",
      "14 \t SKI proto-oncogene                                      \t 0.42272 \t 2.9818e-186\n",
      "15 \t uridine phosphorylase 1                                 \t 0.41789 \t 1.2166e-181\n",
      "16 \t lymphocyte antigen 6 complex, locus G5B                 \t 0.41776 \t 1.6217e-181\n",
      "17 \t PAX8 antisense RNA 1                                    \t 0.41613 \t 5.6117e-180\n",
      "18 \t negative elongation factor complex member A             \t 0.41468 \t 1.3001e-178\n",
      "19 \t vomeronasal 1 receptor 1                                \t 0.41355 \t 1.4798e-177\n",
      "20 \t centrosomal protein 152kDa                              \t 0.41337 \t 2.1878e-177\n"
     ]
    }
   ],
   "source": [
    "# Print out the highest correlated genes for slopes\n",
    "om_maps.check_corrs('Genes', 'Slopes')"
   ]
  },
  {
   "cell_type": "code",
   "execution_count": 14,
   "metadata": {
    "collapsed": true
   },
   "outputs": [],
   "source": [
    "# Save calculated correlations to file\n",
    "om_maps.save_corrs('Genes', 'Slopes', save_as_npz=True, save_as_csv=True)"
   ]
  },
  {
   "cell_type": "code",
   "execution_count": null,
   "metadata": {
    "collapsed": true
   },
   "outputs": [],
   "source": []
  }
 ],
 "metadata": {
  "kernelspec": {
   "display_name": "Python 2",
   "language": "python",
   "name": "python2"
  },
  "language_info": {
   "codemirror_mode": {
    "name": "ipython",
    "version": 2
   },
   "file_extension": ".py",
   "mimetype": "text/x-python",
   "name": "python",
   "nbconvert_exporter": "python",
   "pygments_lexer": "ipython2",
   "version": "2.7.11"
  }
 },
 "nbformat": 4,
 "nbformat_minor": 0
}
