{
 "cells": [
  {
   "cell_type": "markdown",
   "metadata": {},
   "source": [
    "<h1> FOOFing OMEGA - Parallel </h1>"
   ]
  },
  {
   "cell_type": "markdown",
   "metadata": {},
   "source": [
    "This notebook runs FOOF on a matrix on PSDs from OMEGA. \n",
    "- Uses Pool from Multiprocessing to run FOOF in parallel\n",
    "- Must Specify frequency range desired for FOOF\n",
    "- Saves FOOF results in pickled object"
   ]
  },
  {
   "cell_type": "code",
   "execution_count": 1,
   "metadata": {
    "collapsed": false
   },
   "outputs": [],
   "source": [
    "# Import sys and add FOOF location to path\n",
    "import sys\n",
    "sys.path.append('/Users/thomasdonoghue/Documents/GitCode/')\n",
    "\n",
    "# Import FOOF\n",
    "from foof import syn\n",
    "from foof.fit import FOOF\n",
    "\n",
    "# Import Parallelization Packages\n",
    "from multiprocessing import Pool\n",
    "\n",
    "# Import other packages\n",
    "import os\n",
    "import numpy as np\n",
    "import scipy.io as sio\n",
    "import pickle"
   ]
  },
  {
   "cell_type": "code",
   "execution_count": 2,
   "metadata": {
    "collapsed": true
   },
   "outputs": [],
   "source": [
    "# Set Paths\n",
    "meg_data_path = '/Users/thomasdonoghue/Documents/Research/1-Projects/OMEGA/2-Data/MEG/2-PSDs/'"
   ]
  },
  {
   "cell_type": "code",
   "execution_count": 5,
   "metadata": {
    "collapsed": false
   },
   "outputs": [
    {
     "name": "stdout",
     "output_type": "stream",
     "text": [
      "['Subject_0', 'Subject_220216', 'Subject_369737', 'Subject_981954']\n"
     ]
    }
   ],
   "source": [
    "# Check Availabe Subjects\n",
    "files = os.listdir(meg_data_path)\n",
    "files = clean_file_list(files, 'Subject_')\n",
    "print files"
   ]
  },
  {
   "cell_type": "code",
   "execution_count": 6,
   "metadata": {
    "collapsed": false
   },
   "outputs": [],
   "source": [
    "# Set subject number\n",
    "subj = 981954\n",
    "\n",
    "# Load Data\n",
    "matFile = 'Vertex_PSD_50Hz_' + str(subj) + '.mat'\n",
    "filename = os.path.join((meg_data_path + 'Subject_' + str(subj)), matFile)\n",
    "\n",
    "# This pulls out the data in the matfile into a dictionary\n",
    "dataMat = sio.loadmat(filename, appendmat=True, struct_as_record=False, squeeze_me=True)\n",
    "\n",
    "# Pull out pieces from the dictionary\n",
    "freqs = dataMat['Freqs']\n",
    "psd = dataMat['TF']\n",
    "labels = dataMat['RowNames']   # Scout names if scout data. Sensor/Vertex numbers if sensor/vertex"
   ]
  },
  {
   "cell_type": "code",
   "execution_count": 7,
   "metadata": {
    "collapsed": false
   },
   "outputs": [
    {
     "name": "stdout",
     "output_type": "stream",
     "text": [
      "15003\n",
      "0.29296874998\n"
     ]
    }
   ],
   "source": [
    "# Check data - get size\n",
    "[nPSDs, nFreqs] = np.shape(psd)\n",
    "freq_res = np.mean(np.diff(freqs))\n",
    "print nPSDs\n",
    "print freq_res"
   ]
  },
  {
   "cell_type": "code",
   "execution_count": 8,
   "metadata": {
    "collapsed": true
   },
   "outputs": [],
   "source": [
    "# Extract PSD range of interest\n",
    "\n",
    "# Drop Freqs below 3\n",
    "f_low_mask = freqs > 3\n",
    "freqs_ext = freqs[f_low_mask]\n",
    "psd_ext = psd[:, f_low_mask]\n",
    "\n",
    "# Drop freqs above 40\n",
    "f_high_mask = freqs_ext < 40\n",
    "freqs_ext = freqs_ext[f_high_mask]\n",
    "psd_ext = psd_ext[:, f_high_mask]"
   ]
  },
  {
   "cell_type": "code",
   "execution_count": 9,
   "metadata": {
    "collapsed": true
   },
   "outputs": [],
   "source": [
    "# Foof settings\n",
    "min_p = 0.1\n",
    "foof = FOOF(min_p = min_p, res = freq_res, fmin=freqs_ext.min(), fmax=freqs_ext.max())\n",
    "\n",
    "# Set up PSD as list\n",
    "psd_list = list(psd_ext)\n",
    "for i in range(0, nPSDs):\n",
    "    psd_list[i] = np.reshape(psd_list[i], [len(freqs_ext), 1])"
   ]
  },
  {
   "cell_type": "code",
   "execution_count": 10,
   "metadata": {
    "collapsed": true
   },
   "outputs": [],
   "source": [
    "def foof_par(psd):    \n",
    "    # Fit FOOF\n",
    "    foof.model(freqs_ext, psd)\n",
    "    \n",
    "    # Store vals in tuple and return\n",
    "    return (foof.chi_, foof.centers_, foof.powers_, foof.stdevs_)"
   ]
  },
  {
   "cell_type": "code",
   "execution_count": 11,
   "metadata": {
    "collapsed": false
   },
   "outputs": [],
   "source": [
    "# Open Pool, run FOOF in parallel, and then close pool. \n",
    "# Results stored in list of tuples\n",
    "pool = Pool(8)\n",
    "results = pool.map(foof_par, psd_list)\n",
    "pool.close()\n",
    "pool.join()\n",
    "\n",
    "# Use pickle to save the results\n",
    "foof_data_path = '/Users/thomasdonoghue/Documents/Research/1-Projects/OMEGA/2-Data/MEG/3-FOOF/'\n",
    "foof_save_name = str(subj) + '_Foof_Vertex.p'\n",
    "foof_save_path = os.path.join(foof_data_path, foof_save_name)\n",
    "pickle.dump(results, open(foof_save_path, 'wb'))\n",
    "\n",
    "# Close the pool\n",
    "pool.terminate()"
   ]
  },
  {
   "cell_type": "code",
   "execution_count": 4,
   "metadata": {
    "collapsed": true
   },
   "outputs": [],
   "source": [
    "def clean_file_list(files_in, string):\n",
    "    \n",
    "    files_out = []\n",
    "\n",
    "    for i in range(0, len(files_in)):\n",
    "        if(string in files_in[i]):\n",
    "            files_out.append(files_in[i])\n",
    "            \n",
    "    return files_out"
   ]
  },
  {
   "cell_type": "code",
   "execution_count": null,
   "metadata": {
    "collapsed": true
   },
   "outputs": [],
   "source": []
  }
 ],
 "metadata": {
  "kernelspec": {
   "display_name": "Python 2",
   "language": "python",
   "name": "python2"
  },
  "language_info": {
   "codemirror_mode": {
    "name": "ipython",
    "version": 2
   },
   "file_extension": ".py",
   "mimetype": "text/x-python",
   "name": "python",
   "nbconvert_exporter": "python",
   "pygments_lexer": "ipython2",
   "version": "2.7.11"
  }
 },
 "nbformat": 4,
 "nbformat_minor": 0
}
