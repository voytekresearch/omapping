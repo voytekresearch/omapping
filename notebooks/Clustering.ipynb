{
 "cells": [
  {
   "cell_type": "markdown",
   "metadata": {},
   "source": [
    "# Clustering (Explorations)\n",
    "\n",
    "Note: this copied over from MEG-Group-Vertex notebook. "
   ]
  },
  {
   "cell_type": "code",
   "execution_count": null,
   "metadata": {
    "collapsed": true
   },
   "outputs": [],
   "source": [
    "from sklearn.cluster import KMeans\n",
    "from scipy.cluster.vq import whiten\n",
    "\n",
    "#from sklearn.decomposition import PCA\n",
    "\n",
    "#from sklearn import preprocessing"
   ]
  },
  {
   "cell_type": "code",
   "execution_count": null,
   "metadata": {
    "collapsed": true
   },
   "outputs": [],
   "source": [
    "# Load vertex data\n",
    "import scipy.io\n",
    "vert_path = '/Users/tom/Documents/Research/1-Projects/MEGmapping/vertices.mat'\n",
    "label = 'vertices'\n",
    "vert_dat = scipy.io.loadmat(vert_path)\n",
    "verts = np.array(vert_dat[label])"
   ]
  },
  {
   "cell_type": "code",
   "execution_count": null,
   "metadata": {
    "collapsed": true
   },
   "outputs": [],
   "source": [
    "def osc_space_features(centers, pows, bws, verts):\n",
    "    \"\"\"    \n",
    "    \n",
    "    Parameters\n",
    "    ----------\n",
    "    centers : 2d array\n",
    "        xx\n",
    "    verts : 2d array\n",
    "        xx\n",
    "        \n",
    "    Returns\n",
    "    -------\n",
    "    whitened : ?\n",
    "        xx\n",
    "    feats : ?\n",
    "        xx\n",
    "    \"\"\"\n",
    "    \n",
    "    n_verts, _ = verts.shape\n",
    "    \n",
    "    feats = []\n",
    "    \n",
    "    for vi in range(n_verts):\n",
    "        \n",
    "        for ind, cen in enumerate(centers[vi, :]):\n",
    "            \n",
    "            if cen > 0:\n",
    "                \n",
    "                #osc_dat = [cen]\n",
    "                #osc_dat = [cen, pows[vi, ind], bws[vi, ind], verts[vi, 0], verts[vi, 1], verts[vi, 2]]\n",
    "                osc_dat = [cen, pows[vi, ind], bws[vi, ind], verts[vi, 1]]\n",
    "                \n",
    "                #if not np.isnan(osc_dat[2]):\n",
    "                #    feats.append(osc_dat)\n",
    "                feats.append(osc_dat)\n",
    "    \n",
    "    feats = np.array(feats)\n",
    "    whitened = whiten(feats)\n",
    "    \n",
    "    return whitened, feats"
   ]
  },
  {
   "cell_type": "code",
   "execution_count": null,
   "metadata": {
    "collapsed": true
   },
   "outputs": [],
   "source": [
    "subj_ind = 0\n",
    "feats_wh, feats_raw = osc_space_features(meg_group.centers[:, :, subj_ind],\n",
    "                                         meg_group.powers[:, :, subj_ind],\n",
    "                                         meg_group.bws[:, :, subj_ind], verts)"
   ]
  },
  {
   "cell_type": "code",
   "execution_count": null,
   "metadata": {
    "collapsed": true
   },
   "outputs": [],
   "source": [
    "# K-Means Clustering of oscillations\n",
    "\n",
    "# Initialize Things\n",
    "inertias = []\n",
    "k_min = 2\n",
    "k_max = 11\n",
    "\n",
    "# Fit K-means\n",
    "for i in range(k_min, k_max):\n",
    "    \n",
    "    # Initialize K means\n",
    "    km = KMeans(n_clusters = i, init='k-means++', n_init=10, max_iter=300)   \n",
    "    \n",
    "    km.fit(feats_wh)\n",
    "    \n",
    "    inertias = np.append(inertias, km.inertia_)"
   ]
  },
  {
   "cell_type": "code",
   "execution_count": null,
   "metadata": {
    "collapsed": true
   },
   "outputs": [],
   "source": [
    "plt.plot(range(k_min, k_max), inertias, '.')"
   ]
  },
  {
   "cell_type": "code",
   "execution_count": null,
   "metadata": {
    "collapsed": true
   },
   "outputs": [],
   "source": [
    "k = 4\n",
    "km = KMeans(n_clusters = k, init='k-means++', n_init=10, max_iter=300)\n",
    "\n",
    "km.fit(feats_wh)"
   ]
  },
  {
   "cell_type": "code",
   "execution_count": null,
   "metadata": {
    "collapsed": true
   },
   "outputs": [],
   "source": [
    "k1 = feats_raw[km.labels_ == 0]\n",
    "k2 = feats_raw[km.labels_ == 1]\n",
    "k3 = feats_raw[km.labels_ == 2]\n",
    "k4 = feats_raw[km.labels_ == 3]\n",
    "#k5 = feats_raw[km.labels_ == 4]\n",
    "#k6 = feats_raw[km.labels_ == 5]"
   ]
  },
  {
   "cell_type": "code",
   "execution_count": null,
   "metadata": {
    "collapsed": true
   },
   "outputs": [],
   "source": [
    "ii = 0\n",
    "\n",
    "print(np.median(k1[:, ii]))\n",
    "print(np.median(k2[:, ii]))\n",
    "print(np.median(k3[:, ii]))\n",
    "print(np.median(k4[:, ii]))\n",
    "#print(np.median(k5[:, ii]))\n",
    "#print(np.median(k6[:, ii]))"
   ]
  },
  {
   "cell_type": "code",
   "execution_count": null,
   "metadata": {
    "collapsed": true
   },
   "outputs": [],
   "source": [
    "# Check how many oscillations per cluster\n",
    "plt.hist(km.labels_, k)\n",
    "_ = plt.xticks(range(0, k))"
   ]
  },
  {
   "cell_type": "code",
   "execution_count": null,
   "metadata": {
    "collapsed": true
   },
   "outputs": [],
   "source": []
  }
 ],
 "metadata": {
  "kernelspec": {
   "display_name": "Python 3",
   "language": "python",
   "name": "python3"
  },
  "language_info": {
   "codemirror_mode": {
    "name": "ipython",
    "version": 3
   },
   "file_extension": ".py",
   "mimetype": "text/x-python",
   "name": "python",
   "nbconvert_exporter": "python",
   "pygments_lexer": "ipython3",
   "version": "3.7.3"
  }
 },
 "nbformat": 4,
 "nbformat_minor": 2
}
