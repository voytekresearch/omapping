{
 "cells": [
  {
   "cell_type": "markdown",
   "metadata": {},
   "source": [
    "## Decoding Subjects from Oscillation Data\n",
    "\n",
    "..."
   ]
  },
  {
   "cell_type": "code",
   "execution_count": 1,
   "metadata": {
    "collapsed": false
   },
   "outputs": [],
   "source": [
    "# Import required libraries/functions\n",
    "from __future__ import print_function, division\n",
    "import sys\n",
    "import random\n",
    "import numpy as np\n",
    "import matplotlib.pyplot as plt\n",
    "\n",
    "import itertools\n",
    "\n",
    "#from mpl_toolkits.mplot3d import Axes3D\n",
    "\n",
    "# Import custom code from module om, including general functions and OO code for handling data\n",
    "sys.path.append('/Users/thomasdonoghue/Documents/GitCode/omegamappin/')\n",
    "\n",
    "from om.meg.decoding import knn, load_subjs\n",
    "\n",
    "from om.core.db import OMDB\n",
    "from om.meg.single import MegData\n",
    "\n",
    "# Set plots to display inline\n",
    "%matplotlib inline"
   ]
  },
  {
   "cell_type": "code",
   "execution_count": 2,
   "metadata": {
    "collapsed": false
   },
   "outputs": [
    {
     "name": "stdout",
     "output_type": "stream",
     "text": [
      "\n",
      "Number of Subjects available: 25\n",
      "\n",
      "Subject numbers with FOOF data available: \n",
      "[111802, 124340, 195121, 215187, 218131, 220216, 245518, 265922, 320548, 339964, 369737, 386068, 390845, 403435, 405716, 431088, 504997, 548027, 559176, 604600, 704718, 704814, 719634, 756575, 978341]\n",
      "\n"
     ]
    }
   ],
   "source": [
    "# Get database object, set up database to use and check available files\n",
    "db = OMDB()\n",
    "dat_source = 'OMEGA'\n",
    "sub_nums, source = db.check_dat_files('foof', dat_source)"
   ]
  },
  {
   "cell_type": "markdown",
   "metadata": {},
   "source": [
    "## KNN Classification\n",
    "\n",
    "The following KNN classification is trained with oscillations from a group of subjects, where the test question is whether, given a single oscillations from a hold-out test set, can we decode which subjec that oscillation comes from. \n",
    "\n",
    "Features:\n",
    "- This is using 3 features: centers frequency, power and bandwidth, from all oscillation (not band specific)\n",
    "\n",
    "Note:\n",
    "- This approach is using data from with a single run, for each subject.\n",
    "- Given this, this analysis is basically asking: are individuals subjects' oscillations idiosyncratic enough that, given a new oscillation from the same run, can we can guess which subject it comes from.\n",
    "- This isn't really how we want to be decoding, but having data pulled from separate epochs requires a significant amount of re-organizing and re-computing data that is not ready yet. "
   ]
  },
  {
   "cell_type": "code",
   "execution_count": 6,
   "metadata": {
    "collapsed": false
   },
   "outputs": [
    {
     "name": "stdout",
     "output_type": "stream",
     "text": [
      "10\n"
     ]
    }
   ],
   "source": [
    "#\n",
    "group_size = 3\n",
    "combinations = list(itertools.combinations(sub_nums, group_size))\n",
    "\n",
    "# Get a random sample of possible combinations\n",
    "n_run = 10\n",
    "rand_inds = random.sample(range(len(combinations)), n_run)\n",
    "comb_run = [combinations[i] for i in rand_inds]\n",
    "\n",
    "print(len(comb_run))"
   ]
  },
  {
   "cell_type": "code",
   "execution_count": null,
   "metadata": {
    "collapsed": false
   },
   "outputs": [],
   "source": [
    "#\n",
    "\n",
    "all_results = []\n",
    "for comb in comb_run:\n",
    "    \n",
    "    cur_results = []\n",
    "    subjs = load_subjs(comb, dat_source)\n",
    "    \n",
    "    for i in range(100):\n",
    "        cur_results.append(knn(subjs))\n",
    "    \n",
    "    all_results.append(np.mean(cur_results))\n",
    "\n",
    "grand_avg = np.mean(all_results)\n",
    "chance = 1/group_size"
   ]
  },
  {
   "cell_type": "code",
   "execution_count": null,
   "metadata": {
    "collapsed": false
   },
   "outputs": [],
   "source": [
    "print('Overall performance is {:4.2f}%, with chance performance of {:4.2f}%'.format(grand_avg*100, chance*100))"
   ]
  },
  {
   "cell_type": "code",
   "execution_count": null,
   "metadata": {
    "collapsed": false
   },
   "outputs": [],
   "source": []
  },
  {
   "cell_type": "code",
   "execution_count": null,
   "metadata": {
    "collapsed": true
   },
   "outputs": [],
   "source": []
  },
  {
   "cell_type": "markdown",
   "metadata": {},
   "source": [
    "## TESTING"
   ]
  },
  {
   "cell_type": "code",
   "execution_count": null,
   "metadata": {
    "collapsed": true
   },
   "outputs": [],
   "source": [
    "# Set number of points to plt\n",
    "#n_points = 15000\n",
    "\n",
    "# Get a random sample of points to plot\n",
    "#inds_1 = random.sample(range(meg_subj_1.n_oscs), n_points)\n",
    "#inds_2 = random.sample(range(meg_subj_2.n_oscs), n_points)"
   ]
  },
  {
   "cell_type": "code",
   "execution_count": null,
   "metadata": {
    "collapsed": false
   },
   "outputs": [],
   "source": [
    "fig = plt.figure(figsize=(10, 10))\n",
    "ax = fig.add_subplot(111, projection='3d')\n",
    "ax.scatter(meg_subj_1.centers_all[inds_1], meg_subj_1.powers_all[inds_1], meg_subj_1.bws_all[inds_1])\n",
    "plt.hold()\n",
    "ax.scatter(meg_subj_2.centers_all[inds_2], meg_subj_2.powers_all[inds_2], meg_subj_2.bws_all[inds_2], color='r')\n",
    "plt.hold()"
   ]
  },
  {
   "cell_type": "code",
   "execution_count": null,
   "metadata": {
    "collapsed": true
   },
   "outputs": [],
   "source": [
    "\n",
    "\n"
   ]
  },
  {
   "cell_type": "code",
   "execution_count": null,
   "metadata": {
    "collapsed": false
   },
   "outputs": [],
   "source": [
    "plt.scatter(meg_subj_1.centers_all[inds_1], meg_subj_1.bws_all[inds_1])\n",
    "plt.hold()\n",
    "plt.scatter(meg_subj_2.centers_all[inds_2], meg_subj_2.bws_all[inds_2], color='r')"
   ]
  },
  {
   "cell_type": "code",
   "execution_count": null,
   "metadata": {
    "collapsed": false
   },
   "outputs": [],
   "source": [
    "\n",
    "\n",
    "\n",
    "\n"
   ]
  },
  {
   "cell_type": "code",
   "execution_count": null,
   "metadata": {
    "collapsed": true
   },
   "outputs": [],
   "source": [
    "from sklearn.neighbors import KNeighborsClassifier"
   ]
  },
  {
   "cell_type": "code",
   "execution_count": null,
   "metadata": {
    "collapsed": true
   },
   "outputs": [],
   "source": [
    "n_train = 15000\n",
    "n_test = 50\n",
    "\n",
    "s1_train, s1_test = test_train_inds(meg_subj_1.n_oscs, n_train, n_test)\n",
    "s2_train, s2_test = test_train_inds(meg_subj_2.n_oscs, n_train, n_test)"
   ]
  },
  {
   "cell_type": "code",
   "execution_count": null,
   "metadata": {
    "collapsed": false
   },
   "outputs": [],
   "source": [
    "s1_dat = np.array([meg_subj_1.centers_all[s1_train], meg_subj_1.powers_all[s1_train], meg_subj_1.bws_all[s1_train]]).T\n",
    "s2_dat = np.array([meg_subj_2.centers_all[s2_train], meg_subj_2.powers_all[s2_train], meg_subj_2.bws_all[s2_train]]).T"
   ]
  },
  {
   "cell_type": "code",
   "execution_count": null,
   "metadata": {
    "collapsed": false
   },
   "outputs": [],
   "source": [
    "all_dat = np.vstack([s1_dat, s2_dat])"
   ]
  },
  {
   "cell_type": "code",
   "execution_count": null,
   "metadata": {
    "collapsed": false
   },
   "outputs": [],
   "source": [
    "labels = np.concatenate([np.ones(n_train, dtype=int), np.ones(n_train, dtype=int)*2])"
   ]
  },
  {
   "cell_type": "code",
   "execution_count": null,
   "metadata": {
    "collapsed": false
   },
   "outputs": [],
   "source": [
    "neigh = KNeighborsClassifier(n_neighbors=5)\n",
    "neigh.fit(all_dat, labels)"
   ]
  },
  {
   "cell_type": "code",
   "execution_count": null,
   "metadata": {
    "collapsed": false
   },
   "outputs": [],
   "source": [
    "rand_ind = random.sample(s1_test, 1)\n",
    "print(rand_ind)\n",
    "\n",
    "test_dat = np.array([meg_subj_1.centers_all[rand_ind], meg_subj_1.powers_all[rand_ind], meg_subj_1.bws_all[rand_ind]]).T\n",
    "print(neigh.predict(test_dat))\n",
    "print(neigh.predict_proba(test_dat))"
   ]
  },
  {
   "cell_type": "code",
   "execution_count": null,
   "metadata": {
    "collapsed": false
   },
   "outputs": [],
   "source": [
    "res_1 = []\n",
    "for t_i in s1_test:\n",
    "    test_dat = np.array([meg_subj_1.centers_all[t_i], meg_subj_1.powers_all[t_i], meg_subj_1.bws_all[t_i]], ndmin=2)\n",
    "    res_1.append(neigh.predict(test_dat)[0])\n",
    "    \n",
    "res_2 = []\n",
    "for t_i in s2_test:\n",
    "    test_dat = np.array([meg_subj_2.centers_all[t_i], meg_subj_2.powers_all[t_i], meg_subj_2.bws_all[t_i]], ndmin=2)\n",
    "    res_2.append(neigh.predict(test_dat)[0])"
   ]
  },
  {
   "cell_type": "code",
   "execution_count": null,
   "metadata": {
    "collapsed": false
   },
   "outputs": [],
   "source": [
    "print(check_accuracy(res_1, 1))\n",
    "print(check_accuracy(res_2, 2))"
   ]
  },
  {
   "cell_type": "code",
   "execution_count": null,
   "metadata": {
    "collapsed": false
   },
   "outputs": [],
   "source": [
    "import itertools"
   ]
  },
  {
   "cell_type": "code",
   "execution_count": null,
   "metadata": {
    "collapsed": false
   },
   "outputs": [],
   "source": [
    "#sum(1 for i in aa)"
   ]
  },
  {
   "cell_type": "code",
   "execution_count": 17,
   "metadata": {
    "collapsed": true
   },
   "outputs": [],
   "source": [
    "a = [0, 1, 2, 3, 4, 5, 6, 7, 8, 9]\n",
    "b = itertools.combinations(a, 5)"
   ]
  },
  {
   "cell_type": "code",
   "execution_count": null,
   "metadata": {
    "collapsed": true
   },
   "outputs": [],
   "source": []
  }
 ],
 "metadata": {
  "kernelspec": {
   "display_name": "Python 2",
   "language": "python",
   "name": "python2"
  },
  "language_info": {
   "codemirror_mode": {
    "name": "ipython",
    "version": 2
   },
   "file_extension": ".py",
   "mimetype": "text/x-python",
   "name": "python",
   "nbconvert_exporter": "python",
   "pygments_lexer": "ipython2",
   "version": "2.7.11"
  }
 },
 "nbformat": 4,
 "nbformat_minor": 0
}
