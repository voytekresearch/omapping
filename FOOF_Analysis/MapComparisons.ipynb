{
 "cells": [
  {
   "cell_type": "markdown",
   "metadata": {},
   "source": [
    "## OMEGA-MAPPIN - Map Comparisons\n",
    "\n",
    "Words, words, words"
   ]
  },
  {
   "cell_type": "code",
   "execution_count": 1,
   "metadata": {
    "collapsed": false
   },
   "outputs": [],
   "source": [
    "# Import omega-mappin module which contains all code for Map Comparisons\n",
    "from om import *\n",
    "\n",
    "# Set plots to display inline\n",
    "%matplotlib inline"
   ]
  },
  {
   "cell_type": "code",
   "execution_count": 2,
   "metadata": {
    "collapsed": false
   },
   "outputs": [],
   "source": [
    "# Initialize MapComp object and oscillatory bands list\n",
    "om_maps = MapComp()\n",
    "osc_bands = ['Theta', 'Alpha', 'Beta', 'LowGamma']"
   ]
  },
  {
   "cell_type": "code",
   "execution_count": 3,
   "metadata": {
    "collapsed": false
   },
   "outputs": [
    {
     "name": "stdout",
     "output_type": "stream",
     "text": [
      "Oscillation Files: \n",
      " Group_Osc_Scores.npz \n",
      "\n",
      "Terms Files: \n",
      " all_real_genes_donor9861_r10_coords1of3_zscored_gaussian_estimation.csv\n",
      "all_real_genes_donor9861_r10_coords2of3_zscored_gaussian_estimation.csv\n",
      "all_real_genes_donor9861_r10_coords3of3_zscored_gaussian_estimation.csv\n",
      "all_real_genes_donor9861_r5_coords1of3_zscored_gaussian_estimation.csv\n",
      "all_real_genes_donor9861_r5_coords2of3_zscored_gaussian_estimation.csv\n",
      "all_real_genes_donor9861_r5_coords3of3_zscored_gaussian_estimation.csv\n",
      "real_gene_names.csv \n",
      "\n",
      "Genes Files: \n",
      " all_terms_r10_gaussian_estimation.csv\n",
      "all_terms_r5_gaussian_estimation.csv\n",
      "ns_terms.csv \n",
      "\n"
     ]
    }
   ],
   "source": [
    "# Check files that are available\n",
    "om_maps.check_files()"
   ]
  },
  {
   "cell_type": "code",
   "execution_count": 4,
   "metadata": {
    "collapsed": false
   },
   "outputs": [],
   "source": [
    "# Load oscillation maps - here using the oscillation scores\n",
    "om_maps.load_osc_maps('Group_Osc_Scores.npz')"
   ]
  },
  {
   "cell_type": "code",
   "execution_count": 5,
   "metadata": {
    "collapsed": false
   },
   "outputs": [],
   "source": [
    "# Load term maps - here using 10 mm spatial estimation\n",
    "om_maps.load_term_maps('all_terms_r10_gaussian_estimation.csv')"
   ]
  },
  {
   "cell_type": "code",
   "execution_count": 6,
   "metadata": {
    "collapsed": false
   },
   "outputs": [],
   "source": [
    "# Calculate the correlation between oscillation maps and terms\n",
    "om_maps.calc_corrs('Terms')"
   ]
  },
  {
   "cell_type": "code",
   "execution_count": 7,
   "metadata": {
    "collapsed": false
   },
   "outputs": [
    {
     "name": "stdout",
     "output_type": "stream",
     "text": [
      "\n",
      "\n",
      "Correlations for  Terms  &   Theta : \n",
      "\n",
      "# \t Terms                          \t R-Vals \t P-vals \n",
      "\n",
      "1 \t prefrontal                     \t 0.39630 \t 1.5584e-280\n",
      "2 \t prefrontal cortex              \t 0.38485 \t 2.4122e-263\n",
      "3 \t dorsolateral                   \t 0.29531 \t 8.4241e-151\n",
      "4 \t medial prefrontal              \t 0.28888 \t 4.2433e-144\n",
      "5 \t dorsomedial                    \t 0.28823 \t 1.9523e-143\n",
      "6 \t mpfc                           \t 0.28706 \t 3.0595e-142\n",
      "7 \t dorsomedial prefrontal         \t 0.28703 \t 3.2976e-142\n",
      "8 \t superior frontal               \t 0.27327 \t 1.4530e-128\n",
      "9 \t pfc                            \t 0.26824 \t 8.9575e-124\n",
      "10 \t cortex mpfc                    \t 0.26462 \t 2.2182e-120\n",
      "11 \t dorsolateral prefrontal        \t 0.26107 \t 4.0914e-117\n",
      "12 \t medial                         \t 0.25753 \t 6.6137e-114\n",
      "13 \t frontal cortex                 \t 0.23206 \t 2.9666e-92\n",
      "14 \t frontal                        \t 0.22191 \t 2.4906e-84\n",
      "15 \t medial frontal                 \t 0.22145 \t 5.6396e-84\n",
      "16 \t free                           \t 0.21678 \t 1.8111e-80\n",
      "17 \t cortex pfc                     \t 0.21372 \t 3.2555e-78\n",
      "18 \t negative                       \t 0.21194 \t 6.4233e-77\n",
      "19 \t rostral                        \t 0.20413 \t 2.2813e-71\n",
      "\n",
      "\n",
      "Correlations for  Terms  &   Alpha : \n",
      "\n",
      "# \t Terms                          \t R-Vals \t P-vals \n",
      "\n",
      "1 \t superior parietal              \t 0.41231 \t 9.3173e-306\n",
      "2 \t intraparietal sulcus           \t 0.39471 \t 4.1885e-278\n",
      "3 \t grasping                       \t 0.39023 \t 2.4921e-271\n",
      "4 \t parietal                       \t 0.38505 \t 1.2313e-263\n",
      "5 \t intraparietal                  \t 0.38138 \t 2.9192e-258\n",
      "6 \t hand                           \t 0.37597 \t 1.7995e-250\n",
      "7 \t parietal cortex                \t 0.36918 \t 6.7335e-241\n",
      "8 \t hands                          \t 0.36030 \t 1.0365e-228\n",
      "9 \t movements                      \t 0.34950 \t 2.0060e-214\n",
      "10 \t posterior parietal             \t 0.34601 \t 6.3257e-210\n",
      "11 \t premotor                       \t 0.33955 \t 9.6001e-202\n",
      "12 \t movement                       \t 0.33255 \t 4.2624e-193\n",
      "13 \t object                         \t 0.32563 \t 8.9499e-185\n",
      "14 \t hand movements                 \t 0.32336 \t 4.2902e-182\n",
      "15 \t dorsal premotor                \t 0.32136 \t 9.5541e-180\n",
      "16 \t representation                 \t 0.32024 \t 1.9183e-178\n",
      "17 \t finger                         \t 0.31752 \t 2.6891e-175\n",
      "18 \t premotor cortex                \t 0.31674 \t 2.1394e-174\n",
      "19 \t visuo                          \t 0.31204 \t 4.7336e-169\n",
      "\n",
      "\n",
      "Correlations for  Terms  &   Beta : \n",
      "\n",
      "# \t Terms                          \t R-Vals \t P-vals \n",
      "\n",
      "1 \t premotor                       \t 0.46188 \t 0.0000e+00\n",
      "2 \t parietal                       \t 0.43795 \t 0.0000e+00\n",
      "3 \t superior parietal              \t 0.42772 \t 0.0000e+00\n",
      "4 \t finger                         \t 0.41913 \t 6.3943e-317\n",
      "5 \t hand                           \t 0.41827 \t 1.6585e-315\n",
      "6 \t premotor cortex                \t 0.41140 \t 2.7560e-304\n",
      "7 \t movements                      \t 0.40015 \t 1.8038e-286\n",
      "8 \t dorsal premotor                \t 0.39554 \t 2.2424e-279\n",
      "9 \t parietal cortex                \t 0.39195 \t 6.3453e-274\n",
      "10 \t action                         \t 0.38801 \t 5.2013e-268\n",
      "11 \t movement                       \t 0.38671 \t 4.3185e-266\n",
      "12 \t motor cortex                   \t 0.38219 \t 1.9358e-259\n",
      "13 \t reorganization                 \t 0.37663 \t 2.0557e-251\n",
      "14 \t motor                          \t 0.37016 \t 2.8975e-242\n",
      "15 \t parietal lobule                \t 0.36744 \t 1.7968e-238\n",
      "16 \t transcranial magnetic          \t 0.36109 \t 8.7062e-230\n",
      "17 \t magnetic stimulation           \t 0.35970 \t 6.5712e-228\n",
      "18 \t hand movements                 \t 0.35909 \t 4.3019e-227\n",
      "19 \t representation                 \t 0.35782 \t 2.1840e-225\n",
      "\n",
      "\n",
      "Correlations for  Terms  &   LowGamma : \n",
      "\n",
      "# \t Terms                          \t R-Vals \t P-vals \n",
      "\n",
      "1 \t inferior temporal              \t 0.35860 \t 1.9892e-226\n",
      "2 \t temporal                       \t 0.32689 \t 2.8486e-186\n",
      "3 \t faces                          \t 0.30302 \t 4.6159e-159\n",
      "4 \t ffa                            \t 0.29967 \t 1.9163e-155\n",
      "5 \t fusiform                       \t 0.29854 \t 3.1536e-154\n",
      "6 \t face ffa                       \t 0.29746 \t 4.5114e-153\n",
      "7 \t dementia                       \t 0.28703 \t 3.2891e-142\n",
      "8 \t temporal cortex                \t 0.28518 \t 2.5124e-140\n",
      "9 \t anterior temporal              \t 0.26740 \t 5.5133e-123\n",
      "10 \t face                           \t 0.26582 \t 1.6965e-121\n",
      "11 \t regional gray                  \t 0.25068 \t 7.8695e-108\n",
      "12 \t fusiform face                  \t 0.24801 \t 1.6070e-105\n",
      "13 \t temporal lobes                 \t 0.24713 \t 9.2880e-105\n",
      "14 \t voxel morphometry              \t 0.24431 \t 2.3395e-102\n",
      "15 \t face stimuli                   \t 0.24050 \t 3.7503e-99\n",
      "16 \t matching                       \t 0.24027 \t 5.8618e-99\n",
      "17 \t temporal pole                  \t 0.23744 \t 1.2668e-96\n",
      "18 \t morphometry                    \t 0.23683 \t 4.0633e-96\n",
      "19 \t pole                           \t 0.23556 \t 4.4091e-95\n"
     ]
    }
   ],
   "source": [
    "# Print out highest correlated terms for each oscillation band\n",
    "for osc in osc_bands:\n",
    "    om_maps.check_corrs('Terms', osc)"
   ]
  },
  {
   "cell_type": "code",
   "execution_count": 8,
   "metadata": {
    "collapsed": false
   },
   "outputs": [
    {
     "data": {
      "image/png": "[encoded data removed]",
      "text/plain": [
       "<matplotlib.figure.Figure at 0x103ff5b90>"
      ]
     },
     "metadata": {},
     "output_type": "display_data"
    }
   ],
   "source": [
    "# Plot an example of distribution of R values and P values\n",
    "om_maps.plot_corrs('Terms', 'Theta')"
   ]
  },
  {
   "cell_type": "code",
   "execution_count": 9,
   "metadata": {
    "collapsed": true
   },
   "outputs": [],
   "source": [
    "# Unload terms - terms & genes are quite large. Unload terms since no longer needed.\n",
    "om_maps.unload_data('Terms')"
   ]
  },
  {
   "cell_type": "code",
   "execution_count": 10,
   "metadata": {
    "collapsed": true
   },
   "outputs": [],
   "source": [
    "# Load Gene maps - note that genes that split up into 3 files. These are concatenated for analysis. \n",
    "\n",
    "# List of gene files\n",
    "gene_files = ['all_real_genes_donor9861_r10_coords1of3_zscored_gaussian_estimation.csv',\n",
    "              'all_real_genes_donor9861_r10_coords2of3_zscored_gaussian_estimation.csv',\n",
    "              'all_real_genes_donor9861_r10_coords3of3_zscored_gaussian_estimation.csv']\n",
    "\n",
    "# Load gene files\n",
    "om_maps.load_gene_maps(gene_files)"
   ]
  },
  {
   "cell_type": "code",
   "execution_count": 11,
   "metadata": {
    "collapsed": true
   },
   "outputs": [],
   "source": [
    "# Calculate the correlation between oscillation maps and genes\n",
    "om_maps.calc_corrs('Genes')"
   ]
  },
  {
   "cell_type": "code",
   "execution_count": 12,
   "metadata": {
    "collapsed": false
   },
   "outputs": [
    {
     "name": "stdout",
     "output_type": "stream",
     "text": [
      "\n",
      "\n",
      "Correlations for  Genes  &   Theta : \n",
      "\n",
      "# \t Genes                                                   \t R-Vals \t P-vals \n",
      "\n",
      "1 \t cyclin-dependent kinase 1                               \t 0.35535 \t 2.3446e-128\n",
      "2 \t receptor (chemosensory) transporter protein 1           \t 0.35230 \t 4.8264e-126\n",
      "3 \t lymphocyte cytosolic protein 2 (SH2 domain contain      \t 0.34782 \t 1.0774e-122\n",
      "4 \t amidohydrolase domain containing 1                      \t 0.34683 \t 5.8011e-122\n",
      "5 \t asialoglycoprotein receptor 2                           \t 0.34326 \t 2.4063e-119\n",
      "6 \t dehydrogenase/reductase (SDR family) member 7C          \t 0.33281 \t 6.9985e-112\n",
      "7 \t ATP-binding cassette, sub-family G (WHITE), member      \t 0.33246 \t 1.2405e-111\n",
      "8 \t Ras-like without CAAX 2                                 \t 0.32887 \t 3.8802e-109\n",
      "9 \t cerebellin 2 precursor                                  \t 0.32740 \t 3.9699e-108\n",
      "10 \t wingless-type MMTV integration site family, member      \t 0.32421 \t 5.9758e-106\n",
      "11 \t spondin 2, extracellular matrix protein                 \t 0.32207 \t 1.6909e-104\n",
      "12 \t crystallin, gamma N                                     \t 0.31949 \t 9.0170e-103\n",
      "13 \t protein phosphatase, EF-hand calcium binding domai      \t 0.31666 \t 6.7718e-101\n",
      "14 \t twist family bHLH transcription factor 2                \t 0.31290 \t 1.9550e-98\n",
      "15 \t keratin 5, type II                                      \t 0.31164 \t 1.2797e-97\n",
      "16 \t G protein-coupled receptor 26                           \t 0.31028 \t 9.6500e-97\n",
      "17 \t germ cell associated 1                                  \t 0.30944 \t 3.3552e-96\n",
      "18 \t long intergenic non-protein coding RNA 1140             \t 0.29843 \t 2.6901e-89\n",
      "19 \t long intergenic non-protein coding RNA 1183             \t 0.29388 \t 1.5861e-86\n",
      "\n",
      "\n",
      "Correlations for  Genes  &   Alpha : \n",
      "\n",
      "# \t Genes                                                   \t R-Vals \t P-vals \n",
      "\n",
      "1 \t potassium channel, voltage gated Shaw related subf      \t 0.37478 \t 1.1322e-143\n",
      "2 \t synaptic vesicle glycoprotein 2C                        \t 0.36074 \t 1.7011e-132\n",
      "3 \t Src homology 2 domain containing transforming prot      \t 0.34620 \t 1.6703e-121\n",
      "4 \t doublesex and mab-3 related transcription factor 3      \t 0.34087 \t 1.3010e-117\n",
      "5 \t glycerophosphodiester phosphodiesterase domain con      \t 0.33574 \t 6.1212e-114\n",
      "6 \t family with sequence similarity 216, member A           \t 0.33263 \t 9.4380e-112\n",
      "7 \t bone morphogenetic protein 4                            \t 0.33121 \t 9.2431e-111\n",
      "8 \t glycerol-3-phosphate acyltransferase 3                  \t 0.33052 \t 2.7940e-110\n",
      "9 \t CDP-diacylglycerol synthase (phosphatidate cytidyl      \t 0.32886 \t 3.9213e-109\n",
      "10 \t vesicle-associated membrane protein 1 (synaptobrev      \t 0.32621 \t 2.5959e-107\n",
      "11 \t aldehyde dehydrogenase 1 family, member A3              \t 0.32267 \t 6.5870e-105\n",
      "12 \t RAD54 homolog B (S. cerevisiae)                         \t 0.32257 \t 7.6935e-105\n",
      "13 \t cytochrome c oxidase subunit VIIa polypeptide 1 (m      \t 0.31865 \t 3.2673e-102\n",
      "14 \t F-box protein 33                                        \t 0.31684 \t 5.1552e-101\n",
      "15 \t fibroblast growth factor 9                              \t 0.31667 \t 6.6088e-101\n",
      "16 \t ribosomal modification protein rimK-like family me      \t 0.31653 \t 8.2482e-101\n",
      "17 \t aggrecan                                                \t 0.31604 \t 1.7232e-100\n",
      "18 \t chromosome 17 open reading frame 75                     \t 0.31602 \t 1.7889e-100\n",
      "19 \t epsin 3                                                 \t 0.31473 \t 1.2423e-99\n",
      "\n",
      "\n",
      "Correlations for  Genes  &   Beta : \n",
      "\n",
      "# \t Genes                                                   \t R-Vals \t P-vals \n",
      "\n",
      "1 \t doublesex and mab-3 related transcription factor 3      \t 0.44904 \t 9.3027e-213\n",
      "2 \t neurofilament, light polypeptide                        \t 0.44174 \t 3.5584e-205\n",
      "3 \t neurofilament, heavy polypeptide                        \t 0.43566 \t 5.4420e-199\n",
      "4 \t potassium channel, voltage gated Shaw related subf      \t 0.42460 \t 4.5520e-188\n",
      "5 \t hyaluronan and proteoglycan link protein 4              \t 0.41998 \t 1.2730e-183\n",
      "6 \t Rab interacting lysosomal protein                       \t 0.39936 \t 1.2527e-164\n",
      "7 \t Rho GTPase activating protein 9                         \t 0.39848 \t 7.6900e-164\n",
      "8 \t G protein-coupled receptor 20                           \t 0.39614 \t 8.8030e-162\n",
      "9 \t Src homology 2 domain containing transforming prot      \t 0.39552 \t 3.1207e-161\n",
      "10 \t RELT-like 2                                             \t 0.39228 \t 2.1081e-158\n",
      "11 \t epsin 3                                                 \t 0.38891 \t 1.6820e-155\n",
      "12 \t parvalbumin                                             \t 0.38748 \t 2.8520e-154\n",
      "13 \t cytochrome c oxidase subunit VIIa polypeptide 1 (m      \t 0.38709 \t 6.0761e-154\n",
      "14 \t fibroblast growth factor 9                              \t 0.38595 \t 5.6483e-153\n",
      "15 \t lymphocyte cytosolic protein 2 (SH2 domain contain      \t 0.38563 \t 1.0526e-152\n",
      "16 \t serine dehydratase-like                                 \t 0.37241 \t 9.5065e-142\n",
      "17 \t ribosomal modification protein rimK-like family me      \t 0.37219 \t 1.4192e-141\n",
      "18 \t double homeobox A pseudogene 10                         \t 0.36936 \t 2.7200e-139\n",
      "19 \t trophoblast glycoprotein                                \t 0.36807 \t 2.8896e-138\n",
      "\n",
      "\n",
      "Correlations for  Genes  &   LowGamma : \n",
      "\n",
      "# \t Genes                                                   \t R-Vals \t P-vals \n",
      "\n",
      "1 \t kallikrein-related peptidase 8                          \t 0.33564 \t 7.1727e-114\n",
      "2 \t MET proto-oncogene, receptor tyrosine kinase            \t 0.30768 \t 4.4358e-95\n",
      "3 \t IQ motif containing J                                   \t 0.30744 \t 6.2799e-95\n",
      "4 \t EPH receptor A3                                         \t 0.29862 \t 2.0643e-89\n",
      "5 \t interleukin 1, beta                                     \t 0.27094 \t 2.4713e-73\n",
      "6 \t calcium/calmodulin-dependent protein kinase II del      \t 0.26699 \t 3.4962e-71\n",
      "7 \t neural EGFL like 1                                      \t 0.26644 \t 6.8909e-71\n",
      "8 \t tumor protein p53 inducible protein 11                  \t 0.26346 \t 2.7020e-69\n",
      "9 \t potassium channel tetramerization domain containin      \t 0.25793 \t 2.1348e-66\n",
      "10 \t myosin XVI                                              \t 0.25707 \t 5.9262e-66\n",
      "11 \t dorsal inhibitory axon guidance protein                 \t 0.25686 \t 7.6448e-66\n",
      "12 \t bradykinin receptor B2                                  \t 0.25663 \t 9.9963e-66\n",
      "13 \t lipase, member H                                        \t 0.25594 \t 2.2620e-65\n",
      "14 \t peripherin 2 (retinal degeneration, slow)               \t 0.25502 \t 6.7703e-65\n",
      "15 \t exonuclease 3'-5' domain containing 1                   \t 0.25031 \t 1.6372e-62\n",
      "16 \t apolipoprotein C-II                                     \t 0.24971 \t 3.2460e-62\n",
      "17 \t A kinase (PRKA) anchor protein 14                       \t 0.24646 \t 1.3309e-60\n",
      "18 \t cytochrome P450, family 26, subfamily B, polypepti      \t 0.24290 \t 7.2527e-59\n",
      "19 \t phospholipase D family, member 6                        \t 0.24148 \t 3.5459e-58\n"
     ]
    }
   ],
   "source": [
    "# Print out highest correlated genes for each oscillation band\n",
    "for osc in osc_bands:\n",
    "    om_maps.check_corrs('Genes', osc)"
   ]
  },
  {
   "cell_type": "code",
   "execution_count": null,
   "metadata": {
    "collapsed": true
   },
   "outputs": [],
   "source": []
  }
 ],
 "metadata": {
  "kernelspec": {
   "display_name": "Python 2",
   "language": "python",
   "name": "python2"
  },
  "language_info": {
   "codemirror_mode": {
    "name": "ipython",
    "version": 2
   },
   "file_extension": ".py",
   "mimetype": "text/x-python",
   "name": "python",
   "nbconvert_exporter": "python",
   "pygments_lexer": "ipython2",
   "version": "2.7.11"
  }
 },
 "nbformat": 4,
 "nbformat_minor": 0
}
