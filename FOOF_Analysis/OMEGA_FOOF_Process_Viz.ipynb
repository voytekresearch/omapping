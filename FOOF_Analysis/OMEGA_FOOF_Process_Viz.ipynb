{
 "cells": [
  {
   "cell_type": "markdown",
   "metadata": {},
   "source": [
    "<h1> Process OMEGA FOOF </h1>"
   ]
  },
  {
   "cell_type": "markdown",
   "metadata": {},
   "source": [
    "This notebook is for processing FOOF results of a single subject. \n",
    "- Loads pickled object of saved FOOF results from OMEGA\n",
    "- Select information of interest\n",
    "- Saves mat file with selected information for visualization"
   ]
  },
  {
   "cell_type": "code",
   "execution_count": 8,
   "metadata": {
    "collapsed": true
   },
   "outputs": [],
   "source": [
    "#import sys\n",
    "import os\n",
    "import numpy as np\n",
    "import scipy.io as sio\n",
    "import pickle\n",
    "import matplotlib.pyplot as plt\n",
    "\n",
    "#\n",
    "from sklearn.cluster import KMeans\n",
    "from sklearn.cluster import AffinityPropagation\n",
    "from sklearn.decomposition import PCA\n",
    "from scipy.stats.stats import pearsonr\n",
    "\n",
    "%matplotlib inline"
   ]
  },
  {
   "cell_type": "code",
   "execution_count": 9,
   "metadata": {
    "collapsed": true
   },
   "outputs": [],
   "source": [
    "# Set Paths\n",
    "foof_data_path = '/Users/thomasdonoghue/Documents/Research/1-Projects/OMEGA/2-Data/MEG/3-FOOF/'"
   ]
  },
  {
   "cell_type": "code",
   "execution_count": 10,
   "metadata": {
    "collapsed": false
   },
   "outputs": [
    {
     "name": "stdout",
     "output_type": "stream",
     "text": [
      "['124340_Foof_Vertex.p', '220216_Foof_Vertex.p', '265922_Foof_Vertex.p', '320548_Foof_Vertex.p', '369737_Foof_Vertex.p', '390845_Foof_Vertex.p']\n"
     ]
    }
   ],
   "source": [
    "# Check Availabe Subjects\n",
    "files = os.listdir(foof_data_path)\n",
    "files = clean_file_list(files, 'Foof_Vertex')\n",
    "print files"
   ]
  },
  {
   "cell_type": "code",
   "execution_count": 11,
   "metadata": {
    "collapsed": false
   },
   "outputs": [],
   "source": [
    "# Set Subject to Run\n",
    "cur_subj = 124340\n",
    "cur_subj_file = get_cur_subj(cur_subj, files)\n",
    "cur_subj_path = os.path.join('/Users/thomasdonoghue/Documents/Research/1-Projects/OMEGA/2-Data/MEG/3-FOOF/', cur_subj_file)"
   ]
  },
  {
   "cell_type": "code",
   "execution_count": 12,
   "metadata": {
    "collapsed": false
   },
   "outputs": [],
   "source": [
    "# Load results \n",
    "results = pickle.load(open(cur_subj_path, 'rb'))"
   ]
  },
  {
   "cell_type": "code",
   "execution_count": 13,
   "metadata": {
    "collapsed": false
   },
   "outputs": [
    {
     "data": {
      "text/plain": [
       "(0.63299064348395762,\n",
       " array([ 11.53619584,  16.37922656,  19.57503166,  23.49225133,  36.23398889]),\n",
       " array([  3.32118864e-23,   1.63446648e-23,   1.52059724e-23,\n",
       "          1.28753042e-23,   8.33725623e-24]),\n",
       " array([ 0.80134726,  1.03479212,  1.04571927,  2.10439096,  1.56634069]))"
      ]
     },
     "execution_count": 13,
     "metadata": {},
     "output_type": "execute_result"
    }
   ],
   "source": [
    "type(results)\n",
    "len(results)\n",
    "results[0]"
   ]
  },
  {
   "cell_type": "code",
   "execution_count": 14,
   "metadata": {
    "collapsed": false
   },
   "outputs": [
    {
     "name": "stdout",
     "output_type": "stream",
     "text": [
      "7500\n"
     ]
    }
   ],
   "source": [
    "# Check number of PSDs\n",
    "nPSDs = len(results)\n",
    "\n",
    "# Initialize numpy arrays to pull out different result params\n",
    "slopes_all = np.zeros([nPSDs, 1])\n",
    "centers_all = np.zeros([nPSDs, 8])\n",
    "powers_all = np.zeros([nPSDs, 8])\n",
    "stdevs_all = np.zeros([nPSDs, 8])\n",
    "\n",
    "# Loop through FOOF results, pulling out individual findings\n",
    "for i in range(0, nPSDs):\n",
    "    slopes_all[i, 0] = results[i][0]\n",
    "    centers_all[i, 0:len(results[i][1])] = results[i][1]\n",
    "    powers_all[i, 0:len(results[i][2])] = results [i][2]\n",
    "    stdevs_all[i, 0:len(results[i][3])] = results[i][3]\n",
    "    \n",
    "print nPSDs"
   ]
  },
  {
   "cell_type": "code",
   "execution_count": 15,
   "metadata": {
    "collapsed": false
   },
   "outputs": [],
   "source": [
    "# Oscillation Parameters\n",
    "theta_low = 3\n",
    "theta_high = 8\n",
    "alpha_low = 8\n",
    "alpha_high = 13\n",
    "beta_low = 13\n",
    "beta_high = 30\n",
    "\n",
    "# Initialize vectors to save results\n",
    "thetas_cen = np.zeros([nPSDs, 1])\n",
    "thetas_power = np.zeros([nPSDs, 1])\n",
    "thetas_bw = np.zeros([nPSDs, 1])\n",
    "n_thetas = np.zeros([nPSDs,1])\n",
    "\n",
    "alphas_cen = np.zeros([nPSDs, 1])\n",
    "alphas_power = np.zeros([nPSDs, 1])\n",
    "alphas_bw = np.zeros([nPSDs, 1])\n",
    "n_alphas= np.zeros([nPSDs, 1])\n",
    "\n",
    "betas_cen = np.zeros([nPSDs, 1])\n",
    "betas_power = np.zeros([nPSDs, 1])\n",
    "betas_bw = np.zeros([nPSDs, 1])\n",
    "n_betas =np.zeros([nPSDs, 1])\n",
    "\n",
    "centers_vect = []\n",
    "powers_vect = []\n",
    "bws_vect = []\n",
    "\n",
    "# Collect Oscillations\n",
    "for i in range(0, nPSDs):\n",
    "\n",
    "    centers_temp = centers_all[i, :]\n",
    "    powers_temp = powers_all[i, :]\n",
    "    bws_temp = stdevs_all[i, :]\n",
    "    \n",
    "    centers_vect = np.append(centers_vect, centers_temp[centers_temp > 0])\n",
    "    powers_vect = np.append(powers_vect, powers_temp[powers_temp > 0])\n",
    "    bws_vect = np.append(bws_vect, bws_temp[bws_temp > 0])\n",
    "    \n",
    "    thetas_cen[i, 0], thetas_power[i, 0], thetas_bw[i, 0], n_thetas[i, 0] = get_osc(centers_temp, \n",
    "                                                                                  powers_temp, \n",
    "                                                                                  bws_temp, \n",
    "                                                                                  theta_low, \n",
    "                                                                                  theta_high)\n",
    "    alphas_cen[i, 0], alphas_power[i, 0], alphas_bw[i, 0], n_alphas[i, 0] = get_osc(centers_temp, \n",
    "                                                                                  powers_temp, \n",
    "                                                                                  bws_temp, \n",
    "                                                                                  alpha_low, \n",
    "                                                                                  alpha_high)\n",
    "    betas_cen[i, 0],  betas_power[i, 0],  betas_bw[i, 0],  n_betas[i, 0]  = get_osc(centers_temp, \n",
    "                                                                                  powers_temp, \n",
    "                                                                                  bws_temp, \n",
    "                                                                                  beta_low, \n",
    "                                                                                  beta_high)"
   ]
  },
  {
   "cell_type": "code",
   "execution_count": 4,
   "metadata": {
    "collapsed": true
   },
   "outputs": [],
   "source": [
    "def get_osc(centers, power, bw, osc_low, osc_high):\n",
    "    \n",
    "    osc_inds = (centers_temp > osc_low) & (centers_temp < osc_high)\n",
    "    \n",
    "    osc_cen = centers[osc_inds]\n",
    "    osc_power = power[osc_inds]\n",
    "    osc_bw = bw[osc_inds]\n",
    "    \n",
    "    cen, n = get_single_osc(osc_cen)\n",
    "    power, x = get_single_osc(osc_power)\n",
    "    bw, x = get_single_osc(osc_bw)\n",
    "    \n",
    "    return cen, power, bw, n"
   ]
  },
  {
   "cell_type": "code",
   "execution_count": null,
   "metadata": {
    "collapsed": false
   },
   "outputs": [],
   "source": [
    "savepath = '/Users/thomasdonoghue/Documents/Research/1-Projects/OMEGA/2-Data/MEG/4-Viz/'\n",
    "savename = str(cur_subj) + '_Foof_Viz'\n",
    "savefile = os.path.join(savepath, savename)\n",
    "\n",
    "save_dict = {}\n",
    "save_dict['slopes']= slopes_all\n",
    "save_dict['thetas']= thetas_bw\n",
    "save_dict['alphas']= alphas_bw\n",
    "save_dict['betas']= betas_bw\n",
    "\n",
    "sio.savemat(savefile, save_dict)"
   ]
  },
  {
   "cell_type": "code",
   "execution_count": null,
   "metadata": {
    "collapsed": true
   },
   "outputs": [],
   "source": []
  },
  {
   "cell_type": "code",
   "execution_count": 5,
   "metadata": {
    "collapsed": true
   },
   "outputs": [],
   "source": [
    "def clean_file_list(files_in, string):\n",
    "    '''Takes a list of file names (strings), returns only those with 'string' in them.'''\n",
    "    \n",
    "    files_out = []\n",
    "\n",
    "    for i in range(0, len(files_in)):\n",
    "        if(string in files_in[i]):\n",
    "            files_out.append(files_in[i])\n",
    "            \n",
    "    return files_out"
   ]
  },
  {
   "cell_type": "code",
   "execution_count": 6,
   "metadata": {
    "collapsed": true
   },
   "outputs": [],
   "source": [
    "def get_single_osc(osc_in):\n",
    "    '''Takes a vector, returns the first element, and the length.'''\n",
    "    \n",
    "    if(len(osc_in) == 0):\n",
    "        return 0, 0\n",
    "    elif(len(osc_in) == 1):\n",
    "        return osc_in, 1\n",
    "    else:\n",
    "        return osc_in[0], len(osc_in)"
   ]
  },
  {
   "cell_type": "code",
   "execution_count": 7,
   "metadata": {
    "collapsed": true
   },
   "outputs": [],
   "source": [
    "def get_cur_subj(cur_subj, files):\n",
    "    '''Takes an int, and a list of file names (strings), returns the file name with the number in it.'''\n",
    "    \n",
    "    cur_subj_str = str(cur_subj)\n",
    "    \n",
    "    for i in range(0, len(files)):\n",
    "        if(cur_subj_str in files[i]):\n",
    "            return files[i]"
   ]
  },
  {
   "cell_type": "code",
   "execution_count": 16,
   "metadata": {
    "collapsed": false
   },
   "outputs": [
    {
     "name": "stdout",
     "output_type": "stream",
     "text": [
      "[ 0.]\n",
      "[ 3.]\n",
      "1.0\n",
      "0.9108\n"
     ]
    }
   ],
   "source": [
    "print min(n_alphas)\n",
    "print max(n_alphas)\n",
    "\n",
    "print np.median(n_alphas)\n",
    "print np.mean(n_alphas)"
   ]
  },
  {
   "cell_type": "code",
   "execution_count": 17,
   "metadata": {
    "collapsed": false
   },
   "outputs": [
    {
     "data": {
      "text/plain": [
       "20970"
      ]
     },
     "execution_count": 17,
     "metadata": {},
     "output_type": "execute_result"
    }
   ],
   "source": [
    "len(centers_vect)"
   ]
  },
  {
   "cell_type": "code",
   "execution_count": 18,
   "metadata": {
    "collapsed": false
   },
   "outputs": [
    {
     "data": {
      "text/plain": [
       "<matplotlib.text.Text at 0x10bd84750>"
      ]
     },
     "execution_count": 18,
     "metadata": {},
     "output_type": "execute_result"
    },
    {
     "data": {
      "image/png": "[encoded data removed]",
      "text/plain": [
       "<matplotlib.figure.Figure at 0x10a7db590>"
      ]
     },
     "metadata": {},
     "output_type": "display_data"
    }
   ],
   "source": [
    "# Histogram of all oscillations center frequency\n",
    "hist_data = plt.hist(centers_vect, 100)\n",
    "plt.title('All Oscillations - Center Frequency', {'fontsize': 16, 'fontweight': 'bold'})\n",
    "plt.xlabel('Frequency', {'fontsize': 14, 'fontweight': 'bold'})\n",
    "plt.ylabel('Count', {'fontsize': 14, 'fontweight': 'bold'})"
   ]
  },
  {
   "cell_type": "code",
   "execution_count": 19,
   "metadata": {
    "collapsed": false
   },
   "outputs": [
    {
     "data": {
      "image/png": "[encoded data removed]",
      "text/plain": [
       "<matplotlib.figure.Figure at 0x10b26b450>"
      ]
     },
     "metadata": {},
     "output_type": "display_data"
    }
   ],
   "source": [
    "# Histogram of all oscillations power\n",
    "hist_data = plt.hist(np.log(powers_vect), 20)"
   ]
  },
  {
   "cell_type": "code",
   "execution_count": 20,
   "metadata": {
    "collapsed": false
   },
   "outputs": [
    {
     "data": {
      "image/png": "[encoded data removed]",
      "text/plain": [
       "<matplotlib.figure.Figure at 0x10a341b10>"
      ]
     },
     "metadata": {},
     "output_type": "display_data"
    }
   ],
   "source": [
    "#  Histogram of all oscillations bandwidth\n",
    "hist_data = plt.hist(np.log(bws_vect))"
   ]
  },
  {
   "cell_type": "code",
   "execution_count": null,
   "metadata": {
    "collapsed": true
   },
   "outputs": [],
   "source": [
    "#thetas_inds = (centers_temp > theta_low) & (centers_temp < theta_high)\n",
    "#thetas_cen_temp = centers_temp[thetas_inds]\n",
    "#thetas_amp_temp = bw_temp[thetas_inds]\n",
    "#thetas_bw_temp = power_temp[thetas_inds]\n",
    "    \n",
    "#thetas_temp = centers_temp[centers_temp > theta_low]; thetas_temp = thetas_temp[thetas_temp < theta_high]\n",
    "\n",
    "#thetas_cen[i, 0], n_thetas[i, 0] = get_single_osc(thetas_cen_temp)\n",
    "#thetas_amp[i, 0], x = get_single_osc(thetas_amp_temp)\n",
    "#thetas_bw[i, 0], x = get_single_osc(thetas_bw_temp)\n",
    "    \n",
    "#alphas_temp = centers_temp[centers_temp > alpha_low]; alphas_temp = alphas_temp[alphas_temp < alpha_high]\n",
    "#alphas_cen[i, 0], n_alphas[i, 0] = get_single_osc(alphas_temp)\n",
    "    \n",
    "#betas_temp = centers_temp[centers_temp > beta_low]; betas_temp = betas_temp[betas_temp < beta_high]\n",
    "#betas_cen[i, 0], n_betas[i, 0] = get_single_osc(betas_temp)"
   ]
  },
  {
   "cell_type": "code",
   "execution_count": 21,
   "metadata": {
    "collapsed": false
   },
   "outputs": [
    {
     "name": "stdout",
     "output_type": "stream",
     "text": [
      "0.0519109453494\n",
      "9.48775792171\n",
      "1.7391175396\n",
      "1.27720181171\n"
     ]
    }
   ],
   "source": [
    "print min(bws_vect)\n",
    "print max(bws_vect)\n",
    "print np.mean(bws_vect)\n",
    "print np.median(bws_vect)"
   ]
  },
  {
   "cell_type": "code",
   "execution_count": 25,
   "metadata": {
    "collapsed": false
   },
   "outputs": [
    {
     "data": {
      "text/plain": [
       "7500"
      ]
     },
     "execution_count": 25,
     "metadata": {},
     "output_type": "execute_result"
    }
   ],
   "source": [
    "nPSDs"
   ]
  },
  {
   "cell_type": "code",
   "execution_count": 26,
   "metadata": {
    "collapsed": true
   },
   "outputs": [],
   "source": [
    "KMeans?"
   ]
  },
  {
   "cell_type": "code",
   "execution_count": 27,
   "metadata": {
    "collapsed": false
   },
   "outputs": [],
   "source": [
    "# K-Means Clustering of oscillations\n",
    "\n",
    "# Put data together\n",
    "dat = np.vstack([centers_vect, powers_vect, bws_vect]).T\n",
    "np.shape(dat)\n",
    "\n",
    "# Initialize Things\n",
    "inertias = []\n",
    "k_min = 2\n",
    "k_max = 20\n",
    "\n",
    "# Fit K-means\n",
    "for i in range(k_min, k_max):\n",
    "    \n",
    "    # Initialize K means\n",
    "    km = KMeans(n_clusters = i, init='k-means++', n_init=10, max_iter=300)   \n",
    "    \n",
    "    km.fit(dat)\n",
    "    \n",
    "    inertias = np.append(inertias, km.inertia_)"
   ]
  },
  {
   "cell_type": "code",
   "execution_count": 28,
   "metadata": {
    "collapsed": false
   },
   "outputs": [
    {
     "data": {
      "text/plain": [
       "array([ 296681.28542466,  149829.34161342,   81075.39880139,\n",
       "         61675.83098778,   45185.27572789,   37613.72439746,\n",
       "         31876.92283036,   27348.43432242,   24910.71346239,\n",
       "         22560.18738293,   20383.00361252,   18510.4002311 ,\n",
       "         17089.04926108,   15786.35208716,   14864.48385295,\n",
       "         13910.86475551,   13123.01380587,   12387.25357862])"
      ]
     },
     "execution_count": 28,
     "metadata": {},
     "output_type": "execute_result"
    }
   ],
   "source": [
    "inertias"
   ]
  },
  {
   "cell_type": "code",
   "execution_count": 29,
   "metadata": {
    "collapsed": false
   },
   "outputs": [
    {
     "data": {
      "text/plain": [
       "[<matplotlib.lines.Line2D at 0x10a781790>]"
      ]
     },
     "execution_count": 29,
     "metadata": {},
     "output_type": "execute_result"
    },
    {
     "data": {
      "image/png": "[encoded data removed]",
      "text/plain": [
       "<matplotlib.figure.Figure at 0x10b251f90>"
      ]
     },
     "metadata": {},
     "output_type": "display_data"
    }
   ],
   "source": [
    "plt.plot(inertias, '.')"
   ]
  },
  {
   "cell_type": "code",
   "execution_count": null,
   "metadata": {
    "collapsed": false
   },
   "outputs": [],
   "source": [
    "# Initialize K means\n",
    "n_clus = 6\n",
    "km = KMeans(n_clusters = n_clus, init='k-means++', n_init=10, max_iter=300)   \n",
    "km.fit(dat)"
   ]
  },
  {
   "cell_type": "code",
   "execution_count": null,
   "metadata": {
    "collapsed": false
   },
   "outputs": [],
   "source": [
    "km.cluster_centers_"
   ]
  },
  {
   "cell_type": "code",
   "execution_count": null,
   "metadata": {
    "collapsed": false
   },
   "outputs": [],
   "source": [
    "km.labels_\n",
    "plt.hist(km.labels_, range(0,n_clus+1))"
   ]
  },
  {
   "cell_type": "code",
   "execution_count": null,
   "metadata": {
    "collapsed": true
   },
   "outputs": [],
   "source": [
    "af = AffinityPropagation()"
   ]
  },
  {
   "cell_type": "code",
   "execution_count": null,
   "metadata": {
    "collapsed": true
   },
   "outputs": [],
   "source": [
    "af.fit(dat)"
   ]
  },
  {
   "cell_type": "code",
   "execution_count": 22,
   "metadata": {
    "collapsed": false
   },
   "outputs": [
    {
     "data": {
      "text/plain": [
       "(-0.47367981926730385, 0.0)"
      ]
     },
     "execution_count": 22,
     "metadata": {},
     "output_type": "execute_result"
    },
    {
     "data": {
      "image/png": "[encoded data removed]",
      "text/plain": [
       "<matplotlib.figure.Figure at 0x10bcde490>"
      ]
     },
     "metadata": {},
     "output_type": "display_data"
    }
   ],
   "source": [
    "# Centers vs. Powers\n",
    "plt.plot(centers_vect, np.log(powers_vect), '.')\n",
    "pearsonr(centers_vect, np.log(powers_vect))"
   ]
  },
  {
   "cell_type": "code",
   "execution_count": 30,
   "metadata": {
    "collapsed": false
   },
   "outputs": [
    {
     "data": {
      "text/plain": [
       "(-0.26299958043323896, 0.0)"
      ]
     },
     "execution_count": 30,
     "metadata": {},
     "output_type": "execute_result"
    },
    {
     "data": {
      "image/png": "[encoded data removed]",
      "text/plain": [
       "<matplotlib.figure.Figure at 0x10ba9f590>"
      ]
     },
     "metadata": {},
     "output_type": "display_data"
    }
   ],
   "source": [
    "# Powers vs. Bandwidths\n",
    "plt.plot(np.log(powers_vect), np.log(bws_vect), '.')\n",
    "pearsonr(np.log(powers_vect), np.log(bws_vect))"
   ]
  },
  {
   "cell_type": "code",
   "execution_count": 24,
   "metadata": {
    "collapsed": false
   },
   "outputs": [
    {
     "data": {
      "text/plain": [
       "(0.27300989641368589, 0.0)"
      ]
     },
     "execution_count": 24,
     "metadata": {},
     "output_type": "execute_result"
    },
    {
     "data": {
      "image/png": "[encoded data removed]",
      "text/plain": [
       "<matplotlib.figure.Figure at 0x10bf6a950>"
      ]
     },
     "metadata": {},
     "output_type": "display_data"
    }
   ],
   "source": [
    "# Centers vs. Bandwidths\n",
    "plt.plot(centers_vect, bws_vect, '.')\n",
    "pearsonr(centers_vect, bws_vect)"
   ]
  },
  {
   "cell_type": "code",
   "execution_count": null,
   "metadata": {
    "collapsed": false
   },
   "outputs": [],
   "source": [
    "pca = PCA(n_components=2)\n",
    "pca.fit(dat)\n",
    "print(pca.explained_variance_ratio_) "
   ]
  },
  {
   "cell_type": "code",
   "execution_count": null,
   "metadata": {
    "collapsed": false
   },
   "outputs": [],
   "source": [
    "pca.fit?"
   ]
  },
  {
   "cell_type": "code",
   "execution_count": null,
   "metadata": {
    "collapsed": false
   },
   "outputs": [],
   "source": [
    "np.shape(dat)"
   ]
  },
  {
   "cell_type": "code",
   "execution_count": 31,
   "metadata": {
    "collapsed": true
   },
   "outputs": [],
   "source": [
    "pearsonr?"
   ]
  },
  {
   "cell_type": "code",
   "execution_count": null,
   "metadata": {
    "collapsed": true
   },
   "outputs": [],
   "source": []
  }
 ],
 "metadata": {
  "kernelspec": {
   "display_name": "Python 2",
   "language": "python",
   "name": "python2"
  },
  "language_info": {
   "codemirror_mode": {
    "name": "ipython",
    "version": 2
   },
   "file_extension": ".py",
   "mimetype": "text/x-python",
   "name": "python",
   "nbconvert_exporter": "python",
   "pygments_lexer": "ipython2",
   "version": "2.7.11"
  }
 },
 "nbformat": 4,
 "nbformat_minor": 0
}
