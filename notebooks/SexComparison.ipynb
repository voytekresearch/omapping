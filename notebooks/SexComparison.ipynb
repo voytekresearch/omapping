{
 "cells": [
  {
   "cell_type": "markdown",
   "metadata": {},
   "source": [
    "# Comparison of Male & Female\n",
    "\n",
    "Words, words, words. "
   ]
  },
  {
   "cell_type": "code",
   "execution_count": 1,
   "metadata": {},
   "outputs": [],
   "source": [
    "%matplotlib inline\n",
    "\n",
    "from scipy.stats import ttest_1samp, ttest_ind\n",
    "\n",
    "from om.meg.single import MegSubj\n",
    "from om.meg.group import MegGroup\n",
    "\n",
    "from om.plts.meg import *\n",
    "\n",
    "from om.core.db import OMDB\n",
    "from om.core.osc import Osc"
   ]
  },
  {
   "cell_type": "code",
   "execution_count": 2,
   "metadata": {},
   "outputs": [],
   "source": [
    "# Get database object, and list of subjects\n",
    "db = OMDB()\n",
    "sub_nums, source = db.check_dat_files(dat_type='fooof', dat_source='HCP', verbose=False)"
   ]
  },
  {
   "cell_type": "code",
   "execution_count": 3,
   "metadata": {},
   "outputs": [],
   "source": [
    "# Drop outlier subject\n",
    "sub_nums = list(set(sub_nums) - set([662551]))"
   ]
  },
  {
   "cell_type": "markdown",
   "metadata": {},
   "source": [
    "### Male vs. Female maps\n",
    "\n",
    "Note: for age and sample size balancing, loading drops a subset of both male & female subjects."
   ]
  },
  {
   "cell_type": "code",
   "execution_count": 4,
   "metadata": {},
   "outputs": [],
   "source": [
    "# Create oscillation index\n",
    "osc = Osc()\n",
    "osc.add_band('Theta', [3, 7])\n",
    "osc.add_band('Alpha', [7, 14])\n",
    "osc.add_band('Beta', [15, 30])"
   ]
  },
  {
   "cell_type": "code",
   "execution_count": 5,
   "metadata": {},
   "outputs": [],
   "source": [
    "# Initialize MegGroup object\n",
    "male_group = MegGroup(db, osc)\n",
    "female_group = MegGroup(db, osc)\n",
    "\n",
    "# Add subjects to meg_group, split up by Male / Female\n",
    "for i, subj in enumerate(sub_nums):\n",
    "    \n",
    "    meg_subj = MegSubj(OMDB(), source[i], osc)         # Initialize MegSubj object\n",
    "    meg_subj.import_fooof(subj, get_demo=True)         # Import subject data\n",
    "    meg_subj.all_oscs(verbose=False)                   # Create vectors of all oscillations\n",
    "    meg_subj.osc_bands_vertex()                        # Get oscillations per band per vertex\n",
    "    meg_subj.peak_freq(dat='band', avg='median')       # Calculate peak frequencies\n",
    "    \n",
    "    if meg_subj.sex is 'M':\n",
    "        \n",
    "        if meg_subj.age < 25:\n",
    "            continue\n",
    "        \n",
    "        male_group.add_subject(meg_subj, add_all_oscs=True, add_vertex_bands=True, add_peak_freqs = True,\n",
    "                               add_vertex_oscs=False, add_vertex_exponents=True, add_demo=True)\n",
    "        \n",
    "    elif meg_subj.sex is 'F':\n",
    "        \n",
    "        if meg_subj.age > 34:\n",
    "            continue\n",
    "        \n",
    "        female_group.add_subject(meg_subj, add_all_oscs=True, add_vertex_bands=True, add_peak_freqs = True,\n",
    "                               add_vertex_oscs=False, add_vertex_exponents=True, add_demo=True)"
   ]
  },
  {
   "cell_type": "code",
   "execution_count": 6,
   "metadata": {
    "scrolled": true
   },
   "outputs": [
    {
     "name": "stdout",
     "output_type": "stream",
     "text": [
      "Number of males in the group: \t\t 31\n",
      "Number of females in the group: \t 30\n"
     ]
    }
   ],
   "source": [
    "# Check group composition in terms of male/female\n",
    "n_male = len(male_group)\n",
    "n_female = len(female_group)\n",
    "\n",
    "print('Number of males in the group: \\t\\t', n_male)\n",
    "print('Number of females in the group: \\t', n_female)"
   ]
  },
  {
   "cell_type": "code",
   "execution_count": 7,
   "metadata": {},
   "outputs": [
    {
     "name": "stdout",
     "output_type": "stream",
     "text": [
      "Male: \t 29.451612903225808\n",
      "Female:  29.633333333333333\n",
      "\n",
      " Ttest_indResult(statistic=-0.24071233340627646, pvalue=0.810612579474068)\n"
     ]
    }
   ],
   "source": [
    "# Check average ages between groups\n",
    "print('Male: \\t', np.mean(male_group.age))\n",
    "print('Female: ', np.mean(female_group.age))\n",
    "\n",
    "# Check if there is a significant difference in age between M & F\n",
    "print('\\n',ttest_ind(male_group.age, female_group.age))"
   ]
  },
  {
   "cell_type": "code",
   "execution_count": 8,
   "metadata": {},
   "outputs": [],
   "source": [
    "# Calculate osc maps\n",
    "female_group.osc_prob()\n",
    "female_group.osc_power()\n",
    "female_group.osc_score()\n",
    "male_group.osc_prob()\n",
    "male_group.osc_power()\n",
    "male_group.osc_score()"
   ]
  },
  {
   "cell_type": "code",
   "execution_count": 9,
   "metadata": {},
   "outputs": [],
   "source": [
    "# Difference group between sexes\n",
    "diff_group = MegGroup(db, osc)\n",
    "\n",
    "for band in osc.bands:\n",
    "    diff_group.osc_probs[band] = female_group.osc_probs[band] - male_group.osc_probs[band]\n",
    "    diff_group.osc_prob_done = True\n",
    "    diff_group.osc_scores[band] = female_group.osc_scores[band] - male_group.osc_scores[band]\n",
    "    diff_group.osc_score_done = True"
   ]
  },
  {
   "cell_type": "code",
   "execution_count": 10,
   "metadata": {},
   "outputs": [
    {
     "name": "stdout",
     "output_type": "stream",
     "text": [
      "Theta\n",
      "\tMax  diff:  0.11479786401578077\n",
      "\tMin  diff:  -0.3767940654080574\n",
      "\tMean diff:  -0.03707996401315807\n",
      "\tStat comp:  Ttest_1sampResult(statistic=-68.9569934879144, pvalue=0.0)\n",
      "Alpha\n",
      "\tMax  diff:  0.42774502564328154\n",
      "\tMin  diff:  -0.11530313142450688\n",
      "\tMean diff:  0.11029633645593226\n",
      "\tStat comp:  Ttest_1sampResult(statistic=135.61195031361217, pvalue=0.0)\n",
      "Beta\n",
      "\tMax  diff:  0.2812226038122778\n",
      "\tMin  diff:  -0.17340844112590004\n",
      "\tMean diff:  0.056036992068983146\n",
      "\tStat comp:  Ttest_1sampResult(statistic=62.178321127571586, pvalue=0.0)\n"
     ]
    }
   ],
   "source": [
    "# Check descriptive states of differences across space\n",
    "for band in list(osc.bands):\n",
    "    print(band)\n",
    "    print('\\tMax  diff: ', np.max(diff_group.osc_scores[band]))\n",
    "    print('\\tMin  diff: ', np.min(diff_group.osc_scores[band]))\n",
    "    print('\\tMean diff: ', np.mean(diff_group.osc_scores[band]))\n",
    "    print('\\tStat comp: ', ttest_1samp(diff_group.osc_scores[band], 0))\n",
    "    \n",
    "    \n",
    "    #plt.figure()\n",
    "    #plt.hist(diff_group.osc_scores[band])\n",
    "    #plt.title(band)"
   ]
  },
  {
   "cell_type": "code",
   "execution_count": 11,
   "metadata": {},
   "outputs": [],
   "source": [
    "# Set osc maps for viz\n",
    "#diff_group.set_map_viz('score', 'diff')"
   ]
  },
  {
   "cell_type": "code",
   "execution_count": 12,
   "metadata": {},
   "outputs": [],
   "source": [
    "# Exponents\n",
    "avg = 'mean'\n",
    "male_group.group_exponent(avg)\n",
    "female_group.group_exponent(avg)"
   ]
  },
  {
   "cell_type": "code",
   "execution_count": 13,
   "metadata": {},
   "outputs": [],
   "source": [
    "m_sls = np.mean(male_group.vert_exponents, 0)\n",
    "f_sls = np.mean(female_group.vert_exponents, 0)"
   ]
  },
  {
   "cell_type": "code",
   "execution_count": 14,
   "metadata": {},
   "outputs": [
    {
     "data": {
      "text/plain": [
       "Ttest_indResult(statistic=1.2004674448486385, pvalue=0.23475566680754073)"
      ]
     },
     "execution_count": 14,
     "metadata": {},
     "output_type": "execute_result"
    }
   ],
   "source": [
    "ttest_ind(m_sls, f_sls)"
   ]
  },
  {
   "cell_type": "code",
   "execution_count": 15,
   "metadata": {},
   "outputs": [
    {
     "name": "stdout",
     "output_type": "stream",
     "text": [
      "0.8356120543058997\n",
      "0.7916258792025126\n"
     ]
    }
   ],
   "source": [
    "avg_m_sl = np.mean(m_sls)\n",
    "avg_fm_sl = np.mean(f_sls)\n",
    "print(avg_m_sl)\n",
    "print(avg_fm_sl)"
   ]
  },
  {
   "cell_type": "code",
   "execution_count": 16,
   "metadata": {},
   "outputs": [
    {
     "data": {
      "text/plain": [
       "0.813979509173086"
      ]
     },
     "execution_count": 16,
     "metadata": {},
     "output_type": "execute_result"
    }
   ],
   "source": [
    "np.mean(np.concatenate([m_sls, f_sls]))"
   ]
  },
  {
   "cell_type": "code",
   "execution_count": 17,
   "metadata": {},
   "outputs": [],
   "source": [
    "diff_group.exponent_gr_avg = female_group.exponent_gr_avg - male_group.exponent_gr_avg"
   ]
  },
  {
   "cell_type": "code",
   "execution_count": 18,
   "metadata": {},
   "outputs": [
    {
     "data": {
      "text/plain": [
       "-0.043986175103387606"
      ]
     },
     "execution_count": 18,
     "metadata": {},
     "output_type": "execute_result"
    }
   ],
   "source": [
    "np.mean(diff_group.exponent_gr_avg)"
   ]
  },
  {
   "cell_type": "code",
   "execution_count": 19,
   "metadata": {},
   "outputs": [
    {
     "data": {
      "text/plain": [
       "Ttest_1sampResult(statistic=-87.97148919945954, pvalue=0.0)"
      ]
     },
     "execution_count": 19,
     "metadata": {},
     "output_type": "execute_result"
    }
   ],
   "source": [
    "ttest_1samp(diff_group.exponent_gr_avg, 0)"
   ]
  },
  {
   "cell_type": "code",
   "execution_count": null,
   "metadata": {},
   "outputs": [],
   "source": []
  },
  {
   "cell_type": "code",
   "execution_count": null,
   "metadata": {},
   "outputs": [],
   "source": []
  }
 ],
 "metadata": {
  "kernelspec": {
   "display_name": "Python 3",
   "language": "python",
   "name": "python3"
  },
  "language_info": {
   "codemirror_mode": {
    "name": "ipython",
    "version": 3
   },
   "file_extension": ".py",
   "mimetype": "text/x-python",
   "name": "python",
   "nbconvert_exporter": "python",
   "pygments_lexer": "ipython3",
   "version": "3.7.3"
  }
 },
 "nbformat": 4,
 "nbformat_minor": 2
}
