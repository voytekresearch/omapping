{
 "cells": [
  {
   "cell_type": "markdown",
   "metadata": {},
   "source": [
    "<h1> FOOFing OMEGA Data </h1>"
   ]
  },
  {
   "cell_type": "markdown",
   "metadata": {},
   "source": [
    "This notebook runs FOOF on MEG-PSD data.\n",
    "- Option to Parallelize with Pool from Multiprocessing\n",
    "- Must Specify frequency range desired for FOOF\n",
    "- Saves FOOF results in pickled object\n",
    "\n",
    "NOTES:\n",
    "- For reasons unknown, parallel implementation with Pool does not currently work. \n",
    "\n",
    "    -It used to, but now hangs when trying to parallelize foof. \n",
    "    \n",
    "- Parallel with ipyparallel is currently working!"
   ]
  },
  {
   "cell_type": "code",
   "execution_count": 1,
   "metadata": {
    "collapsed": false
   },
   "outputs": [],
   "source": [
    "# Import general code from custom module om\n",
    "from __future__ import print_function\n",
    "\n",
    "import sys\n",
    "sys.path.append('/Users/thomasdonoghue/Documents/GitCode/omegamappin/')\n",
    "from om.gen import *\n",
    "\n",
    "# Import required packages\n",
    "import numpy as np\n",
    "\n",
    "# Set plots inline\n",
    "%matplotlib inline"
   ]
  },
  {
   "cell_type": "code",
   "execution_count": 2,
   "metadata": {
    "collapsed": false
   },
   "outputs": [],
   "source": [
    "# Get database and path details from OMDB class\n",
    "db = OMDB('HCP')"
   ]
  },
  {
   "cell_type": "code",
   "execution_count": 3,
   "metadata": {
    "collapsed": false
   },
   "outputs": [
    {
     "name": "stdout",
     "output_type": "stream",
     "text": [
      "\n",
      "Number of Subjects available: 60\n",
      "\n",
      "Subject numbers with FOOF data available: \n",
      "[100307, 102816, 105923, 106521, 109123, 111514, 112920, 113922, 116524, 116726, 140117, 146129, 153732, 154532, 156334, 158136, 162026, 162935, 164636, 166438, 172029, 174841, 175237, 175540, 181232, 185442, 187547, 189349, 191033, 191437, 191841, 192641, 195041, 198653, 204521, 205119, 212318, 212823, 214524, 221319, 223929, 233326, 248339, 250427, 255639, 257845, 283543, 293748, 352132, 352738, 353740, 358144, 406836, 433839, 512835, 555348, 559053, 568963, 581450, 599671]\n",
      "\n"
     ]
    }
   ],
   "source": [
    "# Check available subject numbers for PSD files\n",
    "sub_nums = db.check_dat_files('PSD')"
   ]
  },
  {
   "cell_type": "code",
   "execution_count": 4,
   "metadata": {
    "collapsed": false
   },
   "outputs": [
    {
     "name": "stdout",
     "output_type": "stream",
     "text": [
      "0 Subject Files not yet FOOFed: \n",
      "[]\n"
     ]
    }
   ],
   "source": [
    "# Check which PSD files haven't been FOOFed\n",
    "psd_files, _ = db.check_dat_files('PSD', verbose=False)\n",
    "foof_files, _ = db.check_dat_files('foof', verbose=False)\n",
    "\n",
    "not_foofed = []\n",
    "for f in psd_files:\n",
    "    if f not in foof_files:\n",
    "        not_foofed.append(f)\n",
    "\n",
    "print(str(len(not_foofed)), 'Subject Files not yet FOOFed: ')\n",
    "print(not_foofed)"
   ]
  },
  {
   "cell_type": "markdown",
   "metadata": {},
   "source": [
    "## CHECK PSD DATA"
   ]
  },
  {
   "cell_type": "code",
   "execution_count": 5,
   "metadata": {
    "collapsed": false
   },
   "outputs": [],
   "source": [
    "# Load MEG Data\n",
    "subj = 352132\n",
    "psd, freqs = load_meg_psds(db.dat_source, db.psd_path, subj)"
   ]
  },
  {
   "cell_type": "code",
   "execution_count": 6,
   "metadata": {
    "collapsed": false
   },
   "outputs": [
    {
     "name": "stdout",
     "output_type": "stream",
     "text": [
      "Number of PSDs is:  7500\n",
      "Frequency Resolution is:  0.488281249999\n",
      "Frequency range is:  0.0  to  499.999999999\n"
     ]
    }
   ],
   "source": [
    "# Check data - get number of PSDs and frequency resolution\n",
    "[nPSDs, nFreqs] = np.shape(psd)\n",
    "freq_res = np.mean(np.diff(freqs))\n",
    "f_min = freqs.min()\n",
    "f_max = freqs.max()\n",
    "print('Number of PSDs is: ', nPSDs)\n",
    "print('Frequency Resolution is: ', freq_res)\n",
    "print('Frequency range is: ', f_min, ' to ', f_max)"
   ]
  },
  {
   "cell_type": "code",
   "execution_count": 42,
   "metadata": {
    "collapsed": true
   },
   "outputs": [],
   "source": [
    "# Extract PSD range of interest\n",
    "psd_ext, freqs_ext = extract_psd(psd, freqs, f_low=3, f_high=40)"
   ]
  },
  {
   "cell_type": "code",
   "execution_count": 43,
   "metadata": {
    "collapsed": true
   },
   "outputs": [],
   "source": [
    "# Set up PSD as a list of 2-D np arrays\n",
    "psd_list = list(psd_ext)\n",
    "for i in range(0, nPSDs):\n",
    "    psd_list[i] = np.reshape(psd_list[i], [len(freqs_ext), 1])"
   ]
  },
  {
   "cell_type": "code",
   "execution_count": 77,
   "metadata": {
    "collapsed": false
   },
   "outputs": [],
   "source": [
    "# Run FOOF\n",
    "foof_results = meg_foof(psd_ext[nan_vertices, :], freqs_ext, min_p=0.1, freq_res=freq_res)\n",
    "\n",
    "# Save out results\n",
    "#save_path = '/Users/thomasdonoghue/Documents/Research/1-Projects/OMEGA/2-Data/MEG/3-FOOF/Colin/pickle'\n",
    "#save_foof_pickle(foof_results, save_path, subj)"
   ]
  },
  {
   "cell_type": "code",
   "execution_count": null,
   "metadata": {
    "collapsed": true
   },
   "outputs": [],
   "source": [
    "# Check for NaNs in BW\n",
    "centers, _, bws, _, _ = extract_foof_pickle(foof_results)\n",
    "sum(np.isnan(bws))"
   ]
  },
  {
   "cell_type": "markdown",
   "metadata": {},
   "source": [
    "### Save out data for NaN tests"
   ]
  },
  {
   "cell_type": "code",
   "execution_count": 44,
   "metadata": {
    "collapsed": false
   },
   "outputs": [],
   "source": [
    "# Set data to save out\n",
    "psd_ext = psd_ext[nan_vertices]\n",
    "freq_res = np.mean(np.diff(freqs))\n",
    "min_p = 0.1"
   ]
  },
  {
   "cell_type": "code",
   "execution_count": 45,
   "metadata": {
    "collapsed": true
   },
   "outputs": [],
   "source": [
    "# Save data out to npz file\n",
    "np.savez('NaN_PSDs_369737.npz', psd_ext=psd_ext, freqs_ext=freqs_ext, freq_res=freq_res, min_p=min_p)"
   ]
  },
  {
   "cell_type": "markdown",
   "metadata": {},
   "source": [
    "## Check PSDs"
   ]
  },
  {
   "cell_type": "code",
   "execution_count": null,
   "metadata": {
    "collapsed": false
   },
   "outputs": [],
   "source": [
    "import matplotlib.pyplot as plt\n",
    "\n",
    "plt.plot(freqs_ext[:], psd_ext[2500, :])"
   ]
  },
  {
   "cell_type": "markdown",
   "metadata": {},
   "source": [
    "### Convert pickle files (of saved FOOF results) to csv"
   ]
  },
  {
   "cell_type": "code",
   "execution_count": null,
   "metadata": {
    "collapsed": false
   },
   "outputs": [],
   "source": [
    "## To convert a single file\n",
    "\n",
    "# Set subject number to convert\n",
    "subj = 559176\n",
    "\n",
    "# Get database object - set which database to use\n",
    "db = OMDB('OMEGA')\n",
    "\n",
    "# Load data from pickle file and resave as csv file\n",
    "dat = load_foof_pickle(db.foof_path, subj)\n",
    "#save_foof_csv(dat, db.foof_path, subj)"
   ]
  },
  {
   "cell_type": "code",
   "execution_count": null,
   "metadata": {
    "collapsed": false
   },
   "outputs": [],
   "source": [
    "print(len(dat))\n",
    "print(type(dat))\n",
    "print(type(dat[0]))"
   ]
  },
  {
   "cell_type": "code",
   "execution_count": null,
   "metadata": {
    "collapsed": false
   },
   "outputs": [],
   "source": [
    "## To convert all files\n",
    "# NOTE: This will not check which files are already converted to csv, and will overwrite pre-existing csv files\n",
    "\n",
    "# Get database object - set which database files to check\n",
    "db = OMDB('HCP')\n",
    "\n",
    "# Get list of foofed pickle files\n",
    "foofed_files = db.check_files('foof', save_type='pickle', verbose=False)\n",
    "\n",
    "# Loop through each subj, load foof from pickle, and save out as a csv\n",
    "for subj in sub_nums:\n",
    "    \n",
    "    # Load subj foof data, from pickle file\n",
    "    dat = load_foof_pickle(db.foof_path, subj)\n",
    "    \n",
    "    # Save out as csv file\n",
    "    save_foof_csv(dat, db.foof_path, subj)"
   ]
  },
  {
   "cell_type": "markdown",
   "metadata": {},
   "source": [
    "## Check FOOF Files"
   ]
  },
  {
   "cell_type": "code",
   "execution_count": 6,
   "metadata": {
    "collapsed": false
   },
   "outputs": [
    {
     "name": "stdout",
     "output_type": "stream",
     "text": [
      "\n",
      "Number of Subjects available: 25\n",
      "\n",
      "Subject numbers with FOOF data available: \n",
      "[111802, 124340, 195121, 215187, 218131, 220216, 245518, 265922, 320548, 339964, 369737, 386068, 390845, 403435, 405716, 431088, 504997, 548027, 559176, 604600, 704718, 704814, 719634, 756575, 978341]\n",
      "\n"
     ]
    }
   ],
   "source": [
    "# Check available subject numbers for FOOF files\n",
    "sub_nums = db.check_dat_files('foof')"
   ]
  },
  {
   "cell_type": "markdown",
   "metadata": {
    "collapsed": true
   },
   "source": [
    "## Check FOOF Results"
   ]
  },
  {
   "cell_type": "code",
   "execution_count": 30,
   "metadata": {
    "collapsed": false
   },
   "outputs": [],
   "source": [
    "# Load from pickled foof files, and pull out data\n",
    "results = load_foof_pickle(db.foof_path , 369737)\n",
    "centers, powers, bws, _, n_psds = extract_foof_pickle(results)"
   ]
  },
  {
   "cell_type": "code",
   "execution_count": 31,
   "metadata": {
    "collapsed": false
   },
   "outputs": [
    {
     "name": "stdout",
     "output_type": "stream",
     "text": [
      "[109   0   0   0   0   0   0   0]\n"
     ]
    }
   ],
   "source": [
    "# Check for nan values in bandwidths\n",
    "bw_nan_bool = np.isnan(bws)\n",
    "n_nans = sum(bw_nan_bool)\n",
    "\n",
    "print(n_nans)"
   ]
  },
  {
   "cell_type": "code",
   "execution_count": 32,
   "metadata": {
    "collapsed": false
   },
   "outputs": [
    {
     "name": "stdout",
     "output_type": "stream",
     "text": [
      "3.41796875\n",
      "nan\n"
     ]
    }
   ],
   "source": [
    "# Get indices of NaN values\n",
    "nan_vertices, nan_oscs = np.where(bw_nan_bool == True)\n",
    "\n",
    "# Check what data becomes NaN\n",
    "ind = 4\n",
    "print(centers[nan_vertices[ind], nan_oscs[ind]])\n",
    "print(bws[nan_vertices[ind], nan_oscs[ind]])"
   ]
  },
  {
   "cell_type": "markdown",
   "metadata": {},
   "source": [
    "## EXTRA STUFF\n",
    "\n",
    "\n",
    "To check / finish"
   ]
  },
  {
   "cell_type": "code",
   "execution_count": null,
   "metadata": {
    "collapsed": true
   },
   "outputs": [],
   "source": [
    "# EXTRA: CHECK FOOF\n",
    "\n",
    "print(\"model: f {0}, f_sig {1}, chi {2}\".format(\n",
    "        np.round(foof.centers_, decimals=1),\n",
    "        np.round(foof.stdevs_, decimals=1),\n",
    "        np.round(foof.chi_, decimals=1))\n",
    "     )\n",
    "\n",
    "plt.subplot(211)\n",
    "plt.plot(freqs_ext, psd_example[:,0]*10000000000000000000000, label='Data')\n",
    "plt.plot(*syn.mfonef(mk=foof.powers_, \n",
    "                     mf=foof.centers_, \n",
    "                     mf_sig=foof.stdevs_, \n",
    "                     f0=3, \n",
    "                     fmax=50, \n",
    "                     chi=foof.chi_, \n",
    "                     res=freq_res), \n",
    "         label='Model'\n",
    "        )\n",
    "plt.xlabel(\"F (Hz)\")\n",
    "plt.ylabel(\"PSD\")\n",
    "plt.yscale('log')\n",
    "plt.xscale('log')\n",
    "plt.legend()"
   ]
  }
 ],
 "metadata": {
  "kernelspec": {
   "display_name": "Python 2",
   "language": "python",
   "name": "python2"
  },
  "language_info": {
   "codemirror_mode": {
    "name": "ipython",
    "version": 2
   },
   "file_extension": ".py",
   "mimetype": "text/x-python",
   "name": "python",
   "nbconvert_exporter": "python",
   "pygments_lexer": "ipython2",
   "version": "2.7.11"
  }
 },
 "nbformat": 4,
 "nbformat_minor": 0
}
