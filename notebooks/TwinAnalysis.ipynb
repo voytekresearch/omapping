{
 "cells": [
  {
   "cell_type": "markdown",
   "metadata": {},
   "source": [
    "## Twin Analysis\n",
    "\n",
    "The HCP databases uses a twin sample, allowing for the comparison of monozygotic (MZ) vs dizygotic (DZ) twins. \n",
    "\n",
    "This allows us to compare the heritability of oscillations."
   ]
  },
  {
   "cell_type": "code",
   "execution_count": 1,
   "metadata": {
    "collapsed": false
   },
   "outputs": [],
   "source": [
    "# Import required libraries/functions\n",
    "from __future__ import print_function, division\n",
    "import random\n",
    "import itertools\n",
    "import numpy as  np\n",
    "\n",
    "# Import custom code from module om, including general functions and OO code for handling data\n",
    "from om.core.db import OMDB\n",
    "from om.core.osc import Osc\n",
    "from om.core.utils import check_file_status\n",
    "from om.meg.twin import *"
   ]
  },
  {
   "cell_type": "code",
   "execution_count": 2,
   "metadata": {
    "collapsed": false
   },
   "outputs": [
    {
     "name": "stdout",
     "output_type": "stream",
     "text": [
      "There are 18 MZ twin pairs.\n",
      "There are 19 DZ twin pairs.\n"
     ]
    }
   ],
   "source": [
    "# Pull out twin data from demographics file\n",
    "mz_twins, dz_twins, all_twins, not_twins = get_twin_data()\n",
    "\n",
    "# Match twin pairs\n",
    "mz_id_pairs, mz_singles = match_twins(mz_twins)\n",
    "dz_id_pairs, dz_singles = match_twins(dz_twins)\n",
    "\n",
    "# Check how many pairs where extracted\n",
    "print('There are', str(len(mz_id_pairs)), 'MZ twin pairs.')\n",
    "print('There are', str(len(dz_id_pairs)), 'DZ twin pairs.')"
   ]
  },
  {
   "cell_type": "code",
   "execution_count": 3,
   "metadata": {
    "collapsed": false
   },
   "outputs": [
    {
     "name": "stdout",
     "output_type": "stream",
     "text": [
      "Of 93 subjects, 77 files are available and 16 files are unavailable.\n"
     ]
    }
   ],
   "source": [
    "# Get database object and set up database to use\n",
    "db = OMDB()\n",
    "dat_source = 'HCP'\n",
    "\n",
    "# Check which twin subjects are available\n",
    "av_dat, no_dat = check_file_status(all_twins, db, dat_source='HCP')"
   ]
  },
  {
   "cell_type": "code",
   "execution_count": 4,
   "metadata": {
    "collapsed": false
   },
   "outputs": [
    {
     "name": "stdout",
     "output_type": "stream",
     "text": [
      "There are 10 complete MZ twin pairs.\n",
      "There are 16 complete MZ twin pairs.\n"
     ]
    }
   ],
   "source": [
    "# Given the missing data, check which twin pairs are complete\n",
    "mz_complete_pairs = check_complete_pairs(mz_id_pairs, av_dat)\n",
    "dz_complete_pairs = check_complete_pairs(dz_id_pairs, av_dat)\n",
    "\n",
    "# Print out number of available pairs by twin type\n",
    "print('There are', str(len(mz_complete_pairs)), 'complete MZ twin pairs.')\n",
    "print('There are', str(len(dz_complete_pairs)), 'complete MZ twin pairs.')"
   ]
  },
  {
   "cell_type": "code",
   "execution_count": 5,
   "metadata": {
    "collapsed": false
   },
   "outputs": [
    {
     "name": "stdout",
     "output_type": "stream",
     "text": [
      "MZ Twins Incomplete Pairs:\n",
      "[(189349, 500222), (151526, 352132), (149741, 433839), (287248, 660951), (187547, 200109), (104012, 153732), (102816, 680957), (191033, 872764)]\n",
      "DZ Twins Incomplete Pairs:\n",
      "[(192641, 825048), (182840, 205119), (108323, 140117)]\n"
     ]
    }
   ],
   "source": [
    "# Check which pairs are missing (at least one) subject\n",
    "print('MZ Twins Incomplete Pairs:')\n",
    "print(list(set(mz_id_pairs) - set(mz_complete_pairs)))\n",
    "print('DZ Twins Incomplete Pairs:')\n",
    "print(list(set(dz_id_pairs) - set(dz_complete_pairs)))"
   ]
  },
  {
   "cell_type": "code",
   "execution_count": 6,
   "metadata": {
    "collapsed": false
   },
   "outputs": [],
   "source": [
    "# Get a list of all possible non-twin pairs, to compare to\n",
    "all_pairs = list(itertools.combinations(av_dat, 2))\n",
    "non_twin_pairs = rm_twin_pairs(all_pairs, mz_id_pairs + dz_id_pairs)\n",
    "\n",
    "# Of all possible combinations, get a random sample of non-twin pairs, matching number of twin pairs\n",
    "n_non_twin = len(dz_complete_pairs)\n",
    "rand_inds = random.sample(range(len(non_twin_pairs)), n_non_twin)\n",
    "non_twin_pairs = [non_twin_pairs[i] for i in rand_inds]"
   ]
  },
  {
   "cell_type": "markdown",
   "metadata": {},
   "source": [
    "### Oscillatory Band - Spatial Overlap\n",
    "\n",
    "Compares the spatial topography of oscillatory bands between pairs of subject. "
   ]
  },
  {
   "cell_type": "code",
   "execution_count": 7,
   "metadata": {
    "collapsed": true
   },
   "outputs": [],
   "source": [
    "# Get database object and oscillatory band definition\n",
    "db = OMDB()\n",
    "osc = Osc(default=True)"
   ]
  },
  {
   "cell_type": "code",
   "execution_count": 8,
   "metadata": {
    "collapsed": false
   },
   "outputs": [],
   "source": [
    "# Match numbers\n",
    "dz_complete_pairs = dz_complete_pairs[0:10]\n",
    "non_twin_pairs = non_twin_pairs[0:10]"
   ]
  },
  {
   "cell_type": "code",
   "execution_count": 9,
   "metadata": {
    "collapsed": false
   },
   "outputs": [],
   "source": [
    "# Compare MZ twins - Oscillatory Band Spatial Overlap\n",
    "\n",
    "# Initialize output data variable\n",
    "mz_space_dat = np.empty(shape=[0, osc.n_bands])\n",
    "\n",
    "# Loop through MZ twin pairs, comparing them\n",
    "for pair in mz_complete_pairs:\n",
    "    dat = load_meg_list(pair, osc_bands_vert=True, osc=osc, db=db, dat_source='HCP')\n",
    "    mz_space_dat = np.vstack([mz_space_dat, compare_spatial_pair(dat)])\n",
    "    \n",
    "# Get average correlation within bands across pairs\n",
    "mz_avg_space = np.mean(mz_space_dat, axis=0, keepdims=True)"
   ]
  },
  {
   "cell_type": "code",
   "execution_count": 10,
   "metadata": {
    "collapsed": true
   },
   "outputs": [],
   "source": [
    "# Compare MZ twins - Oscillatory Band Spatial Overlap\n",
    "\n",
    "# Initialize output data variable\n",
    "dz_space_dat = np.empty(shape=[0, osc.n_bands])\n",
    "\n",
    "# Loop through MZ twin pairs, comparing them\n",
    "for pair in dz_complete_pairs:\n",
    "    dat = load_meg_list(pair, osc_bands_vert=True, osc=osc, db=db, dat_source='HCP')\n",
    "    dz_space_dat = np.vstack([dz_space_dat, compare_spatial_pair(dat)])\n",
    "    \n",
    "# Get average correlation within bands across pairs\n",
    "dz_avg_space = np.mean(dz_space_dat, axis=0, keepdims=True)"
   ]
  },
  {
   "cell_type": "code",
   "execution_count": 11,
   "metadata": {
    "collapsed": false
   },
   "outputs": [],
   "source": [
    "# Compare non-twins - Oscillatory Band Center Frequencies\n",
    "\n",
    "# Initialize output data variable\n",
    "non_twin_space_dat = np.empty(shape=[0, osc.n_bands])\n",
    "\n",
    "# Loop through non-twin pairs, comparing them\n",
    "for pair in non_twin_pairs:\n",
    "    dat = load_meg_list(pair, osc_bands_vert=True, osc=osc, db=db, dat_source='HCP')\n",
    "    non_twin_space_dat = np.vstack([non_twin_space_dat, compare_spatial_pair(dat)]) \n",
    "    \n",
    "# Get average correlation within bands across pairs\n",
    "non_twin_avg_space = np.mean(non_twin_space_dat, axis=0, keepdims=True)"
   ]
  },
  {
   "cell_type": "code",
   "execution_count": 12,
   "metadata": {
    "collapsed": false
   },
   "outputs": [
    {
     "name": "stdout",
     "output_type": "stream",
     "text": [
      "MZ Twin Oscillatory Band Spatial Overlap Results: \n",
      "\t Theta \t :  0.7723\n",
      "\t Alpha \t :  0.6776\n",
      "\t Beta \t :  0.9506\n",
      "\t LowGamma \t :  0.6287\n",
      "DZ Twin Oscillatory Band Spatial Overlap Results: \n",
      "\t Theta \t :  0.7450\n",
      "\t Alpha \t :  0.7027\n",
      "\t Beta \t :  0.8878\n",
      "\t LowGamma \t :  0.6114\n",
      "Non-Twin Oscillatory Band Spatial Overlap Results: \n",
      "\t Theta \t :  0.7436\n",
      "\t Alpha \t :  0.4967\n",
      "\t Beta \t :  0.9231\n",
      "\t LowGamma \t :  0.5849\n"
     ]
    }
   ],
   "source": [
    "# Print out Results\n",
    "print('MZ Twin Oscillatory Band Spatial Overlap Results: ')\n",
    "print_twin_results(mz_avg_space.T, osc.bands.keys())\n",
    "print('DZ Twin Oscillatory Band Spatial Overlap Results: ')\n",
    "print_twin_results(dz_avg_space.T, osc.bands.keys())\n",
    "print('Non-Twin Oscillatory Band Spatial Overlap Results: ')\n",
    "print_twin_results(non_twin_avg_space.T, osc.bands.keys())"
   ]
  },
  {
   "cell_type": "markdown",
   "metadata": {},
   "source": [
    "### Oscillation Parameters Comparison\n",
    "\n",
    "The following compares oscillatory parameters, such as center frequency, power and bandwidth from within oscillatory bands. \n",
    "\n",
    "NOTE: As implemented, the these comparisons are not specific to how subjects are similar/different. \n",
    "Subjects can differ in either:\n",
    "- The spatial topography across which the oscillation band is found and/or\n",
    "- The oscillatory parameter within the vertices where the oscillatory band is found\n",
    "\n",
    "^ This can/will be parcelled out in further analyses:\n",
    "- A basic check is simply to look at the degree of overlap of oscillatory band topographies between subjects. "
   ]
  },
  {
   "cell_type": "code",
   "execution_count": 13,
   "metadata": {
    "collapsed": true
   },
   "outputs": [],
   "source": [
    "# Initialize oscillation band object to use\n",
    "osc = Osc(default=True)\n",
    "\n",
    "# Set which oscillatory parameter to run {0: CF, 1: Power, 2: BW}\n",
    "osc_param = 0"
   ]
  },
  {
   "cell_type": "code",
   "execution_count": 14,
   "metadata": {
    "collapsed": false
   },
   "outputs": [],
   "source": [
    "# Compare MZ twins - Oscillatory Band Center Frequencies\n",
    "\n",
    "# Initialize variable to store output data\n",
    "mz_corr_dat = np.zeros([len(mz_complete_pairs), osc.n_bands, 2])\n",
    "\n",
    "# Loop through MZ twin pairs, comparing them\n",
    "for ind, pair in enumerate(mz_complete_pairs):\n",
    "    dat = load_meg_list(pair, osc_bands_vert=True, osc=osc, db=db, dat_source='HCP')\n",
    "    mz_corr_dat[ind, :, :] = compare_osc_param_pair(dat, osc_param)\n",
    "    \n",
    "# Get average correlation within bands across pairs\n",
    "mz_avg_corr = np.mean(mz_corr_dat, axis=0)"
   ]
  },
  {
   "cell_type": "code",
   "execution_count": 15,
   "metadata": {
    "collapsed": false
   },
   "outputs": [],
   "source": [
    "# Compare DZ twins - Oscillatory Band Center Frequencies\n",
    "\n",
    "# Initialize variable to store output data\n",
    "dz_corr_dat = np.zeros([len(dz_complete_pairs), osc.n_bands, 2])\n",
    "\n",
    "# Loop through DZ twin pairs, comparing them\n",
    "for ind, pair in enumerate(dz_complete_pairs):\n",
    "    dat = load_meg_list(pair, osc_bands_vert=True, osc=osc, db=db, dat_source='HCP')\n",
    "    dz_corr_dat[ind, :, :] = compare_osc_param_pair(dat, osc_param)\n",
    "    \n",
    "# Get average correlation within bands across pairs\n",
    "dz_avg_corr = np.mean(dz_corr_dat, axis=0)"
   ]
  },
  {
   "cell_type": "code",
   "execution_count": 16,
   "metadata": {
    "collapsed": false
   },
   "outputs": [],
   "source": [
    "# Compare non-twins - Oscillatory Band Center Frequencies\n",
    "\n",
    "# Initialize variable to store output data\n",
    "non_twin_corr_dat = np.zeros([len(non_twin_pairs), osc.n_bands, 2])\n",
    "\n",
    "# Loop through non-twin pairs, comparing them\n",
    "for ind, pair in enumerate(non_twin_pairs):\n",
    "    dat = load_meg_list(pair, osc_bands_vert=True, osc=osc, db=db, dat_source='HCP')\n",
    "    non_twin_corr_dat[ind, :, :] = compare_osc_param_pair(dat, osc_param)\n",
    "    \n",
    "# Get average correlation within bands across pairs\n",
    "non_twin_avg_corr = np.mean(non_twin_corr_dat, axis=0)"
   ]
  },
  {
   "cell_type": "code",
   "execution_count": 17,
   "metadata": {
    "collapsed": false
   },
   "outputs": [
    {
     "name": "stdout",
     "output_type": "stream",
     "text": [
      "MZ Twin Oscillatory Band Center Frequency Results: \n",
      "\t Theta \t :  0.1485\n",
      "\t Alpha \t :  0.1337\n",
      "\t Beta \t :  0.1537\n",
      "\t LowGamma \t :  0.1201\n",
      "DZ Twin Oscillatory Band Center Frequency Results: \n",
      "\t Theta \t :  0.1349\n",
      "\t Alpha \t :  0.0856\n",
      "\t Beta \t :  0.1198\n",
      "\t LowGamma \t :  0.1131\n",
      "Non-Twin Oscillatory Band Center Frequency Results: \n",
      "\t Theta \t :  0.1832\n",
      "\t Alpha \t :  0.0185\n",
      "\t Beta \t :  0.1171\n",
      "\t LowGamma \t :  0.0455\n"
     ]
    }
   ],
   "source": [
    "# Print out results\n",
    "print('MZ Twin Oscillatory Band Center Frequency Results: ')\n",
    "print_twin_results(mz_avg_corr, osc.bands.keys())\n",
    "print('DZ Twin Oscillatory Band Center Frequency Results: ')\n",
    "print_twin_results(dz_avg_corr, osc.bands.keys())\n",
    "print('Non-Twin Oscillatory Band Center Frequency Results: ')\n",
    "print_twin_results(non_twin_avg_corr, osc.bands.keys())"
   ]
  },
  {
   "cell_type": "markdown",
   "metadata": {},
   "source": [
    "## Slope Comparison"
   ]
  },
  {
   "cell_type": "code",
   "execution_count": 18,
   "metadata": {
    "collapsed": false
   },
   "outputs": [],
   "source": [
    "# Check how many twin pairs are available\n",
    "n_mz_pairs = len(mz_complete_pairs)\n",
    "mz_sl_corr_dat = np.zeros([n_mz_pairs, 2])\n",
    "\n",
    "# Loop through MZ twin pairs, comparing them\n",
    "for ind, pair in enumerate(mz_complete_pairs):\n",
    "    dat = load_meg_list(pair, db=db, dat_source='HCP')\n",
    "    mz_sl_corr_dat[ind, :] = compare_slope_pair(dat)\n",
    "\n",
    "# Get average correlation within bands across pairs\n",
    "mz_avg_sl_corr = np.mean(mz_sl_corr_dat, axis=0, keepdims=True)"
   ]
  },
  {
   "cell_type": "code",
   "execution_count": 19,
   "metadata": {
    "collapsed": false
   },
   "outputs": [],
   "source": [
    "# Check how many twin pairs are available\n",
    "n_dz_pairs = len(dz_complete_pairs)\n",
    "dz_sl_corr_dat = np.zeros([n_dz_pairs, 2])\n",
    "\n",
    "# Loop through MZ twin pairs, comparing them\n",
    "for ind, pair in enumerate(dz_complete_pairs):\n",
    "    dat = load_meg_list(pair, db=db, dat_source='HCP')\n",
    "    dz_sl_corr_dat[ind, :] = compare_slope_pair(dat)\n",
    "\n",
    "# Get average correlation within bands across pairs\n",
    "dz_avg_sl_corr = np.mean(dz_sl_corr_dat, axis=0, keepdims=True)"
   ]
  },
  {
   "cell_type": "code",
   "execution_count": 20,
   "metadata": {
    "collapsed": false
   },
   "outputs": [],
   "source": [
    "# Compare non-twins - Oscillatory Band Center Frequencies\n",
    "\n",
    "# Get a random sample of non-twin pairs, matching number of twin pairs\n",
    "n_non_twin = n_dz_pairs\n",
    "rand_inds = random.sample(range(len(non_twin_pairs)), n_non_twin)\n",
    "non_twin_samp = [non_twin_pairs[i] for i in rand_inds]\n",
    "non_twin_sl_corr_dat = np.zeros([n_non_twin, 2])\n",
    "\n",
    "# Loop through non-twin pairs, comparing them\n",
    "for ind, pair in enumerate(non_twin_samp):\n",
    "    dat = load_meg_list(pair, db=db, dat_source='HCP')\n",
    "    non_twin_sl_corr_dat[ind, :] = compare_slope_pair(dat)\n",
    "    \n",
    "# Get average correlation within bands across pairs\n",
    "non_twin_avg_sl_corr = np.mean(non_twin_sl_corr_dat, axis=0, keepdims=True)"
   ]
  },
  {
   "cell_type": "code",
   "execution_count": 21,
   "metadata": {
    "collapsed": false
   },
   "outputs": [
    {
     "name": "stdout",
     "output_type": "stream",
     "text": [
      "MZ Twin Slope Results: \n",
      "\t Slope \t :  0.3584\n",
      "DZ Twin Slope Results: \n",
      "\t Slope \t :  0.4361\n",
      "Non-Twin Slope Results: \n",
      "\t Slope \t :  0.3117\n"
     ]
    }
   ],
   "source": [
    "# Print out results\n",
    "print('MZ Twin Slope Results: ')\n",
    "print_twin_results(mz_avg_sl_corr, ['Slope'])\n",
    "print('DZ Twin Slope Results: ')\n",
    "print_twin_results(dz_avg_sl_corr, ['Slope'])\n",
    "print('Non-Twin Slope Results: ')\n",
    "print_twin_results(non_twin_avg_sl_corr, ['Slope'])"
   ]
  },
  {
   "cell_type": "markdown",
   "metadata": {},
   "source": [
    "## TEST CODE"
   ]
  },
  {
   "cell_type": "code",
   "execution_count": null,
   "metadata": {
    "collapsed": false
   },
   "outputs": [],
   "source": [
    "n_rand_pairs = len(rand_pairs)\n",
    "rand_corr_dat = np.zeros([n_rand_pairs, 4, 2])\n",
    "\n",
    "\n",
    "for ind, pair in enumerate(rand_pairs):\n",
    "    rand_corr_dat[ind, :, :] = compare_twin_pair(pair)"
   ]
  },
  {
   "cell_type": "code",
   "execution_count": null,
   "metadata": {
    "collapsed": true
   },
   "outputs": [],
   "source": [
    "rand_pairs = [(181232, 166438), (212318, 175237), (204521, 255639),\n",
    "              (191841, 293748), (214524, 352738), (223929, 111514)]"
   ]
  },
  {
   "cell_type": "code",
   "execution_count": null,
   "metadata": {
    "collapsed": true
   },
   "outputs": [],
   "source": [
    "pair_ind = 4\n",
    "\n",
    "# Set subject number to load\n",
    "subj_1 = mz_complete_pairs[pair_ind][0]\n",
    "subj_2 = mz_complete_pairs[pair_ind][1]"
   ]
  },
  {
   "cell_type": "code",
   "execution_count": null,
   "metadata": {
    "collapsed": false
   },
   "outputs": [],
   "source": [
    "np.mean(mz_corr_dat, axis=0)"
   ]
  },
  {
   "cell_type": "code",
   "execution_count": null,
   "metadata": {
    "collapsed": false
   },
   "outputs": [],
   "source": [
    "np.mean(dz_corr_dat, axis=0)"
   ]
  },
  {
   "cell_type": "code",
   "execution_count": null,
   "metadata": {
    "collapsed": false
   },
   "outputs": [],
   "source": [
    "np.mean(rand_corr_dat, axis=0)"
   ]
  },
  {
   "cell_type": "code",
   "execution_count": null,
   "metadata": {
    "collapsed": false
   },
   "outputs": [],
   "source": [
    "np.mean(non_twin_corr_dat, axis=0)"
   ]
  },
  {
   "cell_type": "code",
   "execution_count": null,
   "metadata": {
    "collapsed": true
   },
   "outputs": [],
   "source": []
  }
 ],
 "metadata": {
  "kernelspec": {
   "display_name": "Python 2",
   "language": "python",
   "name": "python2"
  },
  "language_info": {
   "codemirror_mode": {
    "name": "ipython",
    "version": 2
   },
   "file_extension": ".py",
   "mimetype": "text/x-python",
   "name": "python",
   "nbconvert_exporter": "python",
   "pygments_lexer": "ipython2",
   "version": "2.7.11"
  }
 },
 "nbformat": 4,
 "nbformat_minor": 0
}
