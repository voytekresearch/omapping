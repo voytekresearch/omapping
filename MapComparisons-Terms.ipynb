{
 "cells": [
  {
   "cell_type": "markdown",
   "metadata": {},
   "source": [
    "## OMEGA-MAPPIN - Map Comparisons\n",
    "\n",
    "This notebook runs through the analysis comparing different data types. \n",
    "\n",
    "Maps are all put into the same space - the 7500 vertices of the template brain. \n",
    "- Oscs, slopes, genes and terms are defined for each vertex.\n",
    "- Anat is defined over ROIs\n",
    "\n",
    "Data types availabe: electrophys (oscillations and slopes), genes, terms, and anatomical. \n",
    "\n",
    "## FUNCTION ANALYSIS\n",
    "\n",
    "Function data all stems from the NeuroSynth meta-analytic tool for fMRI data. \n",
    "\n",
    "NeuroSynth does textual analysis on fMRI papers, and weights cognitive terms to anatomical locations reported in the paper. Here, we estimate the loading for each term at each of our cortical locations. We can them compare which cognitive terms, relating to function, correlate with electrophysiological signals. "
   ]
  },
  {
   "cell_type": "code",
   "execution_count": null,
   "metadata": {
    "collapsed": false
   },
   "outputs": [],
   "source": [
    "# Import required libraries\n",
    "import sys\n",
    "\n",
    "# Import custom code from module om, and OO code for handling data\n",
    "sys.path.append('/Users/thomasdonoghue/Documents/GitCode/omegamappin/')\n",
    "from om.gen import *                    # Import general code \n",
    "from om.cl.mc_tg import *               # Import Map-Compare Classes for Terms/Genes Data\n",
    "from om.plts.mc_plts import *           # Import Map-Compare Plots\n",
    "\n",
    "# Set plots to display inline\n",
    "%matplotlib inline"
   ]
  },
  {
   "cell_type": "code",
   "execution_count": null,
   "metadata": {
    "collapsed": false
   },
   "outputs": [],
   "source": [
    "# Initialize MapComp object and oscillatory bands list\n",
    "db = OMDB()\n",
    "om_maps = MapCompTG(db)"
   ]
  },
  {
   "cell_type": "code",
   "execution_count": null,
   "metadata": {
    "collapsed": false
   },
   "outputs": [],
   "source": [
    "# Check files that are available\n",
    "db.check_map_files()"
   ]
  },
  {
   "cell_type": "code",
   "execution_count": null,
   "metadata": {
    "collapsed": false
   },
   "outputs": [],
   "source": [
    "# Load oscillation maps - here using the oscillation scores\n",
    "om_maps.load_meg_maps('Res_Group_85_Osc_Score')"
   ]
  },
  {
   "cell_type": "code",
   "execution_count": null,
   "metadata": {
    "collapsed": false
   },
   "outputs": [],
   "source": [
    "# Load slope map\n",
    "om_maps.load_slope_map('Res_Group_85')"
   ]
  },
  {
   "cell_type": "code",
   "execution_count": null,
   "metadata": {
    "collapsed": false
   },
   "outputs": [],
   "source": [
    "# Load term maps - here using 10 mm spatial estimation\n",
    "om_maps.load_term_maps('all_terms_r10_gaussian_estimation.csv')"
   ]
  },
  {
   "cell_type": "code",
   "execution_count": null,
   "metadata": {
    "collapsed": true
   },
   "outputs": [],
   "source": [
    "# Calculate the correlation between all oscillation maps and terms\n",
    "for osc in om_maps.bands:\n",
    "    om_maps.calc_corrs('Terms', osc, method='parallel')"
   ]
  },
  {
   "cell_type": "code",
   "execution_count": null,
   "metadata": {
    "collapsed": false
   },
   "outputs": [],
   "source": [
    "# Print out highest correlated terms for each oscillation band\n",
    "for osc in om_maps.bands:\n",
    "    om_maps.check_corrs('Terms', osc, 50)"
   ]
  },
  {
   "cell_type": "code",
   "execution_count": null,
   "metadata": {
    "collapsed": false
   },
   "outputs": [],
   "source": [
    "# Plot distribution of R and p-values\n",
    "pl_dat = 'Terms'\n",
    "pl_meg = 'Beta'\n",
    "plot_corrs(om_maps.corrs[pl_dat][pl_meg], om_maps.p_vals[pl_dat][pl_meg])"
   ]
  },
  {
   "cell_type": "code",
   "execution_count": null,
   "metadata": {
    "collapsed": false
   },
   "outputs": [],
   "source": [
    "# Save calculated osc correlations to file\n",
    "for osc in om_maps.bands:\n",
    "    om_maps.save_corrs('Terms', osc, 'Gr_85', save_as_npz=True, save_as_csv=True)"
   ]
  },
  {
   "cell_type": "code",
   "execution_count": null,
   "metadata": {
    "collapsed": false
   },
   "outputs": [],
   "source": [
    "# Calculate correlations with slopes\n",
    "om_maps.calc_corrs('Terms', 'Slopes', method='parallel')"
   ]
  },
  {
   "cell_type": "code",
   "execution_count": null,
   "metadata": {
    "collapsed": false
   },
   "outputs": [],
   "source": [
    "# Check the correlations between term values and slope values\n",
    "om_maps.check_corrs('Terms', 'Slopes')"
   ]
  },
  {
   "cell_type": "code",
   "execution_count": null,
   "metadata": {
    "collapsed": false
   },
   "outputs": [],
   "source": [
    "# Plot correlation R- and p-vals between terms & slopes\n",
    "pl_dat = 'Terms'\n",
    "pl_meg = 'Slopes'\n",
    "plot_corrs(om_maps.corrs[pl_dat][pl_meg], om_maps.p_vals[pl_dat][pl_meg])"
   ]
  },
  {
   "cell_type": "code",
   "execution_count": null,
   "metadata": {
    "collapsed": true
   },
   "outputs": [],
   "source": [
    "# Save out correlations between terms and slopes\n",
    "om_maps.save_corrs('Terms', 'Slopes', 'Gr_85', save_as_npz=True, save_as_csv=True)"
   ]
  },
  {
   "cell_type": "code",
   "execution_count": null,
   "metadata": {
    "collapsed": true
   },
   "outputs": [],
   "source": [
    "\n",
    "\n",
    "\n"
   ]
  }
 ],
 "metadata": {
  "kernelspec": {
   "display_name": "Python 2",
   "language": "python",
   "name": "python2"
  },
  "language_info": {
   "codemirror_mode": {
    "name": "ipython",
    "version": 2
   },
   "file_extension": ".py",
   "mimetype": "text/x-python",
   "name": "python",
   "nbconvert_exporter": "python",
   "pygments_lexer": "ipython2",
   "version": "2.7.11"
  }
 },
 "nbformat": 4,
 "nbformat_minor": 0
}
