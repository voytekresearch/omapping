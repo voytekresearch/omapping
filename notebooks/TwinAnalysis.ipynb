{
 "cells": [
  {
   "cell_type": "markdown",
   "metadata": {},
   "source": [
    "## Twin Analysis"
   ]
  },
  {
   "cell_type": "code",
   "execution_count": 32,
   "metadata": {
    "collapsed": false
   },
   "outputs": [],
   "source": [
    "# Import required libraries/functions\n",
    "from __future__ import print_function, division\n",
    "import sys\n",
    "import os\n",
    "import csv\n",
    "import numpy as  np\n",
    "\n",
    "from scipy.stats.stats import pearsonr\n",
    "\n",
    "# Import custom code from module om, including general functions and OO code for handling data\n",
    "sys.path.append('/Users/thomasdonoghue/Documents/GitCode/omegamappin/')\n",
    "\n",
    "from om.core.db import OMDB\n",
    "from om.core.osc import Osc\n",
    "from om.meg.single import MegData\n",
    "from om.meg.twin import get_twin_data, match_twins"
   ]
  },
  {
   "cell_type": "code",
   "execution_count": 24,
   "metadata": {
    "collapsed": false
   },
   "outputs": [
    {
     "name": "stdout",
     "output_type": "stream",
     "text": [
      "There are 18 MZ twin pairs.\n",
      "There are 19 DZ twin pairs.\n"
     ]
    }
   ],
   "source": [
    "# Pull out twin data from demographics file\n",
    "mz_twins, dz_twins, all_twins, not_twins,  = get_twin_data()\n",
    "\n",
    "# Match twin pairs\n",
    "mz_id_pairs, mz_singles = match_twins(mz_twins, 1)\n",
    "dz_id_pairs, dz_singles = match_twins(dz_twins, 1)\n",
    "\n",
    "# Check how many pairs where extracted\n",
    "print('There are', str(len(mz_id_pairs)), 'MZ twin pairs.')\n",
    "print('There are', str(len(dz_id_pairs)), 'DZ twin pairs.')"
   ]
  },
  {
   "cell_type": "code",
   "execution_count": 3,
   "metadata": {
    "collapsed": true
   },
   "outputs": [],
   "source": [
    "# Get database object and set up database to use\n",
    "db = OMDB()\n",
    "dat_source = 'HCP'"
   ]
  },
  {
   "cell_type": "code",
   "execution_count": 4,
   "metadata": {
    "collapsed": true
   },
   "outputs": [],
   "source": [
    "foof_files, _ = db.check_dat_files('foof', dat_source='HCP', verbose=False)"
   ]
  },
  {
   "cell_type": "code",
   "execution_count": 9,
   "metadata": {
    "collapsed": false
   },
   "outputs": [
    {
     "name": "stdout",
     "output_type": "stream",
     "text": [
      "33 Subject Files Not Available: \n",
      "[104012, 108323, 125525, 133019, 149741, 151526, 177746, 179245, 182840, 200109, 287248, 500222, 601127, 660951, 662551, 665254, 667056, 679770, 680957, 707749, 715950, 725751, 735148, 783462, 814649, 825048, 872764, 877168, 891667, 898176, 912447, 917255, 990366]\n"
     ]
    }
   ],
   "source": [
    "no_dat = []\n",
    "\n",
    "for f in all_twins:\n",
    "    if f not in foof_files:\n",
    "        no_dat.append(f)\n",
    "\n",
    "print(str(len(no_dat)), 'Subject Files Not Available: ')\n",
    "print(no_dat)"
   ]
  },
  {
   "cell_type": "code",
   "execution_count": 25,
   "metadata": {
    "collapsed": false
   },
   "outputs": [],
   "source": [
    "def check_complete_pairs(twin_ids, foof_dat):\n",
    "\n",
    "    complete_pairs = []\n",
    "\n",
    "    for pair in twin_ids:\n",
    "\n",
    "        if pair[0] in foof_files and pair[1] in foof_files:\n",
    "            complete_pairs.append(pair)\n",
    "    \n",
    "    return complete_pairs"
   ]
  },
  {
   "cell_type": "code",
   "execution_count": 26,
   "metadata": {
    "collapsed": false
   },
   "outputs": [],
   "source": [
    "mz_complete_pairs = check_complete_pairs(mz_id_pairs, foof_files)\n",
    "dz_complete_pairs = check_complete_pairs(dz_id_pairs, foof_files)"
   ]
  },
  {
   "cell_type": "code",
   "execution_count": 27,
   "metadata": {
    "collapsed": false
   },
   "outputs": [
    {
     "data": {
      "text/plain": [
       "[[164636, 214524],\n",
       " [181232, 191841],\n",
       " [195041, 204521],\n",
       " [116726, 257845],\n",
       " [233326, 352738]]"
      ]
     },
     "execution_count": 27,
     "metadata": {},
     "output_type": "execute_result"
    }
   ],
   "source": [
    "mz_complete_pairs"
   ]
  },
  {
   "cell_type": "code",
   "execution_count": 28,
   "metadata": {
    "collapsed": false
   },
   "outputs": [
    {
     "data": {
      "text/plain": [
       "[[100307, 255639],\n",
       " [109123, 111514],\n",
       " [113922, 166438],\n",
       " [175237, 406836],\n",
       " [162026, 568963],\n",
       " [112920, 223929],\n",
       " [191437, 559053],\n",
       " [174841, 212823],\n",
       " [198653, 581450],\n",
       " [162935, 283543],\n",
       " [212318, 293748]]"
      ]
     },
     "execution_count": 28,
     "metadata": {},
     "output_type": "execute_result"
    }
   ],
   "source": [
    "dz_complete_pairs"
   ]
  },
  {
   "cell_type": "code",
   "execution_count": 90,
   "metadata": {
    "collapsed": true
   },
   "outputs": [],
   "source": [
    "rand_pairs = [[181232, 166438], [212318, 175237], [204521, 255639],\n",
    "              [191841, 293748], [214524, 352738], [223929, 111514]]"
   ]
  },
  {
   "cell_type": "code",
   "execution_count": 68,
   "metadata": {
    "collapsed": true
   },
   "outputs": [],
   "source": [
    "pair_ind = 4\n",
    "\n",
    "# Set subject number to load\n",
    "subj_1 = mz_complete_pairs[pair_ind][0]\n",
    "subj_2 = mz_complete_pairs[pair_ind][1]"
   ]
  },
  {
   "cell_type": "code",
   "execution_count": 73,
   "metadata": {
    "collapsed": false
   },
   "outputs": [],
   "source": [
    "def compare_twin_pair(pair_inds):\n",
    "    \"\"\"   \"\"\"\n",
    "    \n",
    "    # Set up oscillation band definition\n",
    "    osc = Osc(default=True)\n",
    "\n",
    "    # Initialize data object and load data\n",
    "    meg_subj_1 = MegData(db, dat_source, osc)\n",
    "    meg_subj_1.import_foof(pair_inds[0], get_demo=True)\n",
    "    meg_subj_1.osc_bands_vertex()\n",
    "\n",
    "    meg_subj_2 = MegData(db, dat_source, osc)\n",
    "    meg_subj_2.import_foof(pair_inds[1], get_demo=True)\n",
    "    meg_subj_2.osc_bands_vertex()\n",
    "    \n",
    "    corr_dat = np.zeros([4, 2])\n",
    "    \n",
    "    for ind, band in enumerate(osc.bands):\n",
    "        corr_dat[ind, 0], corr_dat[ind, 1] = pearsonr(meg_subj_1.oscs[band][:, 0], meg_subj_2.oscs[band][:, 0])\n",
    "\n",
    "    return corr_dat"
   ]
  },
  {
   "cell_type": "code",
   "execution_count": 82,
   "metadata": {
    "collapsed": false
   },
   "outputs": [],
   "source": [
    "n_mz_pairs = len(mz_complete_pairs)\n",
    "mz_corr_dat = np.zeros([n_mz_pairs, 4, 2])\n",
    "\n",
    "for ind, pair in enumerate(mz_complete_pairs):\n",
    "\n",
    "    mz_corr_dat[ind, :, :] = compare_twin_pair(pair)"
   ]
  },
  {
   "cell_type": "code",
   "execution_count": 84,
   "metadata": {
    "collapsed": false
   },
   "outputs": [],
   "source": [
    "n_dz_pairs = len(dz_complete_pairs)\n",
    "dz_corr_dat = np.zeros([n_dz_pairs, 4, 2])\n",
    "\n",
    "for ind, pair in enumerate(dz_complete_pairs):\n",
    "\n",
    "    dz_corr_dat[ind, :, :] = compare_twin_pair(pair)"
   ]
  },
  {
   "cell_type": "code",
   "execution_count": 91,
   "metadata": {
    "collapsed": true
   },
   "outputs": [],
   "source": [
    "n_rand_pairs = len(rand_pairs)\n",
    "rand_corr_dat = np.zeros([n_rand_pairs, 4, 2])\n",
    "\n",
    "for ind, pair in enumerate(rand_pairs):\n",
    "\n",
    "    rand_corr_dat[ind, :, :] = compare_twin_pair(pair)"
   ]
  },
  {
   "cell_type": "code",
   "execution_count": 86,
   "metadata": {
    "collapsed": false
   },
   "outputs": [
    {
     "data": {
      "text/plain": [
       "array([[  2.03199209e-01,   7.63443429e-02],\n",
       "       [  2.20574075e-01,   2.28331086e-28],\n",
       "       [  1.54657319e-01,   9.59576766e-04],\n",
       "       [  1.82610148e-01,   5.48417021e-02]])"
      ]
     },
     "execution_count": 86,
     "metadata": {},
     "output_type": "execute_result"
    }
   ],
   "source": [
    "np.mean(mz_corr_dat, axis=0)"
   ]
  },
  {
   "cell_type": "code",
   "execution_count": 87,
   "metadata": {
    "collapsed": false
   },
   "outputs": [
    {
     "data": {
      "text/plain": [
       "array([[  1.71742018e-01,   2.73093832e-06],\n",
       "       [  1.29018269e-01,   4.89399153e-05],\n",
       "       [  1.14158743e-01,   8.14871060e-03],\n",
       "       [  1.04679615e-01,   1.45673227e-02]])"
      ]
     },
     "execution_count": 87,
     "metadata": {},
     "output_type": "execute_result"
    }
   ],
   "source": [
    "np.mean(dz_corr_dat, axis=0)"
   ]
  },
  {
   "cell_type": "code",
   "execution_count": 96,
   "metadata": {
    "collapsed": false
   },
   "outputs": [
    {
     "data": {
      "text/plain": [
       "array([[ 0.1362881 ,  0.01306603],\n",
       "       [ 0.10844563,  0.12799352],\n",
       "       [ 0.00249754,  0.21088716],\n",
       "       [ 0.01660769,  0.15087963]])"
      ]
     },
     "execution_count": 96,
     "metadata": {},
     "output_type": "execute_result"
    }
   ],
   "source": [
    "np.mean(rand_corr_dat, axis=0)"
   ]
  },
  {
   "cell_type": "code",
   "execution_count": 93,
   "metadata": {
    "collapsed": false
   },
   "outputs": [
    {
     "data": {
      "text/plain": [
       "array([[[  1.82797929e-001,   2.32078417e-057],\n",
       "        [  1.79056004e-001,   4.50561744e-055],\n",
       "        [ -1.78025052e-001,   1.88521574e-054],\n",
       "        [ -4.96219727e-002,   1.71322077e-005]],\n",
       "\n",
       "       [[  2.02047367e-001,   6.24959373e-070],\n",
       "        [  7.61525058e-002,   4.01585862e-011],\n",
       "        [ -3.52850774e-002,   2.24146995e-003],\n",
       "        [ -3.24054087e-002,   5.00580453e-003]],\n",
       "\n",
       "       [[  1.30942729e-001,   4.84632592e-030],\n",
       "        [  3.40766616e-003,   7.67944826e-001],\n",
       "        [ -9.37929229e-003,   4.16703837e-001],\n",
       "        [ -2.03498161e-002,   7.80296878e-002]],\n",
       "\n",
       "       [[  2.03248111e-002,   7.83961624e-002],\n",
       "        [  4.97468223e-002,   1.63142603e-005],\n",
       "        [ -2.23751397e-003,   8.46377639e-001],\n",
       "        [ -7.25802922e-002,   3.11608291e-010]],\n",
       "\n",
       "       [[  6.30380942e-002,   4.66091912e-008],\n",
       "        [  1.58297889e-001,   2.77862105e-043],\n",
       "        [  1.08223543e-001,   5.53538035e-021],\n",
       "        [  2.59485464e-003,   8.22225170e-001]],\n",
       "\n",
       "       [[  2.18577687e-001,   8.24750751e-082],\n",
       "        [  1.84012884e-001,   4.09180405e-058],\n",
       "        [  1.31688626e-001,   2.28262210e-030],\n",
       "        [  2.72008745e-001,   2.36322184e-127]]])"
      ]
     },
     "execution_count": 93,
     "metadata": {},
     "output_type": "execute_result"
    }
   ],
   "source": [
    "rand_corr_dat"
   ]
  },
  {
   "cell_type": "code",
   "execution_count": 100,
   "metadata": {
    "collapsed": false
   },
   "outputs": [
    {
     "data": {
      "text/plain": [
       "array([  1.71322077e-005,   5.00580453e-003,   7.80296878e-002,\n",
       "         3.11608291e-010,   8.22225170e-001,   2.36322184e-127])"
      ]
     },
     "execution_count": 100,
     "metadata": {},
     "output_type": "execute_result"
    }
   ],
   "source": [
    "rand_corr_dat[:, 3, 1]"
   ]
  },
  {
   "cell_type": "code",
   "execution_count": null,
   "metadata": {
    "collapsed": true
   },
   "outputs": [],
   "source": []
  }
 ],
 "metadata": {
  "kernelspec": {
   "display_name": "Python 2",
   "language": "python",
   "name": "python2"
  },
  "language_info": {
   "codemirror_mode": {
    "name": "ipython",
    "version": 2
   },
   "file_extension": ".py",
   "mimetype": "text/x-python",
   "name": "python",
   "nbconvert_exporter": "python",
   "pygments_lexer": "ipython2",
   "version": "2.7.11"
  }
 },
 "nbformat": 4,
 "nbformat_minor": 0
}
