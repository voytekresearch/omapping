{
 "cells": [
  {
   "cell_type": "markdown",
   "metadata": {},
   "source": [
    "## Twin Analysis\n",
    "\n",
    "The HCP databases uses a twin sample, allowing for the comparison of monozygotic (MZ) vs dizygotic (DZ) twins. \n",
    "\n",
    "This allows us to compare the heritability of oscillations."
   ]
  },
  {
   "cell_type": "code",
   "execution_count": 1,
   "metadata": {
    "collapsed": false
   },
   "outputs": [],
   "source": [
    "# Import required libraries/functions\n",
    "from __future__ import print_function, division\n",
    "import sys\n",
    "import random\n",
    "import itertools\n",
    "import numpy as  np\n",
    "\n",
    "# Import custom code from module om, including general functions and OO code for handling data\n",
    "sys.path.append('/Users/thomasdonoghue/Documents/GitCode/omegamappin/')\n",
    "\n",
    "from om.core.db import OMDB\n",
    "from om.core.osc import Osc\n",
    "from om.meg.twin import get_twin_data, match_twins, check_complete_pairs, rm_twin_pairs, compare_pair"
   ]
  },
  {
   "cell_type": "code",
   "execution_count": 2,
   "metadata": {
    "collapsed": false
   },
   "outputs": [
    {
     "name": "stdout",
     "output_type": "stream",
     "text": [
      "There are 18 MZ twin pairs.\n",
      "There are 19 DZ twin pairs.\n"
     ]
    }
   ],
   "source": [
    "# Pull out twin data from demographics file\n",
    "mz_twins, dz_twins, all_twins, not_twins = get_twin_data()\n",
    "\n",
    "# Match twin pairs\n",
    "mz_id_pairs, mz_singles = match_twins(mz_twins, 1)\n",
    "dz_id_pairs, dz_singles = match_twins(dz_twins, 1)\n",
    "\n",
    "# Check how many pairs where extracted\n",
    "print('There are', str(len(mz_id_pairs)), 'MZ twin pairs.')\n",
    "print('There are', str(len(dz_id_pairs)), 'DZ twin pairs.')"
   ]
  },
  {
   "cell_type": "code",
   "execution_count": 3,
   "metadata": {
    "collapsed": true
   },
   "outputs": [],
   "source": [
    "# Get database object and set up database to use\n",
    "db = OMDB()\n",
    "dat_source = 'HCP'"
   ]
  },
  {
   "cell_type": "code",
   "execution_count": 4,
   "metadata": {
    "collapsed": false
   },
   "outputs": [
    {
     "name": "stdout",
     "output_type": "stream",
     "text": [
      "33 Subject Files Not Available: \n",
      "[104012, 108323, 125525, 133019, 149741, 151526, 177746, 179245, 182840, 200109, 287248, 500222, 601127, 660951, 662551, 665254, 667056, 679770, 680957, 707749, 715950, 725751, 735148, 783462, 814649, 825048, 872764, 877168, 891667, 898176, 912447, 917255, 990366]\n"
     ]
    }
   ],
   "source": [
    "# Not all HCP files have been processed. Check which subjects have not yet been run\n",
    "\n",
    "# Check all FOOFed files from the HCP database\n",
    "foof_files, _ = db.check_dat_files('foof', dat_source='HCP', verbose=False)\n",
    "\n",
    "# Check which subjects listed in the demographic information are not yet FOOFed\n",
    "no_dat = []\n",
    "for f in all_twins:\n",
    "    if f not in foof_files:\n",
    "        no_dat.append(f)\n",
    "\n",
    "# Print out results\n",
    "print(str(len(no_dat)), 'Subject Files Not Available: ')\n",
    "print(no_dat)"
   ]
  },
  {
   "cell_type": "code",
   "execution_count": 5,
   "metadata": {
    "collapsed": false
   },
   "outputs": [
    {
     "name": "stdout",
     "output_type": "stream",
     "text": [
      "There are 5 complete MZ twin pairs.\n",
      "There are 11 complete MZ twin pairs.\n"
     ]
    }
   ],
   "source": [
    "# Given the missing data, check which twin pairs are complete\n",
    "mz_complete_pairs = check_complete_pairs(mz_id_pairs, foof_files)\n",
    "dz_complete_pairs = check_complete_pairs(dz_id_pairs, foof_files)\n",
    "\n",
    "# Print out number of available pairs by twin type\n",
    "print('There are', str(len(mz_complete_pairs)), 'complete MZ twin pairs.')\n",
    "print('There are', str(len(dz_complete_pairs)), 'complete MZ twin pairs.')"
   ]
  },
  {
   "cell_type": "code",
   "execution_count": 6,
   "metadata": {
    "collapsed": false
   },
   "outputs": [],
   "source": [
    "# Get a list of all possible non-twin pairs, to compare to\n",
    "all_pairs = list(itertools.combinations(foof_files, 2))\n",
    "non_twin_pairs = rm_twin_pairs(all_pairs, mz_id_pairs + dz_id_pairs)"
   ]
  },
  {
   "cell_type": "markdown",
   "metadata": {},
   "source": [
    "### Center Frequency Comparison\n",
    "\n",
    "The following compares the center frequencies from within oscillatory bands. \n",
    "\n",
    "NOTE: As implemented, the center-frequency comparison is not specific to how subjects are similar/different. \n",
    "Subjects can differ in either:\n",
    "- The spatial topography across which the oscillation band is found and/or\n",
    "- The center frequencies within the vertices where the oscillatory band is found\n",
    "\n",
    "^ This can/will be parcelled out in further analyses:\n",
    "- A basic check is simply to look at the degree of overlap of oscillatory band topographies between subjects. "
   ]
  },
  {
   "cell_type": "code",
   "execution_count": 7,
   "metadata": {
    "collapsed": false
   },
   "outputs": [],
   "source": [
    "# Compare MZ twins - Oscillatory Band Center Frequencies\n",
    "\n",
    "# Check how many twin pairs are available\n",
    "n_mz_pairs = len(mz_complete_pairs)\n",
    "mz_corr_dat = np.zeros([n_mz_pairs, 4, 2])\n",
    "\n",
    "# Loop through MZ twin pairs, comparing them\n",
    "for ind, pair in enumerate(mz_complete_pairs):\n",
    "    mz_corr_dat[ind, :, :] = compare_pair(pair)\n",
    "    \n",
    "# Get average correlation within bands across pairs\n",
    "mz_avg_corr = np.mean(mz_corr_dat, axis=0)"
   ]
  },
  {
   "cell_type": "code",
   "execution_count": 8,
   "metadata": {
    "collapsed": false
   },
   "outputs": [],
   "source": [
    "# Compare DZ twins - Oscillatory Band Center Frequencies\n",
    "\n",
    "# Check how many twin pairs are available\n",
    "n_dz_pairs = len(dz_complete_pairs)\n",
    "dz_corr_dat = np.zeros([n_dz_pairs, 4, 2])\n",
    "\n",
    "# Loop through DZ twin pairs, comparing them\n",
    "for ind, pair in enumerate(dz_complete_pairs):\n",
    "    dz_corr_dat[ind, :, :] = compare_pair(pair)\n",
    "    \n",
    "# Get average correlation within bands across pairs\n",
    "dz_avg_corr = np.mean(dz_corr_dat, axis=0)"
   ]
  },
  {
   "cell_type": "code",
   "execution_count": 9,
   "metadata": {
    "collapsed": false
   },
   "outputs": [],
   "source": [
    "# Compare non-twins - Oscillatory Band Center Frequencies\n",
    "\n",
    "# Get a random sample of non-twin pairs, matching number of twin pairs\n",
    "n_non_twin = n_dz_pairs\n",
    "rand_inds = random.sample(range(len(non_twin_pairs)), n_non_twin)\n",
    "non_twin_samp = [non_twin_pairs[i] for i in rand_inds]\n",
    "non_twin_corr_dat = np.zeros([n_non_twin, 4, 2])\n",
    "\n",
    "# Loop through non-twin pairs, comparing them\n",
    "for ind, pair in enumerate(non_twin_samp):\n",
    "    non_twin_corr_dat[ind, :, :] = compare_pair(pair)\n",
    "    \n",
    "# Get average correlation within bands across pairs\n",
    "non_twin_avg_corr = np.mean(non_twin_corr_dat, axis=0)"
   ]
  },
  {
   "cell_type": "code",
   "execution_count": 11,
   "metadata": {
    "collapsed": false
   },
   "outputs": [
    {
     "name": "stdout",
     "output_type": "stream",
     "text": [
      "MZ Twin Oscillatory Band Center Frequency Results: \n",
      "\t Theta  :  0.2032\n",
      "\t Alpha  :  0.1547\n",
      "\t Beta  :  0.2206\n",
      "\t LowGamma  :  0.1826\n",
      "DZ Twin Oscillatory Band Center Frequency Results: \n",
      "\t Theta  :  0.1717\n",
      "\t Alpha  :  0.1142\n",
      "\t Beta  :  0.1290\n",
      "\t LowGamma  :  0.1047\n",
      "Non-Twin Oscillatory Band Center Frequency Results: \n",
      "\t Theta  :  0.1496\n",
      "\t Alpha  :  0.0578\n",
      "\t Beta  :  0.1176\n",
      "\t LowGamma  :  0.0349\n"
     ]
    }
   ],
   "source": [
    "# Check Results\n",
    "\n",
    "osc = Osc(default=True)\n",
    "\n",
    "def print_twin_results(corr_dat, labels):\n",
    "    \"\"\"   \"\"\"\n",
    "    for i in range(len(labels)):\n",
    "        print('\\t', labels[i], ' : ', '{:5.4f}'.format(corr_dat[i, 0]))\n",
    "\n",
    "print('MZ Twin Oscillatory Band Center Frequency Results: ')\n",
    "print_twin_results(mz_avg_corr, osc.bands.keys())\n",
    "print('DZ Twin Oscillatory Band Center Frequency Results: ')\n",
    "print_twin_results(dz_avg_corr, osc.bands.keys())\n",
    "print('Non-Twin Oscillatory Band Center Frequency Results: ')\n",
    "print_twin_results(non_twin_avg_corr, osc.bands.keys())"
   ]
  },
  {
   "cell_type": "code",
   "execution_count": null,
   "metadata": {
    "collapsed": true
   },
   "outputs": [],
   "source": []
  },
  {
   "cell_type": "markdown",
   "metadata": {},
   "source": [
    "## TEST CODE"
   ]
  },
  {
   "cell_type": "code",
   "execution_count": 1,
   "metadata": {
    "collapsed": false
   },
   "outputs": [],
   "source": [
    "n_rand_pairs = len(rand_pairs)\n",
    "rand_corr_dat = np.zeros([n_rand_pairs, 4, 2])\n",
    "\n",
    "\n",
    "for ind, pair in enumerate(rand_pairs):\n",
    "    rand_corr_dat[ind, :, :] = compare_twin_pair(pair)"
   ]
  },
  {
   "cell_type": "code",
   "execution_count": 90,
   "metadata": {
    "collapsed": true
   },
   "outputs": [],
   "source": [
    "rand_pairs = [[181232, 166438], [212318, 175237], [204521, 255639],\n",
    "              [191841, 293748], [214524, 352738], [223929, 111514]]"
   ]
  },
  {
   "cell_type": "code",
   "execution_count": 68,
   "metadata": {
    "collapsed": true
   },
   "outputs": [],
   "source": [
    "pair_ind = 4\n",
    "\n",
    "# Set subject number to load\n",
    "subj_1 = mz_complete_pairs[pair_ind][0]\n",
    "subj_2 = mz_complete_pairs[pair_ind][1]"
   ]
  },
  {
   "cell_type": "code",
   "execution_count": 10,
   "metadata": {
    "collapsed": false
   },
   "outputs": [
    {
     "data": {
      "text/plain": [
       "array([[  2.03199209e-01,   7.63443429e-02],\n",
       "       [  1.54657319e-01,   9.59576766e-04],\n",
       "       [  2.20574075e-01,   2.28331086e-28],\n",
       "       [  1.82610148e-01,   5.48417021e-02]])"
      ]
     },
     "execution_count": 10,
     "metadata": {},
     "output_type": "execute_result"
    }
   ],
   "source": [
    "np.mean(mz_corr_dat, axis=0)"
   ]
  },
  {
   "cell_type": "code",
   "execution_count": 11,
   "metadata": {
    "collapsed": false
   },
   "outputs": [
    {
     "data": {
      "text/plain": [
       "array([[  1.71742018e-01,   2.73093832e-06],\n",
       "       [  1.14158743e-01,   8.14871060e-03],\n",
       "       [  1.29018269e-01,   4.89399153e-05],\n",
       "       [  1.04679615e-01,   1.45673227e-02]])"
      ]
     },
     "execution_count": 11,
     "metadata": {},
     "output_type": "execute_result"
    }
   ],
   "source": [
    "np.mean(dz_corr_dat, axis=0)"
   ]
  },
  {
   "cell_type": "code",
   "execution_count": 96,
   "metadata": {
    "collapsed": false
   },
   "outputs": [
    {
     "data": {
      "text/plain": [
       "array([[ 0.1362881 ,  0.01306603],\n",
       "       [ 0.10844563,  0.12799352],\n",
       "       [ 0.00249754,  0.21088716],\n",
       "       [ 0.01660769,  0.15087963]])"
      ]
     },
     "execution_count": 96,
     "metadata": {},
     "output_type": "execute_result"
    }
   ],
   "source": [
    "np.mean(rand_corr_dat, axis=0)"
   ]
  },
  {
   "cell_type": "code",
   "execution_count": 34,
   "metadata": {
    "collapsed": false
   },
   "outputs": [
    {
     "data": {
      "text/plain": [
       "array([[ 0.11783372,  0.10345028],\n",
       "       [ 0.07169276,  0.17776039],\n",
       "       [ 0.09236982,  0.08019821],\n",
       "       [ 0.09158019,  0.10449761]])"
      ]
     },
     "execution_count": 34,
     "metadata": {},
     "output_type": "execute_result"
    }
   ],
   "source": [
    "np.mean(non_twin_corr_dat, axis=0)"
   ]
  },
  {
   "cell_type": "code",
   "execution_count": 100,
   "metadata": {
    "collapsed": false
   },
   "outputs": [
    {
     "data": {
      "text/plain": [
       "array([  1.71322077e-005,   5.00580453e-003,   7.80296878e-002,\n",
       "         3.11608291e-010,   8.22225170e-001,   2.36322184e-127])"
      ]
     },
     "execution_count": 100,
     "metadata": {},
     "output_type": "execute_result"
    }
   ],
   "source": [
    "rand_corr_dat[:, 3, 1]"
   ]
  },
  {
   "cell_type": "code",
   "execution_count": null,
   "metadata": {
    "collapsed": true
   },
   "outputs": [],
   "source": []
  }
 ],
 "metadata": {
  "kernelspec": {
   "display_name": "Python 2",
   "language": "python",
   "name": "python2"
  },
  "language_info": {
   "codemirror_mode": {
    "name": "ipython",
    "version": 2
   },
   "file_extension": ".py",
   "mimetype": "text/x-python",
   "name": "python",
   "nbconvert_exporter": "python",
   "pygments_lexer": "ipython2",
   "version": "2.7.11"
  }
 },
 "nbformat": 4,
 "nbformat_minor": 0
}
