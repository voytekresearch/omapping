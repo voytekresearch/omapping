{
 "cells": [
  {
   "cell_type": "markdown",
   "metadata": {},
   "source": [
    "## Twin Analysis\n",
    "\n",
    "The HCP databases uses a twin sample, allowing for the comparison of monozygotic (MZ) vs dizygotic (DZ) twins. \n",
    "\n",
    "This allows us to compare the heritability of oscillations."
   ]
  },
  {
   "cell_type": "code",
   "execution_count": 1,
   "metadata": {
    "collapsed": true
   },
   "outputs": [],
   "source": [
    "%matplotlib inline\n",
    "\n",
    "import random\n",
    "import itertools\n",
    "\n",
    "import numpy as  np\n",
    "from scipy.stats import ttest_ind, bartlett\n",
    "import matplotlib.pyplot as plt\n",
    "\n",
    "from om.core.db import OMDB\n",
    "from om.core.osc import Osc\n",
    "from om.core.io import load_meg_pairs\n",
    "from om.core.utils import check_file_status\n",
    "from om.meg.twin import *"
   ]
  },
  {
   "cell_type": "code",
   "execution_count": 2,
   "metadata": {},
   "outputs": [
    {
     "name": "stdout",
     "output_type": "stream",
     "text": [
      "There are 18 MZ twin pairs.\n",
      "There are 19 DZ twin pairs.\n"
     ]
    }
   ],
   "source": [
    "# Pull out twin data from demographics file\n",
    "mz_twins, dz_twins, all_twins, not_twins = get_twin_data()\n",
    "\n",
    "# Match twin pairs\n",
    "mz_id_pairs, mz_singles = match_twins(mz_twins)\n",
    "dz_id_pairs, dz_singles = match_twins(dz_twins)\n",
    "\n",
    "# Check how many pairs where extracted\n",
    "print('There are', str(len(mz_id_pairs)), 'MZ twin pairs.')\n",
    "print('There are', str(len(dz_id_pairs)), 'DZ twin pairs.')"
   ]
  },
  {
   "cell_type": "code",
   "execution_count": 3,
   "metadata": {},
   "outputs": [],
   "source": [
    "# Get database object and set up database to use\n",
    "db = OMDB()\n",
    "dat_source = 'HCP'\n",
    "\n",
    "# Check which twin subjects are available\n",
    "av_dat, no_dat = check_file_status(all_twins, db, dat_source='HCP', verbose=False)\n",
    "\n",
    "# Drop outlier subject\n",
    "av_dat = list(set(av_dat) - set([662551]))"
   ]
  },
  {
   "cell_type": "code",
   "execution_count": 4,
   "metadata": {
    "scrolled": true
   },
   "outputs": [
    {
     "name": "stdout",
     "output_type": "stream",
     "text": [
      "There are 11 complete MZ twin pairs.\n",
      "There are 17 complete DZ twin pairs.\n"
     ]
    }
   ],
   "source": [
    "# Given the missing data, check which twin pairs are complete\n",
    "mz_complete_pairs = check_complete_pairs(mz_id_pairs, av_dat)\n",
    "dz_complete_pairs = check_complete_pairs(dz_id_pairs, av_dat)\n",
    "\n",
    "# Print out number of available pairs by twin type\n",
    "print('There are', str(len(mz_complete_pairs)), 'complete MZ twin pairs.')\n",
    "print('There are', str(len(dz_complete_pairs)), 'complete DZ twin pairs.')"
   ]
  },
  {
   "cell_type": "code",
   "execution_count": 5,
   "metadata": {},
   "outputs": [
    {
     "name": "stdout",
     "output_type": "stream",
     "text": [
      "MZ Twins Incomplete Pairs:\n",
      "[(189349, 500222), (151526, 352132), (149741, 433839), (187547, 200109), (104012, 153732), (102816, 680957), (191033, 872764)]\n",
      "DZ Twins Incomplete Pairs:\n",
      "[(182840, 205119), (108323, 140117)]\n"
     ]
    }
   ],
   "source": [
    "# Check which pairs are missing (at least one) subject\n",
    "print('MZ Twins Incomplete Pairs:')\n",
    "print(list(set(mz_id_pairs) - set(mz_complete_pairs)))\n",
    "print('DZ Twins Incomplete Pairs:')\n",
    "print(list(set(dz_id_pairs) - set(dz_complete_pairs)))"
   ]
  },
  {
   "cell_type": "code",
   "execution_count": 6,
   "metadata": {
    "collapsed": true
   },
   "outputs": [],
   "source": [
    "# Get a list of all possible non-twin pairs, to compare to\n",
    "all_pairs = list(itertools.combinations(av_dat, 2))\n",
    "non_twin_pairs = rm_twin_pairs(all_pairs, mz_id_pairs + dz_id_pairs)\n",
    "\n",
    "# Of all possible combinations, get a random sample of non-twin pairs, matching number of twin pairs\n",
    "n_non_twin = len(mz_complete_pairs)\n",
    "#n_non_twin = len(dz_complete_pairs)\n",
    "#n_non_twin = 30\n",
    "rand_inds = random.sample(range(len(non_twin_pairs)), n_non_twin)\n",
    "non_twin_pairs = [non_twin_pairs[i] for i in rand_inds]"
   ]
  },
  {
   "cell_type": "code",
   "execution_count": 7,
   "metadata": {},
   "outputs": [
    {
     "name": "stdout",
     "output_type": "stream",
     "text": [
      "# MZ Pairs Used: 11\n",
      "# DZ Pairs Used: 17\n",
      "# NT Pairs Used: 11\n"
     ]
    }
   ],
   "source": [
    "print('# MZ Pairs Used:', len(mz_complete_pairs))\n",
    "print('# DZ Pairs Used:', len(dz_complete_pairs))\n",
    "print('# NT Pairs Used:', len(non_twin_pairs))"
   ]
  },
  {
   "cell_type": "markdown",
   "metadata": {},
   "source": [
    "## Load Data"
   ]
  },
  {
   "cell_type": "code",
   "execution_count": 8,
   "metadata": {
    "collapsed": true
   },
   "outputs": [],
   "source": [
    "# Get database object and oscillatory band definition\n",
    "db = OMDB()"
   ]
  },
  {
   "cell_type": "code",
   "execution_count": 9,
   "metadata": {
    "collapsed": true
   },
   "outputs": [],
   "source": [
    "# Set up oscillation band object \n",
    "osc = Osc()\n",
    "osc.add_band('Theta', [3, 7])\n",
    "osc.add_band('Alpha', [7, 14])\n",
    "osc.add_band('Beta', [15, 30])"
   ]
  },
  {
   "cell_type": "code",
   "execution_count": 10,
   "metadata": {},
   "outputs": [],
   "source": [
    "# Load subjects into pairs\n",
    "mz_twin_dat = load_meg_pairs(mz_complete_pairs, osc_bands_vert=True, all_oscs=True, osc=osc, db=db)\n",
    "dz_twin_dat = load_meg_pairs(dz_complete_pairs, osc_bands_vert=True, all_oscs=True, osc=osc, db=db)\n",
    "non_twin_dat = load_meg_pairs(non_twin_pairs, osc_bands_vert=True, all_oscs=True, osc=osc, db=db)"
   ]
  },
  {
   "cell_type": "code",
   "execution_count": 11,
   "metadata": {},
   "outputs": [
    {
     "name": "stdout",
     "output_type": "stream",
     "text": [
      "MZ vs DZ\t Ttest_indResult(statistic=-1.6096496209887252, pvalue=0.11330548762157502)\n",
      "MZ vs NT\t Ttest_indResult(statistic=-0.79004491351110873, pvalue=0.43393965204710649)\n",
      "DZ vs NT\t Ttest_indResult(statistic=0.78505095591073804, pvalue=0.43585450254794655)\n"
     ]
    }
   ],
   "source": [
    "# Control: check that the group don't significantly differ in age\n",
    "print('MZ vs DZ\\t', ttest_ind(get_pair_ages(mz_twin_dat), get_pair_ages(dz_twin_dat)))\n",
    "print('MZ vs NT\\t', ttest_ind(get_pair_ages(mz_twin_dat), get_pair_ages(non_twin_dat)))\n",
    "print('DZ vs NT\\t', ttest_ind(get_pair_ages(dz_twin_dat), get_pair_ages(non_twin_dat)))"
   ]
  },
  {
   "cell_type": "markdown",
   "metadata": {},
   "source": [
    "## Peak Frequencies\n",
    "\n",
    "Compares the peak frequencies within oscillatory bands between twins and non-twins."
   ]
  },
  {
   "cell_type": "code",
   "execution_count": 12,
   "metadata": {
    "collapsed": true
   },
   "outputs": [],
   "source": [
    "# Settings\n",
    "peak_type = 'all'\n",
    "avg = 'median'\n",
    "\n",
    "# Compare peak frequencies\n",
    "mz_peak_avg, mz_peak_dat = comp_peak_freq(mz_twin_dat, peak_type=peak_type, avg=avg)\n",
    "dz_peak_avg, dz_peak_dat = comp_peak_freq(dz_twin_dat, peak_type=peak_type, avg=avg)\n",
    "non_twin_peak_avg, non_twin_peak_dat = comp_peak_freq(non_twin_dat, peak_type=peak_type, avg=avg)"
   ]
  },
  {
   "cell_type": "code",
   "execution_count": 13,
   "metadata": {},
   "outputs": [
    {
     "name": "stdout",
     "output_type": "stream",
     "text": [
      "MZ Twin Oscillatory Band Peak Frequency Results: \n",
      "\t Theta \t :  0.2169\n",
      "\t Alpha \t :  0.2975\n",
      "\t Beta \t :  0.6099\n",
      "DZ Twin Oscillatory Band Peak Frequency Results: \n",
      "\t Theta \t :  0.5576\n",
      "\t Alpha \t :  0.8389\n",
      "\t Beta \t :  1.0958\n",
      "Non-Twin Oscillatory Band Peak Frequency Results: \n",
      "\t Theta \t :  1.0017\n",
      "\t Alpha \t :  1.0024\n",
      "\t Beta \t :  0.9742\n"
     ]
    }
   ],
   "source": [
    "# Print out Results\n",
    "print('MZ Twin Oscillatory Band Peak Frequency Results: ')\n",
    "print_twin_results_vec(mz_peak_avg, osc.labels)\n",
    "print('DZ Twin Oscillatory Band Peak Frequency Results: ')\n",
    "print_twin_results_vec(dz_peak_avg, osc.labels)\n",
    "print('Non-Twin Oscillatory Band Peak Frequency Results: ')\n",
    "print_twin_results_vec(non_twin_peak_avg, osc.labels)"
   ]
  },
  {
   "cell_type": "code",
   "execution_count": 14,
   "metadata": {},
   "outputs": [
    {
     "name": "stdout",
     "output_type": "stream",
     "text": [
      "Ttest_indResult(statistic=-2.045144310799035, pvalue=0.05352647006459145)\n",
      "Ttest_indResult(statistic=-1.7468390478746374, pvalue=0.10173284203967325)\n",
      "Ttest_indResult(statistic=0.42170766502030893, pvalue=0.67672523371454318)\n"
     ]
    }
   ],
   "source": [
    "# Statistically compare differences\n",
    "band_ind = 2\n",
    "print(ttest_ind(mz_peak_dat[:, band_ind], dz_peak_dat[:, band_ind], equal_var=False))\n",
    "print(ttest_ind(mz_peak_dat[:, band_ind], non_twin_peak_dat[:, band_ind], equal_var=False))\n",
    "print(ttest_ind(dz_peak_dat[:, band_ind], non_twin_peak_dat[:, band_ind], equal_var=False))"
   ]
  },
  {
   "cell_type": "code",
   "execution_count": 15,
   "metadata": {},
   "outputs": [
    {
     "data": {
      "image/png": "[encoded data removed]",
      "text/plain": [
       "<matplotlib.figure.Figure at 0x1a147af588>"
      ]
     },
     "metadata": {},
     "output_type": "display_data"
    }
   ],
   "source": [
    "plt.boxplot([mz_peak_dat[:, band_ind], dz_peak_dat[:, band_ind], non_twin_peak_dat[:, band_ind]]);\n",
    "plt.xticks([1, 2, 3], ['MZ', 'DZ', 'Non']);"
   ]
  },
  {
   "cell_type": "markdown",
   "metadata": {},
   "source": [
    "### Oscillatory Band - Spatial Overlap\n",
    "\n",
    "Compares the spatial topography of oscillatory bands between pairs of subject. \n",
    "\n",
    "Comparison is the % overlap in terms of which vertices display the oscillation."
   ]
  },
  {
   "cell_type": "code",
   "execution_count": 16,
   "metadata": {
    "collapsed": true
   },
   "outputs": [],
   "source": [
    "# Compare spatial overlap\n",
    "mz_space_avg, mz_space_dat = comp_osc_space(mz_twin_dat)\n",
    "dz_space_avg, dz_space_dat = comp_osc_space(dz_twin_dat)\n",
    "non_twin_space_avg, non_twin_space_dat = comp_osc_space(non_twin_dat)"
   ]
  },
  {
   "cell_type": "code",
   "execution_count": 17,
   "metadata": {},
   "outputs": [
    {
     "name": "stdout",
     "output_type": "stream",
     "text": [
      "MZ Twin Oscillatory Band Spatial Overlap Results: \n",
      "\t Theta \t :  0.6008\n",
      "\t Alpha \t :  0.8949\n",
      "\t Beta \t :  0.9057\n",
      "DZ Twin Oscillatory Band Spatial Overlap Results: \n",
      "\t Theta \t :  0.6094\n",
      "\t Alpha \t :  0.9147\n",
      "\t Beta \t :  0.8687\n",
      "Non-Twin Oscillatory Band Spatial Overlap Results: \n",
      "\t Theta \t :  0.6125\n",
      "\t Alpha \t :  0.8830\n",
      "\t Beta \t :  0.8992\n"
     ]
    }
   ],
   "source": [
    "# Print out results - each is the\n",
    "print('MZ Twin Oscillatory Band Spatial Overlap Results: ')\n",
    "print_twin_results_vec(mz_space_avg, osc.labels)\n",
    "print('DZ Twin Oscillatory Band Spatial Overlap Results: ')\n",
    "print_twin_results_vec(dz_space_avg, osc.labels)\n",
    "print('Non-Twin Oscillatory Band Spatial Overlap Results: ')\n",
    "print_twin_results_vec(non_twin_space_avg, osc.labels)"
   ]
  },
  {
   "cell_type": "markdown",
   "metadata": {},
   "source": [
    "### Oscillation Parameters Comparison\n",
    "\n",
    "The following compares oscillatory parameters, such as center frequency, power and bandwidth from within oscillatory bands. \n",
    "\n",
    "NOTE: As implemented, the these comparisons are not specific to how subjects are similar/different. \n",
    "Subjects can differ in either:\n",
    "- The spatial topography across which the oscillation band is found and/or\n",
    "- The oscillatory parameter within the vertices where the oscillatory band is found\n",
    "\n",
    "^ This can/will be parcelled out in further analyses:\n",
    "- A basic check is simply to look at the degree of overlap of oscillatory band topographies between subjects. "
   ]
  },
  {
   "cell_type": "code",
   "execution_count": 18,
   "metadata": {
    "collapsed": true
   },
   "outputs": [],
   "source": [
    "# Settings. Osc-Param: {0: CF, 1: Power, 2: BW}\n",
    "osc_param = 1\n",
    "\n",
    "# Compare oscillatory parameters\n",
    "mz_param_avg, mz_param_dat = comp_osc_param(mz_twin_dat, osc_param)\n",
    "dz_param_avg, dz_param_dat = comp_osc_param(dz_twin_dat, osc_param)\n",
    "non_twin_param_avg, non_twin_param_dat = comp_osc_param(non_twin_dat, osc_param)"
   ]
  },
  {
   "cell_type": "code",
   "execution_count": 19,
   "metadata": {},
   "outputs": [
    {
     "name": "stdout",
     "output_type": "stream",
     "text": [
      "Average correlation parameters for oscillation parameter: \n",
      "\n",
      "MZ Twin Oscillatory Band Center Frequency Results: \n",
      "\t Theta \t :  0.1634\n",
      "\t Alpha \t :  0.6722\n",
      "\t Beta \t :  0.5789\n",
      "DZ Twin Oscillatory Band Center Frequency Results: \n",
      "\t Theta \t :  0.1095\n",
      "\t Alpha \t :  0.6630\n",
      "\t Beta \t :  0.5489\n",
      "Non-Twin Oscillatory Band Center Frequency Results: \n",
      "\t Theta \t :  0.0945\n",
      "\t Alpha \t :  0.4992\n",
      "\t Beta \t :  0.4212\n"
     ]
    }
   ],
   "source": [
    "# Print out results\n",
    "print('Average correlation parameters for oscillation parameter: \\n')\n",
    "print('MZ Twin Oscillatory Band Center Frequency Results: ')\n",
    "print_twin_results_corr(mz_param_avg, osc.labels)\n",
    "print('DZ Twin Oscillatory Band Center Frequency Results: ')\n",
    "print_twin_results_corr(dz_param_avg, osc.labels)\n",
    "print('Non-Twin Oscillatory Band Center Frequency Results: ')\n",
    "print_twin_results_corr(non_twin_param_avg, osc.labels)"
   ]
  },
  {
   "cell_type": "code",
   "execution_count": 20,
   "metadata": {},
   "outputs": [
    {
     "name": "stdout",
     "output_type": "stream",
     "text": [
      "Ttest_indResult(statistic=0.51167479916142378, pvalue=0.61319723723170916)\n",
      "Ttest_indResult(statistic=2.4200626493895503, pvalue=0.025161756190254705)\n",
      "Ttest_indResult(statistic=2.0516328060617024, pvalue=0.05040472917707009)\n"
     ]
    }
   ],
   "source": [
    "band_ind = 2\n",
    "print(ttest_ind(mz_param_dat[:, band_ind, 0], dz_param_dat[:, band_ind, 0]))\n",
    "print(ttest_ind(mz_param_dat[:, band_ind, 0], non_twin_param_dat[:, band_ind, 0]))\n",
    "print(ttest_ind(dz_param_dat[:, band_ind, 0], non_twin_param_dat[:, band_ind, 0]))"
   ]
  },
  {
   "cell_type": "code",
   "execution_count": 21,
   "metadata": {},
   "outputs": [
    {
     "data": {
      "image/png": "[encoded data removed]",
      "text/plain": [
       "<matplotlib.figure.Figure at 0x1a157c7358>"
      ]
     },
     "metadata": {},
     "output_type": "display_data"
    }
   ],
   "source": [
    "plt.boxplot([mz_param_dat[:, band_ind, 0],\n",
    "             dz_param_dat[:, band_ind, 0],\n",
    "             non_twin_param_dat[:, band_ind, 0]]);\n",
    "plt.xticks([1, 2, 3], ['MZ', 'DZ', 'Non']);"
   ]
  },
  {
   "cell_type": "markdown",
   "metadata": {},
   "source": [
    "## Slope Comparison"
   ]
  },
  {
   "cell_type": "code",
   "execution_count": 22,
   "metadata": {
    "collapsed": true
   },
   "outputs": [],
   "source": [
    "comp_slope??"
   ]
  },
  {
   "cell_type": "code",
   "execution_count": 23,
   "metadata": {
    "collapsed": true
   },
   "outputs": [],
   "source": [
    "# Compare slopes\n",
    "mz_slope_avg, mz_slope_dat = comp_slope(mz_twin_dat)\n",
    "dz_slope_avg, dz_slope_dat = comp_slope(dz_twin_dat)\n",
    "non_twin_slope_avg, non_twin_slope_dat = comp_slope(non_twin_dat)"
   ]
  },
  {
   "cell_type": "code",
   "execution_count": 24,
   "metadata": {
    "scrolled": true
   },
   "outputs": [
    {
     "name": "stdout",
     "output_type": "stream",
     "text": [
      "MZ Twin Slope Results: \n",
      "\t Slope \t :  0.5335\n",
      "DZ Twin Slope Results: \n",
      "\t Slope \t :  0.4156\n",
      "Non-Twin Slope Results: \n",
      "\t Slope \t :  0.4180\n"
     ]
    }
   ],
   "source": [
    "# Print out results\n",
    "print('MZ Twin Slope Results: ')\n",
    "print_twin_results_corr(mz_slope_avg, ['Slope'])\n",
    "print('DZ Twin Slope Results: ')\n",
    "print_twin_results_corr(dz_slope_avg, ['Slope'])\n",
    "print('Non-Twin Slope Results: ')\n",
    "print_twin_results_corr(non_twin_slope_avg, ['Slope'])"
   ]
  },
  {
   "cell_type": "code",
   "execution_count": 25,
   "metadata": {},
   "outputs": [
    {
     "name": "stdout",
     "output_type": "stream",
     "text": [
      "BartlettResult(statistic=0.35084820553385931, pvalue=0.55363337380239952)\n",
      "BartlettResult(statistic=1.1302454627058776, pvalue=0.28772298731145179)\n",
      "BartlettResult(statistic=0.56136271747351663, pvalue=0.45371170352898382)\n"
     ]
    }
   ],
   "source": [
    "print(bartlett(mz_slope_dat[:, 0], dz_slope_dat[0, :]))\n",
    "print(bartlett(mz_slope_dat[:, 0], non_twin_slope_dat[0, :]))\n",
    "print(bartlett(dz_slope_dat[:, 0], non_twin_slope_dat[0, :]))"
   ]
  },
  {
   "cell_type": "code",
   "execution_count": 26,
   "metadata": {},
   "outputs": [
    {
     "name": "stdout",
     "output_type": "stream",
     "text": [
      "Ttest_indResult(statistic=2.7671727395711629, pvalue=0.018319380883991647)\n",
      "Ttest_indResult(statistic=2.1326596447004356, pvalue=0.056318883587442636)\n",
      "Ttest_indResult(statistic=1.1649419636918605, pvalue=0.26012952368608389)\n"
     ]
    }
   ],
   "source": [
    "# Statistically compare slope differences\n",
    "print(ttest_ind(mz_slope_dat[:, 0], dz_slope_dat[0, :], equal_var=True))\n",
    "print(ttest_ind(mz_slope_dat[:, 0], non_twin_slope_dat[0, :], equal_var=True))\n",
    "print(ttest_ind(dz_slope_dat[:, 0], non_twin_slope_dat[0, :], equal_var=True))"
   ]
  },
  {
   "cell_type": "code",
   "execution_count": 27,
   "metadata": {},
   "outputs": [
    {
     "data": {
      "image/png": "[encoded data removed]",
      "text/plain": [
       "<matplotlib.figure.Figure at 0x1a15ffdfd0>"
      ]
     },
     "metadata": {},
     "output_type": "display_data"
    }
   ],
   "source": [
    "plt.boxplot([mz_slope_dat[:, 0], dz_slope_dat[:, 0], non_twin_slope_dat[:, 0]]);\n",
    "plt.xticks([1, 2, 3], ['MZ', 'DZ', 'Non']);"
   ]
  }
 ],
 "metadata": {
  "kernelspec": {
   "display_name": "Python 3",
   "language": "python",
   "name": "python3"
  },
  "language_info": {
   "codemirror_mode": {
    "name": "ipython",
    "version": 3
   },
   "file_extension": ".py",
   "mimetype": "text/x-python",
   "name": "python",
   "nbconvert_exporter": "python",
   "pygments_lexer": "ipython3",
   "version": "3.6.1"
  }
 },
 "nbformat": 4,
 "nbformat_minor": 1
}
