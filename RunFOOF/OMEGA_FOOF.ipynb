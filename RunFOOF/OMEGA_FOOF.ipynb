{
 "cells": [
  {
   "cell_type": "code",
   "execution_count": 2,
   "metadata": {
    "collapsed": false
   },
   "outputs": [
    {
     "name": "stderr",
     "output_type": "stream",
     "text": [
      "/Users/thomasdonoghue/anaconda/lib/python2.7/site-packages/matplotlib/__init__.py:872: UserWarning: axes.color_cycle is deprecated and replaced with axes.prop_cycle; please use the latter.\n",
      "  warnings.warn(self.msg_depr % (key, alt_key))\n"
     ]
    }
   ],
   "source": [
    "# Import sys and add FOOF location to path\n",
    "import sys\n",
    "sys.path.append('/Users/thomasdonoghue/Documents/GitCode/')\n",
    "\n",
    "# Import FOOF\n",
    "from foof import syn\n",
    "from foof.fit import FOOF\n",
    "\n",
    "# Import other packages\n",
    "import os\n",
    "import numpy as np\n",
    "import matplotlib.pyplot as plt\n",
    "import seaborn as sns\n",
    "import scipy as sp\n",
    "import scipy.io as sio\n",
    "%matplotlib inline"
   ]
  },
  {
   "cell_type": "code",
   "execution_count": 3,
   "metadata": {
    "collapsed": false
   },
   "outputs": [],
   "source": [
    "# Load Data\n",
    "matFile = 'Subject1_PSD_Vertex_0-500Hz.mat'\n",
    "filename = os.path.join('/Users/thomasdonoghue/Documents/Research/1-Projects/OMEGA/2-Data/OMEGA/processed/sample_resting/', matFile)\n",
    "\n",
    "# This pulls out the data in the matfile into a dictionary\n",
    "dataMat = sp.io.loadmat(filename, appendmat=True, struct_as_record=False, squeeze_me=True)\n",
    "\n",
    "# Pull out pieces from the dictionary\n",
    "freqs = dataMat['Freqs']\n",
    "psd = dataMat['TF']\n",
    "labels = dataMat['RowNames']   # Scout names if scout data. Sensor/Vertex numbers if sensor/vertex"
   ]
  },
  {
   "cell_type": "code",
   "execution_count": 4,
   "metadata": {
    "collapsed": false
   },
   "outputs": [
    {
     "name": "stdout",
     "output_type": "stream",
     "text": [
      "15002\n",
      "0.29296875002\n",
      "[    1     2     3 ..., 15000 15001 15002]\n"
     ]
    }
   ],
   "source": [
    "# Check data - get size\n",
    "[nPSDs, nFreqs] = np.shape(psd)\n",
    "freq_res = np.mean(np.diff(freqs))\n",
    "print nPSDs\n",
    "print freq_res\n",
    "print labels"
   ]
  },
  {
   "cell_type": "code",
   "execution_count": 5,
   "metadata": {
    "collapsed": false
   },
   "outputs": [
    {
     "data": {
      "text/plain": [
       "[<matplotlib.lines.Line2D at 0x10c4acd90>]"
      ]
     },
     "execution_count": 5,
     "metadata": {},
     "output_type": "execute_result"
    },
    {
     "data": {
      "image/png": "[encoded data removed]",
      "text/plain": [
       "<matplotlib.figure.Figure at 0x103eb4cd0>"
      ]
     },
     "metadata": {},
     "output_type": "display_data"
    }
   ],
   "source": [
    "# Plot a psd (SemiLog)\n",
    "plt.plot(freqs, np.log10(psd[0, :]))"
   ]
  },
  {
   "cell_type": "code",
   "execution_count": 6,
   "metadata": {
    "collapsed": false
   },
   "outputs": [],
   "source": [
    "# Extract PSD range of interest\n",
    "\n",
    "# Drop Freqs below 3\n",
    "f_low_mask = freqs > 3\n",
    "freqs_ext = freqs[f_low_mask]\n",
    "psd_ext = psd[:, f_low_mask]\n",
    "\n",
    "# Drop freqs above 50\n",
    "f_high_mask = freqs_ext < 50\n",
    "freqs_ext = freqs_ext[f_high_mask]\n",
    "psd_ext = psd_ext[:, f_high_mask]"
   ]
  },
  {
   "cell_type": "code",
   "execution_count": 7,
   "metadata": {
    "collapsed": false
   },
   "outputs": [
    {
     "name": "stdout",
     "output_type": "stream",
     "text": [
      "10001\n"
     ]
    },
    {
     "data": {
      "text/plain": [
       "(160, 1)"
      ]
     },
     "execution_count": 7,
     "metadata": {},
     "output_type": "execute_result"
    }
   ],
   "source": [
    "# Select scout to extract\n",
    "ind = 10000\n",
    "print labels[ind]\n",
    "# Reshape PSD to 2D column vector (for FOOF)\n",
    "psd_example = np.reshape(psd_ext[ind, :], [len(freqs_ext), 1])\n",
    "\n",
    "np.shape(psd_example)"
   ]
  },
  {
   "cell_type": "code",
   "execution_count": 8,
   "metadata": {
    "collapsed": false
   },
   "outputs": [
    {
     "data": {
      "text/plain": [
       "[<matplotlib.lines.Line2D at 0x118a321d0>]"
      ]
     },
     "execution_count": 8,
     "metadata": {},
     "output_type": "execute_result"
    },
    {
     "data": {
      "image/png": "[encoded data removed]",
      "text/plain": [
       "<matplotlib.figure.Figure at 0x10c5852d0>"
      ]
     },
     "metadata": {},
     "output_type": "display_data"
    }
   ],
   "source": [
    "# Plot extracted PSD in low range\n",
    "plt.plot(freqs_ext, psd_example)"
   ]
  },
  {
   "cell_type": "code",
   "execution_count": 9,
   "metadata": {
    "collapsed": false
   },
   "outputs": [],
   "source": [
    "# Test FOOF fit - 1 PSD\n",
    "# Foof settings\n",
    "min_p = 0.1\n",
    "foof = FOOF(min_p = min_p, res = freq_res, fmin=freqs_ext.min(), fmax=freqs_ext.max())"
   ]
  },
  {
   "cell_type": "code",
   "execution_count": 10,
   "metadata": {
    "collapsed": false
   },
   "outputs": [],
   "source": [
    "# Fit model\n",
    "foof.model(freqs_ext, psd_example)"
   ]
  },
  {
   "cell_type": "code",
   "execution_count": 11,
   "metadata": {
    "collapsed": false
   },
   "outputs": [
    {
     "name": "stdout",
     "output_type": "stream",
     "text": [
      "0.62047228092\n",
      "[  7.25727106  11.07522181  18.5642275   33.7654901   40.31898782\n",
      "  47.98525634]\n",
      "[  6.91864414e-24   4.83589977e-24   4.07556890e-24   2.56516221e-24\n",
      "   2.50944501e-24   2.16409377e-24]\n",
      "[ 2.78704489  2.35164107  0.46491308  0.86129867  1.37637109  1.29402321]\n"
     ]
    }
   ],
   "source": [
    "# Print / Check parameters from the FOOF model\n",
    "print foof.chi_\n",
    "print foof.centers_\n",
    "print foof.powers_\n",
    "print foof.stdevs_"
   ]
  },
  {
   "cell_type": "code",
   "execution_count": null,
   "metadata": {
    "collapsed": false
   },
   "outputs": [],
   "source": [
    "print(\"model: f {0}, f_sig {1}, chi {2}\".format(\n",
    "        np.round(foof.centers_, decimals=1),\n",
    "        np.round(foof.stdevs_, decimals=1),\n",
    "        np.round(foof.chi_, decimals=1))\n",
    "     )\n",
    "\n",
    "plt.subplot(211)\n",
    "plt.plot(freqs_ext, psd_example[:,0]*10000000000000000000000, label='Data')\n",
    "plt.plot(*syn.mfonef(mk=foof.powers_, \n",
    "                     mf=foof.centers_, \n",
    "                     mf_sig=foof.stdevs_, \n",
    "                     f0=3, \n",
    "                     fmax=50, \n",
    "                     chi=foof.chi_, \n",
    "                     res=freq_res), \n",
    "         label='Model'\n",
    "        )\n",
    "plt.xlabel(\"F (Hz)\")\n",
    "plt.ylabel(\"PSD\")\n",
    "plt.yscale('log')\n",
    "plt.xscale('log')\n",
    "plt.legend()"
   ]
  },
  {
   "cell_type": "code",
   "execution_count": 7,
   "metadata": {
    "collapsed": false
   },
   "outputs": [],
   "source": [
    "# Foof settings\n",
    "min_p = 0.1\n",
    "foof = FOOF(min_p = min_p, res = freq_res, fmin=freqs_ext.min(), fmax=freqs_ext.max())\n",
    "\n",
    "# Initialize matrices to store foof data\n",
    "slopes_all = np.zeros([nPSDs, 1])\n",
    "centers_all = np.zeros([nPSDs, 10])\n",
    "powers_all = np.zeros([nPSDs, 10])\n",
    "stdevs_all = np.zeros([nPSDs, 10])"
   ]
  },
  {
   "cell_type": "code",
   "execution_count": null,
   "metadata": {
    "collapsed": false
   },
   "outputs": [],
   "source": [
    "# Run FOOF on all PSDs\n",
    "for i in range(0, nPSDs):\n",
    "    \n",
    "    # Pull out PSD and make right shape\n",
    "    psd_temp = np.reshape(psd_ext[i, :], [len(freqs_ext), 1])\n",
    "    \n",
    "    # Fit FOOF\n",
    "    foof.model(freqs_ext, psd_temp)\n",
    "    \n",
    "    # Collect Slope\n",
    "    slopes_all[i, 0] = foof.chi_\n",
    "    \n",
    "    # Collect oscillatory params\n",
    "    nOsc = len(foof.centers_)\n",
    "    \n",
    "    if(nOsc > 10):\n",
    "        continue\n",
    "\n",
    "    centers_all[i, 0:nOsc] = foof.centers_\n",
    "    powers_all[i, 0:nOsc] = foof.powers_\n",
    "    stdevs_all[i, 0:nOsc] = foof.stdevs_\n",
    "    "
   ]
  },
  {
   "cell_type": "code",
   "execution_count": 39,
   "metadata": {
    "collapsed": true
   },
   "outputs": [],
   "source": [
    "def get_single_osc(osc_in):\n",
    "    if(len(osc_in) == 0):\n",
    "        return 0\n",
    "    elif(len(osc_in) == 1):\n",
    "        return osc_in\n",
    "    else:\n",
    "        return osc_in[0]"
   ]
  },
  {
   "cell_type": "code",
   "execution_count": 45,
   "metadata": {
    "collapsed": false
   },
   "outputs": [],
   "source": [
    "alphas_all = np.zeros([nPSDs, 1])\n",
    "thetas_all = np.zeros([nPSDs, 1])\n",
    "betas_all = np.zeros([nPSDs, 1])\n",
    "\n",
    "# Oscillation Parameters\n",
    "theta_low = 3\n",
    "theta_high = 7\n",
    "alpha_low = 7\n",
    "alpha_high = 14\n",
    "beta_low = 15\n",
    "beta_high = 30\n",
    "\n",
    "# Collect Alpha Oscillations\n",
    "for i in range(0, nPSDs):\n",
    "\n",
    "    centers_temp = centers_all[i, 0]\n",
    "\n",
    "    thetas_temp = centers_temp[centers_temp > theta_low]; thetas_temp = thetas_temp[thetas_temp < theta_high]\n",
    "    thetas_all[i, 0] = get_single_osc(thetas_temp)\n",
    "    \n",
    "    alphas_temp = centers_temp[centers_temp > alpha_low]; alphas_temp = alphas_temp[alphas_temp < alpha_high]\n",
    "    alphas_all[i, 0] = get_single_osc(alphas_temp)\n",
    "    \n",
    "    betas_temp = centers_temp[centers_temp > beta_low]; betas_temp = betas_temp[betas_temp < beta_high]\n",
    "    betas_all[i, 0] = get_single_osc(betas_temp)\n"
   ]
  },
  {
   "cell_type": "code",
   "execution_count": 52,
   "metadata": {
    "collapsed": false
   },
   "outputs": [],
   "source": [
    "savepath = 'Users/thomasdonoghue/Desktop/'\n",
    "savename = 'Sample_Vertex'\n",
    "\n",
    "save_dict = {}\n",
    "save_dict['slopes']= slopes_all\n",
    "save_dict['thetas']= thetas_all\n",
    "save_dict['alphas']= alphas_all\n",
    "save_dict['betas']= betas_all\n",
    "\n",
    "sio.savemat(savename, save_dict)"
   ]
  },
  {
   "cell_type": "code",
   "execution_count": null,
   "metadata": {
    "collapsed": true
   },
   "outputs": [],
   "source": []
  }
 ],
 "metadata": {
  "kernelspec": {
   "display_name": "Python 2",
   "language": "python",
   "name": "python2"
  },
  "language_info": {
   "codemirror_mode": {
    "name": "ipython",
    "version": 2
   },
   "file_extension": ".py",
   "mimetype": "text/x-python",
   "name": "python",
   "nbconvert_exporter": "python",
   "pygments_lexer": "ipython2",
   "version": "2.7.11"
  }
 },
 "nbformat": 4,
 "nbformat_minor": 0
}
