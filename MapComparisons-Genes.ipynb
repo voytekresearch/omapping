{
 "cells": [
  {
   "cell_type": "markdown",
   "metadata": {},
   "source": [
    "## GENE ANALYSIS\n",
    "\n",
    "Genetic expression data is taken from the Allen Brain Human Brain Atlas. \n",
    "\n",
    "First we use their data to estimate gene expression at our cortical locations. We then check which genes correlate with our electrophysiological data. ## GENES STUFF!"
   ]
  },
  {
   "cell_type": "code",
   "execution_count": 1,
   "metadata": {
    "collapsed": false
   },
   "outputs": [],
   "source": [
    "# Import required libraries\n",
    "import sys\n",
    "\n",
    "# Import custom code from module om, and OO code for handling data\n",
    "sys.path.append('/Users/thomasdonoghue/Documents/GitCode/omegamappin/')\n",
    "from om.gen import *                    # Import general code \n",
    "from om.cl.mc_tg import *               # Import Map-Compare Classes for Terms/Genes Data\n",
    "from om.plts.mc_plts import *           # Import Map-Compare Plots\n",
    "\n",
    "# Set plots to display inline\n",
    "%matplotlib inline"
   ]
  },
  {
   "cell_type": "code",
   "execution_count": 2,
   "metadata": {
    "collapsed": false
   },
   "outputs": [],
   "source": [
    "# Initialize MapComp object and oscillatory bands list\n",
    "db = OMDB()\n",
    "om_maps = MapCompTG(db)"
   ]
  },
  {
   "cell_type": "code",
   "execution_count": 3,
   "metadata": {
    "collapsed": false
   },
   "outputs": [
    {
     "name": "stdout",
     "output_type": "stream",
     "text": [
      "Oscillation Files:\n",
      " Group_Osc_Scores.npz\n",
      "Group_Osc_Scores_OLD.npz\n",
      "Res_Group_85_Osc_prob.p\n",
      "Res_Group_85_Osc_score.p \n",
      "\n",
      "Slope Files:\n",
      " Group_Slopes.npz \n",
      "\n",
      "Terms Files:\n",
      " all_terms_r10_gaussian_estimation.csv\n",
      "all_terms_r5_gaussian_estimation.csv\n",
      "ns_terms.csv \n",
      "\n",
      "Genes Files:\n",
      " avg_gene_estimations\n",
      "real_gene_names.csv\n",
      "sub1_gene_estimations\n",
      "sub2_gene_estimations\n",
      "sub3_gene_estimations\n",
      "sub4_gene_estimations\n",
      "sub5_gene_estimations\n",
      "sub6_gene_estimations \n",
      "\n"
     ]
    }
   ],
   "source": [
    "# Check files that are available\n",
    "db.check_map_files()"
   ]
  },
  {
   "cell_type": "code",
   "execution_count": 4,
   "metadata": {
    "collapsed": true
   },
   "outputs": [],
   "source": [
    "# Load oscillation maps - here using the oscillation scores\n",
    "om_maps.load_meg_maps('Res_Group_85_Osc_Score')"
   ]
  },
  {
   "cell_type": "code",
   "execution_count": 5,
   "metadata": {
    "collapsed": true
   },
   "outputs": [],
   "source": [
    "# Load slope map\n",
    "om_maps.load_slope_map('Res_Group_85')"
   ]
  },
  {
   "cell_type": "code",
   "execution_count": 6,
   "metadata": {
    "collapsed": false
   },
   "outputs": [
    {
     "name": "stdout",
     "output_type": "stream",
     "text": [
      "Loading file # 1  of  3\n",
      "Loading file # 2  of  3\n",
      "Loading file # 3  of  3\n",
      "All files loaded!\n"
     ]
    }
   ],
   "source": [
    "# Load gene files\n",
    "om_maps.load_gene_maps('sub1')"
   ]
  },
  {
   "cell_type": "code",
   "execution_count": 8,
   "metadata": {
    "collapsed": false
   },
   "outputs": [
    {
     "name": "stdout",
     "output_type": "stream",
     "text": [
      "Calculating corrs between Genes and Theta\n",
      "Calculating corrs between Genes and Beta\n",
      "Calculating corrs between Genes and LowGamma\n",
      "Calculating corrs between Genes and Alpha\n"
     ]
    }
   ],
   "source": [
    "# Calculate the correlation between oscillation maps and genes\n",
    "for osc in om_maps.bands:\n",
    "    om_maps.calc_corrs('Genes', osc)"
   ]
  },
  {
   "cell_type": "code",
   "execution_count": 9,
   "metadata": {
    "collapsed": false
   },
   "outputs": [
    {
     "name": "stdout",
     "output_type": "stream",
     "text": [
      "\n",
      "\n",
      "Correlations for  Genes  &   Theta : \n",
      "\n",
      "# \t Genes                                                   \t R-Vals \t P-vals \n",
      "\n",
      "1 \t mesenteric estrogen-dependent adipogenesis              \t 0.41565 \t 1.5969e-179\n",
      "2 \t twist family bHLH transcription factor 2                \t 0.41409 \t 4.6645e-178\n",
      "3 \t receptor (chemosensory) transporter protein 1           \t 0.41006 \t 2.5521e-174\n",
      "4 \t germ cell associated 1                                  \t 0.39650 \t 4.2576e-162\n",
      "5 \t protein phosphatase, EF-hand calcium binding domai      \t 0.37895 \t 4.1727e-147\n",
      "6 \t spondin 2, extracellular matrix protein                 \t 0.37537 \t 3.6974e-144\n",
      "7 \t theg spermatid protein                                  \t 0.36957 \t 1.8427e-139\n",
      "8 \t CD6 molecule                                            \t 0.36563 \t 2.4918e-136\n",
      "9 \t cyclin-dependent kinase 1                               \t 0.35990 \t 7.5349e-132\n",
      "10 \t prepronociceptin                                        \t 0.35703 \t 1.2348e-129\n",
      "11 \t protocadherin 20                                        \t 0.35532 \t 2.4854e-128\n",
      "12 \t ATP-binding cassette, sub-family G (WHITE), member      \t 0.34774 \t 1.2172e-122\n",
      "13 \t kallikrein-related peptidase 5                          \t 0.34680 \t 6.0986e-122\n",
      "14 \t alkaline phosphatase, liver/bone/kidney                 \t 0.34535 \t 7.1060e-121\n",
      "15 \t Ras-like without CAAX 2                                 \t 0.34478 \t 1.8662e-120\n",
      "16 \t G protein-coupled receptor 26                           \t 0.33360 \t 1.9548e-112\n",
      "17 \t coiled-coil domain containing 68                        \t 0.33263 \t 9.4935e-112\n",
      "18 \t LY6/PLAUR domain containing 8                           \t 0.33235 \t 1.4901e-111\n",
      "19 \t neuromedin U                                            \t 0.33125 \t 8.6483e-111\n",
      "20 \t crystallin, gamma N                                     \t 0.32949 \t 1.4586e-109\n",
      "\n",
      "\n",
      "Correlations for  Genes  &   Beta : \n",
      "\n",
      "# \t Genes                                                   \t R-Vals \t P-vals \n",
      "\n",
      "1 \t neurofilament, light polypeptide                        \t 0.38060 \t 1.7814e-148\n",
      "2 \t doublesex and mab-3 related transcription factor 3      \t 0.35402 \t 2.4156e-127\n",
      "3 \t gap junction protein, beta 5, 31.1kDa                   \t 0.34722 \t 2.9823e-122\n",
      "4 \t cytochrome c oxidase subunit Va                         \t 0.33669 \t 1.2949e-114\n",
      "5 \t F-box protein 16                                        \t 0.33616 \t 3.0623e-114\n",
      "6 \t potassium channel, voltage gated Shaw related subf      \t 0.32639 \t 1.9612e-107\n",
      "7 \t Src homology 2 domain containing transforming prot      \t 0.32274 \t 5.9187e-105\n",
      "8 \t aquaporin 11                                            \t 0.31858 \t 3.6446e-102\n",
      "9 \t coiled-coil domain containing 64B                       \t 0.31766 \t 1.4710e-101\n",
      "10 \t neurofilament, heavy polypeptide                        \t 0.31584 \t 2.3551e-100\n",
      "11 \t nitric oxide synthase 2, inducible                      \t 0.31315 \t 1.3438e-98\n",
      "12 \t mitochondrial assembly of ribosomal large subunit       \t 0.31272 \t 2.5674e-98\n",
      "13 \t ubiquinol-cytochrome c reductase hinge protein          \t 0.31102 \t 3.1934e-97\n",
      "14 \t family with sequence similarity 83, member D            \t 0.30945 \t 3.2848e-96\n",
      "15 \t cyclin D-type binding-protein 1                         \t 0.30833 \t 1.7137e-95\n",
      "16 \t mohawk homeobox                                         \t 0.30756 \t 5.2585e-95\n",
      "17 \t RELT-like 2                                             \t 0.30753 \t 5.5390e-95\n",
      "18 \t double homeobox A pseudogene 10                         \t 0.30748 \t 5.9742e-95\n",
      "19 \t Rho GTPase activating protein 9                         \t 0.30626 \t 3.5507e-94\n",
      "20 \t transmembrane 9 superfamily member 2                    \t 0.30354 \t 1.8409e-92\n",
      "\n",
      "\n",
      "Correlations for  Genes  &   LowGamma : \n",
      "\n",
      "# \t Genes                                                   \t R-Vals \t P-vals \n",
      "\n",
      "1 \t kallikrein-related peptidase 8                          \t 0.43753 \t 7.0810e-201\n",
      "2 \t interleukin 1, beta                                     \t 0.42929 \t 1.1939e-192\n",
      "3 \t exonuclease 3'-5' domain containing 1                   \t 0.39093 \t 3.0723e-157\n",
      "4 \t A kinase (PRKA) anchor protein 14                       \t 0.37797 \t 2.7298e-146\n",
      "5 \t tumor protein p53 inducible protein 11                  \t 0.37073 \t 2.1368e-140\n",
      "6 \t potassium channel tetramerization domain containin      \t 0.36995 \t 9.1860e-140\n",
      "7 \t myosin XVI                                              \t 0.36766 \t 6.1917e-138\n",
      "8 \t calcium/calmodulin-dependent protein kinase II del      \t 0.36727 \t 1.2565e-137\n",
      "9 \t phenylethanolamine N-methyltransferase                  \t 0.36362 \t 9.5816e-135\n",
      "10 \t PYD (pyrin domain) containing 1                         \t 0.35409 \t 2.1237e-127\n",
      "11 \t interleukin 13 receptor, alpha 2                        \t 0.35230 \t 4.7849e-126\n",
      "12 \t IQ motif containing J                                   \t 0.35015 \t 1.9738e-124\n",
      "13 \t titin-cap                                               \t 0.34682 \t 5.8715e-122\n",
      "14 \t Fanconi anemia, complementation group L                 \t 0.34141 \t 5.3170e-118\n",
      "15 \t calcyphosine-like                                       \t 0.33898 \t 2.9577e-116\n",
      "16 \t dorsal inhibitory axon guidance protein                 \t 0.33781 \t 2.0446e-115\n",
      "17 \t glycine receptor, alpha 2                               \t 0.33504 \t 1.9001e-113\n",
      "18 \t prostaglandin E receptor 3 (subtype EP3)                \t 0.32178 \t 2.6413e-104\n",
      "19 \t N-terminal EF-hand calcium binding protein 2            \t 0.32150 \t 4.0724e-104\n",
      "20 \t radial spoke head 9 homolog (Chlamydomonas)             \t 0.31694 \t 4.4045e-101\n",
      "\n",
      "\n",
      "Correlations for  Genes  &   Alpha : \n",
      "\n",
      "# \t Genes                                                   \t R-Vals \t P-vals \n",
      "\n",
      "1 \t synapsin III                                            \t 0.38754 \t 2.5009e-154\n",
      "2 \t MET proto-oncogene, receptor tyrosine kinase            \t 0.38566 \t 9.9285e-153\n",
      "3 \t phosphoinositide-3-kinase, regulatory subunit 3 (g      \t 0.35637 \t 3.9309e-129\n",
      "4 \t bone morphogenetic protein 4                            \t 0.35087 \t 5.6927e-125\n",
      "5 \t growth regulation by estrogen in breast cancer 1        \t 0.34788 \t 9.7294e-123\n",
      "6 \t oxidized low density lipoprotein (lectin-like) rec      \t 0.34497 \t 1.3452e-120\n",
      "7 \t tudor domain containing 1                               \t 0.34350 \t 1.6150e-119\n",
      "8 \t glycosylphosphatidylinositol specific phospholipas      \t 0.34109 \t 9.0329e-118\n",
      "9 \t glutamate-rich 5                                        \t 0.33810 \t 1.2657e-115\n",
      "10 \t RAD54 homolog B (S. cerevisiae)                         \t 0.33597 \t 4.1870e-114\n",
      "11 \t solute carrier family 17 (vesicular glutamate tran      \t 0.33231 \t 1.5808e-111\n",
      "12 \t glycerophosphodiester phosphodiesterase domain con      \t 0.32948 \t 1.4607e-109\n",
      "13 \t acidic residue methyltransferase 1                      \t 0.32083 \t 1.1353e-103\n",
      "14 \t Src homology 2 domain containing transforming prot      \t 0.30898 \t 6.5377e-96\n",
      "15 \t glycerol-3-phosphate acyltransferase 3                  \t 0.30858 \t 1.1806e-95\n",
      "16 \t synaptic vesicle glycoprotein 2C                        \t 0.30721 \t 8.8995e-95\n",
      "17 \t chromosome 17 open reading frame 75                     \t 0.30676 \t 1.7033e-94\n",
      "18 \t Fanconi anemia, complementation group I                 \t 0.30545 \t 1.1456e-93\n",
      "19 \t THAP domain containing 10                               \t 0.30349 \t 1.9583e-92\n",
      "20 \t KRR1, small subunit (SSU) processome component, ho      \t 0.30338 \t 2.3048e-92\n"
     ]
    }
   ],
   "source": [
    "# Print out highest correlated genes for each oscillation band\n",
    "for osc in om_maps.bands:\n",
    "    om_maps.check_corrs('Genes', osc)"
   ]
  },
  {
   "cell_type": "code",
   "execution_count": 11,
   "metadata": {
    "collapsed": false
   },
   "outputs": [],
   "source": [
    "# Save calculated correlations to file\n",
    "for osc in om_maps.bands:\n",
    "    om_maps.save_corrs('Genes', osc, save_as_npz=True, save_as_csv=True)"
   ]
  },
  {
   "cell_type": "code",
   "execution_count": null,
   "metadata": {
    "collapsed": true
   },
   "outputs": [],
   "source": [
    "# Calculate the correlation between slopes and genes\n",
    "om_maps.calc_corrs('Genes', 'Slopes')"
   ]
  },
  {
   "cell_type": "code",
   "execution_count": null,
   "metadata": {
    "collapsed": true
   },
   "outputs": [],
   "source": [
    "# Print out the highest correlated genes for slopes\n",
    "om_maps.check_corrs('Genes', 'Slopes')"
   ]
  },
  {
   "cell_type": "code",
   "execution_count": null,
   "metadata": {
    "collapsed": true
   },
   "outputs": [],
   "source": [
    "# Save calculated correlations to file\n",
    "om_maps.save_corrs('Genes', 'Slopes', save_as_npz=True, save_as_csv=True)"
   ]
  }
 ],
 "metadata": {
  "kernelspec": {
   "display_name": "Python 2",
   "language": "python",
   "name": "python2"
  },
  "language_info": {
   "codemirror_mode": {
    "name": "ipython",
    "version": 2
   },
   "file_extension": ".py",
   "mimetype": "text/x-python",
   "name": "python",
   "nbconvert_exporter": "python",
   "pygments_lexer": "ipython2",
   "version": "2.7.11"
  }
 },
 "nbformat": 4,
 "nbformat_minor": 0
}
