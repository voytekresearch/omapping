{
 "cells": [
  {
   "cell_type": "markdown",
   "metadata": {},
   "source": [
    "# Open Questions\n",
    "\n",
    "- What are our priorities / strategies?\n",
    "- How do we 'package' this project"
   ]
  },
  {
   "cell_type": "markdown",
   "metadata": {},
   "source": [
    "# What do we have?\n",
    "\n",
    "Data Status:\n",
    "- Resting state MEG data processed for order ~100 subjects\n",
    "- NS Term Data computed at template locations\n",
    "- ABA Data normalized to template locations, collapsed over subjects\n",
    "- Anatomical connectivity data between scouts (DK atlas), from HCP Data, ~900 subjects\n",
    "    - Data from collaboration with Verstynen CoAx Lab (CMU)\n",
    "\n",
    "MEG Results:\n",
    "- Descriptions of CF, BW & Pow across all oscs, all subjects, all vertices\n",
    "    - Also, slope results, #oscs/vertex\n",
    "- Relations between oscillation parameters\n",
    "- Oscillation inter-relations\n",
    "    - Osc band correlations\n",
    "    - Sliding frequency analysis\n",
    "- Idiosyncracies of oscillations\n",
    "    - Variation in peak frequencies within bands\n",
    "    - Profiles for each subject, as compared to the group\n",
    "- Oscillation demographics:\n",
    "    - Correlations of age to peak frequencies\n",
    "- Oscillation topographies: probabilities & oscillation scores\n",
    "\n",
    "    \n",
    "Data Integration Results:\n",
    "- Terms: correlations between each term & osc band\n",
    "- Genes: correlations between each gene & osc band\n",
    "- Anat: correlations between anatomical connectivity & oscillation connectivity"
   ]
  },
  {
   "cell_type": "markdown",
   "metadata": {},
   "source": [
    "# Current Status / Things to do\n",
    "Things that we should do and/or that have come up that I haven't finished, but are on the table:\n",
    "\n",
    "Plan: \n",
    "- Finish HCP Dataset (Total #MEG ~ 115)\n",
    "- FOOF: status check and update\n",
    "    - Also: decisions on osc-range & slope\n",
    "        - Do we plan to use slope?\n",
    "        - Potentially drop low-gamma range?\n",
    "- Update template anatomy:\n",
    "    - From 'Colin' to ICBM152\n",
    "- Update NS Terms & re-run\n",
    "- NSABA Status?\n",
    "    - Option: adopt dependencies, drop NS-ABA direct comparison\n",
    "- New name?"
   ]
  },
  {
   "cell_type": "markdown",
   "metadata": {},
   "source": [
    "# Things Started / Discussed / Could Pursue\n",
    "\n",
    "- Oscillation Bands: Generic or Inidividual\n",
    "    - Added support for individual bands, could run it\n",
    "- Exploration of BW and/or Pow\n",
    "    - Do they track demographics? Vary within / across bands? Etc.\n",
    "- Decoding individuals from electrophysiological signature\n",
    "- Oscillation Topographies:\n",
    "    - Group Level: \n",
    "        - Anterior/Posterior shifts (frequency)\n",
    "    - Individual Level: \n",
    "        - Topographical consistency between subjects\n",
    "- HCP Twin Status\n",
    "- Demographic sweep\n",
    "    - Lots of variables in HCP data\n",
    "- Slope Estimations:\n",
    "    - Currently: more or less ignoring them. \n",
    "    - Would need some validation\n",
    "- Network Analysis (in particular for Genes)\n",
    "- Interpretation with informatics tools (in particular for Genes)\n",
    "    - NCBI Gene Information Database\n",
    "    - David Functional Annotation Tool\n",
    "        - Takes list of genes, tries to describe them\n",
    "        - https://david.ncifcrf.gov\n",
    "- Systematic check between OMEGA & HCP\n",
    "    - 'Reformat' as HCP analysis, plus OMEGA validation group?"
   ]
  },
  {
   "cell_type": "markdown",
   "metadata": {},
   "source": [
    "# Future\n",
    "\n",
    "- Other Datasets:\n",
    "    - Cambridge Aging Study\n",
    "        - 700 adults, age-balanced, MRI & MEG (rest & task), lots of behaviour\n",
    "        - https://camcan-archive.mrc-cbu.cam.ac.uk/dataaccess/index.php\n",
    "    - Genes Extensions / Replications\n",
    "        - BrainSpan: http://www.brainspan.org/\n",
    "        - Kang Dataset: http://hbatlas.org\n",
    "           \n",
    "- Other Data 'Types':\n",
    "    - Task Data (MEG) - available from OMEGA, HCP & CAM\n",
    "        - Similar analyses in tasks?\n",
    "        - Inter-regional PAC stuff?"
   ]
  },
  {
   "cell_type": "code",
   "execution_count": null,
   "metadata": {
    "collapsed": true
   },
   "outputs": [],
   "source": []
  }
 ],
 "metadata": {
  "kernelspec": {
   "display_name": "Python 2",
   "language": "python",
   "name": "python2"
  },
  "language_info": {
   "codemirror_mode": {
    "name": "ipython",
    "version": 2
   },
   "file_extension": ".py",
   "mimetype": "text/x-python",
   "name": "python",
   "nbconvert_exporter": "python",
   "pygments_lexer": "ipython2",
   "version": "2.7.11"
  }
 },
 "nbformat": 4,
 "nbformat_minor": 0
}
