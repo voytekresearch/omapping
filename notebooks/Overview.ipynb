{
 "cells": [
  {
   "cell_type": "markdown",
   "metadata": {},
   "source": [
    "# Open Questions\n",
    "\n",
    "- What are our priorities / strategies\n",
    "- How do we 'package' this project\n",
    "\n",
    "Collectively: what should we work on?"
   ]
  },
  {
   "cell_type": "markdown",
   "metadata": {},
   "source": [
    "# What do we have?\n",
    "\n",
    "#### Data Status:\n",
    "- Resting state MEG data processed for order ~100 subjects (Complete HCP Rest data + a set of OMEGA subjects)\n",
    "- NS Term Data computed at template locations\n",
    "- ABA Data normalized to template locations, collapsed over subjects\n",
    "- Anatomical connectivity data between scouts (DK atlas), from HCP Data, ~900 subjects\n",
    "    - Data from collaboration with Verstynen CoAx Lab (CMU)\n",
    "\n",
    "#### MEG Results:\n",
    "- Descriptions of CF, BW & Pow across all oscs, all subjects, all vertices\n",
    "    - Also, slope results, #oscs/vertex\n",
    "- Relations between oscillation parameters\n",
    "- Oscillation inter-relations\n",
    "    - Osc band correlations\n",
    "    - Sliding frequency analysis\n",
    "- Idiosyncracies of oscillations\n",
    "    - Variation in peak frequencies within bands\n",
    "    - Profiles for each subject, as compared to the group\n",
    "- Oscillation demographics:\n",
    "    - Correlations of age to peak frequencies\n",
    "- Oscillation topographies: probabilities & oscillation scores\n",
    "- Heritability Results\n",
    "    - Oscillation parameters look  heritable\n",
    "    - However, we have relatively small data for this, and it's small effects, sort of messy.\n",
    "        - Not sure how strong a story we have here.\n",
    "- Decoding Subjects\n",
    "    - Basics of decoding subjects identity from oscillation data\n",
    "\n",
    "    \n",
    "#### Data Integration Results:\n",
    "- Terms: correlations between each term & osc band\n",
    "- Genes: correlations between each gene & osc band\n",
    "- Anat: correlations between anatomical connectivity & oscillation connectivity"
   ]
  },
  {
   "cell_type": "markdown",
   "metadata": {},
   "source": [
    "# Current Status / Things to do\n",
    "Things that we should do and/or that have come up that I haven't finished, but are on the table:\n",
    "- FOOF: status check and update - we need to update FOOF and re-run. (Priority)\n",
    "    - Also: decisions on osc-range & slope\n",
    "        - Do we plan to use slope?\n",
    "        - Potentially drop low-gamma range?\n",
    "- Migrate all data to network storage\n",
    "- Task Data:\n",
    "    - Will be processing some for PSD database project\n",
    "    - What else to do with it?\n",
    "- Update template anatomy:\n",
    "    - From 'Colin' to ICBM152\n",
    "- Update NS Terms & re-run\n",
    "- NSABA Integration: add required components\n",
    "    - adopt dependencies, drop NS-ABA direct comparison"
   ]
  },
  {
   "cell_type": "markdown",
   "metadata": {},
   "source": [
    "# Things Started / Discussed / Could Pursue\n",
    "\n",
    "- Oscillation Bands: Generic or Inidividual\n",
    "    - Added support for individual bands, could run it\n",
    "- Exploration of BW and/or Pow\n",
    "    - Do they track demographics? Vary within / across bands? Etc.\n",
    "- Decoding individuals from electrophysiological signature\n",
    "    - Much more to be done / tried here\n",
    "- Oscillation Topographies:\n",
    "    - Group Level: \n",
    "        - Anterior/Posterior shifts (frequency)\n",
    "    - Individual Level: \n",
    "        - Topographical consistency between subjects\n",
    "- Demographic sweep\n",
    "    - Lots of variables in HCP data\n",
    "- Slope Estimations:\n",
    "    - Currently: more or less ignoring them. \n",
    "    - Would need some validation\n",
    "- Network Analysis (in particular for Genes)\n",
    "- Interpretation with informatics tools (in particular for Genes)\n",
    "    - NCBI Gene Information Database\n",
    "    - David Functional Annotation Tool\n",
    "        - Takes list of genes, tries to describe them\n",
    "        - https://david.ncifcrf.gov\n",
    "- Systematic check between OMEGA & HCP\n",
    "    - 'Reformat' as HCP analysis, plus OMEGA validation group?"
   ]
  },
  {
   "cell_type": "markdown",
   "metadata": {},
   "source": [
    "## Notes on Heritability in OM project\n",
    "\n",
    "There is actually quite a big history of studying heritability of oscillations, almost exclusively done in EEG (see AB, and in particular Anokhin 2014 review).\n",
    "\n",
    "Given this, the report that oscillations are heritable (with twin data) is a nice replication, but not much more. \n",
    "\n",
    "Things we should focus on / leverage to build on prior work:\n",
    "- FOOF benefits: \n",
    "\t- We can isolate actual oscillatory activity, and separate out background process\n",
    "\t\t- It might be interesting to look into the heritability of PSD-slope (this would be totally novel AFAIK)\n",
    "\t- We can do a better job parsing out different parameters of oscillations (CF, power, bandwidth)\n",
    "\t\t- We might want to try an analysis investigating whether there are shared of different genetic underpinnings within and between parameters of different bands\n",
    "- MEG benefits:\n",
    "\t- Spatial analyses. We can investigate oscillatory band topographies as a parameter that has not been able to be investigated before. \n",
    "\t- We can also claim some superiority in so far as we have fewer confounds, in that differences can not stem from differences in skull/skin electrical permeability\n",
    "- Tie in with association analysis\n",
    "    - Given we are also pursuing genetic association analyses, we could try to tie heritability & association stuff together, which I think would be pretty novel\n",
    "\n",
    "NOTES:\n",
    "- As far as I can tell the HCP themselves have not done anything with MEG twin data, nor has anyone else published on it specifically.\n",
    "\t- In some ways, this is a pretty ‘low-hanging-fruit’ analysis, and we might not want to sit on it for too long\n",
    "- Sample size: some previous studies with EEG are massive (hundreds of subjects), so with ~20 pairs per twin group, we are really good numbers for MEG, but relatively small for heritability studies. "
   ]
  },
  {
   "cell_type": "markdown",
   "metadata": {},
   "source": [
    "# Future\n",
    "\n",
    "- Other Datasets:\n",
    "    - Cambridge Aging Study\n",
    "        - 700 adults, age-balanced, MRI & MEG (rest & task), lots of behaviour\n",
    "        - https://camcan-archive.mrc-cbu.cam.ac.uk/dataaccess/index.php\n",
    "    - Genes Extensions / Replications\n",
    "        - BrainSpan: http://www.brainspan.org/\n",
    "        - Kang Dataset: http://hbatlas.org\n",
    "           \n",
    "           \n",
    "\n",
    "- Other Data 'Types':\n",
    "    - Task Data (MEG) - available from OMEGA, HCP & CAM\n",
    "        - Similar analyses in tasks?\n",
    "        - Inter-regional PAC stuff?"
   ]
  },
  {
   "cell_type": "code",
   "execution_count": null,
   "metadata": {
    "collapsed": true
   },
   "outputs": [],
   "source": []
  }
 ],
 "metadata": {
  "kernelspec": {
   "display_name": "Python 2",
   "language": "python",
   "name": "python2"
  },
  "language_info": {
   "codemirror_mode": {
    "name": "ipython",
    "version": 2
   },
   "file_extension": ".py",
   "mimetype": "text/x-python",
   "name": "python",
   "nbconvert_exporter": "python",
   "pygments_lexer": "ipython2",
   "version": "2.7.11"
  }
 },
 "nbformat": 4,
 "nbformat_minor": 0
}
