{
 "cells": [
  {
   "cell_type": "markdown",
   "metadata": {},
   "source": [
    "## OMEGA-MAPPIN - Map Comparisons\n",
    "\n",
    "This notebook runs through the analysis comparing different data types. \n",
    "\n",
    "Maps are all put into the same space - the 7500 vertices of the template brain. \n",
    "- Oscs, slopes, genes and terms are defined for each vertex.\n",
    "- Anat is defined over ROIs\n",
    "\n",
    "Data types availabe: electrophys (oscillations and slopes), genes, terms, and anatomical. "
   ]
  },
  {
   "cell_type": "code",
   "execution_count": 1,
   "metadata": {
    "collapsed": false
   },
   "outputs": [],
   "source": [
    "# Import general code from custom module om, and OO code for handling data\n",
    "import sys\n",
    "sys.path.append('/Users/thomasdonoghue/Documents/GitCode/omegamappin/')\n",
    "from om.gen import *\n",
    "from om.cl import *\n",
    "\n",
    "# Set plots to display inline\n",
    "%matplotlib inline"
   ]
  },
  {
   "cell_type": "code",
   "execution_count": null,
   "metadata": {
    "collapsed": false
   },
   "outputs": [],
   "source": [
    "# Initialize MapComp object and oscillatory bands list\n",
    "om_maps = MapComp()\n",
    "osc_bands = ['Theta', 'Alpha', 'Beta', 'LowGamma']"
   ]
  },
  {
   "cell_type": "code",
   "execution_count": null,
   "metadata": {
    "collapsed": false
   },
   "outputs": [],
   "source": [
    "# Check files that are available\n",
    "om_maps.check_files()"
   ]
  },
  {
   "cell_type": "code",
   "execution_count": null,
   "metadata": {
    "collapsed": false
   },
   "outputs": [],
   "source": [
    "# Load oscillation maps - here using the oscillation scores\n",
    "om_maps.load_meg_maps(osc_file='Group_Osc_Scores', slope_file='Group_Slopes')"
   ]
  },
  {
   "cell_type": "markdown",
   "metadata": {},
   "source": [
    "### TERM ANALYSIS"
   ]
  },
  {
   "cell_type": "code",
   "execution_count": null,
   "metadata": {
    "collapsed": false
   },
   "outputs": [],
   "source": [
    "# Load term maps - here using 10 mm spatial estimation\n",
    "om_maps.load_term_maps('all_terms_r10_gaussian_estimation.csv')"
   ]
  },
  {
   "cell_type": "code",
   "execution_count": null,
   "metadata": {
    "collapsed": false
   },
   "outputs": [],
   "source": [
    "# Calculate the correlation between oscillation maps and terms\n",
    "for osc in osc_bands:\n",
    "    om_maps.calc_corrs('Terms', osc)"
   ]
  },
  {
   "cell_type": "code",
   "execution_count": null,
   "metadata": {
    "collapsed": false
   },
   "outputs": [],
   "source": [
    "# Print out highest correlated terms for each oscillation band\n",
    "for osc in osc_bands:\n",
    "    om_maps.check_corrs('Terms', osc)"
   ]
  },
  {
   "cell_type": "code",
   "execution_count": null,
   "metadata": {
    "collapsed": false
   },
   "outputs": [],
   "source": [
    "# Plot an example of distribution of R values and P values\n",
    "om_maps.plot_corrs('Terms', 'Theta')"
   ]
  },
  {
   "cell_type": "code",
   "execution_count": null,
   "metadata": {
    "collapsed": false
   },
   "outputs": [],
   "source": [
    "# Save calculated osc correlations to file\n",
    "for osc in osc_bands:\n",
    "    om_maps.save_corrs('Terms', osc, save_as_npz=True, save_as_csv=True)"
   ]
  },
  {
   "cell_type": "code",
   "execution_count": null,
   "metadata": {
    "collapsed": false
   },
   "outputs": [],
   "source": [
    "# Calculate correlations with slopes\n",
    "om_maps.calc_corrs('Terms', 'Slopes')"
   ]
  },
  {
   "cell_type": "code",
   "execution_count": null,
   "metadata": {
    "collapsed": false
   },
   "outputs": [],
   "source": [
    "# Check the correlations between term values and slope values\n",
    "om_maps.check_corrs('Terms', 'Slopes')"
   ]
  },
  {
   "cell_type": "code",
   "execution_count": null,
   "metadata": {
    "collapsed": false
   },
   "outputs": [],
   "source": [
    "# Plot correlation R- and p-vals between terms & slopes\n",
    "om_maps.plot_corrs('Terms', 'Slopes')"
   ]
  },
  {
   "cell_type": "code",
   "execution_count": null,
   "metadata": {
    "collapsed": true
   },
   "outputs": [],
   "source": [
    "# Save out correlations between terms and slopes\n",
    "om_maps.save_corrs('Terms', 'Slopes')"
   ]
  },
  {
   "cell_type": "code",
   "execution_count": null,
   "metadata": {
    "collapsed": true
   },
   "outputs": [],
   "source": [
    "# Unload terms - terms & genes are quite large. Unload terms since no longer needed.\n",
    "om_maps.unload_data('Terms')"
   ]
  },
  {
   "cell_type": "markdown",
   "metadata": {},
   "source": [
    "### GENE ANALYSIS"
   ]
  },
  {
   "cell_type": "code",
   "execution_count": null,
   "metadata": {
    "collapsed": true
   },
   "outputs": [],
   "source": [
    "# Load Gene maps - note that genes are split up into 3 files. These are concatenated for analysis. \n",
    "\n",
    "# List of gene files\n",
    "gene_files = ['all_real_genes_donor9861_r10_coords1of3_zscored_gaussian_estimation.csv',\n",
    "              'all_real_genes_donor9861_r10_coords2of3_zscored_gaussian_estimation.csv',\n",
    "              'all_real_genes_donor9861_r10_coords3of3_zscored_gaussian_estimation.csv']\n",
    "\n",
    "# Load gene files\n",
    "om_maps.load_gene_maps(gene_files)"
   ]
  },
  {
   "cell_type": "code",
   "execution_count": null,
   "metadata": {
    "collapsed": true
   },
   "outputs": [],
   "source": [
    "# Calculate the correlation between oscillation maps and genes\n",
    "for osc in osc_bands:\n",
    "    om_maps.calc_corrs('Genes', osc)"
   ]
  },
  {
   "cell_type": "code",
   "execution_count": null,
   "metadata": {
    "collapsed": false
   },
   "outputs": [],
   "source": [
    "# Print out highest correlated genes for each oscillation band\n",
    "for osc in osc_bands:\n",
    "    om_maps.check_corrs('Genes', osc)"
   ]
  },
  {
   "cell_type": "code",
   "execution_count": null,
   "metadata": {
    "collapsed": false
   },
   "outputs": [],
   "source": [
    "# Save calculated correlations to file\n",
    "for osc in osc_bands:\n",
    "    om_maps.save_corrs('Genes', osc, save_as_npz=True, save_as_csv=True)"
   ]
  },
  {
   "cell_type": "code",
   "execution_count": null,
   "metadata": {
    "collapsed": true
   },
   "outputs": [],
   "source": [
    "# Calculate the correlation between slopes and genes\n",
    "om_maps.calc_corrs('Genes', 'Slopes')"
   ]
  },
  {
   "cell_type": "code",
   "execution_count": null,
   "metadata": {
    "collapsed": false
   },
   "outputs": [],
   "source": [
    "# Print out the highest correlated genes for slopes\n",
    "om_maps.check_corrs('Genes', 'Slopes')"
   ]
  },
  {
   "cell_type": "code",
   "execution_count": null,
   "metadata": {
    "collapsed": true
   },
   "outputs": [],
   "source": [
    "# Save calculated correlations to file\n",
    "om_maps.save_corrs('Genes', 'Slopes', save_as_npz=True, save_as_csv=True)"
   ]
  },
  {
   "cell_type": "markdown",
   "metadata": {
    "collapsed": true
   },
   "source": [
    "### ANATOMY ANALYSIS"
   ]
  },
  {
   "cell_type": "code",
   "execution_count": 2,
   "metadata": {
    "collapsed": false
   },
   "outputs": [],
   "source": [
    "# Initiliaze Map Comp object in ROI space\n",
    "om_ROI_maps = MapCompROI()"
   ]
  },
  {
   "cell_type": "code",
   "execution_count": 3,
   "metadata": {
    "collapsed": false
   },
   "outputs": [],
   "source": [
    "# Load MEG oscillation & slope data\n",
    "om_ROI_maps.load_meg_maps(osc_file='Group_Osc_Scores', slope_file='Group_Slopes')"
   ]
  },
  {
   "cell_type": "code",
   "execution_count": 4,
   "metadata": {
    "collapsed": false
   },
   "outputs": [],
   "source": [
    "# Load MEG ROIs\n",
    "elec_roi_path = '/Users/thomasdonoghue/Desktop/scout_Desikan-Killiany_68.mat'\n",
    "om_ROI_maps.load_elec_rois(elec_roi_path)"
   ]
  },
  {
   "cell_type": "code",
   "execution_count": 5,
   "metadata": {
    "collapsed": true
   },
   "outputs": [],
   "source": [
    "# Load anatomy data\n",
    "om_ROI_maps.load_anat_maps('whole_brain_FreeSurferDKT_count.mat')"
   ]
  },
  {
   "cell_type": "code",
   "execution_count": 6,
   "metadata": {
    "collapsed": false
   },
   "outputs": [],
   "source": [
    "# Align ROIs from MEG & Anat\n",
    "om_ROI_maps.align_rois()"
   ]
  },
  {
   "cell_type": "code",
   "execution_count": 7,
   "metadata": {
    "collapsed": false
   },
   "outputs": [],
   "source": [
    "# Convert MEG data into ROIs\n",
    "om_ROI_maps.conv_meg_rois()"
   ]
  },
  {
   "cell_type": "code",
   "execution_count": null,
   "metadata": {
    "collapsed": true
   },
   "outputs": [],
   "source": [
    "# Compare anatomical connectivity to MEG data\n",
    "# TO DO!"
   ]
  },
  {
   "cell_type": "code",
   "execution_count": null,
   "metadata": {
    "collapsed": false
   },
   "outputs": [],
   "source": []
  },
  {
   "cell_type": "code",
   "execution_count": 8,
   "metadata": {
    "collapsed": false
   },
   "outputs": [
    {
     "data": {
      "text/plain": [
       "5"
      ]
     },
     "execution_count": 8,
     "metadata": {},
     "output_type": "execute_result"
    }
   ],
   "source": [
    "len(om_ROI_maps.meg_ROI_maps)"
   ]
  },
  {
   "cell_type": "code",
   "execution_count": 9,
   "metadata": {
    "collapsed": false
   },
   "outputs": [
    {
     "data": {
      "text/plain": [
       "array([ 0.00494757,  0.04852274,  0.07243655,  0.05734931,  0.05790434,\n",
       "        0.09597966,  0.05842532,  0.01843253,  0.08686286,  0.0254928 ,\n",
       "        0.03542584,  0.02486223,  0.05625448,  0.03472157,  0.06451088,\n",
       "        0.02442495,  0.04718557,  0.03073238,  0.0384066 ,  0.10730389,\n",
       "        0.01419367,  0.07747326,  0.07004946,  0.00620973,  0.0165982 ,\n",
       "        0.01734733,  0.12220154,  0.04003811,  0.07175601,  0.02431841,\n",
       "        0.01433393,  0.00551694,  0.04947142,  0.08797631,  0.07476924,\n",
       "        0.04984321,  0.07183216,  0.05211172,  0.01945669,  0.08295582,\n",
       "        0.02263276,  0.03562551,  0.02447792,  0.04499468,  0.03407308,\n",
       "        0.06315797,  0.02146759,  0.05474719,  0.02170692,  0.0531676 ,\n",
       "        0.09355182,  0.01267269,  0.06431805,  0.06089501,  0.00844357,\n",
       "        0.0139985 ,  0.01684753,  0.10752554,  0.05457345,  0.02184545,\n",
       "        0.01509397])"
      ]
     },
     "execution_count": 9,
     "metadata": {},
     "output_type": "execute_result"
    }
   ],
   "source": [
    "om_ROI_maps.meg_ROI_maps['Alpha']"
   ]
  },
  {
   "cell_type": "code",
   "execution_count": null,
   "metadata": {
    "collapsed": false
   },
   "outputs": [],
   "source": [
    "a = len(np.squeeze(om_ROI_maps.roi_verts[0] - 1))"
   ]
  },
  {
   "cell_type": "code",
   "execution_count": null,
   "metadata": {
    "collapsed": false
   },
   "outputs": [],
   "source": [
    "om_ROI_maps.nROIs"
   ]
  },
  {
   "cell_type": "code",
   "execution_count": null,
   "metadata": {
    "collapsed": false
   },
   "outputs": [],
   "source": [
    "a = np.array([1])"
   ]
  },
  {
   "cell_type": "code",
   "execution_count": null,
   "metadata": {
    "collapsed": false
   },
   "outputs": [],
   "source": [
    "b = np.array([a, 2])"
   ]
  },
  {
   "cell_type": "code",
   "execution_count": null,
   "metadata": {
    "collapsed": false
   },
   "outputs": [],
   "source": [
    "np.zeros(5)"
   ]
  },
  {
   "cell_type": "code",
   "execution_count": null,
   "metadata": {
    "collapsed": false
   },
   "outputs": [],
   "source": []
  },
  {
   "cell_type": "code",
   "execution_count": null,
   "metadata": {
    "collapsed": false
   },
   "outputs": [],
   "source": [
    "np.array([])"
   ]
  },
  {
   "cell_type": "code",
   "execution_count": null,
   "metadata": {
    "collapsed": false
   },
   "outputs": [],
   "source": [
    "a = np.array([], ndmin=5)\n",
    "np.shape(a)"
   ]
  },
  {
   "cell_type": "code",
   "execution_count": null,
   "metadata": {
    "collapsed": false
   },
   "outputs": [],
   "source": [
    "np.zeros([1, 2])"
   ]
  },
  {
   "cell_type": "code",
   "execution_count": null,
   "metadata": {
    "collapsed": false
   },
   "outputs": [],
   "source": [
    "np.zeros([])"
   ]
  },
  {
   "cell_type": "code",
   "execution_count": null,
   "metadata": {
    "collapsed": false
   },
   "outputs": [],
   "source": [
    "a = np.array([1])\n",
    "print a.ndim\n",
    "print a"
   ]
  },
  {
   "cell_type": "code",
   "execution_count": null,
   "metadata": {
    "collapsed": true
   },
   "outputs": [],
   "source": [
    "a.put?"
   ]
  },
  {
   "cell_type": "code",
   "execution_count": null,
   "metadata": {
    "collapsed": true
   },
   "outputs": [],
   "source": [
    "np.put?"
   ]
  },
  {
   "cell_type": "code",
   "execution_count": null,
   "metadata": {
    "collapsed": true
   },
   "outputs": [],
   "source": []
  }
 ],
 "metadata": {
  "kernelspec": {
   "display_name": "Python 2",
   "language": "python",
   "name": "python2"
  },
  "language_info": {
   "codemirror_mode": {
    "name": "ipython",
    "version": 2
   },
   "file_extension": ".py",
   "mimetype": "text/x-python",
   "name": "python",
   "nbconvert_exporter": "python",
   "pygments_lexer": "ipython2",
   "version": "2.7.11"
  }
 },
 "nbformat": 4,
 "nbformat_minor": 0
}
