{
 "cells": [
  {
   "cell_type": "markdown",
   "metadata": {},
   "source": [
    "<h1> FOOFing OMEGA Data </h1>"
   ]
  },
  {
   "cell_type": "markdown",
   "metadata": {},
   "source": [
    "This notebook runs FOOF on MEG-PSD data.\n",
    "- Uses Pool from Multiprocessing to run FOOF in parallel\n",
    "- Must Specify frequency range desired for FOOF\n",
    "- Saves FOOF results in pickled object"
   ]
  },
  {
   "cell_type": "code",
   "execution_count": 2,
   "metadata": {
    "collapsed": false
   },
   "outputs": [],
   "source": [
    "# Import sys and add FOOF location to path\n",
    "import sys\n",
    "sys.path.append('/Users/thomasdonoghue/Documents/GitCode/')\n",
    "\n",
    "# Import FOOF\n",
    "from foof import syn\n",
    "from foof.fit import FOOF\n",
    "\n",
    "# Import custom code for running MEG-FOOF\n",
    "from om_foof import *\n",
    "\n",
    "# Import Parallelization Packages\n",
    "from multiprocessing import Pool, freeze_support\n",
    "\n",
    "# Import other packages\n",
    "import numpy as np\n",
    "import seaborn as sns\n",
    "import matplotlib.pyplot as plt\n",
    "#import os\n",
    "#import pickle\n",
    "#import scipy.io as sio\n",
    "\n",
    "# Set plots inline\n",
    "%matplotlib inline"
   ]
  },
  {
   "cell_type": "code",
   "execution_count": 3,
   "metadata": {
    "collapsed": true
   },
   "outputs": [],
   "source": [
    "# Set Paths to MEG Data\n",
    "meg_path = '/Users/thomasdonoghue/Documents/Research/1-Projects/OMEGA/2-Data/MEG/2-PSDs/Colin/'"
   ]
  },
  {
   "cell_type": "code",
   "execution_count": 4,
   "metadata": {
    "collapsed": false
   },
   "outputs": [
    {
     "name": "stdout",
     "output_type": "stream",
     "text": [
      "Number of Subjects 21\n",
      "['Subject_111802', 'Subject_124340', 'Subject_218131', 'Subject_220216', 'Subject_245518', 'Subject_265922', 'Subject_320548', 'Subject_339964', 'Subject_369737', 'Subject_386068', 'Subject_390845', 'Subject_403435', 'Subject_405716', 'Subject_431088', 'Subject_504997', 'Subject_548027', 'Subject_604600', 'Subject_704718', 'Subject_704814', 'Subject_756575', 'Subject_978341']\n"
     ]
    }
   ],
   "source": [
    "# Check Availabe Subjects\n",
    "files = os.listdir(meg_path)\n",
    "files = clean_file_list(files, 'Subject_')\n",
    "print \"Number of Subjects\", len(files)\n",
    "print files"
   ]
  },
  {
   "cell_type": "code",
   "execution_count": 5,
   "metadata": {
    "collapsed": false
   },
   "outputs": [],
   "source": [
    "# Load MEG Data\n",
    "subj = 111802\n",
    "psd, freqs = load_meg_dat(meg_path, subj)"
   ]
  },
  {
   "cell_type": "code",
   "execution_count": 6,
   "metadata": {
    "collapsed": false
   },
   "outputs": [
    {
     "name": "stdout",
     "output_type": "stream",
     "text": [
      "Number of PSDs is:  7500\n",
      "Frequency Resolution is:  0.48828125\n"
     ]
    }
   ],
   "source": [
    "# Check data - get number of PSDs and frequency resolution\n",
    "[nPSDs, nFreqs] = np.shape(psd)\n",
    "freq_res = np.mean(np.diff(freqs))\n",
    "print 'Number of PSDs is: ', nPSDs\n",
    "print 'Frequency Resolution is: ', freq_res"
   ]
  },
  {
   "cell_type": "code",
   "execution_count": 7,
   "metadata": {
    "collapsed": false
   },
   "outputs": [],
   "source": [
    "# ?\n",
    "#np.shape(psd)\n",
    "#plt.plot((freqs), np.log(psd[65, :]))"
   ]
  },
  {
   "cell_type": "code",
   "execution_count": 8,
   "metadata": {
    "collapsed": true
   },
   "outputs": [],
   "source": [
    "# Extract PSD range of interest\n",
    "psd_ext, freqs_ext = extract_psd(psd, freqs, f_low=3, f_high=40)"
   ]
  },
  {
   "cell_type": "code",
   "execution_count": 12,
   "metadata": {
    "collapsed": false
   },
   "outputs": [
    {
     "data": {
      "text/plain": [
       "75"
      ]
     },
     "execution_count": 12,
     "metadata": {},
     "output_type": "execute_result"
    }
   ],
   "source": [
    "#plt.plot(freqs_ext, psd_ext[3500, :])\n",
    "len(freqs_ext)"
   ]
  },
  {
   "cell_type": "code",
   "execution_count": 16,
   "metadata": {
    "collapsed": false
   },
   "outputs": [
    {
     "ename": "NameError",
     "evalue": "global name 'foof' is not defined",
     "output_type": "error",
     "traceback": [
      "\u001b[0;31m---------------------------------------------------------------------------\u001b[0m",
      "\u001b[0;31mNameError\u001b[0m                                 Traceback (most recent call last)",
      "\u001b[0;32m<ipython-input-16-240a81d3c475>\u001b[0m in \u001b[0;36m<module>\u001b[0;34m()\u001b[0m\n\u001b[0;32m----> 1\u001b[0;31m \u001b[0mresults\u001b[0m \u001b[0;34m=\u001b[0m \u001b[0mmeg_foof\u001b[0m\u001b[0;34m(\u001b[0m\u001b[0mpsd_ext\u001b[0m\u001b[0;34m[\u001b[0m\u001b[0;36m1\u001b[0m\u001b[0;34m:\u001b[0m\u001b[0;36m10\u001b[0m\u001b[0;34m,\u001b[0m \u001b[0;34m:\u001b[0m\u001b[0;34m]\u001b[0m\u001b[0;34m,\u001b[0m \u001b[0mfreqs_ext\u001b[0m\u001b[0;34m,\u001b[0m \u001b[0mmethod\u001b[0m\u001b[0;34m=\u001b[0m\u001b[0;34m'linear'\u001b[0m\u001b[0;34m,\u001b[0m \u001b[0mmin_p\u001b[0m\u001b[0;34m=\u001b[0m\u001b[0;36m0.1\u001b[0m\u001b[0;34m,\u001b[0m \u001b[0mfreq_res\u001b[0m\u001b[0;34m=\u001b[0m\u001b[0mfreq_res\u001b[0m\u001b[0;34m)\u001b[0m\u001b[0;34m\u001b[0m\u001b[0m\n\u001b[0m",
      "\u001b[0;32m/Users/thomasdonoghue/Documents/GitCode/omegamappin/run_foof/om_foof.py\u001b[0m in \u001b[0;36mmeg_foof\u001b[0;34m(psd, freqs, method, min_p, freq_res)\u001b[0m\n\u001b[1;32m     79\u001b[0m     \u001b[0;31m#\u001b[0m\u001b[0;34m\u001b[0m\u001b[0;34m\u001b[0m\u001b[0m\n\u001b[1;32m     80\u001b[0m     \u001b[0;32mif\u001b[0m \u001b[0mmethod\u001b[0m \u001b[0;32mis\u001b[0m \u001b[0;34m'linear'\u001b[0m\u001b[0;34m:\u001b[0m\u001b[0;34m\u001b[0m\u001b[0m\n\u001b[0;32m---> 81\u001b[0;31m         \u001b[0mresults\u001b[0m \u001b[0;34m=\u001b[0m \u001b[0;34m[\u001b[0m\u001b[0m_run_foof\u001b[0m\u001b[0;34m(\u001b[0m\u001b[0mfreqs\u001b[0m\u001b[0;34m,\u001b[0m \u001b[0mpsd\u001b[0m\u001b[0;34m)\u001b[0m \u001b[0;32mfor\u001b[0m \u001b[0mpsd\u001b[0m \u001b[0;32min\u001b[0m \u001b[0mpsd_list\u001b[0m\u001b[0;34m]\u001b[0m\u001b[0;34m\u001b[0m\u001b[0m\n\u001b[0m\u001b[1;32m     82\u001b[0m \u001b[0;34m\u001b[0m\u001b[0m\n\u001b[1;32m     83\u001b[0m     \u001b[0;31m#\u001b[0m\u001b[0;34m\u001b[0m\u001b[0;34m\u001b[0m\u001b[0m\n",
      "\u001b[0;32m/Users/thomasdonoghue/Documents/GitCode/omegamappin/run_foof/om_foof.py\u001b[0m in \u001b[0;36m_run_foof\u001b[0;34m(freqs, psd)\u001b[0m\n\u001b[1;32m    103\u001b[0m     \u001b[0;34m\"\"\"   \"\"\"\u001b[0m\u001b[0;34m\u001b[0m\u001b[0m\n\u001b[1;32m    104\u001b[0m \u001b[0;34m\u001b[0m\u001b[0m\n\u001b[0;32m--> 105\u001b[0;31m     \u001b[0;31m# Fit FOOF\u001b[0m\u001b[0;34m\u001b[0m\u001b[0;34m\u001b[0m\u001b[0m\n\u001b[0m\u001b[1;32m    106\u001b[0m     \u001b[0mfoof\u001b[0m\u001b[0;34m.\u001b[0m\u001b[0mmodel\u001b[0m\u001b[0;34m(\u001b[0m\u001b[0mfreqs\u001b[0m\u001b[0;34m,\u001b[0m \u001b[0mpsd\u001b[0m\u001b[0;34m)\u001b[0m\u001b[0;34m\u001b[0m\u001b[0m\n\u001b[1;32m    107\u001b[0m \u001b[0;34m\u001b[0m\u001b[0m\n",
      "\u001b[0;31mNameError\u001b[0m: global name 'foof' is not defined"
     ]
    }
   ],
   "source": [
    "results = meg_foof(psd_ext[1:10, :], freqs_ext, method='linear', min_p=0.1, freq_res=freq_res)"
   ]
  },
  {
   "cell_type": "code",
   "execution_count": null,
   "metadata": {
    "collapsed": true
   },
   "outputs": [],
   "source": []
  },
  {
   "cell_type": "code",
   "execution_count": 13,
   "metadata": {
    "collapsed": false
   },
   "outputs": [],
   "source": [
    "# Foof settings\n",
    "#min_p = 0.1\n",
    "#foof = FOOF(min_p = min_p, res = freq_res, fmin=freqs_ext.min(), fmax=freqs_ext.max())\n",
    "\n",
    "# Set up PSD as list\n",
    "psd_list = list(psd_ext)\n",
    "for i in range(0, nPSDs):\n",
    "    psd_list[i] = np.reshape(psd_list[i], [len(freqs_ext), 1])"
   ]
  },
  {
   "cell_type": "code",
   "execution_count": 11,
   "metadata": {
    "collapsed": true
   },
   "outputs": [],
   "source": [
    "#ADDED\n",
    "def foof_par(psd):    \n",
    "    # Fit FOOF\n",
    "    foof.model(freqs_ext, psd)\n",
    "    \n",
    "    # Store vals in tuple and return\n",
    "    return (foof.chi_, foof.centers_, foof.powers_, foof.stdevs_)"
   ]
  },
  {
   "cell_type": "code",
   "execution_count": null,
   "metadata": {
    "collapsed": false
   },
   "outputs": [
    {
     "name": "stderr",
     "output_type": "stream",
     "text": [
      "Process PoolWorker-6:\n",
      "Process PoolWorker-4:\n",
      "Process PoolWorker-8:\n",
      "Process PoolWorker-7:\n",
      "Process PoolWorker-9:\n",
      "Process PoolWorker-5:\n",
      "Process PoolWorker-3:\n",
      "Process PoolWorker-2:\n",
      "Traceback (most recent call last):\n",
      "Traceback (most recent call last):\n",
      "Traceback (most recent call last):\n",
      "Traceback (most recent call last):\n",
      "Traceback (most recent call last):\n",
      "  File \"/Users/thomasdonoghue/anaconda/lib/python2.7/multiprocessing/process.py\", line 258, in _bootstrap\n",
      "Traceback (most recent call last):\n",
      "Traceback (most recent call last):\n",
      "Traceback (most recent call last):\n",
      "  File \"/Users/thomasdonoghue/anaconda/lib/python2.7/multiprocessing/process.py\", line 258, in _bootstrap\n",
      "  File \"/Users/thomasdonoghue/anaconda/lib/python2.7/multiprocessing/process.py\", line 258, in _bootstrap\n",
      "  File \"/Users/thomasdonoghue/anaconda/lib/python2.7/multiprocessing/process.py\", line 258, in _bootstrap\n",
      "  File \"/Users/thomasdonoghue/anaconda/lib/python2.7/multiprocessing/process.py\", line 258, in _bootstrap\n",
      "  File \"/Users/thomasdonoghue/anaconda/lib/python2.7/multiprocessing/process.py\", line 258, in _bootstrap\n",
      "  File \"/Users/thomasdonoghue/anaconda/lib/python2.7/multiprocessing/process.py\", line 258, in _bootstrap\n",
      "  File \"/Users/thomasdonoghue/anaconda/lib/python2.7/multiprocessing/process.py\", line 258, in _bootstrap\n",
      "    self.run()\n",
      "    self.run()\n",
      "    self.run()\n",
      "    self.run()\n",
      "    self.run()\n",
      "    self.run()\n",
      "    self.run()\n",
      "    self.run()\n",
      "  File \"/Users/thomasdonoghue/anaconda/lib/python2.7/multiprocessing/process.py\", line 114, in run\n",
      "  File \"/Users/thomasdonoghue/anaconda/lib/python2.7/multiprocessing/process.py\", line 114, in run\n",
      "  File \"/Users/thomasdonoghue/anaconda/lib/python2.7/multiprocessing/process.py\", line 114, in run\n",
      "  File \"/Users/thomasdonoghue/anaconda/lib/python2.7/multiprocessing/process.py\", line 114, in run\n",
      "  File \"/Users/thomasdonoghue/anaconda/lib/python2.7/multiprocessing/process.py\", line 114, in run\n",
      "  File \"/Users/thomasdonoghue/anaconda/lib/python2.7/multiprocessing/process.py\", line 114, in run\n",
      "  File \"/Users/thomasdonoghue/anaconda/lib/python2.7/multiprocessing/process.py\", line 114, in run\n",
      "  File \"/Users/thomasdonoghue/anaconda/lib/python2.7/multiprocessing/process.py\", line 114, in run\n",
      "    self._target(*self._args, **self._kwargs)\n",
      "    self._target(*self._args, **self._kwargs)\n",
      "    self._target(*self._args, **self._kwargs)\n",
      "  File \"/Users/thomasdonoghue/anaconda/lib/python2.7/multiprocessing/pool.py\", line 102, in worker\n",
      "    self._target(*self._args, **self._kwargs)\n",
      "    self._target(*self._args, **self._kwargs)\n",
      "    self._target(*self._args, **self._kwargs)\n",
      "    self._target(*self._args, **self._kwargs)\n",
      "    self._target(*self._args, **self._kwargs)\n",
      "  File \"/Users/thomasdonoghue/anaconda/lib/python2.7/multiprocessing/pool.py\", line 102, in worker\n",
      "  File \"/Users/thomasdonoghue/anaconda/lib/python2.7/multiprocessing/pool.py\", line 102, in worker\n",
      "  File \"/Users/thomasdonoghue/anaconda/lib/python2.7/multiprocessing/pool.py\", line 102, in worker\n",
      "  File \"/Users/thomasdonoghue/anaconda/lib/python2.7/multiprocessing/pool.py\", line 102, in worker\n",
      "  File \"/Users/thomasdonoghue/anaconda/lib/python2.7/multiprocessing/pool.py\", line 102, in worker\n",
      "  File \"/Users/thomasdonoghue/anaconda/lib/python2.7/multiprocessing/pool.py\", line 102, in worker\n",
      "  File \"/Users/thomasdonoghue/anaconda/lib/python2.7/multiprocessing/pool.py\", line 102, in worker\n",
      "    task = get()\n",
      "    task = get()\n",
      "    task = get()\n",
      "    task = get()\n",
      "    task = get()\n",
      "    task = get()\n",
      "    task = get()\n",
      "    task = get()\n",
      "  File \"/Users/thomasdonoghue/anaconda/lib/python2.7/multiprocessing/queues.py\", line 378, in get\n",
      "  File \"/Users/thomasdonoghue/anaconda/lib/python2.7/multiprocessing/queues.py\", line 376, in get\n",
      "  File \"/Users/thomasdonoghue/anaconda/lib/python2.7/multiprocessing/queues.py\", line 376, in get\n",
      "  File \"/Users/thomasdonoghue/anaconda/lib/python2.7/multiprocessing/queues.py\", line 376, in get\n",
      "  File \"/Users/thomasdonoghue/anaconda/lib/python2.7/multiprocessing/queues.py\", line 376, in get\n",
      "  File \"/Users/thomasdonoghue/anaconda/lib/python2.7/multiprocessing/queues.py\", line 376, in get\n",
      "  File \"/Users/thomasdonoghue/anaconda/lib/python2.7/multiprocessing/queues.py\", line 376, in get\n",
      "    racquire()\n",
      "    racquire()\n",
      "  File \"/Users/thomasdonoghue/anaconda/lib/python2.7/multiprocessing/queues.py\", line 376, in get\n",
      "    return recv()\n",
      "    racquire()\n",
      "KeyboardInterrupt\n",
      "    racquire()\n",
      "    racquire()\n",
      "    racquire()\n",
      "KeyboardInterrupt\n",
      "KeyboardInterrupt\n",
      "KeyboardInterrupt\n",
      "    racquire()\n",
      "KeyboardInterrupt\n",
      "KeyboardInterrupt\n",
      "KeyboardInterrupt\n",
      "KeyboardInterrupt\n"
     ]
    }
   ],
   "source": [
    "# Open Pool, run FOOF in parallel, and then close pool. \n",
    "# Results stored in list of tuples\"\n",
    "pool = Pool(8)\n",
    "results = pool.map(foof_par, psd_list[0:1])\n",
    "#pool.close()\n",
    "pool.join()\n",
    "\n",
    "# Use pickle to save the results\n",
    "#foof_data_path = '/Users/thomasdonoghue/Documents/Research/1-Projects/OMEGA/2-Data/MEG/3-FOOF/'\n",
    "#foof_save_name = str(subj) + '_Foof_Vertex.p'\n",
    "#foof_save_path = os.path.join(foof_data_path, foof_save_name)\n",
    "#pickle.dump(results, open(foof_save_path, 'wb'))\n",
    "\n",
    "# Close the pool\n",
    "pool.terminate()"
   ]
  },
  {
   "cell_type": "code",
   "execution_count": 12,
   "metadata": {
    "collapsed": false
   },
   "outputs": [],
   "source": [
    "# Parallel not working. Run linearly. \n",
    "results = [foof_par(psd) for psd in psd_list]\n",
    "\n",
    "# Use pickle to save the results\n",
    "foof_data_path = '/Users/thomasdonoghue/Documents/Research/1-Projects/OMEGA/2-Data/MEG/3-FOOF/'\n",
    "foof_save_name = str(subj) + '_Foof_Vertex.p'\n",
    "foof_save_path = os.path.join(foof_data_path, foof_save_name)\n",
    "pickle.dump(results, open(foof_save_path, 'wb'))"
   ]
  },
  {
   "cell_type": "code",
   "execution_count": 35,
   "metadata": {
    "collapsed": true
   },
   "outputs": [],
   "source": [
    "def test_f(f, p):\n",
    "    return f, p"
   ]
  },
  {
   "cell_type": "code",
   "execution_count": 30,
   "metadata": {
    "collapsed": true
   },
   "outputs": [],
   "source": [
    "FOOF.model?"
   ]
  },
  {
   "cell_type": "code",
   "execution_count": 37,
   "metadata": {
    "collapsed": false
   },
   "outputs": [],
   "source": [
    "f = freqs_ext\n",
    "results = [test_f(f, p) for p in psd_list]"
   ]
  },
  {
   "cell_type": "code",
   "execution_count": 1,
   "metadata": {
    "collapsed": false
   },
   "outputs": [
    {
     "ename": "NameError",
     "evalue": "name 'Pool' is not defined",
     "output_type": "error",
     "traceback": [
      "\u001b[0;31m---------------------------------------------------------------------------\u001b[0m",
      "\u001b[0;31mNameError\u001b[0m                                 Traceback (most recent call last)",
      "\u001b[0;32m<ipython-input-1-9eeb10e029b7>\u001b[0m in \u001b[0;36m<module>\u001b[0;34m()\u001b[0m\n\u001b[0;32m----> 1\u001b[0;31m \u001b[0mp\u001b[0m \u001b[0;34m=\u001b[0m \u001b[0mPool\u001b[0m\u001b[0;34m(\u001b[0m\u001b[0;36m2\u001b[0m\u001b[0;34m)\u001b[0m\u001b[0;34m\u001b[0m\u001b[0m\n\u001b[0m\u001b[1;32m      2\u001b[0m \u001b[0mget_ipython\u001b[0m\u001b[0;34m(\u001b[0m\u001b[0;34m)\u001b[0m\u001b[0;34m.\u001b[0m\u001b[0mmagic\u001b[0m\u001b[0;34m(\u001b[0m\u001b[0;34mu'pinfo p.close'\u001b[0m\u001b[0;34m)\u001b[0m\u001b[0;34m\u001b[0m\u001b[0m\n",
      "\u001b[0;31mNameError\u001b[0m: name 'Pool' is not defined"
     ]
    }
   ],
   "source": [
    "p = Pool(2)\n",
    "p.close?"
   ]
  },
  {
   "cell_type": "code",
   "execution_count": null,
   "metadata": {
    "collapsed": true
   },
   "outputs": [],
   "source": []
  }
 ],
 "metadata": {
  "kernelspec": {
   "display_name": "Python 2",
   "language": "python",
   "name": "python2"
  },
  "language_info": {
   "codemirror_mode": {
    "name": "ipython",
    "version": 2
   },
   "file_extension": ".py",
   "mimetype": "text/x-python",
   "name": "python",
   "nbconvert_exporter": "python",
   "pygments_lexer": "ipython2",
   "version": "2.7.11"
  }
 },
 "nbformat": 4,
 "nbformat_minor": 0
}
