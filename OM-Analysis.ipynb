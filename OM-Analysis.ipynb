{
 "cells": [
  {
   "cell_type": "markdown",
   "metadata": {},
   "source": [
    "# OMEGA-MAPPIN \n",
    "\n",
    "This notebook shows some of the analyses of the FOOF results from the MEG Data. \n",
    "\n",
    "The analyses code is all in a custom module (om). Here, is just a demonstration of some results. \n",
    "\n",
    "All data used here is at the source level. Each subject data was ultimately project to a template anatomy with 7500 vertices. "
   ]
  },
  {
   "cell_type": "code",
   "execution_count": 1,
   "metadata": {
    "collapsed": false
   },
   "outputs": [],
   "source": [
    "# Imports\n",
    "from __future__ import print_function\n",
    "import numpy as np\n",
    "import sys\n",
    "import os\n",
    "\n",
    "\n",
    "# Import general code from custom module om, and OO code for handling data\n",
    "sys.path.append('/Users/thomasdonoghue/Documents/GitCode/omegamappin/')\n",
    "from om.gen import *\n",
    "from om.cl import *\n",
    "\n",
    "# Set plots to display inline\n",
    "%matplotlib inline"
   ]
  },
  {
   "cell_type": "code",
   "execution_count": 2,
   "metadata": {
    "collapsed": false
   },
   "outputs": [
    {
     "name": "stdout",
     "output_type": "stream",
     "text": [
      "\n",
      " Number of Subjects available: 21\n",
      "\n",
      "Subject numbers with FOOF data available: \n",
      "[111802, 124340, 218131, 220216, 245518, 265922, 320548, 339964, 369737, 386068, 390845, 403435, 405716, 431088, 504997, 548027, 604600, 704718, 704814, 756575, 978341]\n",
      "\n"
     ]
    }
   ],
   "source": [
    "## Check what data is available\n",
    "# Set file paths\n",
    "foof_data_path = '/Users/thomasdonoghue/Documents/Research/1-Projects/OMEGA/2-Data/MEG/3-FOOF/Colin/pickle/'\n",
    "files = os.listdir(foof_data_path)\n",
    "\n",
    "# Get a list of files and list of available subjects\n",
    "files = clean_file_list(files, 'Foof_Vertex')\n",
    "sub_nums = get_sub_nums(files)\n",
    "\n",
    "# Print out the list of subject numbers\n",
    "print('\\n Number of Subjects available: ' + str(len(sub_nums)) + '\\n')\n",
    "print('Subject numbers with FOOF data available: \\n' + str(sub_nums) + '\\n')"
   ]
  },
  {
   "cell_type": "markdown",
   "metadata": {},
   "source": [
    "### Single Subject Analysis\n",
    "\n",
    "Here, loads a single subject and analyses the data. "
   ]
  },
  {
   "cell_type": "code",
   "execution_count": 3,
   "metadata": {
    "collapsed": false
   },
   "outputs": [],
   "source": [
    "# Import an individual subject of FOOF PSD results\n",
    "subj = sub_nums[0]\n",
    "meg_subj = MegData()\n",
    "meg_subj.import_foof(subj)"
   ]
  },
  {
   "cell_type": "code",
   "execution_count": 4,
   "metadata": {
    "collapsed": true
   },
   "outputs": [],
   "source": [
    "# Use oscillatory bands to find oscillations per band per vertex\n",
    "osc = Osc()                      # Osc is an object that stores parameters for oscillatory bands\n",
    "meg_subj.osc_bands_vertex(osc)\n",
    "\n",
    "# This date can now be exported to matlab to be plotted on the cortex with Brainstorm\n",
    "#meg_subj.save_viz()"
   ]
  },
  {
   "cell_type": "code",
   "execution_count": null,
   "metadata": {
    "collapsed": false
   },
   "outputs": [],
   "source": [
    "# Plot the distribution of slopes, as computed by FOOF\n",
    "meg_subj.plot_slopes()"
   ]
  },
  {
   "cell_type": "code",
   "execution_count": null,
   "metadata": {
    "collapsed": false
   },
   "outputs": [],
   "source": [
    "# Convert format to vectors of all oscillations (regardless of anatomical location)\n",
    "meg_subj.all_oscs()"
   ]
  },
  {
   "cell_type": "code",
   "execution_count": null,
   "metadata": {
    "collapsed": false
   },
   "outputs": [],
   "source": [
    "# Check how many oscillations were found total, and plot number of oscillations per vertex\n",
    "print('Number of oscillations: ' + str(meg_subj.n_oscs))\n",
    "meg_subj.plot_hist_count()"
   ]
  },
  {
   "cell_type": "code",
   "execution_count": null,
   "metadata": {
    "collapsed": false
   },
   "outputs": [],
   "source": [
    "# Plot the distributions of centers, powers and bandwidths, across all oscillations\n",
    "meg_subj.plot_all_oscs()"
   ]
  },
  {
   "cell_type": "code",
   "execution_count": null,
   "metadata": {
    "collapsed": false
   },
   "outputs": [],
   "source": [
    "# Calculate correlations between oscillatory parameters and plot. \n",
    "subj_osc_param_corrs = meg_subj.plot_comparison()\n",
    "\n",
    "# Print out the correlations between oscillation parameters\n",
    "for corr in subj_osc_param_corrs:\n",
    "    print('Corr of  ',  corr[0], '\\t is ', '{:+1.4f}'.format(corr[1]), \n",
    "          '\\t with p-val of ', '{:1.5f}'.format(corr[2]))"
   ]
  },
  {
   "cell_type": "markdown",
   "metadata": {},
   "source": [
    "### GROUP ANALYSIS\n",
    "\n",
    "Group Analysis"
   ]
  },
  {
   "cell_type": "code",
   "execution_count": null,
   "metadata": {
    "collapsed": false
   },
   "outputs": [],
   "source": [
    "# Initialize MegGroup object\n",
    "meg_group = GroupMegData()"
   ]
  },
  {
   "cell_type": "code",
   "execution_count": null,
   "metadata": {
    "collapsed": false
   },
   "outputs": [],
   "source": [
    "# Add current subjects to meg_group\n",
    "osc = Osc()\n",
    "for subj in sub_nums:\n",
    "    meg_subj = MegData()                               # Initialize MegData object\n",
    "    meg_subj.import_foof(subj)                         # Import subject data\n",
    "    meg_subj.all_oscs()                                # Create vectors of all oscillations\n",
    "    meg_subj.peak_freq(osc)                            # Calculate oscillatory parameters\n",
    "    meg_subj.osc_bands_vertex(osc)                     # Get oscillations per band per vertex\n",
    "    meg_group.add_subject(meg_subj,                    # Add subject data to group object\n",
    "                          add_all_oscs=True,               # Whether to include all-osc data\n",
    "                          add_vertex_bands=True,           # Whether to include osc-band-vertex data\n",
    "                          add_vertex_oscs=False,           # Whether to include all-osc data for each vertex\n",
    "                          add_vertex_slopes=True)          # Whether to include the slopes per vertex across subjects"
   ]
  },
  {
   "cell_type": "code",
   "execution_count": null,
   "metadata": {
    "collapsed": false
   },
   "outputs": [],
   "source": [
    "# Check how many subjects group includes\n",
    "print('Currently analyzing ' + str(meg_group.n_subjs) + ' subjects.')"
   ]
  },
  {
   "cell_type": "code",
   "execution_count": null,
   "metadata": {
    "collapsed": false
   },
   "outputs": [],
   "source": [
    "# Plot all oscillations across the group\n",
    "print('Number of oscillations found across the whole group: ' + str(meg_group.n_oscs_tot) + '\\n')\n",
    "meg_group.plot_all_oscs()"
   ]
  },
  {
   "cell_type": "code",
   "execution_count": null,
   "metadata": {
    "collapsed": false,
    "scrolled": true
   },
   "outputs": [],
   "source": [
    "# Compare oscillation parameters across the whole group\n",
    "osc_param_corrs = meg_group.plot_comparison()\n",
    "\n",
    "#\n",
    "for corr in osc_param_corrs:\n",
    "    print('Corr of  ',  corr[0], '\\t is ', '{:+1.4f}'.format(corr[1]), \n",
    "          '\\t with p-val of ', '{:1.5f}'.format(corr[2]))"
   ]
  },
  {
   "cell_type": "code",
   "execution_count": null,
   "metadata": {
    "collapsed": false
   },
   "outputs": [],
   "source": [
    "# Plot distribution of all slopes\n",
    "meg_group.plot_slopes()"
   ]
  },
  {
   "cell_type": "code",
   "execution_count": null,
   "metadata": {
    "collapsed": true
   },
   "outputs": [],
   "source": [
    "# Calculate Average Slope per Vertex and Save Out\n",
    "meg_group.group_slope(save_out=True, file_name='Group_Slopes', set_viz=True)"
   ]
  },
  {
   "cell_type": "code",
   "execution_count": null,
   "metadata": {
    "collapsed": false
   },
   "outputs": [],
   "source": [
    "# Calculate probability of oscilation (band specific) across the cortex\n",
    "meg_group.osc_prob()"
   ]
  },
  {
   "cell_type": "code",
   "execution_count": null,
   "metadata": {
    "collapsed": false
   },
   "outputs": [],
   "source": [
    "# Correlations between probabilities of oscillatory bands. \n",
    "osc_prob_corrs = meg_group.osc_prob_corrs()\n",
    "for corr in osc_prob_corrs:\n",
    "    print('Corr of  ',  corr[0], '\\t is ', '{:+1.4f}'.format(corr[1]), \n",
    "          '\\t with p-val of ', '{:1.5f}'.format(corr[2]))"
   ]
  },
  {
   "cell_type": "code",
   "execution_count": null,
   "metadata": {
    "collapsed": false
   },
   "outputs": [],
   "source": [
    "# Save group osc-probability data for visualization with Brainstorm\n",
    "meg_group.set_prob_vis()"
   ]
  },
  {
   "cell_type": "code",
   "execution_count": null,
   "metadata": {
    "collapsed": false
   },
   "outputs": [],
   "source": [
    "# Oscillation score\n",
    "meg_group.osc_score()"
   ]
  },
  {
   "cell_type": "code",
   "execution_count": null,
   "metadata": {
    "collapsed": false
   },
   "outputs": [],
   "source": [
    "# Save osc-score npz file\n",
    "#meg_group.save_osc_score('Group_Osc_Scores')\n",
    "\n",
    "# OLD - BELOW CODE NOW IMPLEMENTED IN OM AS ABOVE. STILL NEEDS TESTING\n",
    "#npz_save_path = '/Users/thomasdonoghue/Documents/Research/1-Projects/OMEGA/2-Data/Maps/Oscs/'\n",
    "#npz_file_name = 'Group_Osc_Scores.npz'\n",
    "#npz_save_name = os.path.join(npz_save_path, npz_file_name)\n",
    "#np.savez(npz_save_name, osc_score_theta=meg_group.theta_score, osc_score_alpha=meg_group.alpha_score, osc_score_beta=meg_group.beta_score, osc_score_lowgamma=meg_group.lowgamma_score)"
   ]
  },
  {
   "cell_type": "code",
   "execution_count": null,
   "metadata": {
    "collapsed": true
   },
   "outputs": [],
   "source": [
    "# Save group osc-score data for visualization with Brainstorm\n",
    "meg_group.set_score_vis()"
   ]
  },
  {
   "cell_type": "code",
   "execution_count": null,
   "metadata": {
    "collapsed": false
   },
   "outputs": [],
   "source": [
    "# Correlations between osc-scores of oscillatory bands. \n",
    "osc_score_corrs = meg_group.osc_score_corrs()\n",
    "for corr in osc_score_corrs:\n",
    "    print('Corr of  ',  corr[0], '\\t is ', '{:+1.4f}'.format(corr[1]), \n",
    "          '\\t with p-val of ', '{:1.5f}'.format(corr[2]))"
   ]
  },
  {
   "cell_type": "markdown",
   "metadata": {},
   "source": [
    "## Demographics\n",
    "\n",
    "We have limited demographic information with the OMEGA database.\n",
    "\n",
    "At a minimum, for each subject we have birth year, giving us approximate age, and sex. "
   ]
  },
  {
   "cell_type": "code",
   "execution_count": null,
   "metadata": {
    "collapsed": false
   },
   "outputs": [],
   "source": [
    "# Check demographics\n",
    "print('Ages range from ', min(meg_group.age), ' to ', max(meg_group.age), \n",
    "      ' with an average of ', np.mean(meg_group.age))\n",
    "print('There are ', meg_group.sex.count('M'), ' males and ', meg_group.sex.count('F'), 'females')"
   ]
  },
  {
   "cell_type": "code",
   "execution_count": null,
   "metadata": {
    "collapsed": false
   },
   "outputs": [],
   "source": [
    "# Comparison of age and peak frequency within oscillatory bands\n",
    "age_peak_corrs = meg_group.osc_age_comparison_plot()\n",
    "for corr in age_peak_corrs:\n",
    "    print('Corr of  ',  corr[0], '\\t is ', '{:+1.4f}'.format(corr[1]), \n",
    "          '\\t with p-val of ', '{:1.5f}'.format(corr[2]))\n",
    "print('\\n')"
   ]
  },
  {
   "cell_type": "code",
   "execution_count": null,
   "metadata": {
    "collapsed": false
   },
   "outputs": [],
   "source": [
    "# Check for correlation between number of oscillations found and age. \n",
    "plt.plot(meg_group.age, meg_group.n_oscs, '.')\n",
    "plt.title('# Oscillations / Age', fontsize=20, fontweight='bold')\n",
    "[r_age_nOsc, p_age_nOsc] = pearsonr(meg_group.age, meg_group.n_oscs)\n",
    "print('Corr of # Oscillations / Age is ', '{:+1.4f}'.format(r_age_nOsc), \n",
    "          ' with p-val of ', '{:1.5f}'.format(p_age_nOsc), '\\n')"
   ]
  },
  {
   "cell_type": "code",
   "execution_count": null,
   "metadata": {
    "collapsed": true
   },
   "outputs": [],
   "source": [
    "# Get inds of male and female subjects\n",
    "m_inds = [i for i, x in enumerate(meg_group.sex) if x == \"M\"]\n",
    "f_inds = [i for i, x in enumerate(meg_group.sex) if x == \"F\"]\n",
    "\n",
    "# NOTE: I explored a couple parameters, such as nOscs and peak-band-oscs, to see if anything looked different. \n",
    "# Total fishing expedition, and not enough subjects to really see anything. Revisit with more subjects. "
   ]
  },
  {
   "cell_type": "markdown",
   "metadata": {},
   "source": [
    "## Reload MEG Group\n",
    "\n",
    "The MEG Group object risks getting quite large, and can end up with the same data loaded in multiple formats. \n",
    "To pre-empt that, here a new object is loaded with differently organized data for other analysis. "
   ]
  },
  {
   "cell_type": "code",
   "execution_count": null,
   "metadata": {
    "collapsed": true
   },
   "outputs": [],
   "source": [
    "# Initialize MegGroup object\n",
    "meg_group = GroupMegData()"
   ]
  },
  {
   "cell_type": "code",
   "execution_count": null,
   "metadata": {
    "collapsed": true
   },
   "outputs": [],
   "source": [
    "# Add current subjects to meg_group\n",
    "for subj in sub_nums:\n",
    "    meg_subj = MegData()                               # Initialize MegData object\n",
    "    meg_subj.import_foof(subj)                         # Import subject data\n",
    "    meg_group.add_subject(meg_subj,                    # Add subject data to group object\n",
    "                          add_all_oscs=False,               # Don't include all-osc data\n",
    "                          add_vertex_bands=False,           # Don't include osc-band-vertex data\n",
    "                          add_vertex_oscs=True)             # Include oscillations per vertex"
   ]
  },
  {
   "cell_type": "code",
   "execution_count": null,
   "metadata": {
    "collapsed": true
   },
   "outputs": [],
   "source": [
    "# Do the rolling frequency correlation. \n",
    "f_win = 3\n",
    "corr_vec, p_vec = meg_group.freq_corr(f_win)"
   ]
  },
  {
   "cell_type": "code",
   "execution_count": null,
   "metadata": {
    "collapsed": false
   },
   "outputs": [],
   "source": [
    "# Plot rolling frequency correlation\n",
    "fs = np.transpose(range(3, 40-f_win-1))\n",
    "plt.plot(fs, corr_vec, '.')\n",
    "plt.title('Correlation of Probability of Adjacent Frequency Bands', fontsize=16, fontweight='bold')"
   ]
  },
  {
   "cell_type": "code",
   "execution_count": null,
   "metadata": {
    "collapsed": false
   },
   "outputs": [],
   "source": [
    "import os\n",
    "a = '/aa/bb/'\n",
    "os.path.join(a, 'cc', 'dd')"
   ]
  },
  {
   "cell_type": "code",
   "execution_count": null,
   "metadata": {
    "collapsed": true
   },
   "outputs": [],
   "source": [
    "a = 'a'"
   ]
  },
  {
   "cell_type": "code",
   "execution_count": null,
   "metadata": {
    "collapsed": false
   },
   "outputs": [],
   "source": [
    "if a is 'a':\n",
    "    print 'Yes'"
   ]
  },
  {
   "cell_type": "code",
   "execution_count": null,
   "metadata": {
    "collapsed": true
   },
   "outputs": [],
   "source": []
  }
 ],
 "metadata": {
  "kernelspec": {
   "display_name": "Python 2",
   "language": "python",
   "name": "python2"
  },
  "language_info": {
   "codemirror_mode": {
    "name": "ipython",
    "version": 2
   },
   "file_extension": ".py",
   "mimetype": "text/x-python",
   "name": "python",
   "nbconvert_exporter": "python",
   "pygments_lexer": "ipython2",
   "version": "2.7.11"
  }
 },
 "nbformat": 4,
 "nbformat_minor": 0
}
