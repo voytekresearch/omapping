{
 "cells": [
  {
   "cell_type": "markdown",
   "metadata": {},
   "source": [
    "## Twin Analysis\n",
    "\n",
    "The HCP databases uses a twin sample, allowing for the comparison of monozygotic (MZ) vs dizygotic (DZ) twins. \n",
    "\n",
    "This allows us to compare the heritability of oscillations."
   ]
  },
  {
   "cell_type": "code",
   "execution_count": 1,
   "metadata": {
    "collapsed": false
   },
   "outputs": [],
   "source": [
    "# Import required libraries/functions\n",
    "from __future__ import print_function, division\n",
    "import random\n",
    "import itertools\n",
    "import numpy as  np\n",
    "\n",
    "# Import custom code from module om, including general functions and OO code for handling data\n",
    "from om.core.db import OMDB\n",
    "from om.core.osc import Osc\n",
    "from om.core.io import load_meg_pairs\n",
    "from om.core.utils import check_file_status\n",
    "from om.meg.twin import *\n",
    "\n",
    "from om.meg.twin import _comp_pf_pair, _comp_space_pair, _comp_osc_pair, _comp_sl_pair\n",
    "\n",
    "# TODO: Make all this duplicated runs for 3 subj groups into functions."
   ]
  },
  {
   "cell_type": "code",
   "execution_count": 2,
   "metadata": {
    "collapsed": false
   },
   "outputs": [
    {
     "name": "stdout",
     "output_type": "stream",
     "text": [
      "There are 18 MZ twin pairs.\n",
      "There are 19 DZ twin pairs.\n"
     ]
    }
   ],
   "source": [
    "# Pull out twin data from demographics file\n",
    "mz_twins, dz_twins, all_twins, not_twins = get_twin_data()\n",
    "\n",
    "# Match twin pairs\n",
    "mz_id_pairs, mz_singles = match_twins(mz_twins)\n",
    "dz_id_pairs, dz_singles = match_twins(dz_twins)\n",
    "\n",
    "# Check how many pairs where extracted\n",
    "print('There are', str(len(mz_id_pairs)), 'MZ twin pairs.')\n",
    "print('There are', str(len(dz_id_pairs)), 'DZ twin pairs.')"
   ]
  },
  {
   "cell_type": "code",
   "execution_count": 3,
   "metadata": {
    "collapsed": false
   },
   "outputs": [
    {
     "name": "stdout",
     "output_type": "stream",
     "text": [
      "Of 93 subjects, 77 files are available and 16 files are unavailable.\n"
     ]
    }
   ],
   "source": [
    "# Get database object and set up database to use\n",
    "db = OMDB()\n",
    "dat_source = 'HCP'\n",
    "\n",
    "# Check which twin subjects are available\n",
    "av_dat, no_dat = check_file_status(all_twins, db, dat_source='HCP')"
   ]
  },
  {
   "cell_type": "code",
   "execution_count": 4,
   "metadata": {
    "collapsed": false
   },
   "outputs": [
    {
     "name": "stdout",
     "output_type": "stream",
     "text": [
      "There are 10 complete MZ twin pairs.\n",
      "There are 16 complete DZ twin pairs.\n"
     ]
    }
   ],
   "source": [
    "# Given the missing data, check which twin pairs are complete\n",
    "mz_complete_pairs = check_complete_pairs(mz_id_pairs, av_dat)\n",
    "dz_complete_pairs = check_complete_pairs(dz_id_pairs, av_dat)\n",
    "\n",
    "# Print out number of available pairs by twin type\n",
    "print('There are', str(len(mz_complete_pairs)), 'complete MZ twin pairs.')\n",
    "print('There are', str(len(dz_complete_pairs)), 'complete DZ twin pairs.')"
   ]
  },
  {
   "cell_type": "code",
   "execution_count": 5,
   "metadata": {
    "collapsed": false
   },
   "outputs": [
    {
     "name": "stdout",
     "output_type": "stream",
     "text": [
      "MZ Twins Incomplete Pairs:\n",
      "[(189349, 500222), (151526, 352132), (149741, 433839), (287248, 660951), (187547, 200109), (104012, 153732), (102816, 680957), (191033, 872764)]\n",
      "DZ Twins Incomplete Pairs:\n",
      "[(192641, 825048), (182840, 205119), (108323, 140117)]\n"
     ]
    }
   ],
   "source": [
    "# Check which pairs are missing (at least one) subject\n",
    "print('MZ Twins Incomplete Pairs:')\n",
    "print(list(set(mz_id_pairs) - set(mz_complete_pairs)))\n",
    "print('DZ Twins Incomplete Pairs:')\n",
    "print(list(set(dz_id_pairs) - set(dz_complete_pairs)))"
   ]
  },
  {
   "cell_type": "code",
   "execution_count": 6,
   "metadata": {
    "collapsed": false
   },
   "outputs": [],
   "source": [
    "# Get a list of all possible non-twin pairs, to compare to\n",
    "all_pairs = list(itertools.combinations(av_dat, 2))\n",
    "non_twin_pairs = rm_twin_pairs(all_pairs, mz_id_pairs + dz_id_pairs)\n",
    "\n",
    "# Of all possible combinations, get a random sample of non-twin pairs, matching number of twin pairs\n",
    "n_non_twin = len(dz_complete_pairs)\n",
    "rand_inds = random.sample(range(len(non_twin_pairs)), n_non_twin)\n",
    "non_twin_pairs = [non_twin_pairs[i] for i in rand_inds]"
   ]
  },
  {
   "cell_type": "markdown",
   "metadata": {},
   "source": [
    "## Load Data"
   ]
  },
  {
   "cell_type": "code",
   "execution_count": 7,
   "metadata": {
    "collapsed": true
   },
   "outputs": [],
   "source": [
    "# Get database object and oscillatory band definition\n",
    "db = OMDB()\n",
    "osc = Osc(default=True)"
   ]
  },
  {
   "cell_type": "code",
   "execution_count": 8,
   "metadata": {
    "collapsed": true
   },
   "outputs": [],
   "source": [
    "# Load subjects into pairs\n",
    "mz_twin_dat = load_meg_pairs(mz_complete_pairs, osc_bands_vert=True, osc=osc, db=db)\n",
    "dz_twin_dat = load_meg_pairs(dz_complete_pairs, osc_bands_vert=True, osc=osc, db=db)\n",
    "non_twin_dat = load_meg_pairs(non_twin_pairs, osc_bands_vert=True, osc=osc, db=db)"
   ]
  },
  {
   "cell_type": "markdown",
   "metadata": {},
   "source": [
    "## Peak Frequencies\n",
    "\n",
    "Compares the peak frequencies within oscillatory bands between twins and non-twins."
   ]
  },
  {
   "cell_type": "code",
   "execution_count": 9,
   "metadata": {
    "collapsed": false
   },
   "outputs": [],
   "source": [
    "# Settings\n",
    "peak_type = 'band'\n",
    "avg = 'median'\n",
    "\n",
    "# Compare peak frequencies\n",
    "mz_peak_avg, mz_peak_dat = comp_peak_freq(mz_twin_dat, peak_type=peak_type, avg=avg)\n",
    "dz_peak_avg, dz_peak_dat = comp_peak_freq(dz_twin_dat, peak_type=peak_type, avg=avg)\n",
    "non_twin_peak_avg, non_twin_peak_dat = comp_peak_freq(non_twin_dat, peak_type=peak_type, avg=avg)"
   ]
  },
  {
   "cell_type": "code",
   "execution_count": 10,
   "metadata": {
    "collapsed": false
   },
   "outputs": [
    {
     "name": "stdout",
     "output_type": "stream",
     "text": [
      "MZ Twin Oscillatory Band Peak Frequency Results: \n",
      "\t Theta \t :  0.5708\n",
      "\t Alpha \t :  0.3523\n",
      "\t Beta \t :  2.0289\n",
      "\t LowGamma \t :  0.5651\n",
      "DZ Twin Oscillatory Band Peak Frequency Results: \n",
      "\t Theta \t :  1.0301\n",
      "\t Alpha \t :  0.7507\n",
      "\t Beta \t :  1.1748\n",
      "\t LowGamma \t :  1.1804\n",
      "Non-Twin Oscillatory Band Peak Frequency Results: \n",
      "\t Theta \t :  1.7826\n",
      "\t Alpha \t :  0.8616\n",
      "\t Beta \t :  1.8104\n",
      "\t LowGamma \t :  1.6822\n"
     ]
    }
   ],
   "source": [
    "# Print out Results\n",
    "print('MZ Twin Oscillatory Band Peak Frequency Results: ')\n",
    "print_twin_results_vec(mz_peak_avg, osc.labels)\n",
    "print('DZ Twin Oscillatory Band Peak Frequency Results: ')\n",
    "print_twin_results_vec(dz_peak_avg, osc.labels)\n",
    "print('Non-Twin Oscillatory Band Peak Frequency Results: ')\n",
    "print_twin_results_vec(non_twin_peak_avg, osc.labels)"
   ]
  },
  {
   "cell_type": "markdown",
   "metadata": {},
   "source": [
    "### Oscillatory Band - Spatial Overlap\n",
    "\n",
    "Compares the spatial topography of oscillatory bands between pairs of subject. "
   ]
  },
  {
   "cell_type": "code",
   "execution_count": 11,
   "metadata": {
    "collapsed": true
   },
   "outputs": [],
   "source": [
    "# Compare spatial overlap\n",
    "mz_space_avg, mz_space_dat = comp_osc_space(mz_twin_dat)\n",
    "dz_space_avg, dz_space_dat = comp_osc_space(dz_twin_dat)\n",
    "non_twin_space_avg, non_twin_space_dat = comp_osc_space(non_twin_dat)"
   ]
  },
  {
   "cell_type": "code",
   "execution_count": 12,
   "metadata": {
    "collapsed": false
   },
   "outputs": [
    {
     "name": "stdout",
     "output_type": "stream",
     "text": [
      "MZ Twin Oscillatory Band Spatial Overlap Results: \n",
      "\t Theta \t :  0.7723\n",
      "\t Alpha \t :  0.6776\n",
      "\t Beta \t :  0.9506\n",
      "\t LowGamma \t :  0.6287\n",
      "DZ Twin Oscillatory Band Spatial Overlap Results: \n",
      "\t Theta \t :  0.7723\n",
      "\t Alpha \t :  0.7059\n",
      "\t Beta \t :  0.9068\n",
      "\t LowGamma \t :  0.6073\n",
      "Non-Twin Oscillatory Band Spatial Overlap Results: \n",
      "\t Theta \t :  0.7332\n",
      "\t Alpha \t :  0.6695\n",
      "\t Beta \t :  0.9030\n",
      "\t LowGamma \t :  0.5958\n"
     ]
    }
   ],
   "source": [
    "# Print out Results\n",
    "print('MZ Twin Oscillatory Band Spatial Overlap Results: ')\n",
    "print_twin_results_vec(mz_space_avg, osc.labels)\n",
    "print('DZ Twin Oscillatory Band Spatial Overlap Results: ')\n",
    "print_twin_results_vec(dz_space_avg, osc.labels)\n",
    "print('Non-Twin Oscillatory Band Spatial Overlap Results: ')\n",
    "print_twin_results_vec(non_twin_space_avg, osc.labels)"
   ]
  },
  {
   "cell_type": "markdown",
   "metadata": {},
   "source": [
    "### Oscillation Parameters Comparison\n",
    "\n",
    "The following compares oscillatory parameters, such as center frequency, power and bandwidth from within oscillatory bands. \n",
    "\n",
    "NOTE: As implemented, the these comparisons are not specific to how subjects are similar/different. \n",
    "Subjects can differ in either:\n",
    "- The spatial topography across which the oscillation band is found and/or\n",
    "- The oscillatory parameter within the vertices where the oscillatory band is found\n",
    "\n",
    "^ This can/will be parcelled out in further analyses:\n",
    "- A basic check is simply to look at the degree of overlap of oscillatory band topographies between subjects. "
   ]
  },
  {
   "cell_type": "code",
   "execution_count": 13,
   "metadata": {
    "collapsed": false
   },
   "outputs": [],
   "source": [
    "# Settings. Osc-Param: {0: CF, 1: Power, 2: BW}\n",
    "osc_param = 0\n",
    "\n",
    "# Compare oscillatory parameters\n",
    "mz_param_avg, mz_param_dat = comp_osc_param(mz_twin_dat, osc_param)\n",
    "dz_param_avg, dz_param_dat = comp_osc_param(dz_twin_dat, osc_param)\n",
    "non_twin_param_avg, non_twin_param_dat = comp_osc_param(non_twin_dat, osc_param)"
   ]
  },
  {
   "cell_type": "code",
   "execution_count": 14,
   "metadata": {
    "collapsed": false
   },
   "outputs": [
    {
     "name": "stdout",
     "output_type": "stream",
     "text": [
      "MZ Twin Oscillatory Band Center Frequency Results: \n",
      "\t Theta \t :  0.1485\n",
      "\t Alpha \t :  0.1337\n",
      "\t Beta \t :  0.1537\n",
      "\t LowGamma \t :  0.1201\n",
      "DZ Twin Oscillatory Band Center Frequency Results: \n",
      "\t Theta \t :  0.1404\n",
      "\t Alpha \t :  0.0734\n",
      "\t Beta \t :  0.1171\n",
      "\t LowGamma \t :  0.0860\n",
      "Non-Twin Oscillatory Band Center Frequency Results: \n",
      "\t Theta \t :  0.0855\n",
      "\t Alpha \t :  0.0025\n",
      "\t Beta \t :  0.0856\n",
      "\t LowGamma \t :  0.0437\n"
     ]
    }
   ],
   "source": [
    "# Print out results\n",
    "print('MZ Twin Oscillatory Band Center Frequency Results: ')\n",
    "print_twin_results_corr(mz_param_avg, osc.labels)\n",
    "print('DZ Twin Oscillatory Band Center Frequency Results: ')\n",
    "print_twin_results_corr(dz_param_avg, osc.labels)\n",
    "print('Non-Twin Oscillatory Band Center Frequency Results: ')\n",
    "print_twin_results_corr(non_twin_param_avg, osc.labels)"
   ]
  },
  {
   "cell_type": "markdown",
   "metadata": {},
   "source": [
    "## Slope Comparison"
   ]
  },
  {
   "cell_type": "code",
   "execution_count": 15,
   "metadata": {
    "collapsed": false
   },
   "outputs": [],
   "source": [
    "# Compare slopes\n",
    "mz_slope_avg, mz_slope_dat = comp_slope(mz_twin_dat)\n",
    "dz_slope_avg, dz_slope_dat = comp_slope(dz_twin_dat)\n",
    "non_twin_slope_avg, non_twin_slope_dat = comp_slope(non_twin_dat)"
   ]
  },
  {
   "cell_type": "code",
   "execution_count": 16,
   "metadata": {
    "collapsed": false
   },
   "outputs": [
    {
     "name": "stdout",
     "output_type": "stream",
     "text": [
      "MZ Twin Slope Results: \n",
      "\t Slope \t :  0.3584\n",
      "DZ Twin Slope Results: \n",
      "\t Slope \t :  0.4772\n",
      "Non-Twin Slope Results: \n",
      "\t Slope \t :  0.3034\n"
     ]
    }
   ],
   "source": [
    "# Print out results\n",
    "print('MZ Twin Slope Results: ')\n",
    "print_twin_results_corr(mz_slope_avg, ['Slope'])\n",
    "print('DZ Twin Slope Results: ')\n",
    "print_twin_results_corr(dz_slope_avg, ['Slope'])\n",
    "print('Non-Twin Slope Results: ')\n",
    "print_twin_results_corr(non_twin_slope_avg, ['Slope'])"
   ]
  },
  {
   "cell_type": "markdown",
   "metadata": {},
   "source": [
    "## TEST CODE"
   ]
  },
  {
   "cell_type": "code",
   "execution_count": 17,
   "metadata": {
    "collapsed": false
   },
   "outputs": [
    {
     "ename": "NameError",
     "evalue": "name 'MegData' is not defined",
     "output_type": "error",
     "traceback": [
      "\u001b[0;31m---------------------------------------------------------------------------\u001b[0m",
      "\u001b[0;31mNameError\u001b[0m                                 Traceback (most recent call last)",
      "\u001b[0;32m<ipython-input-17-8e0fc04d2f57>\u001b[0m in \u001b[0;36m<module>\u001b[0;34m()\u001b[0m\n\u001b[1;32m      2\u001b[0m \u001b[0mosc\u001b[0m \u001b[0;34m=\u001b[0m \u001b[0mOsc\u001b[0m\u001b[0;34m(\u001b[0m\u001b[0mdefault\u001b[0m\u001b[0;34m=\u001b[0m\u001b[0mTrue\u001b[0m\u001b[0;34m)\u001b[0m\u001b[0;34m\u001b[0m\u001b[0m\n\u001b[1;32m      3\u001b[0m \u001b[0;34m\u001b[0m\u001b[0m\n\u001b[0;32m----> 4\u001b[0;31m \u001b[0mmeg_subj_1\u001b[0m \u001b[0;34m=\u001b[0m \u001b[0mMegData\u001b[0m\u001b[0;34m(\u001b[0m\u001b[0mdb\u001b[0m\u001b[0;34m,\u001b[0m \u001b[0;34m'HCP'\u001b[0m\u001b[0;34m,\u001b[0m \u001b[0mosc\u001b[0m\u001b[0;34m)\u001b[0m\u001b[0;34m\u001b[0m\u001b[0m\n\u001b[0m\u001b[1;32m      5\u001b[0m \u001b[0mmeg_subj_2\u001b[0m \u001b[0;34m=\u001b[0m \u001b[0mMegData\u001b[0m\u001b[0;34m(\u001b[0m\u001b[0mdb\u001b[0m\u001b[0;34m,\u001b[0m \u001b[0;34m'HCP'\u001b[0m\u001b[0;34m,\u001b[0m \u001b[0mosc\u001b[0m\u001b[0;34m)\u001b[0m\u001b[0;34m\u001b[0m\u001b[0m\n\u001b[1;32m      6\u001b[0m \u001b[0;34m\u001b[0m\u001b[0m\n",
      "\u001b[0;31mNameError\u001b[0m: name 'MegData' is not defined"
     ]
    }
   ],
   "source": [
    "ind = 1\n",
    "osc = Osc(default=True)\n",
    "\n",
    "meg_subj_1 = MegData(db, 'HCP', osc)\n",
    "meg_subj_2 = MegData(db, 'HCP', osc)\n",
    "\n",
    "meg_subj_1.import_foof(mz_complete_pairs[ind][0])\n",
    "meg_subj_1.osc_bands_vertex()\n",
    "meg_subj_1.peak_freq('band')\n",
    "meg_subj_2.import_foof(mz_complete_pairs[ind][1])\n",
    "meg_subj_2.osc_bands_vertex()\n",
    "meg_subj_2.peak_freq('band')"
   ]
  },
  {
   "cell_type": "code",
   "execution_count": null,
   "metadata": {
    "collapsed": true
   },
   "outputs": [],
   "source": []
  }
 ],
 "metadata": {
  "kernelspec": {
   "display_name": "Python 2",
   "language": "python",
   "name": "python2"
  },
  "language_info": {
   "codemirror_mode": {
    "name": "ipython",
    "version": 2
   },
   "file_extension": ".py",
   "mimetype": "text/x-python",
   "name": "python",
   "nbconvert_exporter": "python",
   "pygments_lexer": "ipython2",
   "version": "2.7.11"
  }
 },
 "nbformat": 4,
 "nbformat_minor": 0
}
