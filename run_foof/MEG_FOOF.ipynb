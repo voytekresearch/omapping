{
 "cells": [
  {
   "cell_type": "markdown",
   "metadata": {},
   "source": [
    "<h1> FOOFing OMEGA Data </h1>"
   ]
  },
  {
   "cell_type": "markdown",
   "metadata": {},
   "source": [
    "This notebook runs FOOF on MEG-PSD data.\n",
    "- Option to Parallelize with Pool from Multiprocessing\n",
    "- Must Specify frequency range desired for FOOF\n",
    "- Saves FOOF results in pickled object\n",
    "\n",
    "NOTES:\n",
    "- For reasons unknown, parallel implementation does not currently work. \n",
    "\n",
    "    -It used to, but now hangs when trying to parallelize foof. "
   ]
  },
  {
   "cell_type": "code",
   "execution_count": 10,
   "metadata": {
    "collapsed": false
   },
   "outputs": [],
   "source": [
    "# Import sys and add FOOF location to path\n",
    "import sys\n",
    "sys.path.append('/Users/thomasdonoghue/Documents/GitCode/')\n",
    "\n",
    "# Import FOOF\n",
    "from foof import syn\n",
    "from foof.fit import FOOF\n",
    "\n",
    "# Import custom code for running MEG-FOOF\n",
    "from om_foof import *\n",
    "\n",
    "# Import Parallelization Packages\n",
    "from multiprocessing import Pool, freeze_support\n",
    "\n",
    "# Import other packages\n",
    "import numpy as np\n",
    "import seaborn as sns\n",
    "import matplotlib.pyplot as plt\n",
    "\n",
    "# Set plots inline\n",
    "%matplotlib inline"
   ]
  },
  {
   "cell_type": "code",
   "execution_count": 11,
   "metadata": {
    "collapsed": true
   },
   "outputs": [],
   "source": [
    "# Set Paths to MEG Data\n",
    "meg_path = '/Users/thomasdonoghue/Documents/Research/1-Projects/OMEGA/2-Data/MEG/2-PSDs/Colin/'"
   ]
  },
  {
   "cell_type": "code",
   "execution_count": 12,
   "metadata": {
    "collapsed": false
   },
   "outputs": [
    {
     "name": "stdout",
     "output_type": "stream",
     "text": [
      "Number of Subjects 21\n",
      "['Subject_111802', 'Subject_124340', 'Subject_218131', 'Subject_220216', 'Subject_245518', 'Subject_265922', 'Subject_320548', 'Subject_339964', 'Subject_369737', 'Subject_386068', 'Subject_390845', 'Subject_403435', 'Subject_405716', 'Subject_431088', 'Subject_504997', 'Subject_548027', 'Subject_604600', 'Subject_704718', 'Subject_704814', 'Subject_756575', 'Subject_978341']\n"
     ]
    }
   ],
   "source": [
    "# Check Availabe Subjects\n",
    "files = os.listdir(meg_path)\n",
    "files = clean_file_list(files, 'Subject_')\n",
    "print \"Number of Subjects\", len(files)\n",
    "print files"
   ]
  },
  {
   "cell_type": "code",
   "execution_count": 13,
   "metadata": {
    "collapsed": false
   },
   "outputs": [],
   "source": [
    "# Load MEG Data\n",
    "subj = 111802\n",
    "psd, freqs = load_meg_dat(meg_path, subj)"
   ]
  },
  {
   "cell_type": "code",
   "execution_count": 14,
   "metadata": {
    "collapsed": false
   },
   "outputs": [
    {
     "name": "stdout",
     "output_type": "stream",
     "text": [
      "Number of PSDs is:  7500\n",
      "Frequency Resolution is:  0.48828125\n"
     ]
    }
   ],
   "source": [
    "# Check data - get number of PSDs and frequency resolution\n",
    "[nPSDs, nFreqs] = np.shape(psd)\n",
    "freq_res = np.mean(np.diff(freqs))\n",
    "print 'Number of PSDs is: ', nPSDs\n",
    "print 'Frequency Resolution is: ', freq_res"
   ]
  },
  {
   "cell_type": "code",
   "execution_count": 15,
   "metadata": {
    "collapsed": true
   },
   "outputs": [],
   "source": [
    "# Extract PSD range of interest\n",
    "psd_ext, freqs_ext = extract_psd(psd, freqs, f_low=3, f_high=40)"
   ]
  },
  {
   "cell_type": "code",
   "execution_count": 17,
   "metadata": {
    "collapsed": false
   },
   "outputs": [],
   "source": [
    "# Run FOOF\n",
    "foof_results = meg_foof(psd_ext[1:10, :], freqs_ext, method='linear', min_p=0.1, freq_res=freq_res)\n",
    "\n",
    "# Save out results\n",
    "#save_path = '/Users/thomasdonoghue/Documents/Research/1-Projects/OMEGA/2-Data/MEG/3-FOOF/'\n",
    "#save_pickle(foof_results, save_path, subj)"
   ]
  },
  {
   "cell_type": "code",
   "execution_count": null,
   "metadata": {
    "collapsed": true
   },
   "outputs": [],
   "source": [
    "\n",
    "\n",
    "\n",
    "\n",
    "\n"
   ]
  },
  {
   "cell_type": "code",
   "execution_count": null,
   "metadata": {
    "collapsed": false
   },
   "outputs": [],
   "source": [
    "# Open Pool, run FOOF in parallel, and then close pool. \n",
    "# Results stored in list of tuples\"\n",
    "pool = Pool(8)\n",
    "results = pool.map(foof_par, psd_list[0:1])\n",
    "pool.close()\n",
    "pool.join()\n",
    "\n",
    "# Use pickle to save the results\n",
    "foof_data_path = '/Users/thomasdonoghue/Documents/Research/1-Projects/OMEGA/2-Data/MEG/3-FOOF/'\n",
    "foof_save_name = str(subj) + '_Foof_Vertex.p'\n",
    "foof_save_path = os.path.join(foof_data_path, foof_save_name)\n",
    "pickle.dump(results, open(foof_save_path, 'wb'))\n",
    "\n",
    "# Close the pool\n",
    "pool.terminate()"
   ]
  },
  {
   "cell_type": "code",
   "execution_count": null,
   "metadata": {
    "collapsed": false
   },
   "outputs": [],
   "source": [
    "# Parallel not working. Run linearly. \n",
    "results = [foof_par(psd) for psd in psd_list]\n",
    "\n",
    "# Use pickle to save the results\n",
    "foof_data_path = '/Users/thomasdonoghue/Documents/Research/1-Projects/OMEGA/2-Data/MEG/3-FOOF/'\n",
    "foof_save_name = str(subj) + '_Foof_Vertex.p'\n",
    "foof_save_path = os.path.join(foof_data_path, foof_save_name)\n",
    "pickle.dump(results, open(foof_save_path, 'wb'))"
   ]
  },
  {
   "cell_type": "code",
   "execution_count": null,
   "metadata": {
    "collapsed": true
   },
   "outputs": [],
   "source": [
    "# EXTRA: CHECK FOOF\n",
    "\n",
    "print(\"model: f {0}, f_sig {1}, chi {2}\".format(\n",
    "        np.round(foof.centers_, decimals=1),\n",
    "        np.round(foof.stdevs_, decimals=1),\n",
    "        np.round(foof.chi_, decimals=1))\n",
    "     )\n",
    "\n",
    "plt.subplot(211)\n",
    "plt.plot(freqs_ext, psd_example[:,0]*10000000000000000000000, label='Data')\n",
    "plt.plot(*syn.mfonef(mk=foof.powers_, \n",
    "                     mf=foof.centers_, \n",
    "                     mf_sig=foof.stdevs_, \n",
    "                     f0=3, \n",
    "                     fmax=50, \n",
    "                     chi=foof.chi_, \n",
    "                     res=freq_res), \n",
    "         label='Model'\n",
    "        )\n",
    "plt.xlabel(\"F (Hz)\")\n",
    "plt.ylabel(\"PSD\")\n",
    "plt.yscale('log')\n",
    "plt.xscale('log')\n",
    "plt.legend()"
   ]
  }
 ],
 "metadata": {
  "kernelspec": {
   "display_name": "Python 2",
   "language": "python",
   "name": "python2"
  },
  "language_info": {
   "codemirror_mode": {
    "name": "ipython",
    "version": 2
   },
   "file_extension": ".py",
   "mimetype": "text/x-python",
   "name": "python",
   "nbconvert_exporter": "python",
   "pygments_lexer": "ipython2",
   "version": "2.7.11"
  }
 },
 "nbformat": 4,
 "nbformat_minor": 0
}
