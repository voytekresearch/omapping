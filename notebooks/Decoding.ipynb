{
 "cells": [
  {
   "cell_type": "markdown",
   "metadata": {},
   "source": [
    "# Decoding Subjects from Oscillation Data\n",
    "\n",
    "..."
   ]
  },
  {
   "cell_type": "code",
   "execution_count": 1,
   "metadata": {},
   "outputs": [],
   "source": [
    "%matplotlib inline\n",
    "\n",
    "import random\n",
    "import numpy as np\n",
    "import matplotlib.pyplot as plt\n",
    "\n",
    "import itertools\n",
    "\n",
    "from om.meg.single import MegSubj\n",
    "from om.meg.decoding import *\n",
    "\n",
    "from om.core.db import OMDB\n",
    "from om.core.osc import Osc\n",
    "from om.core.io import load_meg_list"
   ]
  },
  {
   "cell_type": "code",
   "execution_count": 2,
   "metadata": {},
   "outputs": [
    {
     "name": "stdout",
     "output_type": "stream",
     "text": [
      "\n",
      "Number of Subjects available: 81\n",
      "\n",
      "Subject numbers with FOOOF data available: \n",
      "[100307, 102816, 105923, 106521, 109123, 111514, 112920, 113922, 116524, 116726, 140117, 146129, 153732, 154532, 156334, 158136, 162026, 162935, 164636, 166438, 172029, 174841, 175237, 175540, 181232, 185442, 187547, 189349, 191033, 191437, 191841, 192641, 195041, 198653, 204521, 205119, 212318, 212823, 214524, 221319, 223929, 233326, 248339, 250427, 255639, 257845, 283543, 287248, 293748, 352132, 352738, 353740, 358144, 406836, 433839, 512835, 555348, 559053, 568963, 581450, 599671, 601127, 660951, 662551, 665254, 667056, 679770, 706040, 707749, 715950, 725751, 735148, 783462, 814649, 825048, 877168, 891667, 898176, 912447, 917255, 990366]\n",
      "\n"
     ]
    }
   ],
   "source": [
    "# Get database object, set up database to use and check available files\n",
    "db = OMDB()\n",
    "dat_source = 'HCP'\n",
    "sub_nums, source = db.check_dat_files('fooof', dat_source, verbose=True)\n",
    "\n",
    "# Drop outlier subject\n",
    "sub_nums = list(set(sub_nums) - set([662551]))\n",
    "\n",
    "# Set up oscillation object\n",
    "osc = Osc(default=True)"
   ]
  },
  {
   "cell_type": "markdown",
   "metadata": {},
   "source": [
    "## KNN Classification\n",
    "\n",
    "The following KNN classification is trained with oscillations from a group of subjects, where the test question is whether, given a single oscillations from a hold-out test set, can we decode which subject that oscillation comes from. \n",
    "\n",
    "Features:\n",
    "- This is using 3 features: centers frequency, power and bandwidth, from all oscillations (not band specific)\n",
    "\n",
    "Note:\n",
    "- This approach is using data from with a single run, for each subject.\n",
    "- Given this, this analysis is basically asking: are individuals subjects' oscillations idiosyncratic enough that, given a new oscillation from the same run, can we can guess which subject it comes from.\n",
    "- This isn't really how we want to be decoding, but having data pulled from separate epochs requires a significant amount of re-organizing and re-computing data that is not ready yet. "
   ]
  },
  {
   "cell_type": "code",
   "execution_count": 3,
   "metadata": {},
   "outputs": [
    {
     "name": "stdout",
     "output_type": "stream",
     "text": [
      "2\n"
     ]
    }
   ],
   "source": [
    "#\n",
    "group_size = 4\n",
    "combinations = list(itertools.combinations(sub_nums, group_size))\n",
    "\n",
    "# Get a random sample of possible combinations\n",
    "n_run = 2\n",
    "rand_inds = random.sample(range(len(combinations)), n_run)\n",
    "comb_run = [combinations[i] for i in rand_inds]\n",
    "\n",
    "print(len(comb_run))"
   ]
  },
  {
   "cell_type": "code",
   "execution_count": 4,
   "metadata": {
    "collapsed": true
   },
   "outputs": [],
   "source": [
    "#\n",
    "all_results = []\n",
    "for comb in comb_run:\n",
    "    \n",
    "    cur_results = []\n",
    "    subjs = load_meg_list(comb, all_oscs=True, db=db, dat_source=dat_source)\n",
    "    \n",
    "    for i in range(10):\n",
    "        cur_results.append(knn(subjs))\n",
    "    \n",
    "    all_results.append(np.mean(cur_results))\n",
    "\n",
    "grand_avg = np.mean(all_results)\n",
    "chance = 1/group_size"
   ]
  },
  {
   "cell_type": "code",
   "execution_count": 5,
   "metadata": {},
   "outputs": [
    {
     "name": "stdout",
     "output_type": "stream",
     "text": [
      "Overall performance is 53.40%, with chance performance of 25.00%\n"
     ]
    }
   ],
   "source": [
    "print('Overall performance is {:4.2f}%, with chance performance of {:4.2f}%'.format(grand_avg*100, chance*100))"
   ]
  },
  {
   "cell_type": "markdown",
   "metadata": {},
   "source": [
    "## TESTS"
   ]
  },
  {
   "cell_type": "code",
   "execution_count": 12,
   "metadata": {},
   "outputs": [],
   "source": [
    "from sklearn.neighbors import KNeighborsClassifier\n",
    "from sklearn.model_selection import train_test_split, cross_val_score"
   ]
  },
  {
   "cell_type": "code",
   "execution_count": 23,
   "metadata": {},
   "outputs": [],
   "source": [
    "#cur_subs = [706040, 707749, 106521, 662551, 665254, 667056, 679770]\n",
    "cur_subs = sub_nums\n",
    "\n",
    "subjs = load_meg_list(cur_subs, all_oscs=True, db=db, dat_source=dat_source)\n",
    "\n",
    "dat, labels = arrange_dat(subjs)"
   ]
  },
  {
   "cell_type": "code",
   "execution_count": 24,
   "metadata": {},
   "outputs": [],
   "source": [
    "# \n",
    "neigh = KNeighborsClassifier(n_neighbors=10)\n",
    "score = cross_val_score(neigh, dat, labels, cv=20)"
   ]
  },
  {
   "cell_type": "code",
   "execution_count": 25,
   "metadata": {},
   "outputs": [
    {
     "name": "stdout",
     "output_type": "stream",
     "text": [
      "Overall performance is 9.08%, with chance performance of 1.25%\n"
     ]
    }
   ],
   "source": [
    "print('Overall performance is {:4.2f}%, with chance performance of {:4.2f}%'.format(\n",
    "    np.mean(score)*100, 1/len(subjs)*100))"
   ]
  },
  {
   "cell_type": "code",
   "execution_count": null,
   "metadata": {
    "collapsed": true
   },
   "outputs": [],
   "source": []
  },
  {
   "cell_type": "code",
   "execution_count": 22,
   "metadata": {},
   "outputs": [
    {
     "name": "stdout",
     "output_type": "stream",
     "text": [
      "0.204\n"
     ]
    }
   ],
   "source": [
    "res = []\n",
    "for i in range(20):\n",
    "    res.append(knn(subjs))\n",
    "    \n",
    "print(np.mean(res))"
   ]
  },
  {
   "cell_type": "code",
   "execution_count": null,
   "metadata": {
    "collapsed": true
   },
   "outputs": [],
   "source": []
  },
  {
   "cell_type": "markdown",
   "metadata": {},
   "source": [
    "## TESTING"
   ]
  },
  {
   "cell_type": "code",
   "execution_count": null,
   "metadata": {
    "collapsed": true
   },
   "outputs": [],
   "source": [
    "from mpl_toolkits.mplot3d import Axes3D"
   ]
  },
  {
   "cell_type": "code",
   "execution_count": null,
   "metadata": {},
   "outputs": [],
   "source": [
    "meg_subj_1, meg_subj_2 = subjs[0], subjs[1]"
   ]
  },
  {
   "cell_type": "code",
   "execution_count": null,
   "metadata": {
    "collapsed": true
   },
   "outputs": [],
   "source": [
    "inds_1 = [0, 1, 2, 3]\n",
    "inds_2 = [0, 1, 2, 3]"
   ]
  },
  {
   "cell_type": "code",
   "execution_count": null,
   "metadata": {},
   "outputs": [],
   "source": [
    "fig = plt.figure(figsize=(10, 10))\n",
    "ax = fig.add_subplot(111, projection='3d')\n",
    "ax.scatter(meg_subj_1.centers_all[inds_1], meg_subj_1.powers_all[inds_1], meg_subj_1.bws_all[inds_1])\n",
    "plt.hold()\n",
    "ax.scatter(meg_subj_2.centers_all[inds_2], meg_subj_2.powers_all[inds_2], meg_subj_2.bws_all[inds_2], color='r')\n",
    "plt.hold()"
   ]
  },
  {
   "cell_type": "code",
   "execution_count": null,
   "metadata": {},
   "outputs": [],
   "source": [
    "plt.scatter(meg_subj_1.centers_all[inds_1], meg_subj_1.bws_all[inds_1])\n",
    "plt.hold()\n",
    "plt.scatter(meg_subj_2.centers_all[inds_2], meg_subj_2.bws_all[inds_2], color='r')"
   ]
  },
  {
   "cell_type": "code",
   "execution_count": null,
   "metadata": {
    "collapsed": true
   },
   "outputs": [],
   "source": []
  }
 ],
 "metadata": {
  "kernelspec": {
   "display_name": "Python 3",
   "language": "python",
   "name": "python3"
  },
  "language_info": {
   "codemirror_mode": {
    "name": "ipython",
    "version": 3
   },
   "file_extension": ".py",
   "mimetype": "text/x-python",
   "name": "python",
   "nbconvert_exporter": "python",
   "pygments_lexer": "ipython3",
   "version": "3.7.3"
  }
 },
 "nbformat": 4,
 "nbformat_minor": 1
}
