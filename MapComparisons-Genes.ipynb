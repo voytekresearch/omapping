{
 "cells": [
  {
   "cell_type": "markdown",
   "metadata": {},
   "source": [
    "## GENE ANALYSIS\n",
    "\n",
    "Genetic expression data is taken from the Allen Brain Human Brain Atlas. \n",
    "\n",
    "First we use their data to estimate gene expression at our cortical locations. We then check which genes correlate with our electrophysiological data."
   ]
  },
  {
   "cell_type": "code",
   "execution_count": null,
   "metadata": {
    "collapsed": false
   },
   "outputs": [],
   "source": [
    "# Import required libraries\n",
    "import sys\n",
    "\n",
    "# Import custom code from module om, and OO code for handling data\n",
    "sys.path.append('/Users/thomasdonoghue/Documents/GitCode/omegamappin/')\n",
    "from om.gen import *                    # Import general code \n",
    "from om.cl.mc_tg import *               # Import Map-Compare Classes for Terms/Genes Data\n",
    "from om.plts.mc_plts import *           # Import Map-Compare Plots\n",
    "\n",
    "# Set plots to display inline\n",
    "%matplotlib inline"
   ]
  },
  {
   "cell_type": "code",
   "execution_count": 13,
   "metadata": {
    "collapsed": false
   },
   "outputs": [],
   "source": [
    "# Initialize MapComp object and oscillatory bands list\n",
    "db = OMDB()\n",
    "om_maps = MapCompTG(db)"
   ]
  },
  {
   "cell_type": "code",
   "execution_count": 14,
   "metadata": {
    "collapsed": false
   },
   "outputs": [
    {
     "name": "stdout",
     "output_type": "stream",
     "text": [
      "Oscillation Files:\n",
      " Group_Osc_Scores.npz\n",
      "Group_Osc_Scores_OLD.npz\n",
      "Res_Group_85_Osc_prob.p\n",
      "Res_Group_85_Osc_score.p \n",
      "\n",
      "Slope Files:\n",
      " Group_Slopes.npz \n",
      "\n",
      "Terms Files:\n",
      " 00-ns_terms.csv\n",
      "all_terms_r10_gaussian_estimation.csv\n",
      "all_terms_r5_gaussian_estimation.csv \n",
      "\n",
      "Genes Files:\n",
      " 00-real_gene_names.csv\n",
      "avg_gene_estimations\n",
      "sub1_gene_estimations\n",
      "sub2_gene_estimations\n",
      "sub3_gene_estimations\n",
      "sub4_gene_estimations\n",
      "sub5_gene_estimations\n",
      "sub6_gene_estimations \n",
      "\n"
     ]
    }
   ],
   "source": [
    "# Check files that are available\n",
    "db.check_map_files()"
   ]
  },
  {
   "cell_type": "code",
   "execution_count": 15,
   "metadata": {
    "collapsed": true
   },
   "outputs": [],
   "source": [
    "# Load oscillation maps - here using the oscillation scores\n",
    "om_maps.load_meg_maps('Res_Group_85_Osc_Score')"
   ]
  },
  {
   "cell_type": "code",
   "execution_count": 16,
   "metadata": {
    "collapsed": true
   },
   "outputs": [],
   "source": [
    "# Load slope map\n",
    "om_maps.load_slope_map('Res_Group_85')"
   ]
  },
  {
   "cell_type": "code",
   "execution_count": 17,
   "metadata": {
    "collapsed": false
   },
   "outputs": [
    {
     "name": "stdout",
     "output_type": "stream",
     "text": [
      "Loading file # 1  of  3\n",
      "Loading file # 2  of  3\n",
      "Loading file # 3  of  3\n",
      "All files loaded!\n",
      "NUMBER OF GENES DOES NOT MATCH\n"
     ]
    }
   ],
   "source": [
    "# Load gene files\n",
    "om_maps.load_gene_maps('sub6')"
   ]
  },
  {
   "cell_type": "code",
   "execution_count": null,
   "metadata": {
    "collapsed": false
   },
   "outputs": [],
   "source": [
    "# Calculate the correlation between oscillation maps and genes\n",
    "for osc in om_maps.bands:\n",
    "    om_maps.calc_corrs('Genes', osc, method='parallel')"
   ]
  },
  {
   "cell_type": "code",
   "execution_count": null,
   "metadata": {
    "collapsed": false
   },
   "outputs": [],
   "source": [
    "# Print out highest correlated genes for each oscillation band\n",
    "for osc in om_maps.bands:\n",
    "    om_maps.check_corrs('Genes', osc, n_check=25)"
   ]
  },
  {
   "cell_type": "code",
   "execution_count": null,
   "metadata": {
    "collapsed": false
   },
   "outputs": [],
   "source": [
    "# Save calculated correlations to file\n",
    "for osc in om_maps.bands:\n",
    "    om_maps.save_corrs('Genes', osc, 'Gr_85', save_as_npz=True, save_as_csv=True)"
   ]
  },
  {
   "cell_type": "code",
   "execution_count": null,
   "metadata": {
    "collapsed": true
   },
   "outputs": [],
   "source": [
    "# Calculate the correlation between slopes and genes\n",
    "om_maps.calc_corrs('Genes', 'Slopes', method='parallel')"
   ]
  },
  {
   "cell_type": "code",
   "execution_count": null,
   "metadata": {
    "collapsed": true
   },
   "outputs": [],
   "source": [
    "# Print out the highest correlated genes for slopes\n",
    "om_maps.check_corrs('Genes', 'Slopes')"
   ]
  },
  {
   "cell_type": "code",
   "execution_count": null,
   "metadata": {
    "collapsed": true
   },
   "outputs": [],
   "source": [
    "# Save calculated correlations to file\n",
    "om_maps.save_corrs('Genes', 'Slopes', 'Gr_85', save_as_npz=True, save_as_csv=True)"
   ]
  },
  {
   "cell_type": "code",
   "execution_count": null,
   "metadata": {
    "collapsed": true
   },
   "outputs": [],
   "source": []
  },
  {
   "cell_type": "markdown",
   "metadata": {},
   "source": [
    "### Calculate Average Gene Results"
   ]
  },
  {
   "cell_type": "code",
   "execution_count": null,
   "metadata": {
    "collapsed": false
   },
   "outputs": [],
   "source": [
    "# Calculate average gene expressions across all gene-subjects\n",
    "subj_list = ['sub1', 'sub2', 'sub3', 'sub4', 'sub5', 'sub6']\n",
    "calc_avg_gene_map(subj_list, 'All')"
   ]
  },
  {
   "cell_type": "code",
   "execution_count": null,
   "metadata": {
    "collapsed": true
   },
   "outputs": [],
   "source": []
  }
 ],
 "metadata": {
  "kernelspec": {
   "display_name": "Python 2",
   "language": "python",
   "name": "python2"
  },
  "language_info": {
   "codemirror_mode": {
    "name": "ipython",
    "version": 2
   },
   "file_extension": ".py",
   "mimetype": "text/x-python",
   "name": "python",
   "nbconvert_exporter": "python",
   "pygments_lexer": "ipython2",
   "version": "2.7.11"
  }
 },
 "nbformat": 4,
 "nbformat_minor": 0
}
