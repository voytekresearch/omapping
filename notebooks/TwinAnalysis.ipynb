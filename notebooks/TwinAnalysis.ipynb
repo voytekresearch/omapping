{
 "cells": [
  {
   "cell_type": "markdown",
   "metadata": {},
   "source": [
    "## Twin Analysis\n",
    "\n",
    "The HCP databases uses a twin sample, allowing for the comparison of monozygotic (MZ) vs dizygotic (DZ) twins. \n",
    "\n",
    "This allows us to compare the heritability of oscillations."
   ]
  },
  {
   "cell_type": "code",
   "execution_count": 1,
   "metadata": {
    "collapsed": false
   },
   "outputs": [],
   "source": [
    "# Import required libraries/functions\n",
    "from __future__ import print_function, division\n",
    "import sys\n",
    "import random\n",
    "import itertools\n",
    "import numpy as  np\n",
    "\n",
    "# Import custom code from module om, including general functions and OO code for handling data\n",
    "sys.path.append('/Users/thomasdonoghue/Documents/GitCode/omegamappin/')\n",
    "\n",
    "from om.core.db import OMDB\n",
    "from om.core.osc import Osc\n",
    "from om.core.utils import check_file_status\n",
    "from om.meg.twin import *"
   ]
  },
  {
   "cell_type": "code",
   "execution_count": 2,
   "metadata": {
    "collapsed": false
   },
   "outputs": [
    {
     "name": "stdout",
     "output_type": "stream",
     "text": [
      "There are 18 MZ twin pairs.\n",
      "There are 19 DZ twin pairs.\n"
     ]
    }
   ],
   "source": [
    "# Pull out twin data from demographics file\n",
    "mz_twins, dz_twins, all_twins, not_twins = get_twin_data()\n",
    "\n",
    "# Match twin pairs\n",
    "mz_id_pairs, mz_singles = match_twins(mz_twins)\n",
    "dz_id_pairs, dz_singles = match_twins(dz_twins)\n",
    "\n",
    "# Check how many pairs where extracted\n",
    "print('There are', str(len(mz_id_pairs)), 'MZ twin pairs.')\n",
    "print('There are', str(len(dz_id_pairs)), 'DZ twin pairs.')"
   ]
  },
  {
   "cell_type": "code",
   "execution_count": 3,
   "metadata": {
    "collapsed": false
   },
   "outputs": [
    {
     "name": "stdout",
     "output_type": "stream",
     "text": [
      "Of 93 subjects, 60 files are available and 33 files are unavailable.\n"
     ]
    }
   ],
   "source": [
    "# Get database object and set up database to use\n",
    "db = OMDB()\n",
    "dat_source = 'HCP'\n",
    "\n",
    "# Check which twin subjects are available\n",
    "av_dat, no_dat = check_file_status(all_twins, db, dat_source='HCP')"
   ]
  },
  {
   "cell_type": "code",
   "execution_count": 4,
   "metadata": {
    "collapsed": false
   },
   "outputs": [
    {
     "name": "stdout",
     "output_type": "stream",
     "text": [
      "There are 5 complete MZ twin pairs.\n",
      "There are 11 complete MZ twin pairs.\n"
     ]
    }
   ],
   "source": [
    "# Given the missing data, check which twin pairs are complete\n",
    "mz_complete_pairs = check_complete_pairs(mz_id_pairs, av_dat)\n",
    "dz_complete_pairs = check_complete_pairs(dz_id_pairs, av_dat)\n",
    "\n",
    "# Print out number of available pairs by twin type\n",
    "print('There are', str(len(mz_complete_pairs)), 'complete MZ twin pairs.')\n",
    "print('There are', str(len(dz_complete_pairs)), 'complete MZ twin pairs.')"
   ]
  },
  {
   "cell_type": "code",
   "execution_count": 5,
   "metadata": {
    "collapsed": false
   },
   "outputs": [],
   "source": [
    "# Get a list of all possible non-twin pairs, to compare to\n",
    "all_pairs = list(itertools.combinations(av_dat, 2))\n",
    "non_twin_pairs = rm_twin_pairs(all_pairs, mz_id_pairs + dz_id_pairs)"
   ]
  },
  {
   "cell_type": "markdown",
   "metadata": {},
   "source": [
    "### Oscillatory Band - Spatial Overlap\n",
    "\n",
    "Compares the spatial topography of oscillatory bands between pairs of subject. "
   ]
  },
  {
   "cell_type": "code",
   "execution_count": 6,
   "metadata": {
    "collapsed": true
   },
   "outputs": [],
   "source": [
    "db = OMDB()\n",
    "osc = Osc(default=True)"
   ]
  },
  {
   "cell_type": "code",
   "execution_count": 18,
   "metadata": {
    "collapsed": false
   },
   "outputs": [],
   "source": [
    "# Compare MZ twins - Oscillatory Band Spatial Overlap\n",
    "\n",
    "# Check how many twin pairs are available\n",
    "n_mz_pairs = len(mz_complete_pairs)\n",
    "mz_space_dat = np.empty(shape=[0, osc.n_bands])\n",
    "\n",
    "# Loop through MZ twin pairs, comparing them\n",
    "for pair in mz_complete_pairs:\n",
    "    mz_space_dat = np.vstack([mz_space_dat, compare_spatial(pair, osc)])\n",
    "    \n",
    "# Get average correlation within bands across pairs\n",
    "mz_avg_space = np.mean(mz_space_dat, axis=0, keepdims=True)"
   ]
  },
  {
   "cell_type": "code",
   "execution_count": 21,
   "metadata": {
    "collapsed": true
   },
   "outputs": [],
   "source": [
    "# Compare MZ twins - Oscillatory Band Spatial Overlap\n",
    "\n",
    "# Check how many twin pairs are available\n",
    "n_dz_pairs = len(dz_complete_pairs)\n",
    "dz_space_dat = np.empty(shape=[0, osc.n_bands])\n",
    "\n",
    "# Loop through MZ twin pairs, comparing them\n",
    "for pair in dz_complete_pairs:\n",
    "    dz_space_dat = np.vstack([dz_space_dat, compare_spatial(pair, osc)])\n",
    "    \n",
    "# Get average correlation within bands across pairs\n",
    "dz_avg_space = np.mean(dz_space_dat, axis=0, keepdims=True)"
   ]
  },
  {
   "cell_type": "code",
   "execution_count": 32,
   "metadata": {
    "collapsed": true
   },
   "outputs": [],
   "source": [
    "# Compare non-twins - Oscillatory Band Center Frequencies\n",
    "\n",
    "# Get a random sample of non-twin pairs, matching number of twin pairs\n",
    "n_non_twin = n_dz_pairs\n",
    "rand_inds = random.sample(range(len(non_twin_pairs)), n_non_twin)\n",
    "non_twin_samp = [non_twin_pairs[i] for i in rand_inds]\n",
    "\n",
    "non_twin_space_dat = np.empty(shape=[0, osc.n_bands])\n",
    "\n",
    "# Loop through non-twin pairs, comparing them\n",
    "for pair in non_twin_samp:\n",
    "    non_twin_space_dat = np.vstack([non_twin_space_dat, compare_spatial(pair, osc)]) \n",
    "    \n",
    "# Get average correlation within bands across pairs\n",
    "non_twin_avg_space = np.mean(non_twin_space_dat, axis=0, keepdims=True)"
   ]
  },
  {
   "cell_type": "code",
   "execution_count": 33,
   "metadata": {
    "collapsed": false
   },
   "outputs": [
    {
     "name": "stdout",
     "output_type": "stream",
     "text": [
      "MZ Twin Oscillatory Band Spatial Overlap Results: \n",
      "\t Theta \t :  0.8084\n",
      "\t Alpha \t :  0.6973\n",
      "\t Beta \t :  0.9702\n",
      "\t LowGamma \t :  0.6895\n",
      "DZ Twin Oscillatory Band Spatial Overlap Results: \n",
      "\t Theta \t :  0.7980\n",
      "\t Alpha \t :  0.7634\n",
      "\t Beta \t :  0.9082\n",
      "\t LowGamma \t :  0.6165\n",
      "Non-Twin Oscillatory Band Spatial Overlap Results: \n",
      "\t Theta \t :  0.7775\n",
      "\t Alpha \t :  0.7024\n",
      "\t Beta \t :  0.9247\n",
      "\t LowGamma \t :  0.5879\n"
     ]
    }
   ],
   "source": [
    "# Print out Results\n",
    "print('MZ Twin Oscillatory Band Spatial Overlap Results: ')\n",
    "print_twin_results(mz_avg_space.T, osc.bands.keys())\n",
    "print('DZ Twin Oscillatory Band Spatial Overlap Results: ')\n",
    "print_twin_results(dz_avg_space.T, osc.bands.keys())\n",
    "print('Non-Twin Oscillatory Band Spatial Overlap Results: ')\n",
    "print_twin_results(non_twin_avg_space.T, osc.bands.keys())"
   ]
  },
  {
   "cell_type": "markdown",
   "metadata": {},
   "source": [
    "### Oscillation Parameters Comparison\n",
    "\n",
    "The following compares the center frequencies from within oscillatory bands. \n",
    "\n",
    "NOTE: As implemented, the center-frequency comparison is not specific to how subjects are similar/different. \n",
    "Subjects can differ in either:\n",
    "- The spatial topography across which the oscillation band is found and/or\n",
    "- The center frequencies within the vertices where the oscillatory band is found\n",
    "\n",
    "^ This can/will be parcelled out in further analyses:\n",
    "- A basic check is simply to look at the degree of overlap of oscillatory band topographies between subjects. "
   ]
  },
  {
   "cell_type": "code",
   "execution_count": 11,
   "metadata": {
    "collapsed": true
   },
   "outputs": [],
   "source": [
    "# Initialize oscillation band object to use\n",
    "osc = Osc(default=True)\n",
    "\n",
    "# Set which oscillatory parameter to run {0: CF, 1: Power, 2: BW}\n",
    "osc_param = 2"
   ]
  },
  {
   "cell_type": "code",
   "execution_count": 12,
   "metadata": {
    "collapsed": false
   },
   "outputs": [],
   "source": [
    "# Compare MZ twins - Oscillatory Band Center Frequencies\n",
    "\n",
    "# Check how many twin pairs are available\n",
    "n_mz_pairs = len(mz_complete_pairs)\n",
    "mz_corr_dat = np.zeros([n_mz_pairs, 4, 2])\n",
    "\n",
    "# Loop through MZ twin pairs, comparing them\n",
    "for ind, pair in enumerate(mz_complete_pairs):\n",
    "    mz_corr_dat[ind, :, :] = compare_pair(pair, osc_param, osc)\n",
    "    \n",
    "# Get average correlation within bands across pairs\n",
    "mz_avg_corr = np.mean(mz_corr_dat, axis=0)"
   ]
  },
  {
   "cell_type": "code",
   "execution_count": 13,
   "metadata": {
    "collapsed": false
   },
   "outputs": [],
   "source": [
    "# Compare DZ twins - Oscillatory Band Center Frequencies\n",
    "\n",
    "# Check how many twin pairs are available\n",
    "n_dz_pairs = len(dz_complete_pairs)\n",
    "dz_corr_dat = np.zeros([n_dz_pairs, 4, 2])\n",
    "\n",
    "# Loop through DZ twin pairs, comparing them\n",
    "for ind, pair in enumerate(dz_complete_pairs):\n",
    "    dz_corr_dat[ind, :, :] = compare_pair(pair, osc_param, osc)\n",
    "    \n",
    "# Get average correlation within bands across pairs\n",
    "dz_avg_corr = np.mean(dz_corr_dat, axis=0)"
   ]
  },
  {
   "cell_type": "code",
   "execution_count": 14,
   "metadata": {
    "collapsed": false
   },
   "outputs": [],
   "source": [
    "# Compare non-twins - Oscillatory Band Center Frequencies\n",
    "\n",
    "# Get a random sample of non-twin pairs, matching number of twin pairs\n",
    "n_non_twin = n_dz_pairs\n",
    "rand_inds = random.sample(range(len(non_twin_pairs)), n_non_twin)\n",
    "non_twin_samp = [non_twin_pairs[i] for i in rand_inds]\n",
    "non_twin_corr_dat = np.zeros([n_non_twin, 4, 2])\n",
    "\n",
    "# Loop through non-twin pairs, comparing them\n",
    "for ind, pair in enumerate(non_twin_samp):\n",
    "    non_twin_corr_dat[ind, :, :] = compare_pair(pair, osc_param, osc)\n",
    "    \n",
    "# Get average correlation within bands across pairs\n",
    "non_twin_avg_corr = np.mean(non_twin_corr_dat, axis=0)"
   ]
  },
  {
   "cell_type": "code",
   "execution_count": 15,
   "metadata": {
    "collapsed": false
   },
   "outputs": [
    {
     "name": "stdout",
     "output_type": "stream",
     "text": [
      "MZ Twin Oscillatory Band Center Frequency Results: \n",
      "\t Theta \t :    nan\n",
      "\t Alpha \t :  0.0642\n",
      "\t Beta \t :  0.0247\n",
      "\t LowGamma \t :  0.0216\n",
      "DZ Twin Oscillatory Band Center Frequency Results: \n",
      "\t Theta \t :    nan\n",
      "\t Alpha \t :  0.0375\n",
      "\t Beta \t :  0.0143\n",
      "\t LowGamma \t :  0.0093\n",
      "Non-Twin Oscillatory Band Center Frequency Results: \n",
      "\t Theta \t :    nan\n",
      "\t Alpha \t :  0.0317\n",
      "\t Beta \t :  -0.0040\n",
      "\t LowGamma \t :  0.0130\n"
     ]
    }
   ],
   "source": [
    "# Print out results\n",
    "print('MZ Twin Oscillatory Band Center Frequency Results: ')\n",
    "print_twin_results(mz_avg_corr, osc.bands.keys())\n",
    "print('DZ Twin Oscillatory Band Center Frequency Results: ')\n",
    "print_twin_results(dz_avg_corr, osc.bands.keys())\n",
    "print('Non-Twin Oscillatory Band Center Frequency Results: ')\n",
    "print_twin_results(non_twin_avg_corr, osc.bands.keys())"
   ]
  },
  {
   "cell_type": "markdown",
   "metadata": {},
   "source": [
    "## Slope Comparison"
   ]
  },
  {
   "cell_type": "code",
   "execution_count": 25,
   "metadata": {
    "collapsed": false
   },
   "outputs": [],
   "source": [
    "# Check how many twin pairs are available\n",
    "n_mz_pairs = len(mz_complete_pairs)\n",
    "mz_corr_dat = np.zeros([n_mz_pairs, 2])\n",
    "\n",
    "# Loop through MZ twin pairs, comparing them\n",
    "for ind, pair in enumerate(mz_complete_pairs):\n",
    "    mz_corr_dat[ind, :] = compare_slope(pair)\n",
    "\n",
    "# Get average correlation within bands across pairs\n",
    "mz_avg_sl_corr = np.mean(mz_corr_dat, axis=0, keepdims=True)"
   ]
  },
  {
   "cell_type": "code",
   "execution_count": 26,
   "metadata": {
    "collapsed": false
   },
   "outputs": [],
   "source": [
    "# Check how many twin pairs are available\n",
    "n_dz_pairs = len(dz_complete_pairs)\n",
    "dz_corr_dat = np.zeros([n_dz_pairs, 2])\n",
    "\n",
    "# Loop through MZ twin pairs, comparing them\n",
    "for ind, pair in enumerate(dz_complete_pairs):\n",
    "    dz_corr_dat[ind, :] = compare_slope(pair)\n",
    "\n",
    "# Get average correlation within bands across pairs\n",
    "dz_avg_sl_corr = np.mean(dz_corr_dat, axis=0, keepdims=True)"
   ]
  },
  {
   "cell_type": "code",
   "execution_count": 27,
   "metadata": {
    "collapsed": false
   },
   "outputs": [],
   "source": [
    "# Compare non-twins - Oscillatory Band Center Frequencies\n",
    "\n",
    "# Get a random sample of non-twin pairs, matching number of twin pairs\n",
    "n_non_twin = n_dz_pairs\n",
    "rand_inds = random.sample(range(len(non_twin_pairs)), n_non_twin)\n",
    "non_twin_samp = [non_twin_pairs[i] for i in rand_inds]\n",
    "non_twin_corr_dat = np.zeros([n_non_twin, 2])\n",
    "\n",
    "# Loop through non-twin pairs, comparing them\n",
    "for ind, pair in enumerate(non_twin_samp):\n",
    "    non_twin_corr_dat[ind, :] = compare_slope(pair)\n",
    "    \n",
    "# Get average correlation within bands across pairs\n",
    "non_twin_avg_sl_corr = np.mean(non_twin_corr_dat, axis=0, keepdims=True)"
   ]
  },
  {
   "cell_type": "code",
   "execution_count": 33,
   "metadata": {
    "collapsed": false
   },
   "outputs": [
    {
     "name": "stdout",
     "output_type": "stream",
     "text": [
      "MZ Twin Slope Results: \n",
      "\t Slope  :  0.5014\n",
      "DZ Twin Slope Results: \n",
      "\t Slope  :  0.5736\n",
      "Non-Twin Slope Results: \n",
      "\t Slope  :  0.3771\n"
     ]
    }
   ],
   "source": [
    "# Print out results\n",
    "print('MZ Twin Slope Results: ')\n",
    "print_twin_results(mz_avg_sl_corr, ['Slope'])\n",
    "print('DZ Twin Slope Results: ')\n",
    "print_twin_results(dz_avg_sl_corr, ['Slope'])\n",
    "print('Non-Twin Slope Results: ')\n",
    "print_twin_results(non_twin_avg_sl_corr, ['Slope'])"
   ]
  },
  {
   "cell_type": "markdown",
   "metadata": {},
   "source": [
    "## TEST CODE"
   ]
  },
  {
   "cell_type": "code",
   "execution_count": 1,
   "metadata": {
    "collapsed": false
   },
   "outputs": [],
   "source": [
    "n_rand_pairs = len(rand_pairs)\n",
    "rand_corr_dat = np.zeros([n_rand_pairs, 4, 2])\n",
    "\n",
    "\n",
    "for ind, pair in enumerate(rand_pairs):\n",
    "    rand_corr_dat[ind, :, :] = compare_twin_pair(pair)"
   ]
  },
  {
   "cell_type": "code",
   "execution_count": 22,
   "metadata": {
    "collapsed": true
   },
   "outputs": [],
   "source": [
    "rand_pairs = [(181232, 166438), (212318, 175237), (204521, 255639),\n",
    "              (191841, 293748), (214524, 352738), (223929, 111514)]"
   ]
  },
  {
   "cell_type": "code",
   "execution_count": 68,
   "metadata": {
    "collapsed": true
   },
   "outputs": [],
   "source": [
    "pair_ind = 4\n",
    "\n",
    "# Set subject number to load\n",
    "subj_1 = mz_complete_pairs[pair_ind][0]\n",
    "subj_2 = mz_complete_pairs[pair_ind][1]"
   ]
  },
  {
   "cell_type": "code",
   "execution_count": 10,
   "metadata": {
    "collapsed": false
   },
   "outputs": [
    {
     "data": {
      "text/plain": [
       "array([[  2.03199209e-01,   7.63443429e-02],\n",
       "       [  1.54657319e-01,   9.59576766e-04],\n",
       "       [  2.20574075e-01,   2.28331086e-28],\n",
       "       [  1.82610148e-01,   5.48417021e-02]])"
      ]
     },
     "execution_count": 10,
     "metadata": {},
     "output_type": "execute_result"
    }
   ],
   "source": [
    "np.mean(mz_corr_dat, axis=0)"
   ]
  },
  {
   "cell_type": "code",
   "execution_count": 11,
   "metadata": {
    "collapsed": false
   },
   "outputs": [
    {
     "data": {
      "text/plain": [
       "array([[  1.71742018e-01,   2.73093832e-06],\n",
       "       [  1.14158743e-01,   8.14871060e-03],\n",
       "       [  1.29018269e-01,   4.89399153e-05],\n",
       "       [  1.04679615e-01,   1.45673227e-02]])"
      ]
     },
     "execution_count": 11,
     "metadata": {},
     "output_type": "execute_result"
    }
   ],
   "source": [
    "np.mean(dz_corr_dat, axis=0)"
   ]
  },
  {
   "cell_type": "code",
   "execution_count": 96,
   "metadata": {
    "collapsed": false
   },
   "outputs": [
    {
     "data": {
      "text/plain": [
       "array([[ 0.1362881 ,  0.01306603],\n",
       "       [ 0.10844563,  0.12799352],\n",
       "       [ 0.00249754,  0.21088716],\n",
       "       [ 0.01660769,  0.15087963]])"
      ]
     },
     "execution_count": 96,
     "metadata": {},
     "output_type": "execute_result"
    }
   ],
   "source": [
    "np.mean(rand_corr_dat, axis=0)"
   ]
  },
  {
   "cell_type": "code",
   "execution_count": 34,
   "metadata": {
    "collapsed": false
   },
   "outputs": [
    {
     "data": {
      "text/plain": [
       "array([[ 0.11783372,  0.10345028],\n",
       "       [ 0.07169276,  0.17776039],\n",
       "       [ 0.09236982,  0.08019821],\n",
       "       [ 0.09158019,  0.10449761]])"
      ]
     },
     "execution_count": 34,
     "metadata": {},
     "output_type": "execute_result"
    }
   ],
   "source": [
    "np.mean(non_twin_corr_dat, axis=0)"
   ]
  },
  {
   "cell_type": "code",
   "execution_count": null,
   "metadata": {
    "collapsed": true
   },
   "outputs": [],
   "source": []
  }
 ],
 "metadata": {
  "kernelspec": {
   "display_name": "Python 2",
   "language": "python",
   "name": "python2"
  },
  "language_info": {
   "codemirror_mode": {
    "name": "ipython",
    "version": 2
   },
   "file_extension": ".py",
   "mimetype": "text/x-python",
   "name": "python",
   "nbconvert_exporter": "python",
   "pygments_lexer": "ipython2",
   "version": "2.7.11"
  }
 },
 "nbformat": 4,
 "nbformat_minor": 0
}
